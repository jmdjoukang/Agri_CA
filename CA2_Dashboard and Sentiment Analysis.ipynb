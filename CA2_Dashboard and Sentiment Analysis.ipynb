{
 "cells": [
  {
   "cell_type": "code",
   "execution_count": 2,
   "id": "625fbc5b-5f16-43c0-9359-25a487a0f338",
   "metadata": {},
   "outputs": [
    {
     "name": "stderr",
     "output_type": "stream",
     "text": [
      "WARNING:param.panel_extension: A HoloViz extension was loaded previously. This means the extension is already initialized and the following Panel extensions could not be properly loaded: ['tabulator']. If you are loading custom extensions with pn.extension(...) ensure that this is called before any other HoloViz extension such as hvPlot or HoloViews.\n"
     ]
    }
   ],
   "source": [
    "import pandas as pd\n",
    "import hvplot.pandas\n",
    "import panel as pn\n",
    "import numpy as np\n",
    "pn.extension('tabulator')\n",
    "from transformers import AutoModelForSequenceClassification\n",
    "from transformers import  AutoTokenizer\n",
    "from scipy.special import softmax\n",
    "import torch"
   ]
  },
  {
   "cell_type": "code",
   "execution_count": 3,
   "id": "f91061e9-0f7b-4e8b-8b0d-7e559d6c71a9",
   "metadata": {},
   "outputs": [],
   "source": [
    "data = pd.read_csv('datajm_3.csv')"
   ]
  },
  {
   "cell_type": "code",
   "execution_count": 4,
   "id": "0a124fb3-e899-42a9-a61a-e2eceec62807",
   "metadata": {},
   "outputs": [
    {
     "data": {
      "text/html": [
       "<div>\n",
       "<style scoped>\n",
       "    .dataframe tbody tr th:only-of-type {\n",
       "        vertical-align: middle;\n",
       "    }\n",
       "\n",
       "    .dataframe tbody tr th {\n",
       "        vertical-align: top;\n",
       "    }\n",
       "\n",
       "    .dataframe thead th {\n",
       "        text-align: right;\n",
       "    }\n",
       "</style>\n",
       "<table border=\"1\" class=\"dataframe\">\n",
       "  <thead>\n",
       "    <tr style=\"text-align: right;\">\n",
       "      <th></th>\n",
       "      <th>Year</th>\n",
       "      <th>Country</th>\n",
       "      <th>% Change in Labor Input</th>\n",
       "      <th>% Change in Nutrient Balance</th>\n",
       "      <th>% Change in Production</th>\n",
       "    </tr>\n",
       "  </thead>\n",
       "  <tbody>\n",
       "    <tr>\n",
       "      <th>0</th>\n",
       "      <td>1991</td>\n",
       "      <td>Ireland</td>\n",
       "      <td>-10.676569</td>\n",
       "      <td>0.000000</td>\n",
       "      <td>-3.959618</td>\n",
       "    </tr>\n",
       "    <tr>\n",
       "      <th>1</th>\n",
       "      <td>1992</td>\n",
       "      <td>Ireland</td>\n",
       "      <td>-1.067887</td>\n",
       "      <td>0.000000</td>\n",
       "      <td>8.603737</td>\n",
       "    </tr>\n",
       "    <tr>\n",
       "      <th>2</th>\n",
       "      <td>1993</td>\n",
       "      <td>Ireland</td>\n",
       "      <td>-2.852737</td>\n",
       "      <td>13.207547</td>\n",
       "      <td>-0.447907</td>\n",
       "    </tr>\n",
       "    <tr>\n",
       "      <th>3</th>\n",
       "      <td>1994</td>\n",
       "      <td>Ireland</td>\n",
       "      <td>-3.055556</td>\n",
       "      <td>11.666667</td>\n",
       "      <td>3.585840</td>\n",
       "    </tr>\n",
       "    <tr>\n",
       "      <th>4</th>\n",
       "      <td>1995</td>\n",
       "      <td>Ireland</td>\n",
       "      <td>-5.157593</td>\n",
       "      <td>7.462687</td>\n",
       "      <td>1.590633</td>\n",
       "    </tr>\n",
       "    <tr>\n",
       "      <th>...</th>\n",
       "      <td>...</td>\n",
       "      <td>...</td>\n",
       "      <td>...</td>\n",
       "      <td>...</td>\n",
       "      <td>...</td>\n",
       "    </tr>\n",
       "    <tr>\n",
       "      <th>76</th>\n",
       "      <td>2013</td>\n",
       "      <td>France</td>\n",
       "      <td>-0.913474</td>\n",
       "      <td>26.380000</td>\n",
       "      <td>-3.130000</td>\n",
       "    </tr>\n",
       "    <tr>\n",
       "      <th>77</th>\n",
       "      <td>2014</td>\n",
       "      <td>France</td>\n",
       "      <td>-0.832266</td>\n",
       "      <td>-0.340000</td>\n",
       "      <td>1.550000</td>\n",
       "    </tr>\n",
       "    <tr>\n",
       "      <th>78</th>\n",
       "      <td>2015</td>\n",
       "      <td>France</td>\n",
       "      <td>-1.665591</td>\n",
       "      <td>26.010000</td>\n",
       "      <td>-0.160000</td>\n",
       "    </tr>\n",
       "    <tr>\n",
       "      <th>79</th>\n",
       "      <td>2016</td>\n",
       "      <td>France</td>\n",
       "      <td>-1.141019</td>\n",
       "      <td>27.350000</td>\n",
       "      <td>-6.280000</td>\n",
       "    </tr>\n",
       "    <tr>\n",
       "      <th>80</th>\n",
       "      <td>2017</td>\n",
       "      <td>France</td>\n",
       "      <td>-0.962930</td>\n",
       "      <td>-29.050000</td>\n",
       "      <td>3.780000</td>\n",
       "    </tr>\n",
       "  </tbody>\n",
       "</table>\n",
       "<p>81 rows × 5 columns</p>\n",
       "</div>"
      ],
      "text/plain": [
       "    Year  Country  % Change in Labor Input  % Change in Nutrient Balance  \\\n",
       "0   1991  Ireland               -10.676569                      0.000000   \n",
       "1   1992  Ireland                -1.067887                      0.000000   \n",
       "2   1993  Ireland                -2.852737                     13.207547   \n",
       "3   1994  Ireland                -3.055556                     11.666667   \n",
       "4   1995  Ireland                -5.157593                      7.462687   \n",
       "..   ...      ...                      ...                           ...   \n",
       "76  2013   France                -0.913474                     26.380000   \n",
       "77  2014   France                -0.832266                     -0.340000   \n",
       "78  2015   France                -1.665591                     26.010000   \n",
       "79  2016   France                -1.141019                     27.350000   \n",
       "80  2017   France                -0.962930                    -29.050000   \n",
       "\n",
       "    % Change in Production  \n",
       "0                -3.959618  \n",
       "1                 8.603737  \n",
       "2                -0.447907  \n",
       "3                 3.585840  \n",
       "4                 1.590633  \n",
       "..                     ...  \n",
       "76               -3.130000  \n",
       "77                1.550000  \n",
       "78               -0.160000  \n",
       "79               -6.280000  \n",
       "80                3.780000  \n",
       "\n",
       "[81 rows x 5 columns]"
      ]
     },
     "execution_count": 4,
     "metadata": {},
     "output_type": "execute_result"
    }
   ],
   "source": [
    "data"
   ]
  },
  {
   "cell_type": "code",
   "execution_count": 5,
   "id": "364c95bd-2644-4a95-ab98-8cedafc960da",
   "metadata": {},
   "outputs": [],
   "source": [
    "#Making DataFrame Pipeline Interactive \n",
    "dd =data.interactive()"
   ]
  },
  {
   "cell_type": "code",
   "execution_count": 6,
   "id": "28c7eff6-ac49-4251-aa27-52f10439091d",
   "metadata": {},
   "outputs": [],
   "source": [
    "#Define Panel Widgets\n",
    "yearslider = pn.widgets.IntSlider (name ='year slider', start=1991, end=2017, step=3,value=2001)"
   ]
  },
  {
   "cell_type": "code",
   "execution_count": 7,
   "id": "2e918cdb-822e-4e05-8bf6-2dd01a26b0f5",
   "metadata": {},
   "outputs": [],
   "source": [
    "#Radio button for Production\n",
    "yaxis_prod = pn.widgets.RadioButtonGroup(\n",
    "name= 'Y Axis',\n",
    "    options=['% Change in Production',],\n",
    "    button_type='success'\n",
    ")"
   ]
  },
  {
   "cell_type": "code",
   "execution_count": 8,
   "id": "e0305848-fe9c-492f-9659-9a9f1abc9a68",
   "metadata": {},
   "outputs": [],
   "source": [
    "#Production Pipeline\n",
    "prod_pipeline =(\n",
    "dd[(dd.Year <=yearslider)]\n",
    "    .groupby (['Country', 'Year']) [yaxis_prod].mean()\n",
    "    .to_frame()\n",
    "    .reset_index()\n",
    "    .sort_values(by='Year')\n",
    "    .reset_index(drop=True)\n",
    ")"
   ]
  },
  {
   "cell_type": "code",
   "execution_count": 9,
   "id": "8d3d3dca-7122-4e12-ae75-9387b5ac4c31",
   "metadata": {},
   "outputs": [
    {
     "data": {},
     "metadata": {},
     "output_type": "display_data"
    },
    {
     "data": {},
     "metadata": {},
     "output_type": "display_data"
    },
    {
     "data": {
      "application/vnd.holoviews_exec.v0+json": "",
      "text/html": [
       "<div id='1002'>\n",
       "\n",
       "\n",
       "\n",
       "\n",
       "\n",
       "  <div class=\"bk-root\" id=\"396dd7a2-fada-4ccc-99fc-4e2576b550f8\" data-root-id=\"1002\"></div>\n",
       "</div>\n",
       "<script type=\"application/javascript\">(function(root) {\n",
       "  function embed_document(root) {\n",
       "    var docs_json = {\"91c42601-4143-4108-b6ff-620cb944f138\":{\"defs\":[{\"extends\":null,\"module\":null,\"name\":\"ReactiveHTML1\",\"overrides\":[],\"properties\":[]},{\"extends\":null,\"module\":null,\"name\":\"FlexBox1\",\"overrides\":[],\"properties\":[{\"default\":\"flex-start\",\"kind\":null,\"name\":\"align_content\"},{\"default\":\"flex-start\",\"kind\":null,\"name\":\"align_items\"},{\"default\":\"row\",\"kind\":null,\"name\":\"flex_direction\"},{\"default\":\"wrap\",\"kind\":null,\"name\":\"flex_wrap\"},{\"default\":\"flex-start\",\"kind\":null,\"name\":\"justify_content\"}]},{\"extends\":null,\"module\":null,\"name\":\"GridStack1\",\"overrides\":[],\"properties\":[{\"default\":\"warn\",\"kind\":null,\"name\":\"mode\"},{\"default\":null,\"kind\":null,\"name\":\"ncols\"},{\"default\":null,\"kind\":null,\"name\":\"nrows\"},{\"default\":true,\"kind\":null,\"name\":\"allow_resize\"},{\"default\":true,\"kind\":null,\"name\":\"allow_drag\"},{\"default\":[],\"kind\":null,\"name\":\"state\"}]},{\"extends\":null,\"module\":null,\"name\":\"click1\",\"overrides\":[],\"properties\":[{\"default\":\"\",\"kind\":null,\"name\":\"terminal_output\"},{\"default\":\"\",\"kind\":null,\"name\":\"debug_name\"},{\"default\":0,\"kind\":null,\"name\":\"clears\"}]},{\"extends\":null,\"module\":null,\"name\":\"TemplateActions1\",\"overrides\":[],\"properties\":[{\"default\":0,\"kind\":null,\"name\":\"open_modal\"},{\"default\":0,\"kind\":null,\"name\":\"close_modal\"}]},{\"extends\":null,\"module\":null,\"name\":\"MaterialTemplateActions1\",\"overrides\":[],\"properties\":[{\"default\":0,\"kind\":null,\"name\":\"open_modal\"},{\"default\":0,\"kind\":null,\"name\":\"close_modal\"}]}],\"roots\":{\"references\":[{\"attributes\":{\"source\":{\"id\":\"1071\"}},\"id\":\"1078\",\"type\":\"CDSView\"},{\"attributes\":{\"label\":{\"value\":\"France\"},\"renderers\":[{\"id\":\"1056\"}]},\"id\":\"1069\",\"type\":\"LegendItem\"},{\"attributes\":{\"coordinates\":null,\"data_source\":{\"id\":\"1071\"},\"glyph\":{\"id\":\"1074\"},\"group\":null,\"hover_glyph\":null,\"muted_glyph\":{\"id\":\"1076\"},\"nonselection_glyph\":{\"id\":\"1075\"},\"selection_glyph\":{\"id\":\"1092\"},\"view\":{\"id\":\"1078\"}},\"id\":\"1077\",\"type\":\"GlyphRenderer\"},{\"attributes\":{\"line_alpha\":0.2,\"line_color\":\"#fc4f30\",\"line_width\":2,\"x\":{\"field\":\"Year\"},\"y\":{\"field\":\"% Change in Production\"}},\"id\":\"1076\",\"type\":\"Line\"},{\"attributes\":{\"callback\":null,\"renderers\":[{\"id\":\"1056\"},{\"id\":\"1077\"},{\"id\":\"1099\"}],\"tags\":[\"hv_created\"],\"tooltips\":[[\"Country\",\"@{Country}\"],[\"Year\",\"@{Year}\"],[\"% Change in Production\",\"@{percent_Change_in_Production}\"]]},\"id\":\"1011\",\"type\":\"HoverTool\"},{\"attributes\":{\"reload\":false},\"id\":\"1328\",\"type\":\"panel.models.location.Location\"},{\"attributes\":{\"line_alpha\":0.1,\"line_color\":\"#fc4f30\",\"line_width\":2,\"x\":{\"field\":\"Year\"},\"y\":{\"field\":\"% Change in Production\"}},\"id\":\"1075\",\"type\":\"Line\"},{\"attributes\":{\"line_color\":\"#fc4f30\",\"line_width\":2,\"x\":{\"field\":\"Year\"},\"y\":{\"field\":\"% Change in Production\"}},\"id\":\"1092\",\"type\":\"Line\"},{\"attributes\":{},\"id\":\"1072\",\"type\":\"Selection\"},{\"attributes\":{\"line_color\":\"#e5ae38\",\"line_width\":2,\"x\":{\"field\":\"Year\"},\"y\":{\"field\":\"% Change in Production\"}},\"id\":\"1096\",\"type\":\"Line\"},{\"attributes\":{},\"id\":\"1032\",\"type\":\"PanTool\"},{\"attributes\":{\"coordinates\":null,\"group\":null,\"text\":\"% Change in Production by Country\",\"text_color\":\"black\",\"text_font_size\":\"12pt\"},\"id\":\"1015\",\"type\":\"Title\"},{\"attributes\":{\"axis_label\":\"Year\",\"coordinates\":null,\"formatter\":{\"id\":\"1045\"},\"group\":null,\"major_label_policy\":{\"id\":\"1046\"},\"ticker\":{\"id\":\"1024\"}},\"id\":\"1023\",\"type\":\"LinearAxis\"},{\"attributes\":{},\"id\":\"1028\",\"type\":\"BasicTicker\"},{\"attributes\":{\"label\":{\"value\":\"Ireland\"},\"renderers\":[{\"id\":\"1077\"}]},\"id\":\"1091\",\"type\":\"LegendItem\"},{\"attributes\":{\"line_color\":\"#e5ae38\",\"line_width\":2,\"x\":{\"field\":\"Year\"},\"y\":{\"field\":\"% Change in Production\"}},\"id\":\"1116\",\"type\":\"Line\"},{\"attributes\":{},\"id\":\"1024\",\"type\":\"BasicTicker\"},{\"attributes\":{\"source\":{\"id\":\"1093\"}},\"id\":\"1100\",\"type\":\"CDSView\"},{\"attributes\":{\"axis_label\":\"% Change in Production\",\"coordinates\":null,\"formatter\":{\"id\":\"1048\"},\"group\":null,\"major_label_policy\":{\"id\":\"1049\"},\"ticker\":{\"id\":\"1028\"}},\"id\":\"1027\",\"type\":\"LinearAxis\"},{\"attributes\":{},\"id\":\"1088\",\"type\":\"UnionRenderers\"},{\"attributes\":{},\"id\":\"1045\",\"type\":\"BasicTickFormatter\"},{\"attributes\":{},\"id\":\"1033\",\"type\":\"WheelZoomTool\"},{\"attributes\":{\"client_comm_id\":\"48cd15d6078e4eeea093bc709f48687f\",\"comm_id\":\"8cc1053fcd5e478794d58dba88b93c07\",\"plot_id\":\"1002\"},\"id\":\"1285\",\"type\":\"panel.models.comm_manager.CommManager\"},{\"attributes\":{\"coordinates\":null,\"data_source\":{\"id\":\"1093\"},\"glyph\":{\"id\":\"1096\"},\"group\":null,\"hover_glyph\":null,\"muted_glyph\":{\"id\":\"1098\"},\"nonselection_glyph\":{\"id\":\"1097\"},\"selection_glyph\":{\"id\":\"1116\"},\"view\":{\"id\":\"1100\"}},\"id\":\"1099\",\"type\":\"GlyphRenderer\"},{\"attributes\":{\"line_alpha\":0.2,\"line_color\":\"#e5ae38\",\"line_width\":2,\"x\":{\"field\":\"Year\"},\"y\":{\"field\":\"% Change in Production\"}},\"id\":\"1098\",\"type\":\"Line\"},{\"attributes\":{\"axis\":{\"id\":\"1027\"},\"coordinates\":null,\"dimension\":1,\"grid_line_color\":null,\"group\":null,\"ticker\":null},\"id\":\"1030\",\"type\":\"Grid\"},{\"attributes\":{},\"id\":\"1046\",\"type\":\"AllLabels\"},{\"attributes\":{\"line_alpha\":0.1,\"line_color\":\"#e5ae38\",\"line_width\":2,\"x\":{\"field\":\"Year\"},\"y\":{\"field\":\"% Change in Production\"}},\"id\":\"1097\",\"type\":\"Line\"},{\"attributes\":{},\"id\":\"1031\",\"type\":\"SaveTool\"},{\"attributes\":{},\"id\":\"1094\",\"type\":\"Selection\"},{\"attributes\":{\"active\":0,\"button_type\":\"success\",\"labels\":[\"% Change in Production\"],\"margin\":[5,10,5,10]},\"id\":\"1007\",\"type\":\"RadioButtonGroup\"},{\"attributes\":{\"overlay\":{\"id\":\"1036\"}},\"id\":\"1034\",\"type\":\"BoxZoomTool\"},{\"attributes\":{},\"id\":\"1035\",\"type\":\"ResetTool\"},{\"attributes\":{\"bottom_units\":\"screen\",\"coordinates\":null,\"fill_alpha\":0.5,\"fill_color\":\"lightgrey\",\"group\":null,\"left_units\":\"screen\",\"level\":\"overlay\",\"line_alpha\":1.0,\"line_color\":\"black\",\"line_dash\":[4,4],\"line_width\":2,\"right_units\":\"screen\",\"syncable\":false,\"top_units\":\"screen\"},\"id\":\"1036\",\"type\":\"BoxAnnotation\"},{\"attributes\":{},\"id\":\"1049\",\"type\":\"AllLabels\"},{\"attributes\":{\"label\":{\"value\":\"Spain\"},\"renderers\":[{\"id\":\"1099\"}]},\"id\":\"1115\",\"type\":\"LegendItem\"},{\"attributes\":{},\"id\":\"1048\",\"type\":\"BasicTickFormatter\"},{\"attributes\":{\"tools\":[{\"id\":\"1011\"},{\"id\":\"1031\"},{\"id\":\"1032\"},{\"id\":\"1033\"},{\"id\":\"1034\"},{\"id\":\"1035\"}]},\"id\":\"1037\",\"type\":\"Toolbar\"},{\"attributes\":{},\"id\":\"1065\",\"type\":\"UnionRenderers\"},{\"attributes\":{\"children\":[{\"id\":\"1003\"}],\"margin\":[0,0,0,0],\"name\":\"Row01868\"},\"id\":\"1002\",\"type\":\"Row\"},{\"attributes\":{},\"id\":\"1112\",\"type\":\"UnionRenderers\"},{\"attributes\":{\"children\":[{\"id\":\"1005\"},{\"id\":\"1008\"}],\"margin\":[0,0,0,0],\"name\":\"Row01861\"},\"id\":\"1004\",\"type\":\"Row\"},{\"attributes\":{\"data\":{\"% Change in Production\":{\"__ndarray__\":\"mpmZmZmZFMC4HoXrUbgIQEjhehSuR/W/16NwPQrXFECkcD0K16MTQNejcD0K1wdAexSuR+F6hL9I4XoUrkf9PwAAAAAAAPi/exSuR+F6/D9xPQrXo3D1Pw==\",\"dtype\":\"float64\",\"order\":\"little\",\"shape\":[11]},\"Country\":[\"France\",\"France\",\"France\",\"France\",\"France\",\"France\",\"France\",\"France\",\"France\",\"France\",\"France\"],\"Year\":[1991,1992,1993,1994,1995,1996,1997,1998,1999,2000,2001],\"percent_Change_in_Production\":{\"__ndarray__\":\"mpmZmZmZFMC4HoXrUbgIQEjhehSuR/W/16NwPQrXFECkcD0K16MTQNejcD0K1wdAexSuR+F6hL9I4XoUrkf9PwAAAAAAAPi/exSuR+F6/D9xPQrXo3D1Pw==\",\"dtype\":\"float64\",\"order\":\"little\",\"shape\":[11]}},\"selected\":{\"id\":\"1051\"},\"selection_policy\":{\"id\":\"1065\"}},\"id\":\"1050\",\"type\":\"ColumnDataSource\"},{\"attributes\":{\"source\":{\"id\":\"1050\"}},\"id\":\"1057\",\"type\":\"CDSView\"},{\"attributes\":{\"children\":[{\"id\":\"1006\"},{\"id\":\"1007\"}],\"margin\":[0,0,0,0],\"name\":\"Column01856\"},\"id\":\"1005\",\"type\":\"Column\"},{\"attributes\":{\"axis\":{\"id\":\"1023\"},\"coordinates\":null,\"grid_line_color\":null,\"group\":null,\"ticker\":null},\"id\":\"1026\",\"type\":\"Grid\"},{\"attributes\":{\"line_color\":\"#fc4f30\",\"line_width\":2,\"x\":{\"field\":\"Year\"},\"y\":{\"field\":\"% Change in Production\"}},\"id\":\"1074\",\"type\":\"Line\"},{\"attributes\":{\"children\":[{\"id\":\"1004\"},{\"id\":\"1014\"}],\"margin\":[0,0,0,0],\"name\":\"Column01867\"},\"id\":\"1003\",\"type\":\"Column\"},{\"attributes\":{},\"id\":\"1019\",\"type\":\"LinearScale\"},{\"attributes\":{\"data\":{\"% Change in Production\":{\"__ndarray__\":\"kfGkXEytD8AztacPHTUhQODZlcuDqty/UH3W68yvDEDWL24pO3P5P74s3qkv4hFAx37ryjRI3b8kTkUvRQMNwJeKn1zZCQrADkRqaHCmF0DCYi1uPr71Pw==\",\"dtype\":\"float64\",\"order\":\"little\",\"shape\":[11]},\"Country\":[\"Ireland\",\"Ireland\",\"Ireland\",\"Ireland\",\"Ireland\",\"Ireland\",\"Ireland\",\"Ireland\",\"Ireland\",\"Ireland\",\"Ireland\"],\"Year\":[1991,1992,1993,1994,1995,1996,1997,1998,1999,2000,2001],\"percent_Change_in_Production\":{\"__ndarray__\":\"kfGkXEytD8AztacPHTUhQODZlcuDqty/UH3W68yvDEDWL24pO3P5P74s3qkv4hFAx37ryjRI3b8kTkUvRQMNwJeKn1zZCQrADkRqaHCmF0DCYi1uPr71Pw==\",\"dtype\":\"float64\",\"order\":\"little\",\"shape\":[11]}},\"selected\":{\"id\":\"1072\"},\"selection_policy\":{\"id\":\"1088\"}},\"id\":\"1071\",\"type\":\"ColumnDataSource\"},{\"attributes\":{\"click_policy\":\"mute\",\"coordinates\":null,\"group\":null,\"items\":[{\"id\":\"1069\"},{\"id\":\"1091\"},{\"id\":\"1115\"}],\"location\":[0,0],\"title\":\"Country\"},\"id\":\"1068\",\"type\":\"Legend\"},{\"attributes\":{\"line_color\":\"#30a2da\",\"line_width\":2,\"x\":{\"field\":\"Year\"},\"y\":{\"field\":\"% Change in Production\"}},\"id\":\"1070\",\"type\":\"Line\"},{\"attributes\":{\"end\":2017,\"margin\":[5,10,5,10],\"start\":1991,\"step\":3,\"title\":\"year slider\",\"value\":2001},\"id\":\"1006\",\"type\":\"Slider\"},{\"attributes\":{\"line_alpha\":0.2,\"line_color\":\"#30a2da\",\"line_width\":2,\"x\":{\"field\":\"Year\"},\"y\":{\"field\":\"% Change in Production\"}},\"id\":\"1055\",\"type\":\"Line\"},{\"attributes\":{},\"id\":\"1021\",\"type\":\"LinearScale\"},{\"attributes\":{\"coordinates\":null,\"data_source\":{\"id\":\"1050\"},\"glyph\":{\"id\":\"1053\"},\"group\":null,\"hover_glyph\":null,\"muted_glyph\":{\"id\":\"1055\"},\"nonselection_glyph\":{\"id\":\"1054\"},\"selection_glyph\":{\"id\":\"1070\"},\"view\":{\"id\":\"1057\"}},\"id\":\"1056\",\"type\":\"GlyphRenderer\"},{\"attributes\":{},\"id\":\"1051\",\"type\":\"Selection\"},{\"attributes\":{\"line_alpha\":0.1,\"line_color\":\"#30a2da\",\"line_width\":2,\"x\":{\"field\":\"Year\"},\"y\":{\"field\":\"% Change in Production\"}},\"id\":\"1054\",\"type\":\"Line\"},{\"attributes\":{\"below\":[{\"id\":\"1023\"}],\"center\":[{\"id\":\"1026\"},{\"id\":\"1030\"}],\"height\":300,\"left\":[{\"id\":\"1027\"}],\"margin\":[5,5,5,5],\"min_border_bottom\":10,\"min_border_left\":10,\"min_border_right\":10,\"min_border_top\":10,\"renderers\":[{\"id\":\"1056\"},{\"id\":\"1077\"},{\"id\":\"1099\"}],\"right\":[{\"id\":\"1068\"}],\"sizing_mode\":\"fixed\",\"title\":{\"id\":\"1015\"},\"toolbar\":{\"id\":\"1037\"},\"width\":700,\"x_range\":{\"id\":\"1009\"},\"x_scale\":{\"id\":\"1019\"},\"y_range\":{\"id\":\"1010\"},\"y_scale\":{\"id\":\"1021\"}},\"id\":\"1014\",\"subtype\":\"Figure\",\"type\":\"Plot\"},{\"attributes\":{\"data\":{\"% Change in Production\":{\"__ndarray__\":\"Zdt2lUZA8j/7+1JgfdwgwE2+/61paBbAGg2cEJPYFUCSt6Aa1hTwPzYpYJbR8SpAS3Yq6A+kAUBxIv9ur8zpP4BRLv+0UO+/z0NZN196HkDoMsOz9YkYQA==\",\"dtype\":\"float64\",\"order\":\"little\",\"shape\":[11]},\"Country\":[\"Spain\",\"Spain\",\"Spain\",\"Spain\",\"Spain\",\"Spain\",\"Spain\",\"Spain\",\"Spain\",\"Spain\",\"Spain\"],\"Year\":[1991,1992,1993,1994,1995,1996,1997,1998,1999,2000,2001],\"percent_Change_in_Production\":{\"__ndarray__\":\"Zdt2lUZA8j/7+1JgfdwgwE2+/61paBbAGg2cEJPYFUCSt6Aa1hTwPzYpYJbR8SpAS3Yq6A+kAUBxIv9ur8zpP4BRLv+0UO+/z0NZN196HkDoMsOz9YkYQA==\",\"dtype\":\"float64\",\"order\":\"little\",\"shape\":[11]}},\"selected\":{\"id\":\"1094\"},\"selection_policy\":{\"id\":\"1112\"}},\"id\":\"1093\",\"type\":\"ColumnDataSource\"},{\"attributes\":{\"end\":15.6625967695,\"reset_end\":15.6625967695,\"reset_start\":-10.620938664499999,\"start\":-10.620938664499999,\"tags\":[[[\"% Change in Production\",\"% Change in Production\",null]]]},\"id\":\"1010\",\"type\":\"Range1d\"},{\"attributes\":{\"end\":2001.0,\"reset_end\":2001.0,\"reset_start\":1991.0,\"start\":1991.0,\"tags\":[[[\"Year\",\"Year\",null]]]},\"id\":\"1009\",\"type\":\"Range1d\"},{\"attributes\":{\"line_color\":\"#30a2da\",\"line_width\":2,\"x\":{\"field\":\"Year\"},\"y\":{\"field\":\"% Change in Production\"}},\"id\":\"1053\",\"type\":\"Line\"},{\"attributes\":{\"margin\":[5,5,5,5],\"name\":\"HSpacer01860\",\"sizing_mode\":\"stretch_width\"},\"id\":\"1008\",\"type\":\"Spacer\"}],\"root_ids\":[\"1002\",\"1285\",\"1328\"]},\"title\":\"Bokeh Application\",\"version\":\"2.4.2\"}};\n",
       "    var render_items = [{\"docid\":\"91c42601-4143-4108-b6ff-620cb944f138\",\"root_ids\":[\"1002\"],\"roots\":{\"1002\":\"396dd7a2-fada-4ccc-99fc-4e2576b550f8\"}}];\n",
       "    root.Bokeh.embed.embed_items_notebook(docs_json, render_items);\n",
       "  }\n",
       "  if (root.Bokeh !== undefined && root.Bokeh.Panel !== undefined) {\n",
       "    embed_document(root);\n",
       "  } else {\n",
       "    var attempts = 0;\n",
       "    var timer = setInterval(function(root) {\n",
       "      if (root.Bokeh !== undefined && root.Bokeh.Panel !== undefined) {\n",
       "        clearInterval(timer);\n",
       "        embed_document(root);\n",
       "      } else if (document.readyState == \"complete\") {\n",
       "        attempts++;\n",
       "        if (attempts > 200) {\n",
       "          clearInterval(timer);\n",
       "          console.log(\"Bokeh: ERROR: Unable to run BokehJS code because BokehJS library is missing\");\n",
       "        }\n",
       "      }\n",
       "    }, 25, root)\n",
       "  }\n",
       "})(window);</script>"
      ],
      "text/plain": [
       "<hvplot.interactive.Interactive at 0x124704b9b50>"
      ]
     },
     "execution_count": 9,
     "metadata": {
      "application/vnd.holoviews_exec.v0+json": {
       "id": "1002"
      }
     },
     "output_type": "execute_result"
    }
   ],
   "source": [
    "#Production Plot\n",
    "Prodplot =prod_pipeline.hvplot(x='Year', by='Country', y=yaxis_prod, line_width=2, title=\"% Change in Production by Country\")\n",
    "Prodplot"
   ]
  },
  {
   "cell_type": "code",
   "execution_count": 10,
   "id": "ae5dbf55-3b97-41af-b7e4-cb3ba1c8e47e",
   "metadata": {},
   "outputs": [
    {
     "data": {},
     "metadata": {},
     "output_type": "display_data"
    },
    {
     "data": {
      "application/vnd.holoviews_exec.v0+json": "",
      "text/html": [
       "<div id='1371'>\n",
       "\n",
       "\n",
       "\n",
       "\n",
       "\n",
       "  <div class=\"bk-root\" id=\"d5eaa79a-3a49-49fa-9ea5-efa43284838e\" data-root-id=\"1371\"></div>\n",
       "</div>\n",
       "<script type=\"application/javascript\">(function(root) {\n",
       "  function embed_document(root) {\n",
       "    var docs_json = {\"e6306f1f-bed1-4c3c-b45d-82b0a58d7d04\":{\"defs\":[{\"extends\":null,\"module\":null,\"name\":\"ReactiveHTML1\",\"overrides\":[],\"properties\":[]},{\"extends\":null,\"module\":null,\"name\":\"FlexBox1\",\"overrides\":[],\"properties\":[{\"default\":\"flex-start\",\"kind\":null,\"name\":\"align_content\"},{\"default\":\"flex-start\",\"kind\":null,\"name\":\"align_items\"},{\"default\":\"row\",\"kind\":null,\"name\":\"flex_direction\"},{\"default\":\"wrap\",\"kind\":null,\"name\":\"flex_wrap\"},{\"default\":\"flex-start\",\"kind\":null,\"name\":\"justify_content\"}]},{\"extends\":null,\"module\":null,\"name\":\"GridStack1\",\"overrides\":[],\"properties\":[{\"default\":\"warn\",\"kind\":null,\"name\":\"mode\"},{\"default\":null,\"kind\":null,\"name\":\"ncols\"},{\"default\":null,\"kind\":null,\"name\":\"nrows\"},{\"default\":true,\"kind\":null,\"name\":\"allow_resize\"},{\"default\":true,\"kind\":null,\"name\":\"allow_drag\"},{\"default\":[],\"kind\":null,\"name\":\"state\"}]},{\"extends\":null,\"module\":null,\"name\":\"click1\",\"overrides\":[],\"properties\":[{\"default\":\"\",\"kind\":null,\"name\":\"terminal_output\"},{\"default\":\"\",\"kind\":null,\"name\":\"debug_name\"},{\"default\":0,\"kind\":null,\"name\":\"clears\"}]},{\"extends\":null,\"module\":null,\"name\":\"TemplateActions1\",\"overrides\":[],\"properties\":[{\"default\":0,\"kind\":null,\"name\":\"open_modal\"},{\"default\":0,\"kind\":null,\"name\":\"close_modal\"}]},{\"extends\":null,\"module\":null,\"name\":\"MaterialTemplateActions1\",\"overrides\":[],\"properties\":[{\"default\":0,\"kind\":null,\"name\":\"open_modal\"},{\"default\":0,\"kind\":null,\"name\":\"close_modal\"}]}],\"roots\":{\"references\":[{\"attributes\":{\"margin\":[5,5,5,5],\"name\":\"HSpacer02537\",\"sizing_mode\":\"stretch_width\"},\"id\":\"1377\",\"type\":\"Spacer\"},{\"attributes\":{\"indices\":[]},\"id\":\"1380\",\"type\":\"Selection\"},{\"attributes\":{\"client_comm_id\":\"b21e8b273ada4c5aa205542a13b8ee2f\",\"comm_id\":\"64f149aa1ac5451fbd85ac4bc2868c01\",\"plot_id\":\"1371\"},\"id\":\"1410\",\"type\":\"panel.models.comm_manager.CommManager\"},{\"attributes\":{\"children\":[{\"id\":\"1374\"},{\"id\":\"1377\"}],\"margin\":[0,0,0,0],\"name\":\"Row02538\"},\"id\":\"1373\",\"type\":\"Row\"},{\"attributes\":{\"text_align\":\"right\"},\"id\":\"1392\",\"type\":\"NumberFormatter\"},{\"attributes\":{\"data\":{\"% Change in Production\":{\"__ndarray__\":\"mpmZmZmZFMBl23aVRkDyP5HxpFxMrQ/AuB6F61G4CED7+1JgfdwgwDO1pw8dNSFASOF6FK5H9b9Nvv+taWgWwODZlcuDqty/16NwPQrXFEA=\",\"dtype\":\"float64\",\"order\":\"little\",\"shape\":[10]},\"Country\":[\"France\",\"Spain\",\"Ireland\",\"France\",\"Spain\",\"Ireland\",\"France\",\"Spain\",\"Ireland\",\"France\"],\"Year\":[1991,1991,1991,1992,1992,1992,1993,1993,1993,1994],\"index\":[0,1,2,3,4,5,6,7,8,9]},\"selected\":{\"id\":\"1380\"},\"selection_policy\":{\"id\":\"1404\"}},\"id\":\"1379\",\"type\":\"ColumnDataSource\"},{\"attributes\":{\"children\":[{\"id\":\"1372\"}],\"margin\":[0,0,0,0],\"name\":\"Row02540\"},\"id\":\"1371\",\"type\":\"Row\"},{\"attributes\":{},\"id\":\"1393\",\"type\":\"IntEditor\"},{\"attributes\":{\"columns\":[{\"id\":\"1384\"},{\"id\":\"1389\"},{\"id\":\"1394\"},{\"id\":\"1399\"}],\"configuration\":{\"columns\":[{\"field\":\"index\"},{\"field\":\"Country\"},{\"field\":\"Year\"},{\"field\":\"% Change in Production\"}],\"dataTree\":false,\"selectable\":true},\"indexes\":[\"index\"],\"layout\":\"fit_data_table\",\"margin\":[5,10,5,10],\"max_page\":4,\"name\":\"\",\"page\":1,\"page_size\":10,\"pagination\":\"remote\",\"select_mode\":true,\"selectable_rows\":null,\"sizing_mode\":\"stretch_width\",\"source\":{\"id\":\"1379\"},\"styles\":{\"data\":{},\"id\":\"9ac0cc9e6a1a43cb86c5c58645b83d3a\"},\"subscribed_events\":[\"table-edit\",\"cell-click\"]},\"id\":\"1402\",\"type\":\"panel.models.tabulator.DataTabulator\"},{\"attributes\":{\"active\":0,\"button_type\":\"success\",\"labels\":[\"% Change in Production\"],\"margin\":[5,10,5,10]},\"id\":\"1376\",\"type\":\"RadioButtonGroup\"},{\"attributes\":{\"editor\":{\"id\":\"1393\"},\"field\":\"Year\",\"formatter\":{\"id\":\"1392\"},\"title\":\"Year\",\"width\":0},\"id\":\"1394\",\"type\":\"TableColumn\"},{\"attributes\":{\"editor\":{\"id\":\"1383\"},\"field\":\"index\",\"formatter\":{\"id\":\"1381\"},\"title\":\"index\",\"width\":0},\"id\":\"1384\",\"type\":\"TableColumn\"},{\"attributes\":{\"text_align\":\"left\"},\"id\":\"1381\",\"type\":\"NumberFormatter\"},{\"attributes\":{},\"id\":\"1383\",\"type\":\"CellEditor\"},{\"attributes\":{\"children\":[{\"id\":\"1375\"},{\"id\":\"1376\"}],\"margin\":[0,0,0,0],\"name\":\"Column02515\"},\"id\":\"1374\",\"type\":\"Column\"},{\"attributes\":{},\"id\":\"1404\",\"type\":\"UnionRenderers\"},{\"attributes\":{\"format\":\"0,0.0[00000]\",\"text_align\":\"right\"},\"id\":\"1397\",\"type\":\"NumberFormatter\"},{\"attributes\":{\"children\":[{\"id\":\"1373\"},{\"id\":\"1378\"}],\"margin\":[0,0,0,0],\"name\":\"Column02539\"},\"id\":\"1372\",\"type\":\"Column\"},{\"attributes\":{},\"id\":\"1398\",\"type\":\"NumberEditor\"},{\"attributes\":{\"end\":2017,\"margin\":[5,10,5,10],\"start\":1991,\"step\":3,\"title\":\"year slider\",\"value\":2001},\"id\":\"1375\",\"type\":\"Slider\"},{\"attributes\":{},\"id\":\"1387\",\"type\":\"StringFormatter\"},{\"attributes\":{\"children\":[{\"id\":\"1402\"}],\"margin\":[0,0,0,0],\"name\":\"Row02520\"},\"id\":\"1378\",\"type\":\"Row\"},{\"attributes\":{},\"id\":\"1388\",\"type\":\"StringEditor\"},{\"attributes\":{\"editor\":{\"id\":\"1398\"},\"field\":\"% Change in Production\",\"formatter\":{\"id\":\"1397\"},\"title\":\"% Change in Production\",\"width\":0},\"id\":\"1399\",\"type\":\"TableColumn\"},{\"attributes\":{\"editor\":{\"id\":\"1388\"},\"field\":\"Country\",\"formatter\":{\"id\":\"1387\"},\"title\":\"Country\",\"width\":0},\"id\":\"1389\",\"type\":\"TableColumn\"}],\"root_ids\":[\"1371\",\"1410\"]},\"title\":\"Bokeh Application\",\"version\":\"2.4.2\"}};\n",
       "    var render_items = [{\"docid\":\"e6306f1f-bed1-4c3c-b45d-82b0a58d7d04\",\"root_ids\":[\"1371\"],\"roots\":{\"1371\":\"d5eaa79a-3a49-49fa-9ea5-efa43284838e\"}}];\n",
       "    root.Bokeh.embed.embed_items_notebook(docs_json, render_items);\n",
       "  }\n",
       "  if (root.Bokeh !== undefined && root.Bokeh.Panel !== undefined) {\n",
       "    embed_document(root);\n",
       "  } else {\n",
       "    var attempts = 0;\n",
       "    var timer = setInterval(function(root) {\n",
       "      if (root.Bokeh !== undefined && root.Bokeh.Panel !== undefined) {\n",
       "        clearInterval(timer);\n",
       "        embed_document(root);\n",
       "      } else if (document.readyState == \"complete\") {\n",
       "        attempts++;\n",
       "        if (attempts > 200) {\n",
       "          clearInterval(timer);\n",
       "          console.log(\"Bokeh: ERROR: Unable to run BokehJS code because BokehJS library is missing\");\n",
       "        }\n",
       "      }\n",
       "    }, 25, root)\n",
       "  }\n",
       "})(window);</script>"
      ],
      "text/plain": [
       "<hvplot.interactive.Interactive at 0x1245fe772e0>"
      ]
     },
     "execution_count": 10,
     "metadata": {
      "application/vnd.holoviews_exec.v0+json": {
       "id": "1371"
      }
     },
     "output_type": "execute_result"
    }
   ],
   "source": [
    "prod_table = prod_pipeline.pipe(pn.widgets.Tabulator, pagination='remote', page_size=10, sizing_mode='stretch_width')\n",
    "prod_table"
   ]
  },
  {
   "cell_type": "code",
   "execution_count": 11,
   "id": "234e34f3-aeda-45ec-9ba5-20764c5248c9",
   "metadata": {},
   "outputs": [],
   "source": [
    "#Radio button for Nutrient Balance\n",
    "yaxis_nb = pn.widgets.RadioButtonGroup(\n",
    "name= 'Y Axis',\n",
    "    options=['% Change in Nutrient Balance',],\n",
    "    button_type='success'\n",
    ")"
   ]
  },
  {
   "cell_type": "code",
   "execution_count": 12,
   "id": "2eeae3f8-4315-4116-8b0a-98aa87bc047c",
   "metadata": {},
   "outputs": [],
   "source": [
    "#Nutrient Balance Pipeline\n",
    "nb_pipeline =(\n",
    "dd[(dd.Year <=yearslider)]\n",
    "    .groupby (['Country', 'Year']) [yaxis_nb].mean()\n",
    "    .to_frame()\n",
    "    .reset_index()\n",
    "    .sort_values(by='Year')\n",
    "    .reset_index(drop=True)\n",
    ")"
   ]
  },
  {
   "cell_type": "code",
   "execution_count": 13,
   "id": "ebddce41-6dcb-4aac-b405-eb4aa0120522",
   "metadata": {},
   "outputs": [
    {
     "data": {},
     "metadata": {},
     "output_type": "display_data"
    },
    {
     "data": {},
     "metadata": {},
     "output_type": "display_data"
    },
    {
     "data": {
      "application/vnd.holoviews_exec.v0+json": "",
      "text/html": [
       "<div id='1421'>\n",
       "\n",
       "\n",
       "\n",
       "\n",
       "\n",
       "  <div class=\"bk-root\" id=\"a00b466a-c49e-4171-a1b8-ca96cdebba9e\" data-root-id=\"1421\"></div>\n",
       "</div>\n",
       "<script type=\"application/javascript\">(function(root) {\n",
       "  function embed_document(root) {\n",
       "    var docs_json = {\"e4f96e64-22a5-4407-8b8e-5ebb00c7e54b\":{\"defs\":[{\"extends\":null,\"module\":null,\"name\":\"ReactiveHTML1\",\"overrides\":[],\"properties\":[]},{\"extends\":null,\"module\":null,\"name\":\"FlexBox1\",\"overrides\":[],\"properties\":[{\"default\":\"flex-start\",\"kind\":null,\"name\":\"align_content\"},{\"default\":\"flex-start\",\"kind\":null,\"name\":\"align_items\"},{\"default\":\"row\",\"kind\":null,\"name\":\"flex_direction\"},{\"default\":\"wrap\",\"kind\":null,\"name\":\"flex_wrap\"},{\"default\":\"flex-start\",\"kind\":null,\"name\":\"justify_content\"}]},{\"extends\":null,\"module\":null,\"name\":\"GridStack1\",\"overrides\":[],\"properties\":[{\"default\":\"warn\",\"kind\":null,\"name\":\"mode\"},{\"default\":null,\"kind\":null,\"name\":\"ncols\"},{\"default\":null,\"kind\":null,\"name\":\"nrows\"},{\"default\":true,\"kind\":null,\"name\":\"allow_resize\"},{\"default\":true,\"kind\":null,\"name\":\"allow_drag\"},{\"default\":[],\"kind\":null,\"name\":\"state\"}]},{\"extends\":null,\"module\":null,\"name\":\"click1\",\"overrides\":[],\"properties\":[{\"default\":\"\",\"kind\":null,\"name\":\"terminal_output\"},{\"default\":\"\",\"kind\":null,\"name\":\"debug_name\"},{\"default\":0,\"kind\":null,\"name\":\"clears\"}]},{\"extends\":null,\"module\":null,\"name\":\"TemplateActions1\",\"overrides\":[],\"properties\":[{\"default\":0,\"kind\":null,\"name\":\"open_modal\"},{\"default\":0,\"kind\":null,\"name\":\"close_modal\"}]},{\"extends\":null,\"module\":null,\"name\":\"MaterialTemplateActions1\",\"overrides\":[],\"properties\":[{\"default\":0,\"kind\":null,\"name\":\"open_modal\"},{\"default\":0,\"kind\":null,\"name\":\"close_modal\"}]}],\"roots\":{\"references\":[{\"attributes\":{\"line_color\":\"#e5ae38\",\"line_width\":2,\"x\":{\"field\":\"Year\"},\"y\":{\"field\":\"% Change in Nutrient Balance\"}},\"id\":\"1515\",\"type\":\"Line\"},{\"attributes\":{\"line_alpha\":0.2,\"line_color\":\"#fc4f30\",\"line_width\":2,\"x\":{\"field\":\"Year\"},\"y\":{\"field\":\"% Change in Nutrient Balance\"}},\"id\":\"1495\",\"type\":\"Line\"},{\"attributes\":{\"line_color\":\"#fc4f30\",\"line_width\":2,\"x\":{\"field\":\"Year\"},\"y\":{\"field\":\"% Change in Nutrient Balance\"}},\"id\":\"1511\",\"type\":\"Line\"},{\"attributes\":{\"data\":{\"% Change in Nutrient Balance\":{\"__ndarray__\":\"ZmZmZmbmMMAfhetRuB4LQKRwPQrXYzDAXI/C9ShcD0ApXI/C9SgOQM3MzMzMzBVAPQrXo3A9IcApXI/C9SgOwFyPwvUoXB9AzczMzMyMNsAzMzMzMzMwQA==\",\"dtype\":\"float64\",\"order\":\"little\",\"shape\":[11]},\"Country\":[\"France\",\"France\",\"France\",\"France\",\"France\",\"France\",\"France\",\"France\",\"France\",\"France\",\"France\"],\"Year\":[1991,1992,1993,1994,1995,1996,1997,1998,1999,2000,2001],\"percent_Change_in_Nutrient_Balance\":{\"__ndarray__\":\"ZmZmZmbmMMAfhetRuB4LQKRwPQrXYzDAXI/C9ShcD0ApXI/C9SgOQM3MzMzMzBVAPQrXo3A9IcApXI/C9SgOwFyPwvUoXB9AzczMzMyMNsAzMzMzMzMwQA==\",\"dtype\":\"float64\",\"order\":\"little\",\"shape\":[11]}},\"selected\":{\"id\":\"1470\"},\"selection_policy\":{\"id\":\"1484\"}},\"id\":\"1469\",\"type\":\"ColumnDataSource\"},{\"attributes\":{\"callback\":null,\"renderers\":[{\"id\":\"1475\"},{\"id\":\"1496\"},{\"id\":\"1518\"}],\"tags\":[\"hv_created\"],\"tooltips\":[[\"Country\",\"@{Country}\"],[\"Year\",\"@{Year}\"],[\"% Change in Nutrient Balance\",\"@{percent_Change_in_Nutrient_Balance}\"]]},\"id\":\"1430\",\"type\":\"HoverTool\"},{\"attributes\":{\"line_alpha\":0.1,\"line_color\":\"#30a2da\",\"line_width\":2,\"x\":{\"field\":\"Year\"},\"y\":{\"field\":\"% Change in Nutrient Balance\"}},\"id\":\"1473\",\"type\":\"Line\"},{\"attributes\":{},\"id\":\"1440\",\"type\":\"LinearScale\"},{\"attributes\":{\"line_color\":\"#fc4f30\",\"line_width\":2,\"x\":{\"field\":\"Year\"},\"y\":{\"field\":\"% Change in Nutrient Balance\"}},\"id\":\"1493\",\"type\":\"Line\"},{\"attributes\":{},\"id\":\"1491\",\"type\":\"Selection\"},{\"attributes\":{\"client_comm_id\":\"3d94f7cbc7b4440b8575971603d838e4\",\"comm_id\":\"b295236b4b2544e28a3cde7880d259ae\",\"plot_id\":\"1421\"},\"id\":\"1704\",\"type\":\"panel.models.comm_manager.CommManager\"},{\"attributes\":{\"coordinates\":null,\"data_source\":{\"id\":\"1490\"},\"glyph\":{\"id\":\"1493\"},\"group\":null,\"hover_glyph\":null,\"muted_glyph\":{\"id\":\"1495\"},\"nonselection_glyph\":{\"id\":\"1494\"},\"selection_glyph\":{\"id\":\"1511\"},\"view\":{\"id\":\"1497\"}},\"id\":\"1496\",\"type\":\"GlyphRenderer\"},{\"attributes\":{},\"id\":\"1447\",\"type\":\"BasicTicker\"},{\"attributes\":{\"line_color\":\"#e5ae38\",\"line_width\":2,\"x\":{\"field\":\"Year\"},\"y\":{\"field\":\"% Change in Nutrient Balance\"}},\"id\":\"1535\",\"type\":\"Line\"},{\"attributes\":{\"coordinates\":null,\"data_source\":{\"id\":\"1469\"},\"glyph\":{\"id\":\"1472\"},\"group\":null,\"hover_glyph\":null,\"muted_glyph\":{\"id\":\"1474\"},\"nonselection_glyph\":{\"id\":\"1473\"},\"selection_glyph\":{\"id\":\"1489\"},\"view\":{\"id\":\"1476\"}},\"id\":\"1475\",\"type\":\"GlyphRenderer\"},{\"attributes\":{\"label\":{\"value\":\"Ireland\"},\"renderers\":[{\"id\":\"1496\"}]},\"id\":\"1510\",\"type\":\"LegendItem\"},{\"attributes\":{},\"id\":\"1443\",\"type\":\"BasicTicker\"},{\"attributes\":{\"source\":{\"id\":\"1512\"}},\"id\":\"1519\",\"type\":\"CDSView\"},{\"attributes\":{\"line_color\":\"#30a2da\",\"line_width\":2,\"x\":{\"field\":\"Year\"},\"y\":{\"field\":\"% Change in Nutrient Balance\"}},\"id\":\"1472\",\"type\":\"Line\"},{\"attributes\":{\"axis_label\":\"% Change in Nutrient Balance\",\"coordinates\":null,\"formatter\":{\"id\":\"1467\"},\"group\":null,\"major_label_policy\":{\"id\":\"1468\"},\"ticker\":{\"id\":\"1447\"}},\"id\":\"1446\",\"type\":\"LinearAxis\"},{\"attributes\":{},\"id\":\"1507\",\"type\":\"UnionRenderers\"},{\"attributes\":{\"coordinates\":null,\"data_source\":{\"id\":\"1512\"},\"glyph\":{\"id\":\"1515\"},\"group\":null,\"hover_glyph\":null,\"muted_glyph\":{\"id\":\"1517\"},\"nonselection_glyph\":{\"id\":\"1516\"},\"selection_glyph\":{\"id\":\"1535\"},\"view\":{\"id\":\"1519\"}},\"id\":\"1518\",\"type\":\"GlyphRenderer\"},{\"attributes\":{\"line_alpha\":0.2,\"line_color\":\"#e5ae38\",\"line_width\":2,\"x\":{\"field\":\"Year\"},\"y\":{\"field\":\"% Change in Nutrient Balance\"}},\"id\":\"1517\",\"type\":\"Line\"},{\"attributes\":{\"bottom_units\":\"screen\",\"coordinates\":null,\"fill_alpha\":0.5,\"fill_color\":\"lightgrey\",\"group\":null,\"left_units\":\"screen\",\"level\":\"overlay\",\"line_alpha\":1.0,\"line_color\":\"black\",\"line_dash\":[4,4],\"line_width\":2,\"right_units\":\"screen\",\"syncable\":false,\"top_units\":\"screen\"},\"id\":\"1455\",\"type\":\"BoxAnnotation\"},{\"attributes\":{\"click_policy\":\"mute\",\"coordinates\":null,\"group\":null,\"items\":[{\"id\":\"1488\"},{\"id\":\"1510\"},{\"id\":\"1534\"}],\"location\":[0,0],\"title\":\"Country\"},\"id\":\"1487\",\"type\":\"Legend\"},{\"attributes\":{\"axis\":{\"id\":\"1446\"},\"coordinates\":null,\"dimension\":1,\"grid_line_color\":null,\"group\":null,\"ticker\":null},\"id\":\"1449\",\"type\":\"Grid\"},{\"attributes\":{\"line_alpha\":0.1,\"line_color\":\"#e5ae38\",\"line_width\":2,\"x\":{\"field\":\"Year\"},\"y\":{\"field\":\"% Change in Nutrient Balance\"}},\"id\":\"1516\",\"type\":\"Line\"},{\"attributes\":{\"data\":{\"% Change in Nutrient Balance\":{\"__ndarray__\":\"AAAAAAAAAAAAAAAAAAAAAAEOZ59DaipAafdxVVVVJ0AKQeaBytkdQD6GQI7jOAZA9GIwmCKfJcBln66LLro2QCfId0XKwAPAQHmPmzC/I8DxeqU2takjwA==\",\"dtype\":\"float64\",\"order\":\"little\",\"shape\":[11]},\"Country\":[\"Ireland\",\"Ireland\",\"Ireland\",\"Ireland\",\"Ireland\",\"Ireland\",\"Ireland\",\"Ireland\",\"Ireland\",\"Ireland\",\"Ireland\"],\"Year\":[1991,1992,1993,1994,1995,1996,1997,1998,1999,2000,2001],\"percent_Change_in_Nutrient_Balance\":{\"__ndarray__\":\"AAAAAAAAAAAAAAAAAAAAAAEOZ59DaipAafdxVVVVJ0AKQeaBytkdQD6GQI7jOAZA9GIwmCKfJcBln66LLro2QCfId0XKwAPAQHmPmzC/I8DxeqU2takjwA==\",\"dtype\":\"float64\",\"order\":\"little\",\"shape\":[11]}},\"selected\":{\"id\":\"1491\"},\"selection_policy\":{\"id\":\"1507\"}},\"id\":\"1490\",\"type\":\"ColumnDataSource\"},{\"attributes\":{},\"id\":\"1484\",\"type\":\"UnionRenderers\"},{\"attributes\":{},\"id\":\"1513\",\"type\":\"Selection\"},{\"attributes\":{\"children\":[{\"id\":\"1424\"},{\"id\":\"1427\"}],\"margin\":[0,0,0,0],\"name\":\"Row02822\"},\"id\":\"1423\",\"type\":\"Row\"},{\"attributes\":{},\"id\":\"1450\",\"type\":\"SaveTool\"},{\"attributes\":{\"label\":{\"value\":\"France\"},\"renderers\":[{\"id\":\"1475\"}]},\"id\":\"1488\",\"type\":\"LegendItem\"},{\"attributes\":{\"source\":{\"id\":\"1469\"}},\"id\":\"1476\",\"type\":\"CDSView\"},{\"attributes\":{\"children\":[{\"id\":\"1422\"}],\"margin\":[0,0,0,0],\"name\":\"Row02829\"},\"id\":\"1421\",\"type\":\"Row\"},{\"attributes\":{},\"id\":\"1451\",\"type\":\"PanTool\"},{\"attributes\":{},\"id\":\"1452\",\"type\":\"WheelZoomTool\"},{\"attributes\":{\"overlay\":{\"id\":\"1455\"}},\"id\":\"1453\",\"type\":\"BoxZoomTool\"},{\"attributes\":{\"label\":{\"value\":\"Spain\"},\"renderers\":[{\"id\":\"1518\"}]},\"id\":\"1534\",\"type\":\"LegendItem\"},{\"attributes\":{},\"id\":\"1454\",\"type\":\"ResetTool\"},{\"attributes\":{},\"id\":\"1531\",\"type\":\"UnionRenderers\"},{\"attributes\":{\"tools\":[{\"id\":\"1430\"},{\"id\":\"1450\"},{\"id\":\"1451\"},{\"id\":\"1452\"},{\"id\":\"1453\"},{\"id\":\"1454\"}]},\"id\":\"1456\",\"type\":\"Toolbar\"},{\"attributes\":{\"children\":[{\"id\":\"1423\"},{\"id\":\"1433\"}],\"margin\":[0,0,0,0],\"name\":\"Column02828\"},\"id\":\"1422\",\"type\":\"Column\"},{\"attributes\":{\"axis_label\":\"Year\",\"coordinates\":null,\"formatter\":{\"id\":\"1464\"},\"group\":null,\"major_label_policy\":{\"id\":\"1465\"},\"ticker\":{\"id\":\"1443\"}},\"id\":\"1442\",\"type\":\"LinearAxis\"},{\"attributes\":{},\"id\":\"1467\",\"type\":\"BasicTickFormatter\"},{\"attributes\":{\"children\":[{\"id\":\"1425\"},{\"id\":\"1426\"}],\"margin\":[0,0,0,0],\"name\":\"Column02817\"},\"id\":\"1424\",\"type\":\"Column\"},{\"attributes\":{\"coordinates\":null,\"group\":null,\"text\":\"% Change in Nutrient Balance by Country\",\"text_color\":\"black\",\"text_font_size\":\"12pt\"},\"id\":\"1434\",\"type\":\"Title\"},{\"attributes\":{\"axis\":{\"id\":\"1442\"},\"coordinates\":null,\"grid_line_color\":null,\"group\":null,\"ticker\":null},\"id\":\"1445\",\"type\":\"Grid\"},{\"attributes\":{\"end\":2017,\"margin\":[5,10,5,10],\"start\":1991,\"step\":3,\"title\":\"year slider\",\"value\":2001},\"id\":\"1425\",\"type\":\"Slider\"},{\"attributes\":{},\"id\":\"1468\",\"type\":\"AllLabels\"},{\"attributes\":{\"source\":{\"id\":\"1490\"}},\"id\":\"1497\",\"type\":\"CDSView\"},{\"attributes\":{},\"id\":\"1438\",\"type\":\"LinearScale\"},{\"attributes\":{\"line_alpha\":0.2,\"line_color\":\"#30a2da\",\"line_width\":2,\"x\":{\"field\":\"Year\"},\"y\":{\"field\":\"% Change in Nutrient Balance\"}},\"id\":\"1474\",\"type\":\"Line\"},{\"attributes\":{\"line_alpha\":0.1,\"line_color\":\"#fc4f30\",\"line_width\":2,\"x\":{\"field\":\"Year\"},\"y\":{\"field\":\"% Change in Nutrient Balance\"}},\"id\":\"1494\",\"type\":\"Line\"},{\"attributes\":{\"line_color\":\"#30a2da\",\"line_width\":2,\"x\":{\"field\":\"Year\"},\"y\":{\"field\":\"% Change in Nutrient Balance\"}},\"id\":\"1489\",\"type\":\"Line\"},{\"attributes\":{},\"id\":\"1465\",\"type\":\"AllLabels\"},{\"attributes\":{},\"id\":\"1470\",\"type\":\"Selection\"},{\"attributes\":{\"below\":[{\"id\":\"1442\"}],\"center\":[{\"id\":\"1445\"},{\"id\":\"1449\"}],\"height\":300,\"left\":[{\"id\":\"1446\"}],\"margin\":[5,5,5,5],\"min_border_bottom\":10,\"min_border_left\":10,\"min_border_right\":10,\"min_border_top\":10,\"renderers\":[{\"id\":\"1475\"},{\"id\":\"1496\"},{\"id\":\"1518\"}],\"right\":[{\"id\":\"1487\"}],\"sizing_mode\":\"fixed\",\"title\":{\"id\":\"1434\"},\"toolbar\":{\"id\":\"1456\"},\"width\":700,\"x_range\":{\"id\":\"1428\"},\"x_scale\":{\"id\":\"1438\"},\"y_range\":{\"id\":\"1429\"},\"y_scale\":{\"id\":\"1440\"}},\"id\":\"1433\",\"subtype\":\"Figure\",\"type\":\"Plot\"},{\"attributes\":{\"end\":38.921666663,\"reset_end\":38.921666663,\"reset_start\":-28.138333333000002,\"start\":-28.138333333000002,\"tags\":[[[\"% Change in Nutrient Balance\",\"% Change in Nutrient Balance\",null]]]},\"id\":\"1429\",\"type\":\"Range1d\"},{\"attributes\":{\"active\":0,\"button_type\":\"success\",\"labels\":[\"% Change in Nutrient Balance\"],\"margin\":[5,10,5,10]},\"id\":\"1426\",\"type\":\"RadioButtonGroup\"},{\"attributes\":{\"end\":2001.0,\"reset_end\":2001.0,\"reset_start\":1991.0,\"start\":1991.0,\"tags\":[[[\"Year\",\"Year\",null]]]},\"id\":\"1428\",\"type\":\"Range1d\"},{\"attributes\":{\"data\":{\"% Change in Nutrient Balance\":{\"__ndarray__\":\"ozafqqqqCsAAAAAAAAAAAIxh0gjLPTHAJoKjqqqqQEAAAAAAAAAZQHOtlYeHhwfAGILpoosuIsAAAAAAAAAkQBLr4KKLLjJAeC6g2ImdCEDxCHvObuHnPw==\",\"dtype\":\"float64\",\"order\":\"little\",\"shape\":[11]},\"Country\":[\"Spain\",\"Spain\",\"Spain\",\"Spain\",\"Spain\",\"Spain\",\"Spain\",\"Spain\",\"Spain\",\"Spain\",\"Spain\"],\"Year\":[1991,1992,1993,1994,1995,1996,1997,1998,1999,2000,2001],\"percent_Change_in_Nutrient_Balance\":{\"__ndarray__\":\"ozafqqqqCsAAAAAAAAAAAIxh0gjLPTHAJoKjqqqqQEAAAAAAAAAZQHOtlYeHhwfAGILpoosuIsAAAAAAAAAkQBLr4KKLLjJAeC6g2ImdCEDxCHvObuHnPw==\",\"dtype\":\"float64\",\"order\":\"little\",\"shape\":[11]}},\"selected\":{\"id\":\"1513\"},\"selection_policy\":{\"id\":\"1531\"}},\"id\":\"1512\",\"type\":\"ColumnDataSource\"},{\"attributes\":{},\"id\":\"1464\",\"type\":\"BasicTickFormatter\"},{\"attributes\":{\"margin\":[5,5,5,5],\"name\":\"HSpacer02821\",\"sizing_mode\":\"stretch_width\"},\"id\":\"1427\",\"type\":\"Spacer\"}],\"root_ids\":[\"1421\",\"1704\"]},\"title\":\"Bokeh Application\",\"version\":\"2.4.2\"}};\n",
       "    var render_items = [{\"docid\":\"e4f96e64-22a5-4407-8b8e-5ebb00c7e54b\",\"root_ids\":[\"1421\"],\"roots\":{\"1421\":\"a00b466a-c49e-4171-a1b8-ca96cdebba9e\"}}];\n",
       "    root.Bokeh.embed.embed_items_notebook(docs_json, render_items);\n",
       "  }\n",
       "  if (root.Bokeh !== undefined && root.Bokeh.Panel !== undefined) {\n",
       "    embed_document(root);\n",
       "  } else {\n",
       "    var attempts = 0;\n",
       "    var timer = setInterval(function(root) {\n",
       "      if (root.Bokeh !== undefined && root.Bokeh.Panel !== undefined) {\n",
       "        clearInterval(timer);\n",
       "        embed_document(root);\n",
       "      } else if (document.readyState == \"complete\") {\n",
       "        attempts++;\n",
       "        if (attempts > 200) {\n",
       "          clearInterval(timer);\n",
       "          console.log(\"Bokeh: ERROR: Unable to run BokehJS code because BokehJS library is missing\");\n",
       "        }\n",
       "      }\n",
       "    }, 25, root)\n",
       "  }\n",
       "})(window);</script>"
      ],
      "text/plain": [
       "<hvplot.interactive.Interactive at 0x1246efc53a0>"
      ]
     },
     "execution_count": 13,
     "metadata": {
      "application/vnd.holoviews_exec.v0+json": {
       "id": "1421"
      }
     },
     "output_type": "execute_result"
    }
   ],
   "source": [
    "#Nutrient Balance Plot\n",
    "nbplot =nb_pipeline.hvplot(x='Year', by='Country', y=yaxis_nb, line_width=2, title=\"% Change in Nutrient Balance by Country\")\n",
    "nbplot"
   ]
  },
  {
   "cell_type": "code",
   "execution_count": 14,
   "id": "23aa26df-432e-4434-9dea-d1dd8361ed40",
   "metadata": {},
   "outputs": [
    {
     "data": {},
     "metadata": {},
     "output_type": "display_data"
    },
    {
     "data": {
      "application/vnd.holoviews_exec.v0+json": "",
      "text/html": [
       "<div id='1775'>\n",
       "\n",
       "\n",
       "\n",
       "\n",
       "\n",
       "  <div class=\"bk-root\" id=\"32e0eddb-f0db-4c15-a818-04279598929e\" data-root-id=\"1775\"></div>\n",
       "</div>\n",
       "<script type=\"application/javascript\">(function(root) {\n",
       "  function embed_document(root) {\n",
       "    var docs_json = {\"298d9d2a-987d-4d7c-b610-e3ca1b079ea4\":{\"defs\":[{\"extends\":null,\"module\":null,\"name\":\"ReactiveHTML1\",\"overrides\":[],\"properties\":[]},{\"extends\":null,\"module\":null,\"name\":\"FlexBox1\",\"overrides\":[],\"properties\":[{\"default\":\"flex-start\",\"kind\":null,\"name\":\"align_content\"},{\"default\":\"flex-start\",\"kind\":null,\"name\":\"align_items\"},{\"default\":\"row\",\"kind\":null,\"name\":\"flex_direction\"},{\"default\":\"wrap\",\"kind\":null,\"name\":\"flex_wrap\"},{\"default\":\"flex-start\",\"kind\":null,\"name\":\"justify_content\"}]},{\"extends\":null,\"module\":null,\"name\":\"GridStack1\",\"overrides\":[],\"properties\":[{\"default\":\"warn\",\"kind\":null,\"name\":\"mode\"},{\"default\":null,\"kind\":null,\"name\":\"ncols\"},{\"default\":null,\"kind\":null,\"name\":\"nrows\"},{\"default\":true,\"kind\":null,\"name\":\"allow_resize\"},{\"default\":true,\"kind\":null,\"name\":\"allow_drag\"},{\"default\":[],\"kind\":null,\"name\":\"state\"}]},{\"extends\":null,\"module\":null,\"name\":\"click1\",\"overrides\":[],\"properties\":[{\"default\":\"\",\"kind\":null,\"name\":\"terminal_output\"},{\"default\":\"\",\"kind\":null,\"name\":\"debug_name\"},{\"default\":0,\"kind\":null,\"name\":\"clears\"}]},{\"extends\":null,\"module\":null,\"name\":\"TemplateActions1\",\"overrides\":[],\"properties\":[{\"default\":0,\"kind\":null,\"name\":\"open_modal\"},{\"default\":0,\"kind\":null,\"name\":\"close_modal\"}]},{\"extends\":null,\"module\":null,\"name\":\"MaterialTemplateActions1\",\"overrides\":[],\"properties\":[{\"default\":0,\"kind\":null,\"name\":\"open_modal\"},{\"default\":0,\"kind\":null,\"name\":\"close_modal\"}]}],\"roots\":{\"references\":[{\"attributes\":{\"data\":{\"% Change in Nutrient Balance\":{\"__ndarray__\":\"ZmZmZmbmMMCjNp+qqqoKwAAAAAAAAAAAH4XrUbgeC0AAAAAAAAAAAAAAAAAAAAAApHA9CtdjMMCMYdIIyz0xwAEOZ59DaipAXI/C9ShcD0A=\",\"dtype\":\"float64\",\"order\":\"little\",\"shape\":[10]},\"Country\":[\"France\",\"Spain\",\"Ireland\",\"France\",\"Spain\",\"Ireland\",\"France\",\"Spain\",\"Ireland\",\"France\"],\"Year\":[1991,1991,1991,1992,1992,1992,1993,1993,1993,1994],\"index\":[0,1,2,3,4,5,6,7,8,9]},\"selected\":{\"id\":\"1784\"},\"selection_policy\":{\"id\":\"1808\"}},\"id\":\"1783\",\"type\":\"ColumnDataSource\"},{\"attributes\":{},\"id\":\"1791\",\"type\":\"StringFormatter\"},{\"attributes\":{},\"id\":\"1792\",\"type\":\"StringEditor\"},{\"attributes\":{\"children\":[{\"id\":\"1779\"},{\"id\":\"1780\"}],\"margin\":[0,0,0,0],\"name\":\"Column03475\"},\"id\":\"1778\",\"type\":\"Column\"},{\"attributes\":{\"editor\":{\"id\":\"1792\"},\"field\":\"Country\",\"formatter\":{\"id\":\"1791\"},\"title\":\"Country\",\"width\":0},\"id\":\"1793\",\"type\":\"TableColumn\"},{\"attributes\":{\"children\":[{\"id\":\"1777\"},{\"id\":\"1782\"}],\"margin\":[0,0,0,0],\"name\":\"Column03499\"},\"id\":\"1776\",\"type\":\"Column\"},{\"attributes\":{},\"id\":\"1787\",\"type\":\"CellEditor\"},{\"attributes\":{\"columns\":[{\"id\":\"1788\"},{\"id\":\"1793\"},{\"id\":\"1798\"},{\"id\":\"1803\"}],\"configuration\":{\"columns\":[{\"field\":\"index\"},{\"field\":\"Country\"},{\"field\":\"Year\"},{\"field\":\"% Change in Nutrient Balance\"}],\"dataTree\":false,\"selectable\":true},\"indexes\":[\"index\"],\"layout\":\"fit_data_table\",\"margin\":[5,10,5,10],\"max_page\":4,\"name\":\"\",\"page\":1,\"page_size\":10,\"pagination\":\"remote\",\"select_mode\":true,\"selectable_rows\":null,\"sizing_mode\":\"stretch_width\",\"source\":{\"id\":\"1783\"},\"styles\":{\"data\":{},\"id\":\"076376176f94486aa5a536800b15e975\"},\"subscribed_events\":[\"table-edit\",\"cell-click\"]},\"id\":\"1806\",\"type\":\"panel.models.tabulator.DataTabulator\"},{\"attributes\":{\"active\":0,\"button_type\":\"success\",\"labels\":[\"% Change in Nutrient Balance\"],\"margin\":[5,10,5,10]},\"id\":\"1780\",\"type\":\"RadioButtonGroup\"},{\"attributes\":{\"editor\":{\"id\":\"1797\"},\"field\":\"Year\",\"formatter\":{\"id\":\"1796\"},\"title\":\"Year\",\"width\":0},\"id\":\"1798\",\"type\":\"TableColumn\"},{\"attributes\":{\"margin\":[5,5,5,5],\"name\":\"HSpacer03497\",\"sizing_mode\":\"stretch_width\"},\"id\":\"1781\",\"type\":\"Spacer\"},{\"attributes\":{\"indices\":[]},\"id\":\"1784\",\"type\":\"Selection\"},{\"attributes\":{\"client_comm_id\":\"05a94dfb2d6142949b60669157ac5e68\",\"comm_id\":\"df3b4e6d878648a98822d601994424e5\",\"plot_id\":\"1775\"},\"id\":\"1814\",\"type\":\"panel.models.comm_manager.CommManager\"},{\"attributes\":{\"end\":2017,\"margin\":[5,10,5,10],\"start\":1991,\"step\":3,\"title\":\"year slider\",\"value\":2001},\"id\":\"1779\",\"type\":\"Slider\"},{\"attributes\":{\"children\":[{\"id\":\"1778\"},{\"id\":\"1781\"}],\"margin\":[0,0,0,0],\"name\":\"Row03498\"},\"id\":\"1777\",\"type\":\"Row\"},{\"attributes\":{\"editor\":{\"id\":\"1787\"},\"field\":\"index\",\"formatter\":{\"id\":\"1785\"},\"title\":\"index\",\"width\":0},\"id\":\"1788\",\"type\":\"TableColumn\"},{\"attributes\":{\"text_align\":\"left\"},\"id\":\"1785\",\"type\":\"NumberFormatter\"},{\"attributes\":{\"format\":\"0,0.0[00000]\",\"text_align\":\"right\"},\"id\":\"1801\",\"type\":\"NumberFormatter\"},{\"attributes\":{},\"id\":\"1808\",\"type\":\"UnionRenderers\"},{\"attributes\":{},\"id\":\"1802\",\"type\":\"NumberEditor\"},{\"attributes\":{\"text_align\":\"right\"},\"id\":\"1796\",\"type\":\"NumberFormatter\"},{\"attributes\":{\"children\":[{\"id\":\"1806\"}],\"margin\":[0,0,0,0],\"name\":\"Row03480\"},\"id\":\"1782\",\"type\":\"Row\"},{\"attributes\":{},\"id\":\"1797\",\"type\":\"IntEditor\"},{\"attributes\":{\"children\":[{\"id\":\"1776\"}],\"margin\":[0,0,0,0],\"name\":\"Row03500\"},\"id\":\"1775\",\"type\":\"Row\"},{\"attributes\":{\"editor\":{\"id\":\"1802\"},\"field\":\"% Change in Nutrient Balance\",\"formatter\":{\"id\":\"1801\"},\"title\":\"% Change in Nutrient Balance\",\"width\":0},\"id\":\"1803\",\"type\":\"TableColumn\"}],\"root_ids\":[\"1775\",\"1814\"]},\"title\":\"Bokeh Application\",\"version\":\"2.4.2\"}};\n",
       "    var render_items = [{\"docid\":\"298d9d2a-987d-4d7c-b610-e3ca1b079ea4\",\"root_ids\":[\"1775\"],\"roots\":{\"1775\":\"32e0eddb-f0db-4c15-a818-04279598929e\"}}];\n",
       "    root.Bokeh.embed.embed_items_notebook(docs_json, render_items);\n",
       "  }\n",
       "  if (root.Bokeh !== undefined && root.Bokeh.Panel !== undefined) {\n",
       "    embed_document(root);\n",
       "  } else {\n",
       "    var attempts = 0;\n",
       "    var timer = setInterval(function(root) {\n",
       "      if (root.Bokeh !== undefined && root.Bokeh.Panel !== undefined) {\n",
       "        clearInterval(timer);\n",
       "        embed_document(root);\n",
       "      } else if (document.readyState == \"complete\") {\n",
       "        attempts++;\n",
       "        if (attempts > 200) {\n",
       "          clearInterval(timer);\n",
       "          console.log(\"Bokeh: ERROR: Unable to run BokehJS code because BokehJS library is missing\");\n",
       "        }\n",
       "      }\n",
       "    }, 25, root)\n",
       "  }\n",
       "})(window);</script>"
      ],
      "text/plain": [
       "<hvplot.interactive.Interactive at 0x12470e2e730>"
      ]
     },
     "execution_count": 14,
     "metadata": {
      "application/vnd.holoviews_exec.v0+json": {
       "id": "1775"
      }
     },
     "output_type": "execute_result"
    }
   ],
   "source": [
    "#Nutrient Balance Table\n",
    "nbtable = nb_pipeline.pipe(pn.widgets.Tabulator, pagination='remote', page_size=10, sizing_mode='stretch_width')\n",
    "nbtable"
   ]
  },
  {
   "cell_type": "code",
   "execution_count": 15,
   "id": "93d5260e-6188-4a58-b296-75ce382946fc",
   "metadata": {},
   "outputs": [],
   "source": [
    "#Radio button for Labor Input\n",
    "yaxis_li = pn.widgets.RadioButtonGroup(\n",
    "name= 'Y Axis',\n",
    "    options=['% Change in Labor Input',],\n",
    "    button_type='success'\n",
    ")"
   ]
  },
  {
   "cell_type": "code",
   "execution_count": 16,
   "id": "ba29d09e-1292-40b3-9d8d-cc9b01ef21d8",
   "metadata": {},
   "outputs": [],
   "source": [
    "#Labor Input Pipeline\n",
    "li_pipeline =(\n",
    "dd[(dd.Year <=yearslider)]\n",
    "    .groupby (['Country', 'Year']) [yaxis_li].mean()\n",
    "    .to_frame()\n",
    "    .reset_index()\n",
    "    .sort_values(by='Year')\n",
    "    .reset_index(drop=True)\n",
    ")"
   ]
  },
  {
   "cell_type": "code",
   "execution_count": 17,
   "id": "9d700edd-fd67-41f4-a8af-a77547e3cb59",
   "metadata": {},
   "outputs": [
    {
     "data": {},
     "metadata": {},
     "output_type": "display_data"
    },
    {
     "data": {},
     "metadata": {},
     "output_type": "display_data"
    },
    {
     "data": {
      "application/vnd.holoviews_exec.v0+json": "",
      "text/html": [
       "<div id='1825'>\n",
       "\n",
       "\n",
       "\n",
       "\n",
       "\n",
       "  <div class=\"bk-root\" id=\"611927e2-2849-424a-8c37-f5e7c189d41f\" data-root-id=\"1825\"></div>\n",
       "</div>\n",
       "<script type=\"application/javascript\">(function(root) {\n",
       "  function embed_document(root) {\n",
       "    var docs_json = {\"66df32c1-e7b3-470d-9897-50725d81541b\":{\"defs\":[{\"extends\":null,\"module\":null,\"name\":\"ReactiveHTML1\",\"overrides\":[],\"properties\":[]},{\"extends\":null,\"module\":null,\"name\":\"FlexBox1\",\"overrides\":[],\"properties\":[{\"default\":\"flex-start\",\"kind\":null,\"name\":\"align_content\"},{\"default\":\"flex-start\",\"kind\":null,\"name\":\"align_items\"},{\"default\":\"row\",\"kind\":null,\"name\":\"flex_direction\"},{\"default\":\"wrap\",\"kind\":null,\"name\":\"flex_wrap\"},{\"default\":\"flex-start\",\"kind\":null,\"name\":\"justify_content\"}]},{\"extends\":null,\"module\":null,\"name\":\"GridStack1\",\"overrides\":[],\"properties\":[{\"default\":\"warn\",\"kind\":null,\"name\":\"mode\"},{\"default\":null,\"kind\":null,\"name\":\"ncols\"},{\"default\":null,\"kind\":null,\"name\":\"nrows\"},{\"default\":true,\"kind\":null,\"name\":\"allow_resize\"},{\"default\":true,\"kind\":null,\"name\":\"allow_drag\"},{\"default\":[],\"kind\":null,\"name\":\"state\"}]},{\"extends\":null,\"module\":null,\"name\":\"click1\",\"overrides\":[],\"properties\":[{\"default\":\"\",\"kind\":null,\"name\":\"terminal_output\"},{\"default\":\"\",\"kind\":null,\"name\":\"debug_name\"},{\"default\":0,\"kind\":null,\"name\":\"clears\"}]},{\"extends\":null,\"module\":null,\"name\":\"TemplateActions1\",\"overrides\":[],\"properties\":[{\"default\":0,\"kind\":null,\"name\":\"open_modal\"},{\"default\":0,\"kind\":null,\"name\":\"close_modal\"}]},{\"extends\":null,\"module\":null,\"name\":\"MaterialTemplateActions1\",\"overrides\":[],\"properties\":[{\"default\":0,\"kind\":null,\"name\":\"open_modal\"},{\"default\":0,\"kind\":null,\"name\":\"close_modal\"}]}],\"roots\":{\"references\":[{\"attributes\":{\"line_color\":\"#30a2da\",\"line_width\":2,\"x\":{\"field\":\"Year\"},\"y\":{\"field\":\"% Change in Labor Input\"}},\"id\":\"1893\",\"type\":\"Line\"},{\"attributes\":{\"active\":0,\"button_type\":\"success\",\"labels\":[\"% Change in Labor Input\"],\"margin\":[5,10,5,10]},\"id\":\"1830\",\"type\":\"RadioButtonGroup\"},{\"attributes\":{\"end\":5.3199382392,\"reset_end\":5.3199382392,\"reset_start\":-12.1742115672,\"start\":-12.1742115672,\"tags\":[[[\"% Change in Labor Input\",\"% Change in Labor Input\",null]]]},\"id\":\"1833\",\"type\":\"Range1d\"},{\"attributes\":{\"line_color\":\"#30a2da\",\"line_width\":2,\"x\":{\"field\":\"Year\"},\"y\":{\"field\":\"% Change in Labor Input\"}},\"id\":\"1876\",\"type\":\"Line\"},{\"attributes\":{\"end\":2001.0,\"reset_end\":2001.0,\"reset_start\":1991.0,\"start\":1991.0,\"tags\":[[[\"Year\",\"Year\",null]]]},\"id\":\"1832\",\"type\":\"Range1d\"},{\"attributes\":{\"margin\":[5,5,5,5],\"name\":\"HSpacer03781\",\"sizing_mode\":\"stretch_width\"},\"id\":\"1831\",\"type\":\"Spacer\"},{\"attributes\":{\"data\":{\"% Change in Labor Input\":{\"__ndarray__\":\"0LcPvegMGMDB/gJ5Kv8FwGI899wRyRDAER9ZcnW18b/VpLgDpZPxv+KwpkWMXdE/k+rB+PfW8T+Y9DS2kOUOQKuV3j54bxDAiuwJZto78L/qAElXN37Pvw==\",\"dtype\":\"float64\",\"order\":\"little\",\"shape\":[11]},\"Country\":[\"Spain\",\"Spain\",\"Spain\",\"Spain\",\"Spain\",\"Spain\",\"Spain\",\"Spain\",\"Spain\",\"Spain\",\"Spain\"],\"Year\":[1991,1992,1993,1994,1995,1996,1997,1998,1999,2000,2001],\"percent_Change_in_Labor_Input\":{\"__ndarray__\":\"0LcPvegMGMDB/gJ5Kv8FwGI899wRyRDAER9ZcnW18b/VpLgDpZPxv+KwpkWMXdE/k+rB+PfW8T+Y9DS2kOUOQKuV3j54bxDAiuwJZto78L/qAElXN37Pvw==\",\"dtype\":\"float64\",\"order\":\"little\",\"shape\":[11]}},\"selected\":{\"id\":\"1917\"},\"selection_policy\":{\"id\":\"1935\"}},\"id\":\"1916\",\"type\":\"ColumnDataSource\"},{\"attributes\":{\"coordinates\":null,\"data_source\":{\"id\":\"1873\"},\"glyph\":{\"id\":\"1876\"},\"group\":null,\"hover_glyph\":null,\"muted_glyph\":{\"id\":\"1878\"},\"nonselection_glyph\":{\"id\":\"1877\"},\"selection_glyph\":{\"id\":\"1893\"},\"view\":{\"id\":\"1880\"}},\"id\":\"1879\",\"type\":\"GlyphRenderer\"},{\"attributes\":{\"data\":{\"% Change in Labor Input\":{\"__ndarray__\":\"V1uilL+GEcDF9gxBCzoRwPprANatTRXAGcDanysYDMCxGQsDyd0HwLuoprwHvATAhYxwKLYhBMD+9GeL4Cn9v7Sbxf3aifq/6RTXPSEn979aNSuCzxQFwA==\",\"dtype\":\"float64\",\"order\":\"little\",\"shape\":[11]},\"Country\":[\"France\",\"France\",\"France\",\"France\",\"France\",\"France\",\"France\",\"France\",\"France\",\"France\",\"France\"],\"Year\":[1991,1992,1993,1994,1995,1996,1997,1998,1999,2000,2001],\"percent_Change_in_Labor_Input\":{\"__ndarray__\":\"V1uilL+GEcDF9gxBCzoRwPprANatTRXAGcDanysYDMCxGQsDyd0HwLuoprwHvATAhYxwKLYhBMD+9GeL4Cn9v7Sbxf3aifq/6RTXPSEn979aNSuCzxQFwA==\",\"dtype\":\"float64\",\"order\":\"little\",\"shape\":[11]}},\"selected\":{\"id\":\"1874\"},\"selection_policy\":{\"id\":\"1888\"}},\"id\":\"1873\",\"type\":\"ColumnDataSource\"},{\"attributes\":{\"bottom_units\":\"screen\",\"coordinates\":null,\"fill_alpha\":0.5,\"fill_color\":\"lightgrey\",\"group\":null,\"left_units\":\"screen\",\"level\":\"overlay\",\"line_alpha\":1.0,\"line_color\":\"black\",\"line_dash\":[4,4],\"line_width\":2,\"right_units\":\"screen\",\"syncable\":false,\"top_units\":\"screen\"},\"id\":\"1859\",\"type\":\"BoxAnnotation\"},{\"attributes\":{},\"id\":\"1842\",\"type\":\"LinearScale\"},{\"attributes\":{\"source\":{\"id\":\"1894\"}},\"id\":\"1901\",\"type\":\"CDSView\"},{\"attributes\":{\"line_alpha\":0.1,\"line_color\":\"#30a2da\",\"line_width\":2,\"x\":{\"field\":\"Year\"},\"y\":{\"field\":\"% Change in Labor Input\"}},\"id\":\"1877\",\"type\":\"Line\"},{\"attributes\":{\"line_color\":\"#fc4f30\",\"line_width\":2,\"x\":{\"field\":\"Year\"},\"y\":{\"field\":\"% Change in Labor Input\"}},\"id\":\"1915\",\"type\":\"Line\"},{\"attributes\":{\"line_color\":\"#e5ae38\",\"line_width\":2,\"x\":{\"field\":\"Year\"},\"y\":{\"field\":\"% Change in Labor Input\"}},\"id\":\"1919\",\"type\":\"Line\"},{\"attributes\":{\"coordinates\":null,\"data_source\":{\"id\":\"1894\"},\"glyph\":{\"id\":\"1897\"},\"group\":null,\"hover_glyph\":null,\"muted_glyph\":{\"id\":\"1899\"},\"nonselection_glyph\":{\"id\":\"1898\"},\"selection_glyph\":{\"id\":\"1915\"},\"view\":{\"id\":\"1901\"}},\"id\":\"1900\",\"type\":\"GlyphRenderer\"},{\"attributes\":{\"axis\":{\"id\":\"1846\"},\"coordinates\":null,\"grid_line_color\":null,\"group\":null,\"ticker\":null},\"id\":\"1849\",\"type\":\"Grid\"},{\"attributes\":{},\"id\":\"1869\",\"type\":\"AllLabels\"},{\"attributes\":{\"line_alpha\":0.2,\"line_color\":\"#fc4f30\",\"line_width\":2,\"x\":{\"field\":\"Year\"},\"y\":{\"field\":\"% Change in Labor Input\"}},\"id\":\"1899\",\"type\":\"Line\"},{\"attributes\":{\"line_alpha\":0.1,\"line_color\":\"#fc4f30\",\"line_width\":2,\"x\":{\"field\":\"Year\"},\"y\":{\"field\":\"% Change in Labor Input\"}},\"id\":\"1898\",\"type\":\"Line\"},{\"attributes\":{},\"id\":\"1888\",\"type\":\"UnionRenderers\"},{\"attributes\":{},\"id\":\"1855\",\"type\":\"PanTool\"},{\"attributes\":{},\"id\":\"1895\",\"type\":\"Selection\"},{\"attributes\":{},\"id\":\"1844\",\"type\":\"LinearScale\"},{\"attributes\":{\"tools\":[{\"id\":\"1834\"},{\"id\":\"1854\"},{\"id\":\"1855\"},{\"id\":\"1856\"},{\"id\":\"1857\"},{\"id\":\"1858\"}]},\"id\":\"1860\",\"type\":\"Toolbar\"},{\"attributes\":{\"line_color\":\"#e5ae38\",\"line_width\":2,\"x\":{\"field\":\"Year\"},\"y\":{\"field\":\"% Change in Labor Input\"}},\"id\":\"1939\",\"type\":\"Line\"},{\"attributes\":{},\"id\":\"1851\",\"type\":\"BasicTicker\"},{\"attributes\":{\"source\":{\"id\":\"1916\"}},\"id\":\"1923\",\"type\":\"CDSView\"},{\"attributes\":{\"children\":[{\"id\":\"1826\"}],\"margin\":[0,0,0,0],\"name\":\"Row03789\"},\"id\":\"1825\",\"type\":\"Row\"},{\"attributes\":{\"label\":{\"value\":\"Ireland\"},\"renderers\":[{\"id\":\"1900\"}]},\"id\":\"1914\",\"type\":\"LegendItem\"},{\"attributes\":{},\"id\":\"1847\",\"type\":\"BasicTicker\"},{\"attributes\":{\"coordinates\":null,\"data_source\":{\"id\":\"1916\"},\"glyph\":{\"id\":\"1919\"},\"group\":null,\"hover_glyph\":null,\"muted_glyph\":{\"id\":\"1921\"},\"nonselection_glyph\":{\"id\":\"1920\"},\"selection_glyph\":{\"id\":\"1939\"},\"view\":{\"id\":\"1923\"}},\"id\":\"1922\",\"type\":\"GlyphRenderer\"},{\"attributes\":{\"axis_label\":\"% Change in Labor Input\",\"coordinates\":null,\"formatter\":{\"id\":\"1871\"},\"group\":null,\"major_label_policy\":{\"id\":\"1872\"},\"ticker\":{\"id\":\"1851\"}},\"id\":\"1850\",\"type\":\"LinearAxis\"},{\"attributes\":{\"children\":[{\"id\":\"1827\"},{\"id\":\"1837\"}],\"margin\":[0,0,0,0],\"name\":\"Column03788\"},\"id\":\"1826\",\"type\":\"Column\"},{\"attributes\":{\"line_alpha\":0.2,\"line_color\":\"#e5ae38\",\"line_width\":2,\"x\":{\"field\":\"Year\"},\"y\":{\"field\":\"% Change in Labor Input\"}},\"id\":\"1921\",\"type\":\"Line\"},{\"attributes\":{},\"id\":\"1856\",\"type\":\"WheelZoomTool\"},{\"attributes\":{\"line_alpha\":0.1,\"line_color\":\"#e5ae38\",\"line_width\":2,\"x\":{\"field\":\"Year\"},\"y\":{\"field\":\"% Change in Labor Input\"}},\"id\":\"1920\",\"type\":\"Line\"},{\"attributes\":{},\"id\":\"1872\",\"type\":\"AllLabels\"},{\"attributes\":{},\"id\":\"1868\",\"type\":\"BasicTickFormatter\"},{\"attributes\":{},\"id\":\"1871\",\"type\":\"BasicTickFormatter\"},{\"attributes\":{\"axis\":{\"id\":\"1850\"},\"coordinates\":null,\"dimension\":1,\"grid_line_color\":null,\"group\":null,\"ticker\":null},\"id\":\"1853\",\"type\":\"Grid\"},{\"attributes\":{},\"id\":\"1911\",\"type\":\"UnionRenderers\"},{\"attributes\":{},\"id\":\"1917\",\"type\":\"Selection\"},{\"attributes\":{},\"id\":\"1854\",\"type\":\"SaveTool\"},{\"attributes\":{\"click_policy\":\"mute\",\"coordinates\":null,\"group\":null,\"items\":[{\"id\":\"1892\"},{\"id\":\"1914\"},{\"id\":\"1938\"}],\"location\":[0,0],\"title\":\"Country\"},\"id\":\"1891\",\"type\":\"Legend\"},{\"attributes\":{\"overlay\":{\"id\":\"1859\"}},\"id\":\"1857\",\"type\":\"BoxZoomTool\"},{\"attributes\":{\"data\":{\"% Change in Labor Input\":{\"__ndarray__\":\"cjAfOWdaJcCMmQ/LEBbxv5WmQ9Jn0gbAfAyBHMdxCMAicHUXYKEUwAJzx3c2n8s/mGf1c+LVHsB0RXWvnSgEwNQHiAWbdyDABp5aAa7dJMDzcth9x24lwA==\",\"dtype\":\"float64\",\"order\":\"little\",\"shape\":[11]},\"Country\":[\"Ireland\",\"Ireland\",\"Ireland\",\"Ireland\",\"Ireland\",\"Ireland\",\"Ireland\",\"Ireland\",\"Ireland\",\"Ireland\",\"Ireland\"],\"Year\":[1991,1992,1993,1994,1995,1996,1997,1998,1999,2000,2001],\"percent_Change_in_Labor_Input\":{\"__ndarray__\":\"cjAfOWdaJcCMmQ/LEBbxv5WmQ9Jn0gbAfAyBHMdxCMAicHUXYKEUwAJzx3c2n8s/mGf1c+LVHsB0RXWvnSgEwNQHiAWbdyDABp5aAa7dJMDzcth9x24lwA==\",\"dtype\":\"float64\",\"order\":\"little\",\"shape\":[11]}},\"selected\":{\"id\":\"1895\"},\"selection_policy\":{\"id\":\"1911\"}},\"id\":\"1894\",\"type\":\"ColumnDataSource\"},{\"attributes\":{},\"id\":\"1858\",\"type\":\"ResetTool\"},{\"attributes\":{\"label\":{\"value\":\"Spain\"},\"renderers\":[{\"id\":\"1922\"}]},\"id\":\"1938\",\"type\":\"LegendItem\"},{\"attributes\":{},\"id\":\"1935\",\"type\":\"UnionRenderers\"},{\"attributes\":{\"label\":{\"value\":\"France\"},\"renderers\":[{\"id\":\"1879\"}]},\"id\":\"1892\",\"type\":\"LegendItem\"},{\"attributes\":{\"axis_label\":\"Year\",\"coordinates\":null,\"formatter\":{\"id\":\"1868\"},\"group\":null,\"major_label_policy\":{\"id\":\"1869\"},\"ticker\":{\"id\":\"1847\"}},\"id\":\"1846\",\"type\":\"LinearAxis\"},{\"attributes\":{\"source\":{\"id\":\"1873\"}},\"id\":\"1880\",\"type\":\"CDSView\"},{\"attributes\":{\"children\":[{\"id\":\"1828\"},{\"id\":\"1831\"}],\"margin\":[0,0,0,0],\"name\":\"Row03782\"},\"id\":\"1827\",\"type\":\"Row\"},{\"attributes\":{\"callback\":null,\"renderers\":[{\"id\":\"1879\"},{\"id\":\"1900\"},{\"id\":\"1922\"}],\"tags\":[\"hv_created\"],\"tooltips\":[[\"Country\",\"@{Country}\"],[\"Year\",\"@{Year}\"],[\"% Change in Labor Input\",\"@{percent_Change_in_Labor_Input}\"]]},\"id\":\"1834\",\"type\":\"HoverTool\"},{\"attributes\":{\"client_comm_id\":\"adc6f1e055e7432f8cee839dad8140fb\",\"comm_id\":\"c4b12726df304c7bbd22a5eb8784f47d\",\"plot_id\":\"1825\"},\"id\":\"2108\",\"type\":\"panel.models.comm_manager.CommManager\"},{\"attributes\":{\"children\":[{\"id\":\"1829\"},{\"id\":\"1830\"}],\"margin\":[0,0,0,0],\"name\":\"Column03777\"},\"id\":\"1828\",\"type\":\"Column\"},{\"attributes\":{},\"id\":\"1874\",\"type\":\"Selection\"},{\"attributes\":{\"line_alpha\":0.2,\"line_color\":\"#30a2da\",\"line_width\":2,\"x\":{\"field\":\"Year\"},\"y\":{\"field\":\"% Change in Labor Input\"}},\"id\":\"1878\",\"type\":\"Line\"},{\"attributes\":{\"coordinates\":null,\"group\":null,\"text\":\"% Change in Labor Input by Country\",\"text_color\":\"black\",\"text_font_size\":\"12pt\"},\"id\":\"1838\",\"type\":\"Title\"},{\"attributes\":{\"end\":2017,\"margin\":[5,10,5,10],\"start\":1991,\"step\":3,\"title\":\"year slider\",\"value\":2001},\"id\":\"1829\",\"type\":\"Slider\"},{\"attributes\":{\"line_color\":\"#fc4f30\",\"line_width\":2,\"x\":{\"field\":\"Year\"},\"y\":{\"field\":\"% Change in Labor Input\"}},\"id\":\"1897\",\"type\":\"Line\"},{\"attributes\":{\"below\":[{\"id\":\"1846\"}],\"center\":[{\"id\":\"1849\"},{\"id\":\"1853\"}],\"height\":300,\"left\":[{\"id\":\"1850\"}],\"margin\":[5,5,5,5],\"min_border_bottom\":10,\"min_border_left\":10,\"min_border_right\":10,\"min_border_top\":10,\"renderers\":[{\"id\":\"1879\"},{\"id\":\"1900\"},{\"id\":\"1922\"}],\"right\":[{\"id\":\"1891\"}],\"sizing_mode\":\"fixed\",\"title\":{\"id\":\"1838\"},\"toolbar\":{\"id\":\"1860\"},\"width\":700,\"x_range\":{\"id\":\"1832\"},\"x_scale\":{\"id\":\"1842\"},\"y_range\":{\"id\":\"1833\"},\"y_scale\":{\"id\":\"1844\"}},\"id\":\"1837\",\"subtype\":\"Figure\",\"type\":\"Plot\"}],\"root_ids\":[\"1825\",\"2108\"]},\"title\":\"Bokeh Application\",\"version\":\"2.4.2\"}};\n",
       "    var render_items = [{\"docid\":\"66df32c1-e7b3-470d-9897-50725d81541b\",\"root_ids\":[\"1825\"],\"roots\":{\"1825\":\"611927e2-2849-424a-8c37-f5e7c189d41f\"}}];\n",
       "    root.Bokeh.embed.embed_items_notebook(docs_json, render_items);\n",
       "  }\n",
       "  if (root.Bokeh !== undefined && root.Bokeh.Panel !== undefined) {\n",
       "    embed_document(root);\n",
       "  } else {\n",
       "    var attempts = 0;\n",
       "    var timer = setInterval(function(root) {\n",
       "      if (root.Bokeh !== undefined && root.Bokeh.Panel !== undefined) {\n",
       "        clearInterval(timer);\n",
       "        embed_document(root);\n",
       "      } else if (document.readyState == \"complete\") {\n",
       "        attempts++;\n",
       "        if (attempts > 200) {\n",
       "          clearInterval(timer);\n",
       "          console.log(\"Bokeh: ERROR: Unable to run BokehJS code because BokehJS library is missing\");\n",
       "        }\n",
       "      }\n",
       "    }, 25, root)\n",
       "  }\n",
       "})(window);</script>"
      ],
      "text/plain": [
       "<hvplot.interactive.Interactive at 0x12470e78550>"
      ]
     },
     "execution_count": 17,
     "metadata": {
      "application/vnd.holoviews_exec.v0+json": {
       "id": "1825"
      }
     },
     "output_type": "execute_result"
    }
   ],
   "source": [
    "#Labor Input Plot\n",
    "liplot =li_pipeline.hvplot(x='Year', by='Country', y=yaxis_li, line_width=2, title=\"% Change in Labor Input by Country\")\n",
    "liplot"
   ]
  },
  {
   "cell_type": "code",
   "execution_count": 18,
   "id": "64f6c15a-e15b-44ab-89b8-ff51cbcd9892",
   "metadata": {},
   "outputs": [
    {
     "data": {},
     "metadata": {},
     "output_type": "display_data"
    },
    {
     "data": {
      "application/vnd.holoviews_exec.v0+json": "",
      "text/html": [
       "<div id='2179'>\n",
       "\n",
       "\n",
       "\n",
       "\n",
       "\n",
       "  <div class=\"bk-root\" id=\"c319166a-8119-484b-9637-0eaa1ba636a1\" data-root-id=\"2179\"></div>\n",
       "</div>\n",
       "<script type=\"application/javascript\">(function(root) {\n",
       "  function embed_document(root) {\n",
       "    var docs_json = {\"939722c7-4efd-46dd-a391-d13347b96975\":{\"defs\":[{\"extends\":null,\"module\":null,\"name\":\"ReactiveHTML1\",\"overrides\":[],\"properties\":[]},{\"extends\":null,\"module\":null,\"name\":\"FlexBox1\",\"overrides\":[],\"properties\":[{\"default\":\"flex-start\",\"kind\":null,\"name\":\"align_content\"},{\"default\":\"flex-start\",\"kind\":null,\"name\":\"align_items\"},{\"default\":\"row\",\"kind\":null,\"name\":\"flex_direction\"},{\"default\":\"wrap\",\"kind\":null,\"name\":\"flex_wrap\"},{\"default\":\"flex-start\",\"kind\":null,\"name\":\"justify_content\"}]},{\"extends\":null,\"module\":null,\"name\":\"GridStack1\",\"overrides\":[],\"properties\":[{\"default\":\"warn\",\"kind\":null,\"name\":\"mode\"},{\"default\":null,\"kind\":null,\"name\":\"ncols\"},{\"default\":null,\"kind\":null,\"name\":\"nrows\"},{\"default\":true,\"kind\":null,\"name\":\"allow_resize\"},{\"default\":true,\"kind\":null,\"name\":\"allow_drag\"},{\"default\":[],\"kind\":null,\"name\":\"state\"}]},{\"extends\":null,\"module\":null,\"name\":\"click1\",\"overrides\":[],\"properties\":[{\"default\":\"\",\"kind\":null,\"name\":\"terminal_output\"},{\"default\":\"\",\"kind\":null,\"name\":\"debug_name\"},{\"default\":0,\"kind\":null,\"name\":\"clears\"}]},{\"extends\":null,\"module\":null,\"name\":\"TemplateActions1\",\"overrides\":[],\"properties\":[{\"default\":0,\"kind\":null,\"name\":\"open_modal\"},{\"default\":0,\"kind\":null,\"name\":\"close_modal\"}]},{\"extends\":null,\"module\":null,\"name\":\"MaterialTemplateActions1\",\"overrides\":[],\"properties\":[{\"default\":0,\"kind\":null,\"name\":\"open_modal\"},{\"default\":0,\"kind\":null,\"name\":\"close_modal\"}]}],\"roots\":{\"references\":[{\"attributes\":{\"active\":0,\"button_type\":\"success\",\"labels\":[\"% Change in Labor Input\"],\"margin\":[5,10,5,10]},\"id\":\"2184\",\"type\":\"RadioButtonGroup\"},{\"attributes\":{\"children\":[{\"id\":\"2210\"}],\"margin\":[0,0,0,0],\"name\":\"Row04440\"},\"id\":\"2186\",\"type\":\"Row\"},{\"attributes\":{\"end\":2017,\"margin\":[5,10,5,10],\"start\":1991,\"step\":3,\"title\":\"year slider\",\"value\":2001},\"id\":\"2183\",\"type\":\"Slider\"},{\"attributes\":{\"indices\":[]},\"id\":\"2188\",\"type\":\"Selection\"},{\"attributes\":{\"margin\":[5,5,5,5],\"name\":\"HSpacer04457\",\"sizing_mode\":\"stretch_width\"},\"id\":\"2185\",\"type\":\"Spacer\"},{\"attributes\":{},\"id\":\"2212\",\"type\":\"UnionRenderers\"},{\"attributes\":{\"format\":\"0,0.0[00000]\",\"text_align\":\"right\"},\"id\":\"2205\",\"type\":\"NumberFormatter\"},{\"attributes\":{\"editor\":{\"id\":\"2191\"},\"field\":\"index\",\"formatter\":{\"id\":\"2189\"},\"title\":\"index\",\"width\":0},\"id\":\"2192\",\"type\":\"TableColumn\"},{\"attributes\":{},\"id\":\"2206\",\"type\":\"NumberEditor\"},{\"attributes\":{\"text_align\":\"right\"},\"id\":\"2200\",\"type\":\"NumberFormatter\"},{\"attributes\":{\"editor\":{\"id\":\"2196\"},\"field\":\"Country\",\"formatter\":{\"id\":\"2195\"},\"title\":\"Country\",\"width\":0},\"id\":\"2197\",\"type\":\"TableColumn\"},{\"attributes\":{\"client_comm_id\":\"1efda53d0c0a4883a90358a2a604718b\",\"comm_id\":\"a77cbb7214c64d3b8ac72276cf9b766a\",\"plot_id\":\"2179\"},\"id\":\"2218\",\"type\":\"panel.models.comm_manager.CommManager\"},{\"attributes\":{\"editor\":{\"id\":\"2206\"},\"field\":\"% Change in Labor Input\",\"formatter\":{\"id\":\"2205\"},\"title\":\"% Change in Labor Input\",\"width\":0},\"id\":\"2207\",\"type\":\"TableColumn\"},{\"attributes\":{\"children\":[{\"id\":\"2180\"}],\"margin\":[0,0,0,0],\"name\":\"Row04460\"},\"id\":\"2179\",\"type\":\"Row\"},{\"attributes\":{},\"id\":\"2195\",\"type\":\"StringFormatter\"},{\"attributes\":{},\"id\":\"2196\",\"type\":\"StringEditor\"},{\"attributes\":{\"text_align\":\"left\"},\"id\":\"2189\",\"type\":\"NumberFormatter\"},{\"attributes\":{\"children\":[{\"id\":\"2183\"},{\"id\":\"2184\"}],\"margin\":[0,0,0,0],\"name\":\"Column04435\"},\"id\":\"2182\",\"type\":\"Column\"},{\"attributes\":{\"columns\":[{\"id\":\"2192\"},{\"id\":\"2197\"},{\"id\":\"2202\"},{\"id\":\"2207\"}],\"configuration\":{\"columns\":[{\"field\":\"index\"},{\"field\":\"Country\"},{\"field\":\"Year\"},{\"field\":\"% Change in Labor Input\"}],\"dataTree\":false,\"selectable\":true},\"indexes\":[\"index\"],\"layout\":\"fit_data_table\",\"margin\":[5,10,5,10],\"max_page\":4,\"name\":\"\",\"page\":1,\"page_size\":10,\"pagination\":\"remote\",\"select_mode\":true,\"selectable_rows\":null,\"sizing_mode\":\"stretch_width\",\"source\":{\"id\":\"2187\"},\"styles\":{\"data\":{},\"id\":\"915612b56ba54b1fa71db4e0c0b0888a\"},\"subscribed_events\":[\"table-edit\",\"cell-click\"]},\"id\":\"2210\",\"type\":\"panel.models.tabulator.DataTabulator\"},{\"attributes\":{\"children\":[{\"id\":\"2182\"},{\"id\":\"2185\"}],\"margin\":[0,0,0,0],\"name\":\"Row04458\"},\"id\":\"2181\",\"type\":\"Row\"},{\"attributes\":{\"children\":[{\"id\":\"2181\"},{\"id\":\"2186\"}],\"margin\":[0,0,0,0],\"name\":\"Column04459\"},\"id\":\"2180\",\"type\":\"Column\"},{\"attributes\":{},\"id\":\"2191\",\"type\":\"CellEditor\"},{\"attributes\":{},\"id\":\"2201\",\"type\":\"IntEditor\"},{\"attributes\":{\"data\":{\"% Change in Labor Input\":{\"__ndarray__\":\"V1uilL+GEcDQtw+96AwYwHIwHzlnWiXAxfYMQQs6EcDB/gJ5Kv8FwIyZD8sQFvG/+msA1q1NFcBiPPfcEckQwJWmQ9Jn0gbAGcDanysYDMA=\",\"dtype\":\"float64\",\"order\":\"little\",\"shape\":[10]},\"Country\":[\"France\",\"Spain\",\"Ireland\",\"France\",\"Spain\",\"Ireland\",\"France\",\"Spain\",\"Ireland\",\"France\"],\"Year\":[1991,1991,1991,1992,1992,1992,1993,1993,1993,1994],\"index\":[0,1,2,3,4,5,6,7,8,9]},\"selected\":{\"id\":\"2188\"},\"selection_policy\":{\"id\":\"2212\"}},\"id\":\"2187\",\"type\":\"ColumnDataSource\"},{\"attributes\":{\"editor\":{\"id\":\"2201\"},\"field\":\"Year\",\"formatter\":{\"id\":\"2200\"},\"title\":\"Year\",\"width\":0},\"id\":\"2202\",\"type\":\"TableColumn\"}],\"root_ids\":[\"2179\",\"2218\"]},\"title\":\"Bokeh Application\",\"version\":\"2.4.2\"}};\n",
       "    var render_items = [{\"docid\":\"939722c7-4efd-46dd-a391-d13347b96975\",\"root_ids\":[\"2179\"],\"roots\":{\"2179\":\"c319166a-8119-484b-9637-0eaa1ba636a1\"}}];\n",
       "    root.Bokeh.embed.embed_items_notebook(docs_json, render_items);\n",
       "  }\n",
       "  if (root.Bokeh !== undefined && root.Bokeh.Panel !== undefined) {\n",
       "    embed_document(root);\n",
       "  } else {\n",
       "    var attempts = 0;\n",
       "    var timer = setInterval(function(root) {\n",
       "      if (root.Bokeh !== undefined && root.Bokeh.Panel !== undefined) {\n",
       "        clearInterval(timer);\n",
       "        embed_document(root);\n",
       "      } else if (document.readyState == \"complete\") {\n",
       "        attempts++;\n",
       "        if (attempts > 200) {\n",
       "          clearInterval(timer);\n",
       "          console.log(\"Bokeh: ERROR: Unable to run BokehJS code because BokehJS library is missing\");\n",
       "        }\n",
       "      }\n",
       "    }, 25, root)\n",
       "  }\n",
       "})(window);</script>"
      ],
      "text/plain": [
       "<hvplot.interactive.Interactive at 0x12470f17a00>"
      ]
     },
     "execution_count": 18,
     "metadata": {
      "application/vnd.holoviews_exec.v0+json": {
       "id": "2179"
      }
     },
     "output_type": "execute_result"
    }
   ],
   "source": [
    "#Labor Input Table\n",
    "litable = li_pipeline.pipe(pn.widgets.Tabulator, pagination='remote', page_size=10, sizing_mode='stretch_width')\n",
    "litable"
   ]
  },
  {
   "cell_type": "code",
   "execution_count": 19,
   "id": "0861f012-8cf8-4619-99b3-1ac20e7fc47e",
   "metadata": {},
   "outputs": [],
   "source": [
    "#ScatterPlot 1 Pipeline: Production against Nutrient Balance\n",
    "prodnbpipeline=(\n",
    "dd[(dd.Year == yearslider)]\n",
    "    .groupby(['Country', 'Year', '% Change in Nutrient Balance'])['% Change in Production'].mean()\n",
    "    .to_frame()\n",
    "    .reset_index()\n",
    "    .sort_values(by='Year')\n",
    "    .reset_index(drop=True)\n",
    ")"
   ]
  },
  {
   "cell_type": "code",
   "execution_count": 20,
   "id": "4417ae68-da02-47bd-bd22-49777b9c7741",
   "metadata": {},
   "outputs": [
    {
     "data": {},
     "metadata": {},
     "output_type": "display_data"
    },
    {
     "data": {},
     "metadata": {},
     "output_type": "display_data"
    },
    {
     "data": {
      "application/vnd.holoviews_exec.v0+json": "",
      "text/html": [
       "<div id='2229'>\n",
       "\n",
       "\n",
       "\n",
       "\n",
       "\n",
       "  <div class=\"bk-root\" id=\"eaf875ad-cd91-42b6-ac12-4bce9f5a9bd5\" data-root-id=\"2229\"></div>\n",
       "</div>\n",
       "<script type=\"application/javascript\">(function(root) {\n",
       "  function embed_document(root) {\n",
       "    var docs_json = {\"7f4dd612-044e-4604-82f3-5b7f1c30b3cb\":{\"defs\":[{\"extends\":null,\"module\":null,\"name\":\"ReactiveHTML1\",\"overrides\":[],\"properties\":[]},{\"extends\":null,\"module\":null,\"name\":\"FlexBox1\",\"overrides\":[],\"properties\":[{\"default\":\"flex-start\",\"kind\":null,\"name\":\"align_content\"},{\"default\":\"flex-start\",\"kind\":null,\"name\":\"align_items\"},{\"default\":\"row\",\"kind\":null,\"name\":\"flex_direction\"},{\"default\":\"wrap\",\"kind\":null,\"name\":\"flex_wrap\"},{\"default\":\"flex-start\",\"kind\":null,\"name\":\"justify_content\"}]},{\"extends\":null,\"module\":null,\"name\":\"GridStack1\",\"overrides\":[],\"properties\":[{\"default\":\"warn\",\"kind\":null,\"name\":\"mode\"},{\"default\":null,\"kind\":null,\"name\":\"ncols\"},{\"default\":null,\"kind\":null,\"name\":\"nrows\"},{\"default\":true,\"kind\":null,\"name\":\"allow_resize\"},{\"default\":true,\"kind\":null,\"name\":\"allow_drag\"},{\"default\":[],\"kind\":null,\"name\":\"state\"}]},{\"extends\":null,\"module\":null,\"name\":\"click1\",\"overrides\":[],\"properties\":[{\"default\":\"\",\"kind\":null,\"name\":\"terminal_output\"},{\"default\":\"\",\"kind\":null,\"name\":\"debug_name\"},{\"default\":0,\"kind\":null,\"name\":\"clears\"}]},{\"extends\":null,\"module\":null,\"name\":\"TemplateActions1\",\"overrides\":[],\"properties\":[{\"default\":0,\"kind\":null,\"name\":\"open_modal\"},{\"default\":0,\"kind\":null,\"name\":\"close_modal\"}]},{\"extends\":null,\"module\":null,\"name\":\"MaterialTemplateActions1\",\"overrides\":[],\"properties\":[{\"default\":0,\"kind\":null,\"name\":\"open_modal\"},{\"default\":0,\"kind\":null,\"name\":\"close_modal\"}]}],\"roots\":{\"references\":[{\"attributes\":{\"end\":6.374462659100001,\"reset_end\":6.374462659100001,\"reset_start\":1.1002636829,\"start\":1.1002636829,\"tags\":[[[\"% Change in Production\",\"% Change in Production\",null]]]},\"id\":\"2237\",\"type\":\"Range1d\"},{\"attributes\":{\"fill_alpha\":{\"value\":0.2},\"fill_color\":{\"value\":\"#30a2da\"},\"hatch_alpha\":{\"value\":0.2},\"hatch_color\":{\"value\":\"#30a2da\"},\"line_alpha\":{\"value\":0.2},\"line_color\":{\"value\":\"#30a2da\"},\"size\":{\"value\":4.47213595499958},\"x\":{\"field\":\"% Change in Nutrient Balance\"},\"y\":{\"field\":\"% Change in Production\"}},\"id\":\"2282\",\"type\":\"Scatter\"},{\"attributes\":{\"children\":[{\"id\":\"2230\"}],\"margin\":[0,0,0,0],\"name\":\"Row04893\"},\"id\":\"2229\",\"type\":\"Row\"},{\"attributes\":{\"fill_alpha\":{\"value\":0.7},\"fill_color\":{\"value\":\"#30a2da\"},\"hatch_alpha\":{\"value\":0.1},\"hatch_color\":{\"value\":\"#30a2da\"},\"line_alpha\":{\"value\":0.7},\"line_color\":{\"value\":\"#30a2da\"},\"size\":{\"value\":4.47213595499958},\"x\":{\"field\":\"% Change in Nutrient Balance\"},\"y\":{\"field\":\"% Change in Production\"}},\"id\":\"2281\",\"type\":\"Scatter\"},{\"attributes\":{\"callback\":null,\"renderers\":[{\"id\":\"2283\"},{\"id\":\"2292\"},{\"id\":\"2301\"}],\"tags\":[\"hv_created\"],\"tooltips\":[[\"Country\",\"@{Country}\"],[\"% Change in Nutrient Balance\",\"@{percent_Change_in_Nutrient_Balance}\"],[\"% Change in Production\",\"@{percent_Change_in_Production}\"]]},\"id\":\"2238\",\"type\":\"HoverTool\"},{\"attributes\":{\"angle\":{\"value\":0.0},\"fill_alpha\":{\"value\":0.7},\"fill_color\":{\"value\":\"#fc4f30\"},\"hatch_alpha\":{\"value\":0.7},\"hatch_color\":{\"value\":\"#fc4f30\"},\"hatch_scale\":{\"value\":12.0},\"hatch_weight\":{\"value\":1.0},\"line_alpha\":{\"value\":0.7},\"line_cap\":{\"value\":\"butt\"},\"line_color\":{\"value\":\"#fc4f30\"},\"line_dash\":{\"value\":[]},\"line_dash_offset\":{\"value\":0},\"line_join\":{\"value\":\"bevel\"},\"line_width\":{\"value\":1},\"marker\":{\"value\":\"circle\"},\"size\":{\"value\":4.47213595499958},\"x\":{\"field\":\"% Change in Nutrient Balance\"},\"y\":{\"field\":\"% Change in Production\"}},\"id\":\"2294\",\"type\":\"Scatter\"},{\"attributes\":{},\"id\":\"2315\",\"type\":\"UnionRenderers\"},{\"attributes\":{\"source\":{\"id\":\"2277\"}},\"id\":\"2284\",\"type\":\"CDSView\"},{\"attributes\":{},\"id\":\"2246\",\"type\":\"LinearScale\"},{\"attributes\":{\"angle\":{\"value\":0.0},\"fill_alpha\":{\"value\":0.7},\"fill_color\":{\"value\":\"#30a2da\"},\"hatch_alpha\":{\"value\":0.7},\"hatch_color\":{\"value\":\"#30a2da\"},\"hatch_scale\":{\"value\":12.0},\"hatch_weight\":{\"value\":1.0},\"line_alpha\":{\"value\":0.7},\"line_cap\":{\"value\":\"butt\"},\"line_color\":{\"value\":\"#30a2da\"},\"line_dash\":{\"value\":[]},\"line_dash_offset\":{\"value\":0},\"line_join\":{\"value\":\"bevel\"},\"line_width\":{\"value\":1},\"marker\":{\"value\":\"circle\"},\"size\":{\"value\":4.47213595499958},\"x\":{\"field\":\"% Change in Nutrient Balance\"},\"y\":{\"field\":\"% Change in Production\"}},\"id\":\"2285\",\"type\":\"Scatter\"},{\"attributes\":{},\"id\":\"2296\",\"type\":\"Selection\"},{\"attributes\":{\"end\":18.8031460674,\"reset_end\":18.8031460674,\"reset_start\":-12.434606741400001,\"start\":-12.434606741400001,\"tags\":[[[\"% Change in Nutrient Balance\",\"% Change in Nutrient Balance\",null]]]},\"id\":\"2236\",\"type\":\"Range1d\"},{\"attributes\":{\"fill_alpha\":{\"value\":0.7},\"fill_color\":{\"value\":\"#e5ae38\"},\"hatch_alpha\":{\"value\":0.1},\"hatch_color\":{\"value\":\"#e5ae38\"},\"line_alpha\":{\"value\":0.7},\"line_color\":{\"value\":\"#e5ae38\"},\"size\":{\"value\":4.47213595499958},\"x\":{\"field\":\"% Change in Nutrient Balance\"},\"y\":{\"field\":\"% Change in Production\"}},\"id\":\"2299\",\"type\":\"Scatter\"},{\"attributes\":{},\"id\":\"2287\",\"type\":\"Selection\"},{\"attributes\":{\"children\":[{\"id\":\"2241\"}],\"margin\":[0,0,0,0],\"name\":\"Row04742\"},\"id\":\"2235\",\"type\":\"Row\"},{\"attributes\":{\"coordinates\":null,\"group\":null,\"text\":\"A Scatter Plot of Production against Nutrient Balance\",\"text_color\":\"black\",\"text_font_size\":\"12pt\"},\"id\":\"2242\",\"type\":\"Title\"},{\"attributes\":{\"children\":[{\"id\":\"2232\"},{\"id\":\"2234\"}],\"margin\":[0,0,0,0],\"name\":\"Row04891\"},\"id\":\"2231\",\"type\":\"Row\"},{\"attributes\":{\"margin\":[5,5,5,5],\"name\":\"HSpacer04890\",\"sizing_mode\":\"stretch_width\"},\"id\":\"2234\",\"type\":\"Spacer\"},{\"attributes\":{},\"id\":\"2248\",\"type\":\"LinearScale\"},{\"attributes\":{\"coordinates\":null,\"data_source\":{\"id\":\"2295\"},\"glyph\":{\"id\":\"2298\"},\"group\":null,\"hover_glyph\":null,\"muted_glyph\":{\"id\":\"2300\"},\"nonselection_glyph\":{\"id\":\"2299\"},\"selection_glyph\":{\"id\":\"2303\"},\"view\":{\"id\":\"2302\"}},\"id\":\"2301\",\"type\":\"GlyphRenderer\"},{\"attributes\":{\"fill_alpha\":{\"value\":0.7},\"fill_color\":{\"value\":\"#fc4f30\"},\"hatch_alpha\":{\"value\":0.7},\"hatch_color\":{\"value\":\"#fc4f30\"},\"line_alpha\":{\"value\":0.7},\"line_color\":{\"value\":\"#fc4f30\"},\"size\":{\"value\":4.47213595499958},\"x\":{\"field\":\"% Change in Nutrient Balance\"},\"y\":{\"field\":\"% Change in Production\"}},\"id\":\"2289\",\"type\":\"Scatter\"},{\"attributes\":{},\"id\":\"2272\",\"type\":\"BasicTickFormatter\"},{\"attributes\":{\"children\":[{\"id\":\"2233\"}],\"margin\":[0,0,0,0],\"name\":\"Column04737\"},\"id\":\"2232\",\"type\":\"Column\"},{\"attributes\":{\"below\":[{\"id\":\"2250\"}],\"center\":[{\"id\":\"2253\"},{\"id\":\"2257\"}],\"height\":500,\"left\":[{\"id\":\"2254\"}],\"margin\":[5,5,5,5],\"min_border_bottom\":10,\"min_border_left\":10,\"min_border_right\":10,\"min_border_top\":10,\"renderers\":[{\"id\":\"2283\"},{\"id\":\"2292\"},{\"id\":\"2301\"}],\"sizing_mode\":\"fixed\",\"title\":{\"id\":\"2242\"},\"toolbar\":{\"id\":\"2264\"},\"width\":250,\"x_range\":{\"id\":\"2236\"},\"x_scale\":{\"id\":\"2246\"},\"y_range\":{\"id\":\"2237\"},\"y_scale\":{\"id\":\"2248\"}},\"id\":\"2241\",\"subtype\":\"Figure\",\"type\":\"Plot\"},{\"attributes\":{},\"id\":\"2311\",\"type\":\"UnionRenderers\"},{\"attributes\":{},\"id\":\"2273\",\"type\":\"AllLabels\"},{\"attributes\":{},\"id\":\"2276\",\"type\":\"AllLabels\"},{\"attributes\":{},\"id\":\"2275\",\"type\":\"BasicTickFormatter\"},{\"attributes\":{\"fill_alpha\":{\"value\":0.7},\"fill_color\":{\"value\":\"#fc4f30\"},\"hatch_alpha\":{\"value\":0.1},\"hatch_color\":{\"value\":\"#fc4f30\"},\"line_alpha\":{\"value\":0.7},\"line_color\":{\"value\":\"#fc4f30\"},\"size\":{\"value\":4.47213595499958},\"x\":{\"field\":\"% Change in Nutrient Balance\"},\"y\":{\"field\":\"% Change in Production\"}},\"id\":\"2290\",\"type\":\"Scatter\"},{\"attributes\":{},\"id\":\"2259\",\"type\":\"PanTool\"},{\"attributes\":{\"axis\":{\"id\":\"2250\"},\"coordinates\":null,\"grid_line_color\":null,\"group\":null,\"ticker\":null},\"id\":\"2253\",\"type\":\"Grid\"},{\"attributes\":{\"data\":{\"% Change in Nutrient Balance\":{\"__ndarray__\":\"MzMzMzMzMEA=\",\"dtype\":\"float64\",\"order\":\"little\",\"shape\":[1]},\"% Change in Production\":{\"__ndarray__\":\"cT0K16Nw9T8=\",\"dtype\":\"float64\",\"order\":\"little\",\"shape\":[1]},\"Country\":[\"France\"],\"percent_Change_in_Nutrient_Balance\":{\"__ndarray__\":\"MzMzMzMzMEA=\",\"dtype\":\"float64\",\"order\":\"little\",\"shape\":[1]},\"percent_Change_in_Production\":{\"__ndarray__\":\"cT0K16Nw9T8=\",\"dtype\":\"float64\",\"order\":\"little\",\"shape\":[1]}},\"selected\":{\"id\":\"2278\"},\"selection_policy\":{\"id\":\"2311\"}},\"id\":\"2277\",\"type\":\"ColumnDataSource\"},{\"attributes\":{\"coordinates\":null,\"data_source\":{\"id\":\"2286\"},\"glyph\":{\"id\":\"2289\"},\"group\":null,\"hover_glyph\":null,\"muted_glyph\":{\"id\":\"2291\"},\"nonselection_glyph\":{\"id\":\"2290\"},\"selection_glyph\":{\"id\":\"2294\"},\"view\":{\"id\":\"2293\"}},\"id\":\"2292\",\"type\":\"GlyphRenderer\"},{\"attributes\":{\"axis_label\":\"% Change in Nutrient Balance\",\"coordinates\":null,\"formatter\":{\"id\":\"2272\"},\"group\":null,\"major_label_policy\":{\"id\":\"2273\"},\"ticker\":{\"id\":\"2251\"}},\"id\":\"2250\",\"type\":\"LinearAxis\"},{\"attributes\":{\"fill_alpha\":{\"value\":0.7},\"fill_color\":{\"value\":\"#e5ae38\"},\"hatch_alpha\":{\"value\":0.7},\"hatch_color\":{\"value\":\"#e5ae38\"},\"line_alpha\":{\"value\":0.7},\"line_color\":{\"value\":\"#e5ae38\"},\"size\":{\"value\":4.47213595499958},\"x\":{\"field\":\"% Change in Nutrient Balance\"},\"y\":{\"field\":\"% Change in Production\"}},\"id\":\"2298\",\"type\":\"Scatter\"},{\"attributes\":{\"children\":[{\"id\":\"2231\"},{\"id\":\"2235\"}],\"margin\":[0,0,0,0],\"name\":\"Column04892\"},\"id\":\"2230\",\"type\":\"Column\"},{\"attributes\":{},\"id\":\"2278\",\"type\":\"Selection\"},{\"attributes\":{},\"id\":\"2255\",\"type\":\"BasicTicker\"},{\"attributes\":{},\"id\":\"2251\",\"type\":\"BasicTicker\"},{\"attributes\":{\"axis_label\":\"% Change in Production\",\"coordinates\":null,\"formatter\":{\"id\":\"2275\"},\"group\":null,\"major_label_policy\":{\"id\":\"2276\"},\"ticker\":{\"id\":\"2255\"}},\"id\":\"2254\",\"type\":\"LinearAxis\"},{\"attributes\":{},\"id\":\"2260\",\"type\":\"WheelZoomTool\"},{\"attributes\":{},\"id\":\"2313\",\"type\":\"UnionRenderers\"},{\"attributes\":{\"axis\":{\"id\":\"2254\"},\"coordinates\":null,\"dimension\":1,\"grid_line_color\":null,\"group\":null,\"ticker\":null},\"id\":\"2257\",\"type\":\"Grid\"},{\"attributes\":{\"fill_alpha\":{\"value\":0.2},\"fill_color\":{\"value\":\"#e5ae38\"},\"hatch_alpha\":{\"value\":0.2},\"hatch_color\":{\"value\":\"#e5ae38\"},\"line_alpha\":{\"value\":0.2},\"line_color\":{\"value\":\"#e5ae38\"},\"size\":{\"value\":4.47213595499958},\"x\":{\"field\":\"% Change in Nutrient Balance\"},\"y\":{\"field\":\"% Change in Production\"}},\"id\":\"2300\",\"type\":\"Scatter\"},{\"attributes\":{},\"id\":\"2258\",\"type\":\"SaveTool\"},{\"attributes\":{\"end\":2017,\"margin\":[5,10,5,10],\"start\":1991,\"step\":3,\"title\":\"year slider\",\"value\":2001},\"id\":\"2233\",\"type\":\"Slider\"},{\"attributes\":{\"fill_alpha\":{\"value\":0.7},\"fill_color\":{\"value\":\"#30a2da\"},\"hatch_alpha\":{\"value\":0.7},\"hatch_color\":{\"value\":\"#30a2da\"},\"line_alpha\":{\"value\":0.7},\"line_color\":{\"value\":\"#30a2da\"},\"size\":{\"value\":4.47213595499958},\"x\":{\"field\":\"% Change in Nutrient Balance\"},\"y\":{\"field\":\"% Change in Production\"}},\"id\":\"2280\",\"type\":\"Scatter\"},{\"attributes\":{\"source\":{\"id\":\"2295\"}},\"id\":\"2302\",\"type\":\"CDSView\"},{\"attributes\":{\"overlay\":{\"id\":\"2263\"}},\"id\":\"2261\",\"type\":\"BoxZoomTool\"},{\"attributes\":{\"coordinates\":null,\"data_source\":{\"id\":\"2277\"},\"glyph\":{\"id\":\"2280\"},\"group\":null,\"hover_glyph\":null,\"muted_glyph\":{\"id\":\"2282\"},\"nonselection_glyph\":{\"id\":\"2281\"},\"selection_glyph\":{\"id\":\"2285\"},\"view\":{\"id\":\"2284\"}},\"id\":\"2283\",\"type\":\"GlyphRenderer\"},{\"attributes\":{\"data\":{\"% Change in Nutrient Balance\":{\"__ndarray__\":\"8Qh7zm7h5z8=\",\"dtype\":\"float64\",\"order\":\"little\",\"shape\":[1]},\"% Change in Production\":{\"__ndarray__\":\"6DLDs/WJGEA=\",\"dtype\":\"float64\",\"order\":\"little\",\"shape\":[1]},\"Country\":[\"Spain\"],\"percent_Change_in_Nutrient_Balance\":{\"__ndarray__\":\"8Qh7zm7h5z8=\",\"dtype\":\"float64\",\"order\":\"little\",\"shape\":[1]},\"percent_Change_in_Production\":{\"__ndarray__\":\"6DLDs/WJGEA=\",\"dtype\":\"float64\",\"order\":\"little\",\"shape\":[1]}},\"selected\":{\"id\":\"2296\"},\"selection_policy\":{\"id\":\"2315\"}},\"id\":\"2295\",\"type\":\"ColumnDataSource\"},{\"attributes\":{},\"id\":\"2262\",\"type\":\"ResetTool\"},{\"attributes\":{\"client_comm_id\":\"79c91c113b83454d94a7d431159962af\",\"comm_id\":\"5fd5b7de5cc74fa08882d447538d324c\",\"plot_id\":\"2229\"},\"id\":\"2472\",\"type\":\"panel.models.comm_manager.CommManager\"},{\"attributes\":{\"bottom_units\":\"screen\",\"coordinates\":null,\"fill_alpha\":0.5,\"fill_color\":\"lightgrey\",\"group\":null,\"left_units\":\"screen\",\"level\":\"overlay\",\"line_alpha\":1.0,\"line_color\":\"black\",\"line_dash\":[4,4],\"line_width\":2,\"right_units\":\"screen\",\"syncable\":false,\"top_units\":\"screen\"},\"id\":\"2263\",\"type\":\"BoxAnnotation\"},{\"attributes\":{\"angle\":{\"value\":0.0},\"fill_alpha\":{\"value\":0.7},\"fill_color\":{\"value\":\"#e5ae38\"},\"hatch_alpha\":{\"value\":0.7},\"hatch_color\":{\"value\":\"#e5ae38\"},\"hatch_scale\":{\"value\":12.0},\"hatch_weight\":{\"value\":1.0},\"line_alpha\":{\"value\":0.7},\"line_cap\":{\"value\":\"butt\"},\"line_color\":{\"value\":\"#e5ae38\"},\"line_dash\":{\"value\":[]},\"line_dash_offset\":{\"value\":0},\"line_join\":{\"value\":\"bevel\"},\"line_width\":{\"value\":1},\"marker\":{\"value\":\"circle\"},\"size\":{\"value\":4.47213595499958},\"x\":{\"field\":\"% Change in Nutrient Balance\"},\"y\":{\"field\":\"% Change in Production\"}},\"id\":\"2303\",\"type\":\"Scatter\"},{\"attributes\":{\"tools\":[{\"id\":\"2238\"},{\"id\":\"2258\"},{\"id\":\"2259\"},{\"id\":\"2260\"},{\"id\":\"2261\"},{\"id\":\"2262\"}]},\"id\":\"2264\",\"type\":\"Toolbar\"},{\"attributes\":{\"data\":{\"% Change in Nutrient Balance\":{\"__ndarray__\":\"8XqlNrWpI8A=\",\"dtype\":\"float64\",\"order\":\"little\",\"shape\":[1]},\"% Change in Production\":{\"__ndarray__\":\"wmItbj6+9T8=\",\"dtype\":\"float64\",\"order\":\"little\",\"shape\":[1]},\"Country\":[\"Ireland\"],\"percent_Change_in_Nutrient_Balance\":{\"__ndarray__\":\"8XqlNrWpI8A=\",\"dtype\":\"float64\",\"order\":\"little\",\"shape\":[1]},\"percent_Change_in_Production\":{\"__ndarray__\":\"wmItbj6+9T8=\",\"dtype\":\"float64\",\"order\":\"little\",\"shape\":[1]}},\"selected\":{\"id\":\"2287\"},\"selection_policy\":{\"id\":\"2313\"}},\"id\":\"2286\",\"type\":\"ColumnDataSource\"},{\"attributes\":{\"source\":{\"id\":\"2286\"}},\"id\":\"2293\",\"type\":\"CDSView\"},{\"attributes\":{\"fill_alpha\":{\"value\":0.2},\"fill_color\":{\"value\":\"#fc4f30\"},\"hatch_alpha\":{\"value\":0.2},\"hatch_color\":{\"value\":\"#fc4f30\"},\"line_alpha\":{\"value\":0.2},\"line_color\":{\"value\":\"#fc4f30\"},\"size\":{\"value\":4.47213595499958},\"x\":{\"field\":\"% Change in Nutrient Balance\"},\"y\":{\"field\":\"% Change in Production\"}},\"id\":\"2291\",\"type\":\"Scatter\"}],\"root_ids\":[\"2229\",\"2472\"]},\"title\":\"Bokeh Application\",\"version\":\"2.4.2\"}};\n",
       "    var render_items = [{\"docid\":\"7f4dd612-044e-4604-82f3-5b7f1c30b3cb\",\"root_ids\":[\"2229\"],\"roots\":{\"2229\":\"eaf875ad-cd91-42b6-ac12-4bce9f5a9bd5\"}}];\n",
       "    root.Bokeh.embed.embed_items_notebook(docs_json, render_items);\n",
       "  }\n",
       "  if (root.Bokeh !== undefined && root.Bokeh.Panel !== undefined) {\n",
       "    embed_document(root);\n",
       "  } else {\n",
       "    var attempts = 0;\n",
       "    var timer = setInterval(function(root) {\n",
       "      if (root.Bokeh !== undefined && root.Bokeh.Panel !== undefined) {\n",
       "        clearInterval(timer);\n",
       "        embed_document(root);\n",
       "      } else if (document.readyState == \"complete\") {\n",
       "        attempts++;\n",
       "        if (attempts > 200) {\n",
       "          clearInterval(timer);\n",
       "          console.log(\"Bokeh: ERROR: Unable to run BokehJS code because BokehJS library is missing\");\n",
       "        }\n",
       "      }\n",
       "    }, 25, root)\n",
       "  }\n",
       "})(window);</script>"
      ],
      "text/plain": [
       "<hvplot.interactive.Interactive at 0x12470f555b0>"
      ]
     },
     "execution_count": 20,
     "metadata": {
      "application/vnd.holoviews_exec.v0+json": {
       "id": "2229"
      }
     },
     "output_type": "execute_result"
    }
   ],
   "source": [
    "prodnbscatterplot = prodnbpipeline.hvplot(x='% Change in Nutrient Balance', y='% Change in Production',by='Country', alpha=0.7, size=20, kind=\"scatter\",\n",
    "                                          title=\"A Scatter Plot of Production against Nutrient Balance\", legend=False, height=500, width=250)\n",
    "prodnbscatterplot"
   ]
  },
  {
   "cell_type": "code",
   "execution_count": 21,
   "id": "81c01bc4-bfd6-43dd-a49b-215cceec740b",
   "metadata": {},
   "outputs": [],
   "source": [
    "#ScatterPlot 1 Pipeline: Production against Labor Input\n",
    "prodlipipeline=(\n",
    "dd[(dd.Year == yearslider)]\n",
    "    .groupby(['Country', 'Year', '% Change in Labor Input'])['% Change in Production'].mean()\n",
    "    .to_frame()\n",
    "    .reset_index()\n",
    "    .sort_values(by='Year')\n",
    "    .reset_index(drop=True)\n",
    ")"
   ]
  },
  {
   "cell_type": "code",
   "execution_count": 22,
   "id": "f05664e6-63cc-4136-afe1-942c68368179",
   "metadata": {},
   "outputs": [
    {
     "data": {},
     "metadata": {},
     "output_type": "display_data"
    },
    {
     "data": {},
     "metadata": {},
     "output_type": "display_data"
    },
    {
     "data": {
      "application/vnd.holoviews_exec.v0+json": "",
      "text/html": [
       "<div id='2543'>\n",
       "\n",
       "\n",
       "\n",
       "\n",
       "\n",
       "  <div class=\"bk-root\" id=\"f5d80348-bb8a-4d6d-a33a-134c2cabd83f\" data-root-id=\"2543\"></div>\n",
       "</div>\n",
       "<script type=\"application/javascript\">(function(root) {\n",
       "  function embed_document(root) {\n",
       "    var docs_json = {\"fb5fb343-7700-4760-a188-c0f0229ca5bd\":{\"defs\":[{\"extends\":null,\"module\":null,\"name\":\"ReactiveHTML1\",\"overrides\":[],\"properties\":[]},{\"extends\":null,\"module\":null,\"name\":\"FlexBox1\",\"overrides\":[],\"properties\":[{\"default\":\"flex-start\",\"kind\":null,\"name\":\"align_content\"},{\"default\":\"flex-start\",\"kind\":null,\"name\":\"align_items\"},{\"default\":\"row\",\"kind\":null,\"name\":\"flex_direction\"},{\"default\":\"wrap\",\"kind\":null,\"name\":\"flex_wrap\"},{\"default\":\"flex-start\",\"kind\":null,\"name\":\"justify_content\"}]},{\"extends\":null,\"module\":null,\"name\":\"GridStack1\",\"overrides\":[],\"properties\":[{\"default\":\"warn\",\"kind\":null,\"name\":\"mode\"},{\"default\":null,\"kind\":null,\"name\":\"ncols\"},{\"default\":null,\"kind\":null,\"name\":\"nrows\"},{\"default\":true,\"kind\":null,\"name\":\"allow_resize\"},{\"default\":true,\"kind\":null,\"name\":\"allow_drag\"},{\"default\":[],\"kind\":null,\"name\":\"state\"}]},{\"extends\":null,\"module\":null,\"name\":\"click1\",\"overrides\":[],\"properties\":[{\"default\":\"\",\"kind\":null,\"name\":\"terminal_output\"},{\"default\":\"\",\"kind\":null,\"name\":\"debug_name\"},{\"default\":0,\"kind\":null,\"name\":\"clears\"}]},{\"extends\":null,\"module\":null,\"name\":\"TemplateActions1\",\"overrides\":[],\"properties\":[{\"default\":0,\"kind\":null,\"name\":\"open_modal\"},{\"default\":0,\"kind\":null,\"name\":\"close_modal\"}]},{\"extends\":null,\"module\":null,\"name\":\"MaterialTemplateActions1\",\"overrides\":[],\"properties\":[{\"default\":0,\"kind\":null,\"name\":\"open_modal\"},{\"default\":0,\"kind\":null,\"name\":\"close_modal\"}]}],\"roots\":{\"references\":[{\"attributes\":{\"callback\":null,\"renderers\":[{\"id\":\"2597\"},{\"id\":\"2606\"},{\"id\":\"2615\"}],\"tags\":[\"hv_created\"],\"tooltips\":[[\"Country\",\"@{Country}\"],[\"% Change in Labor Input\",\"@{percent_Change_in_Labor_Input}\"],[\"% Change in Production\",\"@{percent_Change_in_Production}\"]]},\"id\":\"2552\",\"type\":\"HoverTool\"},{\"attributes\":{\"data\":{\"% Change in Labor Input\":{\"__ndarray__\":\"6gBJVzd+z78=\",\"dtype\":\"float64\",\"order\":\"little\",\"shape\":[1]},\"% Change in Production\":{\"__ndarray__\":\"6DLDs/WJGEA=\",\"dtype\":\"float64\",\"order\":\"little\",\"shape\":[1]},\"Country\":[\"Spain\"],\"percent_Change_in_Labor_Input\":{\"__ndarray__\":\"6gBJVzd+z78=\",\"dtype\":\"float64\",\"order\":\"little\",\"shape\":[1]},\"percent_Change_in_Production\":{\"__ndarray__\":\"6DLDs/WJGEA=\",\"dtype\":\"float64\",\"order\":\"little\",\"shape\":[1]}},\"selected\":{\"id\":\"2610\"},\"selection_policy\":{\"id\":\"2629\"}},\"id\":\"2609\",\"type\":\"ColumnDataSource\"},{\"attributes\":{\"children\":[{\"id\":\"2545\"},{\"id\":\"2549\"}],\"margin\":[0,0,0,0],\"name\":\"Column05800\"},\"id\":\"2544\",\"type\":\"Column\"},{\"attributes\":{\"fill_alpha\":{\"value\":0.2},\"fill_color\":{\"value\":\"#30a2da\"},\"hatch_alpha\":{\"value\":0.2},\"hatch_color\":{\"value\":\"#30a2da\"},\"line_alpha\":{\"value\":0.2},\"line_color\":{\"value\":\"#30a2da\"},\"size\":{\"value\":4.47213595499958},\"x\":{\"field\":\"% Change in Labor Input\"},\"y\":{\"field\":\"% Change in Production\"}},\"id\":\"2596\",\"type\":\"Scatter\"},{\"attributes\":{\"angle\":{\"value\":0.0},\"fill_alpha\":{\"value\":0.7},\"fill_color\":{\"value\":\"#30a2da\"},\"hatch_alpha\":{\"value\":0.7},\"hatch_color\":{\"value\":\"#30a2da\"},\"hatch_scale\":{\"value\":12.0},\"hatch_weight\":{\"value\":1.0},\"line_alpha\":{\"value\":0.7},\"line_cap\":{\"value\":\"butt\"},\"line_color\":{\"value\":\"#30a2da\"},\"line_dash\":{\"value\":[]},\"line_dash_offset\":{\"value\":0},\"line_join\":{\"value\":\"bevel\"},\"line_width\":{\"value\":1},\"marker\":{\"value\":\"circle\"},\"size\":{\"value\":4.47213595499958},\"x\":{\"field\":\"% Change in Labor Input\"},\"y\":{\"field\":\"% Change in Production\"}},\"id\":\"2599\",\"type\":\"Scatter\"},{\"attributes\":{\"fill_alpha\":{\"value\":0.7},\"fill_color\":{\"value\":\"#e5ae38\"},\"hatch_alpha\":{\"value\":0.1},\"hatch_color\":{\"value\":\"#e5ae38\"},\"line_alpha\":{\"value\":0.7},\"line_color\":{\"value\":\"#e5ae38\"},\"size\":{\"value\":4.47213595499958},\"x\":{\"field\":\"% Change in Labor Input\"},\"y\":{\"field\":\"% Change in Production\"}},\"id\":\"2613\",\"type\":\"Scatter\"},{\"attributes\":{\"children\":[{\"id\":\"2546\"},{\"id\":\"2548\"}],\"margin\":[0,0,0,0],\"name\":\"Row05799\"},\"id\":\"2545\",\"type\":\"Row\"},{\"attributes\":{},\"id\":\"2625\",\"type\":\"UnionRenderers\"},{\"attributes\":{},\"id\":\"2562\",\"type\":\"LinearScale\"},{\"attributes\":{\"coordinates\":null,\"data_source\":{\"id\":\"2591\"},\"glyph\":{\"id\":\"2594\"},\"group\":null,\"hover_glyph\":null,\"muted_glyph\":{\"id\":\"2596\"},\"nonselection_glyph\":{\"id\":\"2595\"},\"selection_glyph\":{\"id\":\"2599\"},\"view\":{\"id\":\"2598\"}},\"id\":\"2597\",\"type\":\"GlyphRenderer\"},{\"attributes\":{\"coordinates\":null,\"data_source\":{\"id\":\"2609\"},\"glyph\":{\"id\":\"2612\"},\"group\":null,\"hover_glyph\":null,\"muted_glyph\":{\"id\":\"2614\"},\"nonselection_glyph\":{\"id\":\"2613\"},\"selection_glyph\":{\"id\":\"2617\"},\"view\":{\"id\":\"2616\"}},\"id\":\"2615\",\"type\":\"GlyphRenderer\"},{\"attributes\":{},\"id\":\"2589\",\"type\":\"BasicTickFormatter\"},{\"attributes\":{\"margin\":[5,5,5,5],\"name\":\"HSpacer05798\",\"sizing_mode\":\"stretch_width\"},\"id\":\"2548\",\"type\":\"Spacer\"},{\"attributes\":{\"children\":[{\"id\":\"2547\"}],\"margin\":[0,0,0,0],\"name\":\"Column05645\"},\"id\":\"2546\",\"type\":\"Column\"},{\"attributes\":{},\"id\":\"2560\",\"type\":\"LinearScale\"},{\"attributes\":{\"coordinates\":null,\"group\":null,\"text\":\"A Scatter Plot of Production against Labor Input\",\"text_color\":\"black\",\"text_font_size\":\"12pt\"},\"id\":\"2556\",\"type\":\"Title\"},{\"attributes\":{},\"id\":\"2601\",\"type\":\"Selection\"},{\"attributes\":{\"fill_alpha\":{\"value\":0.7},\"fill_color\":{\"value\":\"#fc4f30\"},\"hatch_alpha\":{\"value\":0.1},\"hatch_color\":{\"value\":\"#fc4f30\"},\"line_alpha\":{\"value\":0.7},\"line_color\":{\"value\":\"#fc4f30\"},\"size\":{\"value\":4.47213595499958},\"x\":{\"field\":\"% Change in Labor Input\"},\"y\":{\"field\":\"% Change in Production\"}},\"id\":\"2604\",\"type\":\"Scatter\"},{\"attributes\":{\"data\":{\"% Change in Labor Input\":{\"__ndarray__\":\"83LYfcduJcA=\",\"dtype\":\"float64\",\"order\":\"little\",\"shape\":[1]},\"% Change in Production\":{\"__ndarray__\":\"wmItbj6+9T8=\",\"dtype\":\"float64\",\"order\":\"little\",\"shape\":[1]},\"Country\":[\"Ireland\"],\"percent_Change_in_Labor_Input\":{\"__ndarray__\":\"83LYfcduJcA=\",\"dtype\":\"float64\",\"order\":\"little\",\"shape\":[1]},\"percent_Change_in_Production\":{\"__ndarray__\":\"wmItbj6+9T8=\",\"dtype\":\"float64\",\"order\":\"little\",\"shape\":[1]}},\"selected\":{\"id\":\"2601\"},\"selection_policy\":{\"id\":\"2627\"}},\"id\":\"2600\",\"type\":\"ColumnDataSource\"},{\"attributes\":{},\"id\":\"2573\",\"type\":\"PanTool\"},{\"attributes\":{\"axis\":{\"id\":\"2564\"},\"coordinates\":null,\"grid_line_color\":null,\"group\":null,\"ticker\":null},\"id\":\"2567\",\"type\":\"Grid\"},{\"attributes\":{\"coordinates\":null,\"data_source\":{\"id\":\"2600\"},\"glyph\":{\"id\":\"2603\"},\"group\":null,\"hover_glyph\":null,\"muted_glyph\":{\"id\":\"2605\"},\"nonselection_glyph\":{\"id\":\"2604\"},\"selection_glyph\":{\"id\":\"2608\"},\"view\":{\"id\":\"2607\"}},\"id\":\"2606\",\"type\":\"GlyphRenderer\"},{\"attributes\":{\"axis_label\":\"% Change in Labor Input\",\"coordinates\":null,\"formatter\":{\"id\":\"2586\"},\"group\":null,\"major_label_policy\":{\"id\":\"2587\"},\"ticker\":{\"id\":\"2565\"}},\"id\":\"2564\",\"type\":\"LinearAxis\"},{\"attributes\":{},\"id\":\"2629\",\"type\":\"UnionRenderers\"},{\"attributes\":{},\"id\":\"2569\",\"type\":\"BasicTicker\"},{\"attributes\":{},\"id\":\"2590\",\"type\":\"AllLabels\"},{\"attributes\":{},\"id\":\"2565\",\"type\":\"BasicTicker\"},{\"attributes\":{\"axis_label\":\"% Change in Production\",\"coordinates\":null,\"formatter\":{\"id\":\"2589\"},\"group\":null,\"major_label_policy\":{\"id\":\"2590\"},\"ticker\":{\"id\":\"2569\"}},\"id\":\"2568\",\"type\":\"LinearAxis\"},{\"attributes\":{},\"id\":\"2574\",\"type\":\"WheelZoomTool\"},{\"attributes\":{},\"id\":\"2627\",\"type\":\"UnionRenderers\"},{\"attributes\":{},\"id\":\"2587\",\"type\":\"AllLabels\"},{\"attributes\":{\"axis\":{\"id\":\"2568\"},\"coordinates\":null,\"dimension\":1,\"grid_line_color\":null,\"group\":null,\"ticker\":null},\"id\":\"2571\",\"type\":\"Grid\"},{\"attributes\":{\"fill_alpha\":{\"value\":0.7},\"fill_color\":{\"value\":\"#30a2da\"},\"hatch_alpha\":{\"value\":0.1},\"hatch_color\":{\"value\":\"#30a2da\"},\"line_alpha\":{\"value\":0.7},\"line_color\":{\"value\":\"#30a2da\"},\"size\":{\"value\":4.47213595499958},\"x\":{\"field\":\"% Change in Labor Input\"},\"y\":{\"field\":\"% Change in Production\"}},\"id\":\"2595\",\"type\":\"Scatter\"},{\"attributes\":{\"fill_alpha\":{\"value\":0.7},\"fill_color\":{\"value\":\"#e5ae38\"},\"hatch_alpha\":{\"value\":0.7},\"hatch_color\":{\"value\":\"#e5ae38\"},\"line_alpha\":{\"value\":0.7},\"line_color\":{\"value\":\"#e5ae38\"},\"size\":{\"value\":4.47213595499958},\"x\":{\"field\":\"% Change in Labor Input\"},\"y\":{\"field\":\"% Change in Production\"}},\"id\":\"2612\",\"type\":\"Scatter\"},{\"attributes\":{},\"id\":\"2572\",\"type\":\"SaveTool\"},{\"attributes\":{\"end\":2017,\"margin\":[5,10,5,10],\"start\":1991,\"step\":3,\"title\":\"year slider\",\"value\":2001},\"id\":\"2547\",\"type\":\"Slider\"},{\"attributes\":{\"fill_alpha\":{\"value\":0.2},\"fill_color\":{\"value\":\"#e5ae38\"},\"hatch_alpha\":{\"value\":0.2},\"hatch_color\":{\"value\":\"#e5ae38\"},\"line_alpha\":{\"value\":0.2},\"line_color\":{\"value\":\"#e5ae38\"},\"size\":{\"value\":4.47213595499958},\"x\":{\"field\":\"% Change in Labor Input\"},\"y\":{\"field\":\"% Change in Production\"}},\"id\":\"2614\",\"type\":\"Scatter\"},{\"attributes\":{\"source\":{\"id\":\"2591\"}},\"id\":\"2598\",\"type\":\"CDSView\"},{\"attributes\":{\"source\":{\"id\":\"2609\"}},\"id\":\"2616\",\"type\":\"CDSView\"},{\"attributes\":{\"overlay\":{\"id\":\"2577\"}},\"id\":\"2575\",\"type\":\"BoxZoomTool\"},{\"attributes\":{\"tools\":[{\"id\":\"2552\"},{\"id\":\"2572\"},{\"id\":\"2573\"},{\"id\":\"2574\"},{\"id\":\"2575\"},{\"id\":\"2576\"}]},\"id\":\"2578\",\"type\":\"Toolbar\"},{\"attributes\":{},\"id\":\"2576\",\"type\":\"ResetTool\"},{\"attributes\":{\"data\":{\"% Change in Labor Input\":{\"__ndarray__\":\"WjUrgs8UBcA=\",\"dtype\":\"float64\",\"order\":\"little\",\"shape\":[1]},\"% Change in Production\":{\"__ndarray__\":\"cT0K16Nw9T8=\",\"dtype\":\"float64\",\"order\":\"little\",\"shape\":[1]},\"Country\":[\"France\"],\"percent_Change_in_Labor_Input\":{\"__ndarray__\":\"WjUrgs8UBcA=\",\"dtype\":\"float64\",\"order\":\"little\",\"shape\":[1]},\"percent_Change_in_Production\":{\"__ndarray__\":\"cT0K16Nw9T8=\",\"dtype\":\"float64\",\"order\":\"little\",\"shape\":[1]}},\"selected\":{\"id\":\"2592\"},\"selection_policy\":{\"id\":\"2625\"}},\"id\":\"2591\",\"type\":\"ColumnDataSource\"},{\"attributes\":{\"bottom_units\":\"screen\",\"coordinates\":null,\"fill_alpha\":0.5,\"fill_color\":\"lightgrey\",\"group\":null,\"left_units\":\"screen\",\"level\":\"overlay\",\"line_alpha\":1.0,\"line_color\":\"black\",\"line_dash\":[4,4],\"line_width\":2,\"right_units\":\"screen\",\"syncable\":false,\"top_units\":\"screen\"},\"id\":\"2577\",\"type\":\"BoxAnnotation\"},{\"attributes\":{\"end\":6.374462659100001,\"reset_end\":6.374462659100001,\"reset_start\":1.1002636829,\"start\":1.1002636829,\"tags\":[[[\"% Change in Production\",\"% Change in Production\",null]]]},\"id\":\"2551\",\"type\":\"Range1d\"},{\"attributes\":{\"angle\":{\"value\":0.0},\"fill_alpha\":{\"value\":0.7},\"fill_color\":{\"value\":\"#e5ae38\"},\"hatch_alpha\":{\"value\":0.7},\"hatch_color\":{\"value\":\"#e5ae38\"},\"hatch_scale\":{\"value\":12.0},\"hatch_weight\":{\"value\":1.0},\"line_alpha\":{\"value\":0.7},\"line_cap\":{\"value\":\"butt\"},\"line_color\":{\"value\":\"#e5ae38\"},\"line_dash\":{\"value\":[]},\"line_dash_offset\":{\"value\":0},\"line_join\":{\"value\":\"bevel\"},\"line_width\":{\"value\":1},\"marker\":{\"value\":\"circle\"},\"size\":{\"value\":4.47213595499958},\"x\":{\"field\":\"% Change in Labor Input\"},\"y\":{\"field\":\"% Change in Production\"}},\"id\":\"2617\",\"type\":\"Scatter\"},{\"attributes\":{\"fill_alpha\":{\"value\":0.7},\"fill_color\":{\"value\":\"#fc4f30\"},\"hatch_alpha\":{\"value\":0.7},\"hatch_color\":{\"value\":\"#fc4f30\"},\"line_alpha\":{\"value\":0.7},\"line_color\":{\"value\":\"#fc4f30\"},\"size\":{\"value\":4.47213595499958},\"x\":{\"field\":\"% Change in Labor Input\"},\"y\":{\"field\":\"% Change in Production\"}},\"id\":\"2603\",\"type\":\"Scatter\"},{\"attributes\":{\"fill_alpha\":{\"value\":0.7},\"fill_color\":{\"value\":\"#30a2da\"},\"hatch_alpha\":{\"value\":0.7},\"hatch_color\":{\"value\":\"#30a2da\"},\"line_alpha\":{\"value\":0.7},\"line_color\":{\"value\":\"#30a2da\"},\"size\":{\"value\":4.47213595499958},\"x\":{\"field\":\"% Change in Labor Input\"},\"y\":{\"field\":\"% Change in Production\"}},\"id\":\"2594\",\"type\":\"Scatter\"},{\"attributes\":{\"angle\":{\"value\":0.0},\"fill_alpha\":{\"value\":0.7},\"fill_color\":{\"value\":\"#fc4f30\"},\"hatch_alpha\":{\"value\":0.7},\"hatch_color\":{\"value\":\"#fc4f30\"},\"hatch_scale\":{\"value\":12.0},\"hatch_weight\":{\"value\":1.0},\"line_alpha\":{\"value\":0.7},\"line_cap\":{\"value\":\"butt\"},\"line_color\":{\"value\":\"#fc4f30\"},\"line_dash\":{\"value\":[]},\"line_dash_offset\":{\"value\":0},\"line_join\":{\"value\":\"bevel\"},\"line_width\":{\"value\":1},\"marker\":{\"value\":\"circle\"},\"size\":{\"value\":4.47213595499958},\"x\":{\"field\":\"% Change in Labor Input\"},\"y\":{\"field\":\"% Change in Production\"}},\"id\":\"2608\",\"type\":\"Scatter\"},{\"attributes\":{\"fill_alpha\":{\"value\":0.2},\"fill_color\":{\"value\":\"#fc4f30\"},\"hatch_alpha\":{\"value\":0.2},\"hatch_color\":{\"value\":\"#fc4f30\"},\"line_alpha\":{\"value\":0.2},\"line_color\":{\"value\":\"#fc4f30\"},\"size\":{\"value\":4.47213595499958},\"x\":{\"field\":\"% Change in Labor Input\"},\"y\":{\"field\":\"% Change in Production\"}},\"id\":\"2605\",\"type\":\"Scatter\"},{\"attributes\":{\"client_comm_id\":\"1655851f0970463fb0dc3685338f1595\",\"comm_id\":\"eaaee5680a8d4e72817c438f4f0cc6fb\",\"plot_id\":\"2543\"},\"id\":\"2786\",\"type\":\"panel.models.comm_manager.CommManager\"},{\"attributes\":{\"source\":{\"id\":\"2600\"}},\"id\":\"2607\",\"type\":\"CDSView\"},{\"attributes\":{\"below\":[{\"id\":\"2564\"}],\"center\":[{\"id\":\"2567\"},{\"id\":\"2571\"}],\"height\":500,\"left\":[{\"id\":\"2568\"}],\"margin\":[5,5,5,5],\"min_border_bottom\":10,\"min_border_left\":10,\"min_border_right\":10,\"min_border_top\":10,\"renderers\":[{\"id\":\"2597\"},{\"id\":\"2606\"},{\"id\":\"2615\"}],\"sizing_mode\":\"fixed\",\"title\":{\"id\":\"2556\"},\"toolbar\":{\"id\":\"2578\"},\"width\":250,\"x_range\":{\"id\":\"2550\"},\"x_scale\":{\"id\":\"2560\"},\"y_range\":{\"id\":\"2551\"},\"y_scale\":{\"id\":\"2562\"}},\"id\":\"2555\",\"subtype\":\"Figure\",\"type\":\"Plot\"},{\"attributes\":{\"children\":[{\"id\":\"2544\"}],\"margin\":[0,0,0,0],\"name\":\"Row05801\"},\"id\":\"2543\",\"type\":\"Row\"},{\"attributes\":{},\"id\":\"2586\",\"type\":\"BasicTickFormatter\"},{\"attributes\":{},\"id\":\"2610\",\"type\":\"Selection\"},{\"attributes\":{\"end\":0.8009933318,\"reset_end\":0.8009933318,\"reset_start\":-11.7633983938,\"start\":-11.7633983938,\"tags\":[[[\"% Change in Labor Input\",\"% Change in Labor Input\",null]]]},\"id\":\"2550\",\"type\":\"Range1d\"},{\"attributes\":{},\"id\":\"2592\",\"type\":\"Selection\"},{\"attributes\":{\"children\":[{\"id\":\"2555\"}],\"margin\":[0,0,0,0],\"name\":\"Row05650\"},\"id\":\"2549\",\"type\":\"Row\"}],\"root_ids\":[\"2543\",\"2786\"]},\"title\":\"Bokeh Application\",\"version\":\"2.4.2\"}};\n",
       "    var render_items = [{\"docid\":\"fb5fb343-7700-4760-a188-c0f0229ca5bd\",\"root_ids\":[\"2543\"],\"roots\":{\"2543\":\"f5d80348-bb8a-4d6d-a33a-134c2cabd83f\"}}];\n",
       "    root.Bokeh.embed.embed_items_notebook(docs_json, render_items);\n",
       "  }\n",
       "  if (root.Bokeh !== undefined && root.Bokeh.Panel !== undefined) {\n",
       "    embed_document(root);\n",
       "  } else {\n",
       "    var attempts = 0;\n",
       "    var timer = setInterval(function(root) {\n",
       "      if (root.Bokeh !== undefined && root.Bokeh.Panel !== undefined) {\n",
       "        clearInterval(timer);\n",
       "        embed_document(root);\n",
       "      } else if (document.readyState == \"complete\") {\n",
       "        attempts++;\n",
       "        if (attempts > 200) {\n",
       "          clearInterval(timer);\n",
       "          console.log(\"Bokeh: ERROR: Unable to run BokehJS code because BokehJS library is missing\");\n",
       "        }\n",
       "      }\n",
       "    }, 25, root)\n",
       "  }\n",
       "})(window);</script>"
      ],
      "text/plain": [
       "<hvplot.interactive.Interactive at 0x12470f55430>"
      ]
     },
     "execution_count": 22,
     "metadata": {
      "application/vnd.holoviews_exec.v0+json": {
       "id": "2543"
      }
     },
     "output_type": "execute_result"
    }
   ],
   "source": [
    "prodliscatterplot = prodlipipeline.hvplot(x='% Change in Labor Input', y='% Change in Production', title=\"A Scatter Plot of Production against Labor Input\", by='Country', size=20, kind=\"scatter\", alpha=0.7, legend=False, height=500, width=250)\n",
    "prodliscatterplot"
   ]
  },
  {
   "cell_type": "code",
   "execution_count": 23,
   "id": "c4758f30-4efa-4ca4-8dd1-6a9d04030612",
   "metadata": {},
   "outputs": [
    {
     "name": "stdout",
     "output_type": "stream",
     "text": [
      "Launching server at http://localhost:63667\n"
     ]
    }
   ],
   "source": [
    "#Creatig the Dashboard\n",
    "template=pn.template.FastListTemplate(\n",
    "title='Impacts of Nutrient Balance and Labor Input on Agricultural Production: Case of Ireland, Spain and France',\n",
    "    sidebar=\n",
    "    [pn.pane.Markdown(\"# Impacts of Nutrient Balance and Labor Input on Agricultural Production: Case of Ireland, Spain and France\"),\n",
    "    pn.pane.Markdown(\"### After Conducting Regression data analysis on EU agricultural sector in data for Ireland, Spain, and France, Nutrient Balance and Labor Input were founf to have insginificant impact of Agricultural Production\"),\n",
    "    pn.pane.PNG('datajm.png', sizing_mode='scale_both'),\n",
    "    pn.pane.Markdown(\"# settings\"), yearslider],\n",
    "main= [pn.Row(pn.Column(yaxis_prod, Prodplot.panel(width=500),margin=(0,25)),\n",
    "        prod_table.panel(width=500)),\n",
    "        pn.Row(pn.Column(yaxis_nb, nbplot.panel(width=500),margin=(0,25)),\n",
    "       nbtable.panel(width=500)),\n",
    "       pn.Row(pn.Column(yaxis_li, liplot.panel(width=500),margin=(0,25)),\n",
    "        litable.panel(width=500)),\n",
    "       pn.Row(pn.Column(prodnbscatterplot.panel(width=500), margin=(0,25)), \n",
    "              pn.Column(prodliscatterplot.panel(width=500), margin=(0,25)))],\n",
    "  accent_base_color=\"#88d8b0\",\n",
    "header_background=\"#88d8b0\",)\n",
    "template.show()\n",
    "template.servable();\n"
   ]
  },
  {
   "cell_type": "code",
   "execution_count": 24,
   "id": "6f738c73-2a61-40f0-9527-2498a8fced4b",
   "metadata": {},
   "outputs": [],
   "source": [
    "#WSentment Analysis\n"
   ]
  },
  {
   "cell_type": "code",
   "execution_count": 25,
   "id": "4993a966-09a3-443b-a1da-aa192a376989",
   "metadata": {},
   "outputs": [],
   "source": [
    "tweet = \"@eu Nutrient Balance and Labor Input do not significantly impact Agricultural Prosuction in EU\"\n"
   ]
  },
  {
   "cell_type": "code",
   "execution_count": 26,
   "id": "766b3be0-fa1b-47e9-b546-773d32ff72da",
   "metadata": {},
   "outputs": [],
   "source": [
    "#process tweer\n",
    "tweet_words =[]\n",
    "for word in tweet.split('spaces'):\n",
    "    if word.startswith('@') and len(word)> 1:\n",
    "        word ='@user'\n",
    "tweet_proc =''.join(tweet_words)\n",
    "        "
   ]
  },
  {
   "cell_type": "code",
   "execution_count": 27,
   "id": "7bb42c68-dc8c-4ce7-bd4f-2b84a5f714f6",
   "metadata": {},
   "outputs": [],
   "source": [
    "#tweet processing\n",
    "tweet_proc = \" \".join(tweet_words)\n"
   ]
  },
  {
   "cell_type": "code",
   "execution_count": 28,
   "id": "1b8f80d4-a979-4ef1-8a3e-085ecbf801c7",
   "metadata": {},
   "outputs": [
    {
     "data": {
      "application/vnd.jupyter.widget-view+json": {
       "model_id": "d578746c5c764190b52def9cb64f62b5",
       "version_major": 2,
       "version_minor": 0
      },
      "text/plain": [
       "Downloading:   0%|          | 0.00/747 [00:00<?, ?B/s]"
      ]
     },
     "metadata": {},
     "output_type": "display_data"
    },
    {
     "name": "stderr",
     "output_type": "stream",
     "text": [
      "C:\\Users\\jmdjo\\anaconda3\\lib\\site-packages\\huggingface_hub\\file_download.py:127: UserWarning: `huggingface_hub` cache-system uses symlinks by default to efficiently store duplicated files but your machine does not support them in C:\\Users\\jmdjo\\.cache\\huggingface\\hub. Caching files will still work but in a degraded version that might require more space on your disk. This warning can be disabled by setting the `HF_HUB_DISABLE_SYMLINKS_WARNING` environment variable. For more details, see https://huggingface.co/docs/huggingface_hub/how-to-cache#limitations.\n",
      "To support symlinks on Windows, you either need to activate Developer Mode or to run Python as an administrator. In order to see activate developer mode, see this article: https://docs.microsoft.com/en-us/windows/apps/get-started/enable-your-device-for-development\n",
      "  warnings.warn(message)\n"
     ]
    },
    {
     "data": {
      "application/vnd.jupyter.widget-view+json": {
       "model_id": "83d729d31a9642bc87b44b79d293521a",
       "version_major": 2,
       "version_minor": 0
      },
      "text/plain": [
       "Downloading:   0%|          | 0.00/499M [00:00<?, ?B/s]"
      ]
     },
     "metadata": {},
     "output_type": "display_data"
    },
    {
     "data": {
      "application/vnd.jupyter.widget-view+json": {
       "model_id": "3b42b1c27a664efc8c1589ba50804587",
       "version_major": 2,
       "version_minor": 0
      },
      "text/plain": [
       "Downloading:   0%|          | 0.00/899k [00:00<?, ?B/s]"
      ]
     },
     "metadata": {},
     "output_type": "display_data"
    },
    {
     "data": {
      "application/vnd.jupyter.widget-view+json": {
       "model_id": "79617bc611fa4158903002b6c65f5f1e",
       "version_major": 2,
       "version_minor": 0
      },
      "text/plain": [
       "Downloading:   0%|          | 0.00/456k [00:00<?, ?B/s]"
      ]
     },
     "metadata": {},
     "output_type": "display_data"
    },
    {
     "data": {
      "application/vnd.jupyter.widget-view+json": {
       "model_id": "8aeede92d3e3416abb641df41b3b60c9",
       "version_major": 2,
       "version_minor": 0
      },
      "text/plain": [
       "Downloading:   0%|          | 0.00/150 [00:00<?, ?B/s]"
      ]
     },
     "metadata": {},
     "output_type": "display_data"
    }
   ],
   "source": [
    "#Load model and Tokenizer\n",
    "roberta = \"cardiffnlp/twitter-roberta-base-sentiment\"\n",
    "model = AutoModelForSequenceClassification. from_pretrained(roberta)\n",
    "tokenizer=AutoTokenizer.from_pretrained(roberta)\n",
    "lebles= ['Negative', 'Neutral','Positive']"
   ]
  },
  {
   "cell_type": "code",
   "execution_count": 29,
   "id": "9467c641-1f02-4c31-98de-71e374f30028",
   "metadata": {},
   "outputs": [],
   "source": [
    "#Sentiment Analysis\n",
    "encoded_tweet =tokenizer(tweet_proc, return_tensors='pt')\n",
    "output = model(**encoded_tweet)\n",
    "scores =output[0][0].detach().numpy()\n",
    "scores = softmax(scores)"
   ]
  },
  {
   "cell_type": "code",
   "execution_count": 30,
   "id": "b99692f6-1273-4d2c-8e4d-24dc12696b8c",
   "metadata": {},
   "outputs": [],
   "source": [
    "output = model(encoded_tweet['input_ids'], encoded_tweet['attention_mask'])\n"
   ]
  },
  {
   "cell_type": "code",
   "execution_count": 31,
   "id": "7b199388-1666-4091-a65c-42e185a1ef09",
   "metadata": {},
   "outputs": [
    {
     "name": "stdout",
     "output_type": "stream",
     "text": [
      "SequenceClassifierOutput(loss=None, logits=tensor([[-0.1757,  0.3822, -0.0584]], grad_fn=<AddmmBackward0>), hidden_states=None, attentions=None)\n"
     ]
    }
   ],
   "source": [
    "print(output)"
   ]
  },
  {
   "cell_type": "code",
   "execution_count": 32,
   "id": "4e8e1977-af01-4216-95fd-1861784ddbad",
   "metadata": {},
   "outputs": [
    {
     "name": "stdout",
     "output_type": "stream",
     "text": [
      "[0.2582943 0.4512725 0.2904333]\n"
     ]
    }
   ],
   "source": [
    "print(scores)"
   ]
  },
  {
   "cell_type": "raw",
   "id": "5a736355",
   "metadata": {},
   "source": [
    "THE End."
   ]
  }
 ],
 "metadata": {
  "kernelspec": {
   "display_name": "Python 3 (ipykernel)",
   "language": "python",
   "name": "python3"
  },
  "language_info": {
   "codemirror_mode": {
    "name": "ipython",
    "version": 3
   },
   "file_extension": ".py",
   "mimetype": "text/x-python",
   "name": "python",
   "nbconvert_exporter": "python",
   "pygments_lexer": "ipython3",
   "version": "3.9.12"
  }
 },
 "nbformat": 4,
 "nbformat_minor": 5
}
