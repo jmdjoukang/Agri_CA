{
 "cells": [
  {
   "cell_type": "code",
   "execution_count": 55,
   "id": "625fbc5b-5f16-43c0-9359-25a487a0f338",
   "metadata": {},
   "outputs": [
    {
     "name": "stderr",
     "output_type": "stream",
     "text": [
      "WARNING:param.panel_extension: A HoloViz extension was loaded previously. This means the extension is already initialized and the following Panel extensions could not be properly loaded: ['tabulator']. If you are loading custom extensions with pn.extension(...) ensure that this is called before any other HoloViz extension such as hvPlot or HoloViews.\n"
     ]
    }
   ],
   "source": [
    "import pandas as pd\n",
    "import hvplot.pandas\n",
    "import panel as pn\n",
    "import numpy as np\n",
    "pn.extension('tabulator')\n",
    "from transformers import AutoModelForSequenceClassification\n",
    "from transformers import  AutoTokenizer\n",
    "from scipy.special import softmax\n",
    "import torch"
   ]
  },
  {
   "cell_type": "code",
   "execution_count": 56,
   "id": "f91061e9-0f7b-4e8b-8b0d-7e559d6c71a9",
   "metadata": {},
   "outputs": [],
   "source": [
    "data = pd.read_csv('datajm_3.csv')"
   ]
  },
  {
   "cell_type": "code",
   "execution_count": 57,
   "id": "0a124fb3-e899-42a9-a61a-e2eceec62807",
   "metadata": {},
   "outputs": [
    {
     "data": {
      "text/html": [
       "<div>\n",
       "<style scoped>\n",
       "    .dataframe tbody tr th:only-of-type {\n",
       "        vertical-align: middle;\n",
       "    }\n",
       "\n",
       "    .dataframe tbody tr th {\n",
       "        vertical-align: top;\n",
       "    }\n",
       "\n",
       "    .dataframe thead th {\n",
       "        text-align: right;\n",
       "    }\n",
       "</style>\n",
       "<table border=\"1\" class=\"dataframe\">\n",
       "  <thead>\n",
       "    <tr style=\"text-align: right;\">\n",
       "      <th></th>\n",
       "      <th>Year</th>\n",
       "      <th>Country</th>\n",
       "      <th>% Change in Labor Input</th>\n",
       "      <th>% Change in Nutrient Balance</th>\n",
       "      <th>% Change in Production</th>\n",
       "    </tr>\n",
       "  </thead>\n",
       "  <tbody>\n",
       "    <tr>\n",
       "      <th>0</th>\n",
       "      <td>1991</td>\n",
       "      <td>Ireland</td>\n",
       "      <td>-10.676569</td>\n",
       "      <td>0.000000</td>\n",
       "      <td>-3.959618</td>\n",
       "    </tr>\n",
       "    <tr>\n",
       "      <th>1</th>\n",
       "      <td>1992</td>\n",
       "      <td>Ireland</td>\n",
       "      <td>-1.067887</td>\n",
       "      <td>0.000000</td>\n",
       "      <td>8.603737</td>\n",
       "    </tr>\n",
       "    <tr>\n",
       "      <th>2</th>\n",
       "      <td>1993</td>\n",
       "      <td>Ireland</td>\n",
       "      <td>-2.852737</td>\n",
       "      <td>13.207547</td>\n",
       "      <td>-0.447907</td>\n",
       "    </tr>\n",
       "    <tr>\n",
       "      <th>3</th>\n",
       "      <td>1994</td>\n",
       "      <td>Ireland</td>\n",
       "      <td>-3.055556</td>\n",
       "      <td>11.666667</td>\n",
       "      <td>3.585840</td>\n",
       "    </tr>\n",
       "    <tr>\n",
       "      <th>4</th>\n",
       "      <td>1995</td>\n",
       "      <td>Ireland</td>\n",
       "      <td>-5.157593</td>\n",
       "      <td>7.462687</td>\n",
       "      <td>1.590633</td>\n",
       "    </tr>\n",
       "    <tr>\n",
       "      <th>...</th>\n",
       "      <td>...</td>\n",
       "      <td>...</td>\n",
       "      <td>...</td>\n",
       "      <td>...</td>\n",
       "      <td>...</td>\n",
       "    </tr>\n",
       "    <tr>\n",
       "      <th>76</th>\n",
       "      <td>2013</td>\n",
       "      <td>France</td>\n",
       "      <td>-0.913474</td>\n",
       "      <td>26.380000</td>\n",
       "      <td>-3.130000</td>\n",
       "    </tr>\n",
       "    <tr>\n",
       "      <th>77</th>\n",
       "      <td>2014</td>\n",
       "      <td>France</td>\n",
       "      <td>-0.832266</td>\n",
       "      <td>-0.340000</td>\n",
       "      <td>1.550000</td>\n",
       "    </tr>\n",
       "    <tr>\n",
       "      <th>78</th>\n",
       "      <td>2015</td>\n",
       "      <td>France</td>\n",
       "      <td>-1.665591</td>\n",
       "      <td>26.010000</td>\n",
       "      <td>-0.160000</td>\n",
       "    </tr>\n",
       "    <tr>\n",
       "      <th>79</th>\n",
       "      <td>2016</td>\n",
       "      <td>France</td>\n",
       "      <td>-1.141019</td>\n",
       "      <td>27.350000</td>\n",
       "      <td>-6.280000</td>\n",
       "    </tr>\n",
       "    <tr>\n",
       "      <th>80</th>\n",
       "      <td>2017</td>\n",
       "      <td>France</td>\n",
       "      <td>-0.962930</td>\n",
       "      <td>-29.050000</td>\n",
       "      <td>3.780000</td>\n",
       "    </tr>\n",
       "  </tbody>\n",
       "</table>\n",
       "<p>81 rows × 5 columns</p>\n",
       "</div>"
      ],
      "text/plain": [
       "    Year  Country  % Change in Labor Input  % Change in Nutrient Balance  \\\n",
       "0   1991  Ireland               -10.676569                      0.000000   \n",
       "1   1992  Ireland                -1.067887                      0.000000   \n",
       "2   1993  Ireland                -2.852737                     13.207547   \n",
       "3   1994  Ireland                -3.055556                     11.666667   \n",
       "4   1995  Ireland                -5.157593                      7.462687   \n",
       "..   ...      ...                      ...                           ...   \n",
       "76  2013   France                -0.913474                     26.380000   \n",
       "77  2014   France                -0.832266                     -0.340000   \n",
       "78  2015   France                -1.665591                     26.010000   \n",
       "79  2016   France                -1.141019                     27.350000   \n",
       "80  2017   France                -0.962930                    -29.050000   \n",
       "\n",
       "    % Change in Production  \n",
       "0                -3.959618  \n",
       "1                 8.603737  \n",
       "2                -0.447907  \n",
       "3                 3.585840  \n",
       "4                 1.590633  \n",
       "..                     ...  \n",
       "76               -3.130000  \n",
       "77                1.550000  \n",
       "78               -0.160000  \n",
       "79               -6.280000  \n",
       "80                3.780000  \n",
       "\n",
       "[81 rows x 5 columns]"
      ]
     },
     "execution_count": 57,
     "metadata": {},
     "output_type": "execute_result"
    }
   ],
   "source": [
    "data"
   ]
  },
  {
   "cell_type": "code",
   "execution_count": 58,
   "id": "364c95bd-2644-4a95-ab98-8cedafc960da",
   "metadata": {},
   "outputs": [],
   "source": [
    "#Making DataFrame Pipeline Interactive \n",
    "dd =data.interactive()"
   ]
  },
  {
   "cell_type": "code",
   "execution_count": 59,
   "id": "28c7eff6-ac49-4251-aa27-52f10439091d",
   "metadata": {},
   "outputs": [],
   "source": [
    "#Define Panel Widgets\n",
    "yearslider = pn.widgets.IntSlider (name ='year slider', start=1991, end=2017, step=3,value=2001)"
   ]
  },
  {
   "cell_type": "code",
   "execution_count": 60,
   "id": "2e918cdb-822e-4e05-8bf6-2dd01a26b0f5",
   "metadata": {},
   "outputs": [],
   "source": [
    "#Radio button for Production\n",
    "yaxis_prod = pn.widgets.RadioButtonGroup(\n",
    "name= 'Y Axis',\n",
    "    options=['% Change in Production',],\n",
    "    button_type='success'\n",
    ")"
   ]
  },
  {
   "cell_type": "code",
   "execution_count": 61,
   "id": "e0305848-fe9c-492f-9659-9a9f1abc9a68",
   "metadata": {},
   "outputs": [],
   "source": [
    "#Production Pipeline\n",
    "prod_pipeline =(\n",
    "dd[(dd.Year <=yearslider)]\n",
    "    .groupby (['Country', 'Year']) [yaxis_prod].mean()\n",
    "    .to_frame()\n",
    "    .reset_index()\n",
    "    .sort_values(by='Year')\n",
    "    .reset_index(drop=True)\n",
    ")"
   ]
  },
  {
   "cell_type": "code",
   "execution_count": 62,
   "id": "8d3d3dca-7122-4e12-ae75-9387b5ac4c31",
   "metadata": {},
   "outputs": [
    {
     "data": {},
     "metadata": {},
     "output_type": "display_data"
    },
    {
     "data": {},
     "metadata": {},
     "output_type": "display_data"
    },
    {
     "data": {
      "application/vnd.holoviews_exec.v0+json": "",
      "text/html": [
       "<div id='126155'>\n",
       "\n",
       "\n",
       "\n",
       "\n",
       "\n",
       "  <div class=\"bk-root\" id=\"06904f7a-ac6b-44ad-8add-a5434b6dce07\" data-root-id=\"126155\"></div>\n",
       "</div>\n",
       "<script type=\"application/javascript\">(function(root) {\n",
       "  function embed_document(root) {\n",
       "    var docs_json = {\"c22f206f-4675-4df9-8b8c-92d04537261e\":{\"defs\":[{\"extends\":null,\"module\":null,\"name\":\"ReactiveHTML1\",\"overrides\":[],\"properties\":[]},{\"extends\":null,\"module\":null,\"name\":\"FlexBox1\",\"overrides\":[],\"properties\":[{\"default\":\"flex-start\",\"kind\":null,\"name\":\"align_content\"},{\"default\":\"flex-start\",\"kind\":null,\"name\":\"align_items\"},{\"default\":\"row\",\"kind\":null,\"name\":\"flex_direction\"},{\"default\":\"wrap\",\"kind\":null,\"name\":\"flex_wrap\"},{\"default\":\"flex-start\",\"kind\":null,\"name\":\"justify_content\"}]},{\"extends\":null,\"module\":null,\"name\":\"GridStack1\",\"overrides\":[],\"properties\":[{\"default\":\"warn\",\"kind\":null,\"name\":\"mode\"},{\"default\":null,\"kind\":null,\"name\":\"ncols\"},{\"default\":null,\"kind\":null,\"name\":\"nrows\"},{\"default\":true,\"kind\":null,\"name\":\"allow_resize\"},{\"default\":true,\"kind\":null,\"name\":\"allow_drag\"},{\"default\":[],\"kind\":null,\"name\":\"state\"}]},{\"extends\":null,\"module\":null,\"name\":\"click1\",\"overrides\":[],\"properties\":[{\"default\":\"\",\"kind\":null,\"name\":\"terminal_output\"},{\"default\":\"\",\"kind\":null,\"name\":\"debug_name\"},{\"default\":0,\"kind\":null,\"name\":\"clears\"}]},{\"extends\":null,\"module\":null,\"name\":\"TemplateActions1\",\"overrides\":[],\"properties\":[{\"default\":0,\"kind\":null,\"name\":\"open_modal\"},{\"default\":0,\"kind\":null,\"name\":\"close_modal\"}]},{\"extends\":null,\"module\":null,\"name\":\"MaterialTemplateActions1\",\"overrides\":[],\"properties\":[{\"default\":0,\"kind\":null,\"name\":\"open_modal\"},{\"default\":0,\"kind\":null,\"name\":\"close_modal\"}]}],\"roots\":{\"references\":[{\"attributes\":{\"line_alpha\":0.1,\"line_color\":\"#30a2da\",\"line_width\":2,\"x\":{\"field\":\"Year\"},\"y\":{\"field\":\"% Change in Production\"}},\"id\":\"126207\",\"type\":\"Line\"},{\"attributes\":{},\"id\":\"126172\",\"type\":\"LinearScale\"},{\"attributes\":{},\"id\":\"126174\",\"type\":\"LinearScale\"},{\"attributes\":{\"line_alpha\":0.1,\"line_color\":\"#fc4f30\",\"line_width\":2,\"x\":{\"field\":\"Year\"},\"y\":{\"field\":\"% Change in Production\"}},\"id\":\"126228\",\"type\":\"Line\"},{\"attributes\":{\"line_alpha\":0.2,\"line_color\":\"#30a2da\",\"line_width\":2,\"x\":{\"field\":\"Year\"},\"y\":{\"field\":\"% Change in Production\"}},\"id\":\"126208\",\"type\":\"Line\"},{\"attributes\":{\"data\":{\"% Change in Production\":{\"__ndarray__\":\"mpmZmZmZFMC4HoXrUbgIQEjhehSuR/W/16NwPQrXFECkcD0K16MTQNejcD0K1wdAexSuR+F6hL9I4XoUrkf9PwAAAAAAAPi/exSuR+F6/D9xPQrXo3D1Pw==\",\"dtype\":\"float64\",\"order\":\"little\",\"shape\":[11]},\"Country\":[\"France\",\"France\",\"France\",\"France\",\"France\",\"France\",\"France\",\"France\",\"France\",\"France\",\"France\"],\"Year\":[1991,1992,1993,1994,1995,1996,1997,1998,1999,2000,2001],\"percent_Change_in_Production\":{\"__ndarray__\":\"mpmZmZmZFMC4HoXrUbgIQEjhehSuR/W/16NwPQrXFECkcD0K16MTQNejcD0K1wdAexSuR+F6hL9I4XoUrkf9PwAAAAAAAPi/exSuR+F6/D9xPQrXo3D1Pw==\",\"dtype\":\"float64\",\"order\":\"little\",\"shape\":[11]}},\"selected\":{\"id\":\"126204\"},\"selection_policy\":{\"id\":\"126218\"}},\"id\":\"126203\",\"type\":\"ColumnDataSource\"},{\"attributes\":{\"children\":[{\"id\":\"126159\"},{\"id\":\"126160\"}],\"margin\":[0,0,0,0],\"name\":\"Column206631\"},\"id\":\"126158\",\"type\":\"Column\"},{\"attributes\":{},\"id\":\"126186\",\"type\":\"WheelZoomTool\"},{\"attributes\":{\"line_color\":\"#e5ae38\",\"line_width\":2,\"x\":{\"field\":\"Year\"},\"y\":{\"field\":\"% Change in Production\"}},\"id\":\"126249\",\"type\":\"Line\"},{\"attributes\":{\"end\":15.6625967695,\"reset_end\":15.6625967695,\"reset_start\":-10.620938664499999,\"start\":-10.620938664499999,\"tags\":[[[\"% Change in Production\",\"% Change in Production\",null]]]},\"id\":\"126163\",\"type\":\"Range1d\"},{\"attributes\":{\"line_color\":\"#30a2da\",\"line_width\":2,\"x\":{\"field\":\"Year\"},\"y\":{\"field\":\"% Change in Production\"}},\"id\":\"126223\",\"type\":\"Line\"},{\"attributes\":{\"line_alpha\":0.2,\"line_color\":\"#fc4f30\",\"line_width\":2,\"x\":{\"field\":\"Year\"},\"y\":{\"field\":\"% Change in Production\"}},\"id\":\"126229\",\"type\":\"Line\"},{\"attributes\":{\"coordinates\":null,\"data_source\":{\"id\":\"126224\"},\"glyph\":{\"id\":\"126227\"},\"group\":null,\"hover_glyph\":null,\"muted_glyph\":{\"id\":\"126229\"},\"nonselection_glyph\":{\"id\":\"126228\"},\"selection_glyph\":{\"id\":\"126245\"},\"view\":{\"id\":\"126231\"}},\"id\":\"126230\",\"type\":\"GlyphRenderer\"},{\"attributes\":{},\"id\":\"126198\",\"type\":\"BasicTickFormatter\"},{\"attributes\":{},\"id\":\"126201\",\"type\":\"BasicTickFormatter\"},{\"attributes\":{},\"id\":\"126241\",\"type\":\"UnionRenderers\"},{\"attributes\":{\"line_color\":\"#e5ae38\",\"line_width\":2,\"x\":{\"field\":\"Year\"},\"y\":{\"field\":\"% Change in Production\"}},\"id\":\"126269\",\"type\":\"Line\"},{\"attributes\":{},\"id\":\"126225\",\"type\":\"Selection\"},{\"attributes\":{\"end\":2001.0,\"reset_end\":2001.0,\"reset_start\":1991.0,\"start\":1991.0,\"tags\":[[[\"Year\",\"Year\",null]]]},\"id\":\"126162\",\"type\":\"Range1d\"},{\"attributes\":{\"source\":{\"id\":\"126224\"}},\"id\":\"126231\",\"type\":\"CDSView\"},{\"attributes\":{\"coordinates\":null,\"data_source\":{\"id\":\"126203\"},\"glyph\":{\"id\":\"126206\"},\"group\":null,\"hover_glyph\":null,\"muted_glyph\":{\"id\":\"126208\"},\"nonselection_glyph\":{\"id\":\"126207\"},\"selection_glyph\":{\"id\":\"126223\"},\"view\":{\"id\":\"126210\"}},\"id\":\"126209\",\"type\":\"GlyphRenderer\"},{\"attributes\":{\"coordinates\":null,\"data_source\":{\"id\":\"126246\"},\"glyph\":{\"id\":\"126249\"},\"group\":null,\"hover_glyph\":null,\"muted_glyph\":{\"id\":\"126251\"},\"nonselection_glyph\":{\"id\":\"126250\"},\"selection_glyph\":{\"id\":\"126269\"},\"view\":{\"id\":\"126253\"}},\"id\":\"126252\",\"type\":\"GlyphRenderer\"},{\"attributes\":{\"client_comm_id\":\"8ec82991d6dd4fbda8ccad6e17e72fd4\",\"comm_id\":\"9ec1b1ec1ab544968723e9ba0850d0b7\",\"plot_id\":\"126155\"},\"id\":\"126438\",\"type\":\"panel.models.comm_manager.CommManager\"},{\"attributes\":{\"data\":{\"% Change in Production\":{\"__ndarray__\":\"kfGkXEytD8AztacPHTUhQODZlcuDqty/UH3W68yvDEDWL24pO3P5P74s3qkv4hFAx37ryjRI3b8kTkUvRQMNwJeKn1zZCQrADkRqaHCmF0DCYi1uPr71Pw==\",\"dtype\":\"float64\",\"order\":\"little\",\"shape\":[11]},\"Country\":[\"Ireland\",\"Ireland\",\"Ireland\",\"Ireland\",\"Ireland\",\"Ireland\",\"Ireland\",\"Ireland\",\"Ireland\",\"Ireland\",\"Ireland\"],\"Year\":[1991,1992,1993,1994,1995,1996,1997,1998,1999,2000,2001],\"percent_Change_in_Production\":{\"__ndarray__\":\"kfGkXEytD8AztacPHTUhQODZlcuDqty/UH3W68yvDEDWL24pO3P5P74s3qkv4hFAx37ryjRI3b8kTkUvRQMNwJeKn1zZCQrADkRqaHCmF0DCYi1uPr71Pw==\",\"dtype\":\"float64\",\"order\":\"little\",\"shape\":[11]}},\"selected\":{\"id\":\"126225\"},\"selection_policy\":{\"id\":\"126241\"}},\"id\":\"126224\",\"type\":\"ColumnDataSource\"},{\"attributes\":{\"end\":2017,\"margin\":[5,10,5,10],\"start\":1991,\"step\":3,\"title\":\"year slider\",\"value\":2001},\"id\":\"126159\",\"type\":\"Slider\"},{\"attributes\":{\"source\":{\"id\":\"126246\"}},\"id\":\"126253\",\"type\":\"CDSView\"},{\"attributes\":{\"axis\":{\"id\":\"126176\"},\"coordinates\":null,\"grid_line_color\":null,\"group\":null,\"ticker\":null},\"id\":\"126179\",\"type\":\"Grid\"},{\"attributes\":{\"children\":[{\"id\":\"126158\"},{\"id\":\"126161\"}],\"margin\":[0,0,0,0],\"name\":\"Row206636\"},\"id\":\"126157\",\"type\":\"Row\"},{\"attributes\":{\"source\":{\"id\":\"126203\"}},\"id\":\"126210\",\"type\":\"CDSView\"},{\"attributes\":{},\"id\":\"126202\",\"type\":\"AllLabels\"},{\"attributes\":{\"line_color\":\"#fc4f30\",\"line_width\":2,\"x\":{\"field\":\"Year\"},\"y\":{\"field\":\"% Change in Production\"}},\"id\":\"126227\",\"type\":\"Line\"},{\"attributes\":{},\"id\":\"126247\",\"type\":\"Selection\"},{\"attributes\":{},\"id\":\"126184\",\"type\":\"SaveTool\"},{\"attributes\":{\"label\":{\"value\":\"France\"},\"renderers\":[{\"id\":\"126209\"}]},\"id\":\"126222\",\"type\":\"LegendItem\"},{\"attributes\":{\"data\":{\"% Change in Production\":{\"__ndarray__\":\"Zdt2lUZA8j/7+1JgfdwgwE2+/61paBbAGg2cEJPYFUCSt6Aa1hTwPzYpYJbR8SpAS3Yq6A+kAUBxIv9ur8zpP4BRLv+0UO+/z0NZN196HkDoMsOz9YkYQA==\",\"dtype\":\"float64\",\"order\":\"little\",\"shape\":[11]},\"Country\":[\"Spain\",\"Spain\",\"Spain\",\"Spain\",\"Spain\",\"Spain\",\"Spain\",\"Spain\",\"Spain\",\"Spain\",\"Spain\"],\"Year\":[1991,1992,1993,1994,1995,1996,1997,1998,1999,2000,2001],\"percent_Change_in_Production\":{\"__ndarray__\":\"Zdt2lUZA8j/7+1JgfdwgwE2+/61paBbAGg2cEJPYFUCSt6Aa1hTwPzYpYJbR8SpAS3Yq6A+kAUBxIv9ur8zpP4BRLv+0UO+/z0NZN196HkDoMsOz9YkYQA==\",\"dtype\":\"float64\",\"order\":\"little\",\"shape\":[11]}},\"selected\":{\"id\":\"126247\"},\"selection_policy\":{\"id\":\"126265\"}},\"id\":\"126246\",\"type\":\"ColumnDataSource\"},{\"attributes\":{\"label\":{\"value\":\"Spain\"},\"renderers\":[{\"id\":\"126252\"}]},\"id\":\"126268\",\"type\":\"LegendItem\"},{\"attributes\":{},\"id\":\"126204\",\"type\":\"Selection\"},{\"attributes\":{\"overlay\":{\"id\":\"126189\"}},\"id\":\"126187\",\"type\":\"BoxZoomTool\"},{\"attributes\":{\"click_policy\":\"mute\",\"coordinates\":null,\"group\":null,\"items\":[{\"id\":\"126222\"},{\"id\":\"126244\"},{\"id\":\"126268\"}],\"location\":[0,0],\"title\":\"Country\"},\"id\":\"126221\",\"type\":\"Legend\"},{\"attributes\":{\"line_alpha\":0.1,\"line_color\":\"#e5ae38\",\"line_width\":2,\"x\":{\"field\":\"Year\"},\"y\":{\"field\":\"% Change in Production\"}},\"id\":\"126250\",\"type\":\"Line\"},{\"attributes\":{\"tools\":[{\"id\":\"126164\"},{\"id\":\"126184\"},{\"id\":\"126185\"},{\"id\":\"126186\"},{\"id\":\"126187\"},{\"id\":\"126188\"}]},\"id\":\"126190\",\"type\":\"Toolbar\"},{\"attributes\":{\"bottom_units\":\"screen\",\"coordinates\":null,\"fill_alpha\":0.5,\"fill_color\":\"lightgrey\",\"group\":null,\"left_units\":\"screen\",\"level\":\"overlay\",\"line_alpha\":1.0,\"line_color\":\"black\",\"line_dash\":[4,4],\"line_width\":2,\"right_units\":\"screen\",\"syncable\":false,\"top_units\":\"screen\"},\"id\":\"126189\",\"type\":\"BoxAnnotation\"},{\"attributes\":{\"children\":[{\"id\":\"126157\"},{\"id\":\"126167\"}],\"margin\":[0,0,0,0],\"name\":\"Column206642\"},\"id\":\"126156\",\"type\":\"Column\"},{\"attributes\":{\"below\":[{\"id\":\"126176\"}],\"center\":[{\"id\":\"126179\"},{\"id\":\"126183\"}],\"height\":300,\"left\":[{\"id\":\"126180\"}],\"margin\":[5,5,5,5],\"min_border_bottom\":10,\"min_border_left\":10,\"min_border_right\":10,\"min_border_top\":10,\"renderers\":[{\"id\":\"126209\"},{\"id\":\"126230\"},{\"id\":\"126252\"}],\"right\":[{\"id\":\"126221\"}],\"sizing_mode\":\"fixed\",\"title\":{\"id\":\"126168\"},\"toolbar\":{\"id\":\"126190\"},\"width\":700,\"x_range\":{\"id\":\"126162\"},\"x_scale\":{\"id\":\"126172\"},\"y_range\":{\"id\":\"126163\"},\"y_scale\":{\"id\":\"126174\"}},\"id\":\"126167\",\"subtype\":\"Figure\",\"type\":\"Plot\"},{\"attributes\":{\"line_color\":\"#30a2da\",\"line_width\":2,\"x\":{\"field\":\"Year\"},\"y\":{\"field\":\"% Change in Production\"}},\"id\":\"126206\",\"type\":\"Line\"},{\"attributes\":{},\"id\":\"126181\",\"type\":\"BasicTicker\"},{\"attributes\":{\"label\":{\"value\":\"Ireland\"},\"renderers\":[{\"id\":\"126230\"}]},\"id\":\"126244\",\"type\":\"LegendItem\"},{\"attributes\":{\"callback\":null,\"renderers\":[{\"id\":\"126209\"},{\"id\":\"126230\"},{\"id\":\"126252\"}],\"tags\":[\"hv_created\"],\"tooltips\":[[\"Country\",\"@{Country}\"],[\"Year\",\"@{Year}\"],[\"% Change in Production\",\"@{percent_Change_in_Production}\"]]},\"id\":\"126164\",\"type\":\"HoverTool\"},{\"attributes\":{\"axis_label\":\"% Change in Production\",\"coordinates\":null,\"formatter\":{\"id\":\"126201\"},\"group\":null,\"major_label_policy\":{\"id\":\"126202\"},\"ticker\":{\"id\":\"126181\"}},\"id\":\"126180\",\"type\":\"LinearAxis\"},{\"attributes\":{},\"id\":\"126177\",\"type\":\"BasicTicker\"},{\"attributes\":{},\"id\":\"126218\",\"type\":\"UnionRenderers\"},{\"attributes\":{\"axis_label\":\"Year\",\"coordinates\":null,\"formatter\":{\"id\":\"126198\"},\"group\":null,\"major_label_policy\":{\"id\":\"126199\"},\"ticker\":{\"id\":\"126177\"}},\"id\":\"126176\",\"type\":\"LinearAxis\"},{\"attributes\":{\"line_alpha\":0.2,\"line_color\":\"#e5ae38\",\"line_width\":2,\"x\":{\"field\":\"Year\"},\"y\":{\"field\":\"% Change in Production\"}},\"id\":\"126251\",\"type\":\"Line\"},{\"attributes\":{\"children\":[{\"id\":\"126156\"}],\"margin\":[0,0,0,0],\"name\":\"Row206643\"},\"id\":\"126155\",\"type\":\"Row\"},{\"attributes\":{\"active\":0,\"button_type\":\"success\",\"labels\":[\"% Change in Production\"],\"margin\":[5,10,5,10]},\"id\":\"126160\",\"type\":\"RadioButtonGroup\"},{\"attributes\":{},\"id\":\"126185\",\"type\":\"PanTool\"},{\"attributes\":{\"coordinates\":null,\"group\":null,\"text\":\"% Change in Production by Country\",\"text_color\":\"black\",\"text_font_size\":\"12pt\"},\"id\":\"126168\",\"type\":\"Title\"},{\"attributes\":{},\"id\":\"126199\",\"type\":\"AllLabels\"},{\"attributes\":{},\"id\":\"126265\",\"type\":\"UnionRenderers\"},{\"attributes\":{\"margin\":[5,5,5,5],\"name\":\"HSpacer206635\",\"sizing_mode\":\"stretch_width\"},\"id\":\"126161\",\"type\":\"Spacer\"},{\"attributes\":{},\"id\":\"126188\",\"type\":\"ResetTool\"},{\"attributes\":{\"line_color\":\"#fc4f30\",\"line_width\":2,\"x\":{\"field\":\"Year\"},\"y\":{\"field\":\"% Change in Production\"}},\"id\":\"126245\",\"type\":\"Line\"},{\"attributes\":{\"axis\":{\"id\":\"126180\"},\"coordinates\":null,\"dimension\":1,\"grid_line_color\":null,\"group\":null,\"ticker\":null},\"id\":\"126183\",\"type\":\"Grid\"}],\"root_ids\":[\"126155\",\"126438\"]},\"title\":\"Bokeh Application\",\"version\":\"2.4.2\"}};\n",
       "    var render_items = [{\"docid\":\"c22f206f-4675-4df9-8b8c-92d04537261e\",\"root_ids\":[\"126155\"],\"roots\":{\"126155\":\"06904f7a-ac6b-44ad-8add-a5434b6dce07\"}}];\n",
       "    root.Bokeh.embed.embed_items_notebook(docs_json, render_items);\n",
       "  }\n",
       "  if (root.Bokeh !== undefined && root.Bokeh.Panel !== undefined) {\n",
       "    embed_document(root);\n",
       "  } else {\n",
       "    var attempts = 0;\n",
       "    var timer = setInterval(function(root) {\n",
       "      if (root.Bokeh !== undefined && root.Bokeh.Panel !== undefined) {\n",
       "        clearInterval(timer);\n",
       "        embed_document(root);\n",
       "      } else if (document.readyState == \"complete\") {\n",
       "        attempts++;\n",
       "        if (attempts > 200) {\n",
       "          clearInterval(timer);\n",
       "          console.log(\"Bokeh: ERROR: Unable to run BokehJS code because BokehJS library is missing\");\n",
       "        }\n",
       "      }\n",
       "    }, 25, root)\n",
       "  }\n",
       "})(window);</script>"
      ],
      "text/plain": [
       "<hvplot.interactive.Interactive at 0x124711bbf70>"
      ]
     },
     "execution_count": 62,
     "metadata": {
      "application/vnd.holoviews_exec.v0+json": {
       "id": "126155"
      }
     },
     "output_type": "execute_result"
    }
   ],
   "source": [
    "#Production Plot\n",
    "Prodplot =prod_pipeline.hvplot(x='Year', by='Country', y=yaxis_prod, line_width=2, title=\"% Change in Production by Country\")\n",
    "Prodplot"
   ]
  },
  {
   "cell_type": "code",
   "execution_count": 63,
   "id": "ae5dbf55-3b97-41af-b7e4-cb3ba1c8e47e",
   "metadata": {},
   "outputs": [
    {
     "data": {},
     "metadata": {},
     "output_type": "display_data"
    },
    {
     "data": {
      "application/vnd.holoviews_exec.v0+json": "",
      "text/html": [
       "<div id='126509'>\n",
       "\n",
       "\n",
       "\n",
       "\n",
       "\n",
       "  <div class=\"bk-root\" id=\"830de78c-3cef-4398-bd92-bd76e36f8fbe\" data-root-id=\"126509\"></div>\n",
       "</div>\n",
       "<script type=\"application/javascript\">(function(root) {\n",
       "  function embed_document(root) {\n",
       "    var docs_json = {\"73eb8e6a-928b-4c9b-9402-62a3e15595ab\":{\"defs\":[{\"extends\":null,\"module\":null,\"name\":\"ReactiveHTML1\",\"overrides\":[],\"properties\":[]},{\"extends\":null,\"module\":null,\"name\":\"FlexBox1\",\"overrides\":[],\"properties\":[{\"default\":\"flex-start\",\"kind\":null,\"name\":\"align_content\"},{\"default\":\"flex-start\",\"kind\":null,\"name\":\"align_items\"},{\"default\":\"row\",\"kind\":null,\"name\":\"flex_direction\"},{\"default\":\"wrap\",\"kind\":null,\"name\":\"flex_wrap\"},{\"default\":\"flex-start\",\"kind\":null,\"name\":\"justify_content\"}]},{\"extends\":null,\"module\":null,\"name\":\"GridStack1\",\"overrides\":[],\"properties\":[{\"default\":\"warn\",\"kind\":null,\"name\":\"mode\"},{\"default\":null,\"kind\":null,\"name\":\"ncols\"},{\"default\":null,\"kind\":null,\"name\":\"nrows\"},{\"default\":true,\"kind\":null,\"name\":\"allow_resize\"},{\"default\":true,\"kind\":null,\"name\":\"allow_drag\"},{\"default\":[],\"kind\":null,\"name\":\"state\"}]},{\"extends\":null,\"module\":null,\"name\":\"click1\",\"overrides\":[],\"properties\":[{\"default\":\"\",\"kind\":null,\"name\":\"terminal_output\"},{\"default\":\"\",\"kind\":null,\"name\":\"debug_name\"},{\"default\":0,\"kind\":null,\"name\":\"clears\"}]},{\"extends\":null,\"module\":null,\"name\":\"TemplateActions1\",\"overrides\":[],\"properties\":[{\"default\":0,\"kind\":null,\"name\":\"open_modal\"},{\"default\":0,\"kind\":null,\"name\":\"close_modal\"}]},{\"extends\":null,\"module\":null,\"name\":\"MaterialTemplateActions1\",\"overrides\":[],\"properties\":[{\"default\":0,\"kind\":null,\"name\":\"open_modal\"},{\"default\":0,\"kind\":null,\"name\":\"close_modal\"}]}],\"roots\":{\"references\":[{\"attributes\":{\"editor\":{\"id\":\"126536\"},\"field\":\"% Change in Production\",\"formatter\":{\"id\":\"126535\"},\"title\":\"% Change in Production\",\"width\":0},\"id\":\"126537\",\"type\":\"TableColumn\"},{\"attributes\":{\"format\":\"0,0.0[00000]\",\"text_align\":\"right\"},\"id\":\"126535\",\"type\":\"NumberFormatter\"},{\"attributes\":{\"client_comm_id\":\"222e3bdc28884ea2baa82761928ceb89\",\"comm_id\":\"0bc6168c4d0e4b7cb3c7795523867d9a\",\"plot_id\":\"126509\"},\"id\":\"126548\",\"type\":\"panel.models.comm_manager.CommManager\"},{\"attributes\":{\"children\":[{\"id\":\"126511\"},{\"id\":\"126516\"}],\"margin\":[0,0,0,0],\"name\":\"Column207313\"},\"id\":\"126510\",\"type\":\"Column\"},{\"attributes\":{\"children\":[{\"id\":\"126510\"}],\"margin\":[0,0,0,0],\"name\":\"Row207314\"},\"id\":\"126509\",\"type\":\"Row\"},{\"attributes\":{\"indices\":[]},\"id\":\"126518\",\"type\":\"Selection\"},{\"attributes\":{\"columns\":[{\"id\":\"126522\"},{\"id\":\"126527\"},{\"id\":\"126532\"},{\"id\":\"126537\"}],\"configuration\":{\"columns\":[{\"field\":\"index\"},{\"field\":\"Country\"},{\"field\":\"Year\"},{\"field\":\"% Change in Production\"}],\"dataTree\":false,\"selectable\":true},\"indexes\":[\"index\"],\"layout\":\"fit_data_table\",\"margin\":[5,10,5,10],\"max_page\":4,\"name\":\"\",\"page\":1,\"page_size\":10,\"pagination\":\"remote\",\"select_mode\":true,\"selectable_rows\":null,\"sizing_mode\":\"stretch_width\",\"source\":{\"id\":\"126517\"},\"styles\":{\"data\":{},\"id\":\"cc73f5f507b245628d7365996ecea7b2\"},\"subscribed_events\":[\"table-edit\",\"cell-click\"]},\"id\":\"126540\",\"type\":\"panel.models.tabulator.DataTabulator\"},{\"attributes\":{\"margin\":[5,5,5,5],\"name\":\"HSpacer207311\",\"sizing_mode\":\"stretch_width\"},\"id\":\"126515\",\"type\":\"Spacer\"},{\"attributes\":{\"children\":[{\"id\":\"126540\"}],\"margin\":[0,0,0,0],\"name\":\"Row207294\"},\"id\":\"126516\",\"type\":\"Row\"},{\"attributes\":{\"editor\":{\"id\":\"126526\"},\"field\":\"Country\",\"formatter\":{\"id\":\"126525\"},\"title\":\"Country\",\"width\":0},\"id\":\"126527\",\"type\":\"TableColumn\"},{\"attributes\":{},\"id\":\"126525\",\"type\":\"StringFormatter\"},{\"attributes\":{},\"id\":\"126526\",\"type\":\"StringEditor\"},{\"attributes\":{\"children\":[{\"id\":\"126512\"},{\"id\":\"126515\"}],\"margin\":[0,0,0,0],\"name\":\"Row207312\"},\"id\":\"126511\",\"type\":\"Row\"},{\"attributes\":{\"editor\":{\"id\":\"126521\"},\"field\":\"index\",\"formatter\":{\"id\":\"126519\"},\"title\":\"index\",\"width\":0},\"id\":\"126522\",\"type\":\"TableColumn\"},{\"attributes\":{\"text_align\":\"right\"},\"id\":\"126530\",\"type\":\"NumberFormatter\"},{\"attributes\":{\"active\":0,\"button_type\":\"success\",\"labels\":[\"% Change in Production\"],\"margin\":[5,10,5,10]},\"id\":\"126514\",\"type\":\"RadioButtonGroup\"},{\"attributes\":{},\"id\":\"126536\",\"type\":\"NumberEditor\"},{\"attributes\":{},\"id\":\"126521\",\"type\":\"CellEditor\"},{\"attributes\":{},\"id\":\"126531\",\"type\":\"IntEditor\"},{\"attributes\":{},\"id\":\"126542\",\"type\":\"UnionRenderers\"},{\"attributes\":{\"end\":2017,\"margin\":[5,10,5,10],\"start\":1991,\"step\":3,\"title\":\"year slider\",\"value\":2001},\"id\":\"126513\",\"type\":\"Slider\"},{\"attributes\":{\"children\":[{\"id\":\"126513\"},{\"id\":\"126514\"}],\"margin\":[0,0,0,0],\"name\":\"Column207289\"},\"id\":\"126512\",\"type\":\"Column\"},{\"attributes\":{\"editor\":{\"id\":\"126531\"},\"field\":\"Year\",\"formatter\":{\"id\":\"126530\"},\"title\":\"Year\",\"width\":0},\"id\":\"126532\",\"type\":\"TableColumn\"},{\"attributes\":{\"data\":{\"% Change in Production\":{\"__ndarray__\":\"mpmZmZmZFMBl23aVRkDyP5HxpFxMrQ/AuB6F61G4CED7+1JgfdwgwDO1pw8dNSFASOF6FK5H9b9Nvv+taWgWwODZlcuDqty/16NwPQrXFEA=\",\"dtype\":\"float64\",\"order\":\"little\",\"shape\":[10]},\"Country\":[\"France\",\"Spain\",\"Ireland\",\"France\",\"Spain\",\"Ireland\",\"France\",\"Spain\",\"Ireland\",\"France\"],\"Year\":[1991,1991,1991,1992,1992,1992,1993,1993,1993,1994],\"index\":[0,1,2,3,4,5,6,7,8,9]},\"selected\":{\"id\":\"126518\"},\"selection_policy\":{\"id\":\"126542\"}},\"id\":\"126517\",\"type\":\"ColumnDataSource\"},{\"attributes\":{\"text_align\":\"left\"},\"id\":\"126519\",\"type\":\"NumberFormatter\"}],\"root_ids\":[\"126509\",\"126548\"]},\"title\":\"Bokeh Application\",\"version\":\"2.4.2\"}};\n",
       "    var render_items = [{\"docid\":\"73eb8e6a-928b-4c9b-9402-62a3e15595ab\",\"root_ids\":[\"126509\"],\"roots\":{\"126509\":\"830de78c-3cef-4398-bd92-bd76e36f8fbe\"}}];\n",
       "    root.Bokeh.embed.embed_items_notebook(docs_json, render_items);\n",
       "  }\n",
       "  if (root.Bokeh !== undefined && root.Bokeh.Panel !== undefined) {\n",
       "    embed_document(root);\n",
       "  } else {\n",
       "    var attempts = 0;\n",
       "    var timer = setInterval(function(root) {\n",
       "      if (root.Bokeh !== undefined && root.Bokeh.Panel !== undefined) {\n",
       "        clearInterval(timer);\n",
       "        embed_document(root);\n",
       "      } else if (document.readyState == \"complete\") {\n",
       "        attempts++;\n",
       "        if (attempts > 200) {\n",
       "          clearInterval(timer);\n",
       "          console.log(\"Bokeh: ERROR: Unable to run BokehJS code because BokehJS library is missing\");\n",
       "        }\n",
       "      }\n",
       "    }, 25, root)\n",
       "  }\n",
       "})(window);</script>"
      ],
      "text/plain": [
       "<hvplot.interactive.Interactive at 0x12472728f10>"
      ]
     },
     "execution_count": 63,
     "metadata": {
      "application/vnd.holoviews_exec.v0+json": {
       "id": "126509"
      }
     },
     "output_type": "execute_result"
    }
   ],
   "source": [
    "prod_table = prod_pipeline.pipe(pn.widgets.Tabulator, pagination='remote', page_size=10, sizing_mode='stretch_width')\n",
    "prod_table"
   ]
  },
  {
   "cell_type": "code",
   "execution_count": 64,
   "id": "234e34f3-aeda-45ec-9ba5-20764c5248c9",
   "metadata": {},
   "outputs": [],
   "source": [
    "#Radio button for Nutrient Balance\n",
    "yaxis_nb = pn.widgets.RadioButtonGroup(\n",
    "name= 'Y Axis',\n",
    "    options=['% Change in Nutrient Balance',],\n",
    "    button_type='success'\n",
    ")"
   ]
  },
  {
   "cell_type": "code",
   "execution_count": 65,
   "id": "2eeae3f8-4315-4116-8b0a-98aa87bc047c",
   "metadata": {},
   "outputs": [],
   "source": [
    "#Nutrient Balance Pipeline\n",
    "nb_pipeline =(\n",
    "dd[(dd.Year <=yearslider)]\n",
    "    .groupby (['Country', 'Year']) [yaxis_nb].mean()\n",
    "    .to_frame()\n",
    "    .reset_index()\n",
    "    .sort_values(by='Year')\n",
    "    .reset_index(drop=True)\n",
    ")"
   ]
  },
  {
   "cell_type": "code",
   "execution_count": 66,
   "id": "ebddce41-6dcb-4aac-b405-eb4aa0120522",
   "metadata": {},
   "outputs": [
    {
     "data": {},
     "metadata": {},
     "output_type": "display_data"
    },
    {
     "data": {},
     "metadata": {},
     "output_type": "display_data"
    },
    {
     "data": {
      "application/vnd.holoviews_exec.v0+json": "",
      "text/html": [
       "<div id='126559'>\n",
       "\n",
       "\n",
       "\n",
       "\n",
       "\n",
       "  <div class=\"bk-root\" id=\"c857e8fb-1dc1-4f2b-abc6-84e9fd6fd250\" data-root-id=\"126559\"></div>\n",
       "</div>\n",
       "<script type=\"application/javascript\">(function(root) {\n",
       "  function embed_document(root) {\n",
       "    var docs_json = {\"b5ff02a3-ec8f-4c28-a064-0545c6d35f5a\":{\"defs\":[{\"extends\":null,\"module\":null,\"name\":\"ReactiveHTML1\",\"overrides\":[],\"properties\":[]},{\"extends\":null,\"module\":null,\"name\":\"FlexBox1\",\"overrides\":[],\"properties\":[{\"default\":\"flex-start\",\"kind\":null,\"name\":\"align_content\"},{\"default\":\"flex-start\",\"kind\":null,\"name\":\"align_items\"},{\"default\":\"row\",\"kind\":null,\"name\":\"flex_direction\"},{\"default\":\"wrap\",\"kind\":null,\"name\":\"flex_wrap\"},{\"default\":\"flex-start\",\"kind\":null,\"name\":\"justify_content\"}]},{\"extends\":null,\"module\":null,\"name\":\"GridStack1\",\"overrides\":[],\"properties\":[{\"default\":\"warn\",\"kind\":null,\"name\":\"mode\"},{\"default\":null,\"kind\":null,\"name\":\"ncols\"},{\"default\":null,\"kind\":null,\"name\":\"nrows\"},{\"default\":true,\"kind\":null,\"name\":\"allow_resize\"},{\"default\":true,\"kind\":null,\"name\":\"allow_drag\"},{\"default\":[],\"kind\":null,\"name\":\"state\"}]},{\"extends\":null,\"module\":null,\"name\":\"click1\",\"overrides\":[],\"properties\":[{\"default\":\"\",\"kind\":null,\"name\":\"terminal_output\"},{\"default\":\"\",\"kind\":null,\"name\":\"debug_name\"},{\"default\":0,\"kind\":null,\"name\":\"clears\"}]},{\"extends\":null,\"module\":null,\"name\":\"TemplateActions1\",\"overrides\":[],\"properties\":[{\"default\":0,\"kind\":null,\"name\":\"open_modal\"},{\"default\":0,\"kind\":null,\"name\":\"close_modal\"}]},{\"extends\":null,\"module\":null,\"name\":\"MaterialTemplateActions1\",\"overrides\":[],\"properties\":[{\"default\":0,\"kind\":null,\"name\":\"open_modal\"},{\"default\":0,\"kind\":null,\"name\":\"close_modal\"}]}],\"roots\":{\"references\":[{\"attributes\":{},\"id\":\"126608\",\"type\":\"Selection\"},{\"attributes\":{\"line_color\":\"#e5ae38\",\"line_width\":2,\"x\":{\"field\":\"Year\"},\"y\":{\"field\":\"% Change in Nutrient Balance\"}},\"id\":\"126653\",\"type\":\"Line\"},{\"attributes\":{\"line_alpha\":0.2,\"line_color\":\"#30a2da\",\"line_width\":2,\"x\":{\"field\":\"Year\"},\"y\":{\"field\":\"% Change in Nutrient Balance\"}},\"id\":\"126612\",\"type\":\"Line\"},{\"attributes\":{\"line_color\":\"#e5ae38\",\"line_width\":2,\"x\":{\"field\":\"Year\"},\"y\":{\"field\":\"% Change in Nutrient Balance\"}},\"id\":\"126673\",\"type\":\"Line\"},{\"attributes\":{},\"id\":\"126576\",\"type\":\"LinearScale\"},{\"attributes\":{\"active\":0,\"button_type\":\"success\",\"labels\":[\"% Change in Nutrient Balance\"],\"margin\":[5,10,5,10]},\"id\":\"126564\",\"type\":\"RadioButtonGroup\"},{\"attributes\":{\"source\":{\"id\":\"126628\"}},\"id\":\"126635\",\"type\":\"CDSView\"},{\"attributes\":{\"line_alpha\":0.2,\"line_color\":\"#fc4f30\",\"line_width\":2,\"x\":{\"field\":\"Year\"},\"y\":{\"field\":\"% Change in Nutrient Balance\"}},\"id\":\"126633\",\"type\":\"Line\"},{\"attributes\":{\"line_alpha\":0.1,\"line_color\":\"#e5ae38\",\"line_width\":2,\"x\":{\"field\":\"Year\"},\"y\":{\"field\":\"% Change in Nutrient Balance\"}},\"id\":\"126654\",\"type\":\"Line\"},{\"attributes\":{\"below\":[{\"id\":\"126580\"}],\"center\":[{\"id\":\"126583\"},{\"id\":\"126587\"}],\"height\":300,\"left\":[{\"id\":\"126584\"}],\"margin\":[5,5,5,5],\"min_border_bottom\":10,\"min_border_left\":10,\"min_border_right\":10,\"min_border_top\":10,\"renderers\":[{\"id\":\"126613\"},{\"id\":\"126634\"},{\"id\":\"126656\"}],\"right\":[{\"id\":\"126625\"}],\"sizing_mode\":\"fixed\",\"title\":{\"id\":\"126572\"},\"toolbar\":{\"id\":\"126594\"},\"width\":700,\"x_range\":{\"id\":\"126566\"},\"x_scale\":{\"id\":\"126576\"},\"y_range\":{\"id\":\"126567\"},\"y_scale\":{\"id\":\"126578\"}},\"id\":\"126571\",\"subtype\":\"Figure\",\"type\":\"Plot\"},{\"attributes\":{\"line_color\":\"#fc4f30\",\"line_width\":2,\"x\":{\"field\":\"Year\"},\"y\":{\"field\":\"% Change in Nutrient Balance\"}},\"id\":\"126649\",\"type\":\"Line\"},{\"attributes\":{\"axis_label\":\"Year\",\"coordinates\":null,\"formatter\":{\"id\":\"126602\"},\"group\":null,\"major_label_policy\":{\"id\":\"126603\"},\"ticker\":{\"id\":\"126581\"}},\"id\":\"126580\",\"type\":\"LinearAxis\"},{\"attributes\":{},\"id\":\"126622\",\"type\":\"UnionRenderers\"},{\"attributes\":{\"coordinates\":null,\"data_source\":{\"id\":\"126628\"},\"glyph\":{\"id\":\"126631\"},\"group\":null,\"hover_glyph\":null,\"muted_glyph\":{\"id\":\"126633\"},\"nonselection_glyph\":{\"id\":\"126632\"},\"selection_glyph\":{\"id\":\"126649\"},\"view\":{\"id\":\"126635\"}},\"id\":\"126634\",\"type\":\"GlyphRenderer\"},{\"attributes\":{},\"id\":\"126603\",\"type\":\"AllLabels\"},{\"attributes\":{\"coordinates\":null,\"data_source\":{\"id\":\"126607\"},\"glyph\":{\"id\":\"126610\"},\"group\":null,\"hover_glyph\":null,\"muted_glyph\":{\"id\":\"126612\"},\"nonselection_glyph\":{\"id\":\"126611\"},\"selection_glyph\":{\"id\":\"126627\"},\"view\":{\"id\":\"126614\"}},\"id\":\"126613\",\"type\":\"GlyphRenderer\"},{\"attributes\":{\"line_alpha\":0.1,\"line_color\":\"#fc4f30\",\"line_width\":2,\"x\":{\"field\":\"Year\"},\"y\":{\"field\":\"% Change in Nutrient Balance\"}},\"id\":\"126632\",\"type\":\"Line\"},{\"attributes\":{\"data\":{\"% Change in Nutrient Balance\":{\"__ndarray__\":\"ozafqqqqCsAAAAAAAAAAAIxh0gjLPTHAJoKjqqqqQEAAAAAAAAAZQHOtlYeHhwfAGILpoosuIsAAAAAAAAAkQBLr4KKLLjJAeC6g2ImdCEDxCHvObuHnPw==\",\"dtype\":\"float64\",\"order\":\"little\",\"shape\":[11]},\"Country\":[\"Spain\",\"Spain\",\"Spain\",\"Spain\",\"Spain\",\"Spain\",\"Spain\",\"Spain\",\"Spain\",\"Spain\",\"Spain\"],\"Year\":[1991,1992,1993,1994,1995,1996,1997,1998,1999,2000,2001],\"percent_Change_in_Nutrient_Balance\":{\"__ndarray__\":\"ozafqqqqCsAAAAAAAAAAAIxh0gjLPTHAJoKjqqqqQEAAAAAAAAAZQHOtlYeHhwfAGILpoosuIsAAAAAAAAAkQBLr4KKLLjJAeC6g2ImdCEDxCHvObuHnPw==\",\"dtype\":\"float64\",\"order\":\"little\",\"shape\":[11]}},\"selected\":{\"id\":\"126651\"},\"selection_policy\":{\"id\":\"126669\"}},\"id\":\"126650\",\"type\":\"ColumnDataSource\"},{\"attributes\":{\"bottom_units\":\"screen\",\"coordinates\":null,\"fill_alpha\":0.5,\"fill_color\":\"lightgrey\",\"group\":null,\"left_units\":\"screen\",\"level\":\"overlay\",\"line_alpha\":1.0,\"line_color\":\"black\",\"line_dash\":[4,4],\"line_width\":2,\"right_units\":\"screen\",\"syncable\":false,\"top_units\":\"screen\"},\"id\":\"126593\",\"type\":\"BoxAnnotation\"},{\"attributes\":{},\"id\":\"126592\",\"type\":\"ResetTool\"},{\"attributes\":{\"overlay\":{\"id\":\"126593\"}},\"id\":\"126591\",\"type\":\"BoxZoomTool\"},{\"attributes\":{},\"id\":\"126606\",\"type\":\"AllLabels\"},{\"attributes\":{\"line_alpha\":0.2,\"line_color\":\"#e5ae38\",\"line_width\":2,\"x\":{\"field\":\"Year\"},\"y\":{\"field\":\"% Change in Nutrient Balance\"}},\"id\":\"126655\",\"type\":\"Line\"},{\"attributes\":{\"source\":{\"id\":\"126607\"}},\"id\":\"126614\",\"type\":\"CDSView\"},{\"attributes\":{\"label\":{\"value\":\"Spain\"},\"renderers\":[{\"id\":\"126656\"}]},\"id\":\"126672\",\"type\":\"LegendItem\"},{\"attributes\":{\"data\":{\"% Change in Nutrient Balance\":{\"__ndarray__\":\"ZmZmZmbmMMAfhetRuB4LQKRwPQrXYzDAXI/C9ShcD0ApXI/C9SgOQM3MzMzMzBVAPQrXo3A9IcApXI/C9SgOwFyPwvUoXB9AzczMzMyMNsAzMzMzMzMwQA==\",\"dtype\":\"float64\",\"order\":\"little\",\"shape\":[11]},\"Country\":[\"France\",\"France\",\"France\",\"France\",\"France\",\"France\",\"France\",\"France\",\"France\",\"France\",\"France\"],\"Year\":[1991,1992,1993,1994,1995,1996,1997,1998,1999,2000,2001],\"percent_Change_in_Nutrient_Balance\":{\"__ndarray__\":\"ZmZmZmbmMMAfhetRuB4LQKRwPQrXYzDAXI/C9ShcD0ApXI/C9SgOQM3MzMzMzBVAPQrXo3A9IcApXI/C9SgOwFyPwvUoXB9AzczMzMyMNsAzMzMzMzMwQA==\",\"dtype\":\"float64\",\"order\":\"little\",\"shape\":[11]}},\"selected\":{\"id\":\"126608\"},\"selection_policy\":{\"id\":\"126622\"}},\"id\":\"126607\",\"type\":\"ColumnDataSource\"},{\"attributes\":{},\"id\":\"126578\",\"type\":\"LinearScale\"},{\"attributes\":{\"end\":2017,\"margin\":[5,10,5,10],\"start\":1991,\"step\":3,\"title\":\"year slider\",\"value\":2001},\"id\":\"126563\",\"type\":\"Slider\"},{\"attributes\":{\"line_color\":\"#fc4f30\",\"line_width\":2,\"x\":{\"field\":\"Year\"},\"y\":{\"field\":\"% Change in Nutrient Balance\"}},\"id\":\"126631\",\"type\":\"Line\"},{\"attributes\":{},\"id\":\"126602\",\"type\":\"BasicTickFormatter\"},{\"attributes\":{\"callback\":null,\"renderers\":[{\"id\":\"126613\"},{\"id\":\"126634\"},{\"id\":\"126656\"}],\"tags\":[\"hv_created\"],\"tooltips\":[[\"Country\",\"@{Country}\"],[\"Year\",\"@{Year}\"],[\"% Change in Nutrient Balance\",\"@{percent_Change_in_Nutrient_Balance}\"]]},\"id\":\"126568\",\"type\":\"HoverTool\"},{\"attributes\":{},\"id\":\"126629\",\"type\":\"Selection\"},{\"attributes\":{\"tools\":[{\"id\":\"126568\"},{\"id\":\"126588\"},{\"id\":\"126589\"},{\"id\":\"126590\"},{\"id\":\"126591\"},{\"id\":\"126592\"}]},\"id\":\"126594\",\"type\":\"Toolbar\"},{\"attributes\":{},\"id\":\"126589\",\"type\":\"PanTool\"},{\"attributes\":{},\"id\":\"126645\",\"type\":\"UnionRenderers\"},{\"attributes\":{\"children\":[{\"id\":\"126563\"},{\"id\":\"126564\"}],\"margin\":[0,0,0,0],\"name\":\"Column207591\"},\"id\":\"126562\",\"type\":\"Column\"},{\"attributes\":{\"end\":38.921666663,\"reset_end\":38.921666663,\"reset_start\":-28.138333333000002,\"start\":-28.138333333000002,\"tags\":[[[\"% Change in Nutrient Balance\",\"% Change in Nutrient Balance\",null]]]},\"id\":\"126567\",\"type\":\"Range1d\"},{\"attributes\":{},\"id\":\"126590\",\"type\":\"WheelZoomTool\"},{\"attributes\":{\"axis_label\":\"% Change in Nutrient Balance\",\"coordinates\":null,\"formatter\":{\"id\":\"126605\"},\"group\":null,\"major_label_policy\":{\"id\":\"126606\"},\"ticker\":{\"id\":\"126585\"}},\"id\":\"126584\",\"type\":\"LinearAxis\"},{\"attributes\":{},\"id\":\"126669\",\"type\":\"UnionRenderers\"},{\"attributes\":{\"children\":[{\"id\":\"126561\"},{\"id\":\"126571\"}],\"margin\":[0,0,0,0],\"name\":\"Column207602\"},\"id\":\"126560\",\"type\":\"Column\"},{\"attributes\":{\"line_color\":\"#30a2da\",\"line_width\":2,\"x\":{\"field\":\"Year\"},\"y\":{\"field\":\"% Change in Nutrient Balance\"}},\"id\":\"126627\",\"type\":\"Line\"},{\"attributes\":{\"children\":[{\"id\":\"126560\"}],\"margin\":[0,0,0,0],\"name\":\"Row207603\"},\"id\":\"126559\",\"type\":\"Row\"},{\"attributes\":{\"line_alpha\":0.1,\"line_color\":\"#30a2da\",\"line_width\":2,\"x\":{\"field\":\"Year\"},\"y\":{\"field\":\"% Change in Nutrient Balance\"}},\"id\":\"126611\",\"type\":\"Line\"},{\"attributes\":{},\"id\":\"126651\",\"type\":\"Selection\"},{\"attributes\":{\"coordinates\":null,\"group\":null,\"text\":\"% Change in Nutrient Balance by Country\",\"text_color\":\"black\",\"text_font_size\":\"12pt\"},\"id\":\"126572\",\"type\":\"Title\"},{\"attributes\":{\"margin\":[5,5,5,5],\"name\":\"HSpacer207595\",\"sizing_mode\":\"stretch_width\"},\"id\":\"126565\",\"type\":\"Spacer\"},{\"attributes\":{\"line_color\":\"#30a2da\",\"line_width\":2,\"x\":{\"field\":\"Year\"},\"y\":{\"field\":\"% Change in Nutrient Balance\"}},\"id\":\"126610\",\"type\":\"Line\"},{\"attributes\":{\"click_policy\":\"mute\",\"coordinates\":null,\"group\":null,\"items\":[{\"id\":\"126626\"},{\"id\":\"126648\"},{\"id\":\"126672\"}],\"location\":[0,0],\"title\":\"Country\"},\"id\":\"126625\",\"type\":\"Legend\"},{\"attributes\":{},\"id\":\"126588\",\"type\":\"SaveTool\"},{\"attributes\":{\"label\":{\"value\":\"Ireland\"},\"renderers\":[{\"id\":\"126634\"}]},\"id\":\"126648\",\"type\":\"LegendItem\"},{\"attributes\":{},\"id\":\"126581\",\"type\":\"BasicTicker\"},{\"attributes\":{\"client_comm_id\":\"2b7e3acda8914c268038d7b0a0afa43a\",\"comm_id\":\"b0671ec3dd1848899ec1aaa3bb4a6891\",\"plot_id\":\"126559\"},\"id\":\"126842\",\"type\":\"panel.models.comm_manager.CommManager\"},{\"attributes\":{\"end\":2001.0,\"reset_end\":2001.0,\"reset_start\":1991.0,\"start\":1991.0,\"tags\":[[[\"Year\",\"Year\",null]]]},\"id\":\"126566\",\"type\":\"Range1d\"},{\"attributes\":{\"source\":{\"id\":\"126650\"}},\"id\":\"126657\",\"type\":\"CDSView\"},{\"attributes\":{},\"id\":\"126605\",\"type\":\"BasicTickFormatter\"},{\"attributes\":{\"data\":{\"% Change in Nutrient Balance\":{\"__ndarray__\":\"AAAAAAAAAAAAAAAAAAAAAAEOZ59DaipAafdxVVVVJ0AKQeaBytkdQD6GQI7jOAZA9GIwmCKfJcBln66LLro2QCfId0XKwAPAQHmPmzC/I8DxeqU2takjwA==\",\"dtype\":\"float64\",\"order\":\"little\",\"shape\":[11]},\"Country\":[\"Ireland\",\"Ireland\",\"Ireland\",\"Ireland\",\"Ireland\",\"Ireland\",\"Ireland\",\"Ireland\",\"Ireland\",\"Ireland\",\"Ireland\"],\"Year\":[1991,1992,1993,1994,1995,1996,1997,1998,1999,2000,2001],\"percent_Change_in_Nutrient_Balance\":{\"__ndarray__\":\"AAAAAAAAAAAAAAAAAAAAAAEOZ59DaipAafdxVVVVJ0AKQeaBytkdQD6GQI7jOAZA9GIwmCKfJcBln66LLro2QCfId0XKwAPAQHmPmzC/I8DxeqU2takjwA==\",\"dtype\":\"float64\",\"order\":\"little\",\"shape\":[11]}},\"selected\":{\"id\":\"126629\"},\"selection_policy\":{\"id\":\"126645\"}},\"id\":\"126628\",\"type\":\"ColumnDataSource\"},{\"attributes\":{\"axis\":{\"id\":\"126584\"},\"coordinates\":null,\"dimension\":1,\"grid_line_color\":null,\"group\":null,\"ticker\":null},\"id\":\"126587\",\"type\":\"Grid\"},{\"attributes\":{\"label\":{\"value\":\"France\"},\"renderers\":[{\"id\":\"126613\"}]},\"id\":\"126626\",\"type\":\"LegendItem\"},{\"attributes\":{\"coordinates\":null,\"data_source\":{\"id\":\"126650\"},\"glyph\":{\"id\":\"126653\"},\"group\":null,\"hover_glyph\":null,\"muted_glyph\":{\"id\":\"126655\"},\"nonselection_glyph\":{\"id\":\"126654\"},\"selection_glyph\":{\"id\":\"126673\"},\"view\":{\"id\":\"126657\"}},\"id\":\"126656\",\"type\":\"GlyphRenderer\"},{\"attributes\":{\"children\":[{\"id\":\"126562\"},{\"id\":\"126565\"}],\"margin\":[0,0,0,0],\"name\":\"Row207596\"},\"id\":\"126561\",\"type\":\"Row\"},{\"attributes\":{},\"id\":\"126585\",\"type\":\"BasicTicker\"},{\"attributes\":{\"axis\":{\"id\":\"126580\"},\"coordinates\":null,\"grid_line_color\":null,\"group\":null,\"ticker\":null},\"id\":\"126583\",\"type\":\"Grid\"}],\"root_ids\":[\"126559\",\"126842\"]},\"title\":\"Bokeh Application\",\"version\":\"2.4.2\"}};\n",
       "    var render_items = [{\"docid\":\"b5ff02a3-ec8f-4c28-a064-0545c6d35f5a\",\"root_ids\":[\"126559\"],\"roots\":{\"126559\":\"c857e8fb-1dc1-4f2b-abc6-84e9fd6fd250\"}}];\n",
       "    root.Bokeh.embed.embed_items_notebook(docs_json, render_items);\n",
       "  }\n",
       "  if (root.Bokeh !== undefined && root.Bokeh.Panel !== undefined) {\n",
       "    embed_document(root);\n",
       "  } else {\n",
       "    var attempts = 0;\n",
       "    var timer = setInterval(function(root) {\n",
       "      if (root.Bokeh !== undefined && root.Bokeh.Panel !== undefined) {\n",
       "        clearInterval(timer);\n",
       "        embed_document(root);\n",
       "      } else if (document.readyState == \"complete\") {\n",
       "        attempts++;\n",
       "        if (attempts > 200) {\n",
       "          clearInterval(timer);\n",
       "          console.log(\"Bokeh: ERROR: Unable to run BokehJS code because BokehJS library is missing\");\n",
       "        }\n",
       "      }\n",
       "    }, 25, root)\n",
       "  }\n",
       "})(window);</script>"
      ],
      "text/plain": [
       "<hvplot.interactive.Interactive at 0x124711bbe50>"
      ]
     },
     "execution_count": 66,
     "metadata": {
      "application/vnd.holoviews_exec.v0+json": {
       "id": "126559"
      }
     },
     "output_type": "execute_result"
    }
   ],
   "source": [
    "#Nutrient Balance Plot\n",
    "nbplot =nb_pipeline.hvplot(x='Year', by='Country', y=yaxis_nb, line_width=2, title=\"% Change in Nutrient Balance by Country\")\n",
    "nbplot"
   ]
  },
  {
   "cell_type": "code",
   "execution_count": 67,
   "id": "23aa26df-432e-4434-9dea-d1dd8361ed40",
   "metadata": {},
   "outputs": [
    {
     "data": {},
     "metadata": {},
     "output_type": "display_data"
    },
    {
     "data": {
      "application/vnd.holoviews_exec.v0+json": "",
      "text/html": [
       "<div id='126913'>\n",
       "\n",
       "\n",
       "\n",
       "\n",
       "\n",
       "  <div class=\"bk-root\" id=\"00fe2b3a-3938-43fb-9188-131ae7d9518f\" data-root-id=\"126913\"></div>\n",
       "</div>\n",
       "<script type=\"application/javascript\">(function(root) {\n",
       "  function embed_document(root) {\n",
       "    var docs_json = {\"9309acfd-a3a7-4843-9216-de2604233d42\":{\"defs\":[{\"extends\":null,\"module\":null,\"name\":\"ReactiveHTML1\",\"overrides\":[],\"properties\":[]},{\"extends\":null,\"module\":null,\"name\":\"FlexBox1\",\"overrides\":[],\"properties\":[{\"default\":\"flex-start\",\"kind\":null,\"name\":\"align_content\"},{\"default\":\"flex-start\",\"kind\":null,\"name\":\"align_items\"},{\"default\":\"row\",\"kind\":null,\"name\":\"flex_direction\"},{\"default\":\"wrap\",\"kind\":null,\"name\":\"flex_wrap\"},{\"default\":\"flex-start\",\"kind\":null,\"name\":\"justify_content\"}]},{\"extends\":null,\"module\":null,\"name\":\"GridStack1\",\"overrides\":[],\"properties\":[{\"default\":\"warn\",\"kind\":null,\"name\":\"mode\"},{\"default\":null,\"kind\":null,\"name\":\"ncols\"},{\"default\":null,\"kind\":null,\"name\":\"nrows\"},{\"default\":true,\"kind\":null,\"name\":\"allow_resize\"},{\"default\":true,\"kind\":null,\"name\":\"allow_drag\"},{\"default\":[],\"kind\":null,\"name\":\"state\"}]},{\"extends\":null,\"module\":null,\"name\":\"click1\",\"overrides\":[],\"properties\":[{\"default\":\"\",\"kind\":null,\"name\":\"terminal_output\"},{\"default\":\"\",\"kind\":null,\"name\":\"debug_name\"},{\"default\":0,\"kind\":null,\"name\":\"clears\"}]},{\"extends\":null,\"module\":null,\"name\":\"TemplateActions1\",\"overrides\":[],\"properties\":[{\"default\":0,\"kind\":null,\"name\":\"open_modal\"},{\"default\":0,\"kind\":null,\"name\":\"close_modal\"}]},{\"extends\":null,\"module\":null,\"name\":\"MaterialTemplateActions1\",\"overrides\":[],\"properties\":[{\"default\":0,\"kind\":null,\"name\":\"open_modal\"},{\"default\":0,\"kind\":null,\"name\":\"close_modal\"}]}],\"roots\":{\"references\":[{\"attributes\":{\"columns\":[{\"id\":\"126926\"},{\"id\":\"126931\"},{\"id\":\"126936\"},{\"id\":\"126941\"}],\"configuration\":{\"columns\":[{\"field\":\"index\"},{\"field\":\"Country\"},{\"field\":\"Year\"},{\"field\":\"% Change in Nutrient Balance\"}],\"dataTree\":false,\"selectable\":true},\"indexes\":[\"index\"],\"layout\":\"fit_data_table\",\"margin\":[5,10,5,10],\"max_page\":4,\"name\":\"\",\"page\":1,\"page_size\":10,\"pagination\":\"remote\",\"select_mode\":true,\"selectable_rows\":null,\"sizing_mode\":\"stretch_width\",\"source\":{\"id\":\"126921\"},\"styles\":{\"data\":{},\"id\":\"088c589ee1274fcdbc4d57662056021d\"},\"subscribed_events\":[\"table-edit\",\"cell-click\"]},\"id\":\"126944\",\"type\":\"panel.models.tabulator.DataTabulator\"},{\"attributes\":{\"children\":[{\"id\":\"126944\"}],\"margin\":[0,0,0,0],\"name\":\"Row208254\"},\"id\":\"126920\",\"type\":\"Row\"},{\"attributes\":{\"end\":2017,\"margin\":[5,10,5,10],\"start\":1991,\"step\":3,\"title\":\"year slider\",\"value\":2001},\"id\":\"126917\",\"type\":\"Slider\"},{\"attributes\":{\"text_align\":\"right\"},\"id\":\"126934\",\"type\":\"NumberFormatter\"},{\"attributes\":{\"editor\":{\"id\":\"126940\"},\"field\":\"% Change in Nutrient Balance\",\"formatter\":{\"id\":\"126939\"},\"title\":\"% Change in Nutrient Balance\",\"width\":0},\"id\":\"126941\",\"type\":\"TableColumn\"},{\"attributes\":{\"children\":[{\"id\":\"126915\"},{\"id\":\"126920\"}],\"margin\":[0,0,0,0],\"name\":\"Column208273\"},\"id\":\"126914\",\"type\":\"Column\"},{\"attributes\":{\"client_comm_id\":\"0d96671073b646fab57eb564740ccf77\",\"comm_id\":\"8b52b86c440f4f7cb0c22de21610333a\",\"plot_id\":\"126913\"},\"id\":\"126952\",\"type\":\"panel.models.comm_manager.CommManager\"},{\"attributes\":{\"format\":\"0,0.0[00000]\",\"text_align\":\"right\"},\"id\":\"126939\",\"type\":\"NumberFormatter\"},{\"attributes\":{\"data\":{\"% Change in Nutrient Balance\":{\"__ndarray__\":\"ZmZmZmbmMMCjNp+qqqoKwAAAAAAAAAAAH4XrUbgeC0AAAAAAAAAAAAAAAAAAAAAApHA9CtdjMMCMYdIIyz0xwAEOZ59DaipAXI/C9ShcD0A=\",\"dtype\":\"float64\",\"order\":\"little\",\"shape\":[10]},\"Country\":[\"France\",\"Spain\",\"Ireland\",\"France\",\"Spain\",\"Ireland\",\"France\",\"Spain\",\"Ireland\",\"France\"],\"Year\":[1991,1991,1991,1992,1992,1992,1993,1993,1993,1994],\"index\":[0,1,2,3,4,5,6,7,8,9]},\"selected\":{\"id\":\"126922\"},\"selection_policy\":{\"id\":\"126946\"}},\"id\":\"126921\",\"type\":\"ColumnDataSource\"},{\"attributes\":{\"editor\":{\"id\":\"126930\"},\"field\":\"Country\",\"formatter\":{\"id\":\"126929\"},\"title\":\"Country\",\"width\":0},\"id\":\"126931\",\"type\":\"TableColumn\"},{\"attributes\":{},\"id\":\"126925\",\"type\":\"CellEditor\"},{\"attributes\":{\"children\":[{\"id\":\"126916\"},{\"id\":\"126919\"}],\"margin\":[0,0,0,0],\"name\":\"Row208272\"},\"id\":\"126915\",\"type\":\"Row\"},{\"attributes\":{\"children\":[{\"id\":\"126917\"},{\"id\":\"126918\"}],\"margin\":[0,0,0,0],\"name\":\"Column208249\"},\"id\":\"126916\",\"type\":\"Column\"},{\"attributes\":{\"text_align\":\"left\"},\"id\":\"126923\",\"type\":\"NumberFormatter\"},{\"attributes\":{\"editor\":{\"id\":\"126935\"},\"field\":\"Year\",\"formatter\":{\"id\":\"126934\"},\"title\":\"Year\",\"width\":0},\"id\":\"126936\",\"type\":\"TableColumn\"},{\"attributes\":{\"editor\":{\"id\":\"126925\"},\"field\":\"index\",\"formatter\":{\"id\":\"126923\"},\"title\":\"index\",\"width\":0},\"id\":\"126926\",\"type\":\"TableColumn\"},{\"attributes\":{\"active\":0,\"button_type\":\"success\",\"labels\":[\"% Change in Nutrient Balance\"],\"margin\":[5,10,5,10]},\"id\":\"126918\",\"type\":\"RadioButtonGroup\"},{\"attributes\":{},\"id\":\"126935\",\"type\":\"IntEditor\"},{\"attributes\":{\"indices\":[]},\"id\":\"126922\",\"type\":\"Selection\"},{\"attributes\":{\"children\":[{\"id\":\"126914\"}],\"margin\":[0,0,0,0],\"name\":\"Row208274\"},\"id\":\"126913\",\"type\":\"Row\"},{\"attributes\":{},\"id\":\"126929\",\"type\":\"StringFormatter\"},{\"attributes\":{},\"id\":\"126940\",\"type\":\"NumberEditor\"},{\"attributes\":{},\"id\":\"126946\",\"type\":\"UnionRenderers\"},{\"attributes\":{\"margin\":[5,5,5,5],\"name\":\"HSpacer208271\",\"sizing_mode\":\"stretch_width\"},\"id\":\"126919\",\"type\":\"Spacer\"},{\"attributes\":{},\"id\":\"126930\",\"type\":\"StringEditor\"}],\"root_ids\":[\"126913\",\"126952\"]},\"title\":\"Bokeh Application\",\"version\":\"2.4.2\"}};\n",
       "    var render_items = [{\"docid\":\"9309acfd-a3a7-4843-9216-de2604233d42\",\"root_ids\":[\"126913\"],\"roots\":{\"126913\":\"00fe2b3a-3938-43fb-9188-131ae7d9518f\"}}];\n",
       "    root.Bokeh.embed.embed_items_notebook(docs_json, render_items);\n",
       "  }\n",
       "  if (root.Bokeh !== undefined && root.Bokeh.Panel !== undefined) {\n",
       "    embed_document(root);\n",
       "  } else {\n",
       "    var attempts = 0;\n",
       "    var timer = setInterval(function(root) {\n",
       "      if (root.Bokeh !== undefined && root.Bokeh.Panel !== undefined) {\n",
       "        clearInterval(timer);\n",
       "        embed_document(root);\n",
       "      } else if (document.readyState == \"complete\") {\n",
       "        attempts++;\n",
       "        if (attempts > 200) {\n",
       "          clearInterval(timer);\n",
       "          console.log(\"Bokeh: ERROR: Unable to run BokehJS code because BokehJS library is missing\");\n",
       "        }\n",
       "      }\n",
       "    }, 25, root)\n",
       "  }\n",
       "})(window);</script>"
      ],
      "text/plain": [
       "<hvplot.interactive.Interactive at 0x124711bbee0>"
      ]
     },
     "execution_count": 67,
     "metadata": {
      "application/vnd.holoviews_exec.v0+json": {
       "id": "126913"
      }
     },
     "output_type": "execute_result"
    }
   ],
   "source": [
    "#Nutrient Balance Table\n",
    "nbtable = nb_pipeline.pipe(pn.widgets.Tabulator, pagination='remote', page_size=10, sizing_mode='stretch_width')\n",
    "nbtable"
   ]
  },
  {
   "cell_type": "code",
   "execution_count": 68,
   "id": "93d5260e-6188-4a58-b296-75ce382946fc",
   "metadata": {},
   "outputs": [],
   "source": [
    "#Radio button for Labor Input\n",
    "yaxis_li = pn.widgets.RadioButtonGroup(\n",
    "name= 'Y Axis',\n",
    "    options=['% Change in Labor Input',],\n",
    "    button_type='success'\n",
    ")"
   ]
  },
  {
   "cell_type": "code",
   "execution_count": 69,
   "id": "ba29d09e-1292-40b3-9d8d-cc9b01ef21d8",
   "metadata": {},
   "outputs": [],
   "source": [
    "#Labor Input Pipeline\n",
    "li_pipeline =(\n",
    "dd[(dd.Year <=yearslider)]\n",
    "    .groupby (['Country', 'Year']) [yaxis_li].mean()\n",
    "    .to_frame()\n",
    "    .reset_index()\n",
    "    .sort_values(by='Year')\n",
    "    .reset_index(drop=True)\n",
    ")"
   ]
  },
  {
   "cell_type": "code",
   "execution_count": 70,
   "id": "9d700edd-fd67-41f4-a8af-a77547e3cb59",
   "metadata": {},
   "outputs": [
    {
     "data": {},
     "metadata": {},
     "output_type": "display_data"
    },
    {
     "data": {},
     "metadata": {},
     "output_type": "display_data"
    },
    {
     "data": {
      "application/vnd.holoviews_exec.v0+json": "",
      "text/html": [
       "<div id='126963'>\n",
       "\n",
       "\n",
       "\n",
       "\n",
       "\n",
       "  <div class=\"bk-root\" id=\"0a1bdae1-07d1-40ab-be9f-0134e0378501\" data-root-id=\"126963\"></div>\n",
       "</div>\n",
       "<script type=\"application/javascript\">(function(root) {\n",
       "  function embed_document(root) {\n",
       "    var docs_json = {\"19f2d41c-d958-47bc-b2ac-7e9186e045f0\":{\"defs\":[{\"extends\":null,\"module\":null,\"name\":\"ReactiveHTML1\",\"overrides\":[],\"properties\":[]},{\"extends\":null,\"module\":null,\"name\":\"FlexBox1\",\"overrides\":[],\"properties\":[{\"default\":\"flex-start\",\"kind\":null,\"name\":\"align_content\"},{\"default\":\"flex-start\",\"kind\":null,\"name\":\"align_items\"},{\"default\":\"row\",\"kind\":null,\"name\":\"flex_direction\"},{\"default\":\"wrap\",\"kind\":null,\"name\":\"flex_wrap\"},{\"default\":\"flex-start\",\"kind\":null,\"name\":\"justify_content\"}]},{\"extends\":null,\"module\":null,\"name\":\"GridStack1\",\"overrides\":[],\"properties\":[{\"default\":\"warn\",\"kind\":null,\"name\":\"mode\"},{\"default\":null,\"kind\":null,\"name\":\"ncols\"},{\"default\":null,\"kind\":null,\"name\":\"nrows\"},{\"default\":true,\"kind\":null,\"name\":\"allow_resize\"},{\"default\":true,\"kind\":null,\"name\":\"allow_drag\"},{\"default\":[],\"kind\":null,\"name\":\"state\"}]},{\"extends\":null,\"module\":null,\"name\":\"click1\",\"overrides\":[],\"properties\":[{\"default\":\"\",\"kind\":null,\"name\":\"terminal_output\"},{\"default\":\"\",\"kind\":null,\"name\":\"debug_name\"},{\"default\":0,\"kind\":null,\"name\":\"clears\"}]},{\"extends\":null,\"module\":null,\"name\":\"TemplateActions1\",\"overrides\":[],\"properties\":[{\"default\":0,\"kind\":null,\"name\":\"open_modal\"},{\"default\":0,\"kind\":null,\"name\":\"close_modal\"}]},{\"extends\":null,\"module\":null,\"name\":\"MaterialTemplateActions1\",\"overrides\":[],\"properties\":[{\"default\":0,\"kind\":null,\"name\":\"open_modal\"},{\"default\":0,\"kind\":null,\"name\":\"close_modal\"}]}],\"roots\":{\"references\":[{\"attributes\":{\"children\":[{\"id\":\"126965\"},{\"id\":\"126975\"}],\"margin\":[0,0,0,0],\"name\":\"Column208562\"},\"id\":\"126964\",\"type\":\"Column\"},{\"attributes\":{},\"id\":\"127049\",\"type\":\"UnionRenderers\"},{\"attributes\":{\"below\":[{\"id\":\"126984\"}],\"center\":[{\"id\":\"126987\"},{\"id\":\"126991\"}],\"height\":300,\"left\":[{\"id\":\"126988\"}],\"margin\":[5,5,5,5],\"min_border_bottom\":10,\"min_border_left\":10,\"min_border_right\":10,\"min_border_top\":10,\"renderers\":[{\"id\":\"127017\"},{\"id\":\"127038\"},{\"id\":\"127060\"}],\"right\":[{\"id\":\"127029\"}],\"sizing_mode\":\"fixed\",\"title\":{\"id\":\"126976\"},\"toolbar\":{\"id\":\"126998\"},\"width\":700,\"x_range\":{\"id\":\"126970\"},\"x_scale\":{\"id\":\"126980\"},\"y_range\":{\"id\":\"126971\"},\"y_scale\":{\"id\":\"126982\"}},\"id\":\"126975\",\"subtype\":\"Figure\",\"type\":\"Plot\"},{\"attributes\":{\"data\":{\"% Change in Labor Input\":{\"__ndarray__\":\"cjAfOWdaJcCMmQ/LEBbxv5WmQ9Jn0gbAfAyBHMdxCMAicHUXYKEUwAJzx3c2n8s/mGf1c+LVHsB0RXWvnSgEwNQHiAWbdyDABp5aAa7dJMDzcth9x24lwA==\",\"dtype\":\"float64\",\"order\":\"little\",\"shape\":[11]},\"Country\":[\"Ireland\",\"Ireland\",\"Ireland\",\"Ireland\",\"Ireland\",\"Ireland\",\"Ireland\",\"Ireland\",\"Ireland\",\"Ireland\",\"Ireland\"],\"Year\":[1991,1992,1993,1994,1995,1996,1997,1998,1999,2000,2001],\"percent_Change_in_Labor_Input\":{\"__ndarray__\":\"cjAfOWdaJcCMmQ/LEBbxv5WmQ9Jn0gbAfAyBHMdxCMAicHUXYKEUwAJzx3c2n8s/mGf1c+LVHsB0RXWvnSgEwNQHiAWbdyDABp5aAa7dJMDzcth9x24lwA==\",\"dtype\":\"float64\",\"order\":\"little\",\"shape\":[11]}},\"selected\":{\"id\":\"127033\"},\"selection_policy\":{\"id\":\"127049\"}},\"id\":\"127032\",\"type\":\"ColumnDataSource\"},{\"attributes\":{\"axis\":{\"id\":\"126984\"},\"coordinates\":null,\"grid_line_color\":null,\"group\":null,\"ticker\":null},\"id\":\"126987\",\"type\":\"Grid\"},{\"attributes\":{\"children\":[{\"id\":\"126964\"}],\"margin\":[0,0,0,0],\"name\":\"Row208563\"},\"id\":\"126963\",\"type\":\"Row\"},{\"attributes\":{},\"id\":\"127055\",\"type\":\"Selection\"},{\"attributes\":{\"axis_label\":\"Year\",\"coordinates\":null,\"formatter\":{\"id\":\"127006\"},\"group\":null,\"major_label_policy\":{\"id\":\"127007\"},\"ticker\":{\"id\":\"126985\"}},\"id\":\"126984\",\"type\":\"LinearAxis\"},{\"attributes\":{\"coordinates\":null,\"data_source\":{\"id\":\"127054\"},\"glyph\":{\"id\":\"127057\"},\"group\":null,\"hover_glyph\":null,\"muted_glyph\":{\"id\":\"127059\"},\"nonselection_glyph\":{\"id\":\"127058\"},\"selection_glyph\":{\"id\":\"127077\"},\"view\":{\"id\":\"127061\"}},\"id\":\"127060\",\"type\":\"GlyphRenderer\"},{\"attributes\":{\"callback\":null,\"renderers\":[{\"id\":\"127017\"},{\"id\":\"127038\"},{\"id\":\"127060\"}],\"tags\":[\"hv_created\"],\"tooltips\":[[\"Country\",\"@{Country}\"],[\"Year\",\"@{Year}\"],[\"% Change in Labor Input\",\"@{percent_Change_in_Labor_Input}\"]]},\"id\":\"126972\",\"type\":\"HoverTool\"},{\"attributes\":{\"end\":2017,\"margin\":[5,10,5,10],\"start\":1991,\"step\":3,\"title\":\"year slider\",\"value\":2001},\"id\":\"126967\",\"type\":\"Slider\"},{\"attributes\":{\"active\":0,\"button_type\":\"success\",\"labels\":[\"% Change in Labor Input\"],\"margin\":[5,10,5,10]},\"id\":\"126968\",\"type\":\"RadioButtonGroup\"},{\"attributes\":{},\"id\":\"126985\",\"type\":\"BasicTicker\"},{\"attributes\":{\"end\":5.3199382392,\"reset_end\":5.3199382392,\"reset_start\":-12.1742115672,\"start\":-12.1742115672,\"tags\":[[[\"% Change in Labor Input\",\"% Change in Labor Input\",null]]]},\"id\":\"126971\",\"type\":\"Range1d\"},{\"attributes\":{\"client_comm_id\":\"47bd498c056447e99084ea4e9564fec4\",\"comm_id\":\"90f098a038d04e208394c429036fc190\",\"plot_id\":\"126963\"},\"id\":\"127246\",\"type\":\"panel.models.comm_manager.CommManager\"},{\"attributes\":{},\"id\":\"127033\",\"type\":\"Selection\"},{\"attributes\":{\"source\":{\"id\":\"127011\"}},\"id\":\"127018\",\"type\":\"CDSView\"},{\"attributes\":{\"click_policy\":\"mute\",\"coordinates\":null,\"group\":null,\"items\":[{\"id\":\"127030\"},{\"id\":\"127052\"},{\"id\":\"127076\"}],\"location\":[0,0],\"title\":\"Country\"},\"id\":\"127029\",\"type\":\"Legend\"},{\"attributes\":{\"label\":{\"value\":\"Spain\"},\"renderers\":[{\"id\":\"127060\"}]},\"id\":\"127076\",\"type\":\"LegendItem\"},{\"attributes\":{\"children\":[{\"id\":\"126966\"},{\"id\":\"126969\"}],\"margin\":[0,0,0,0],\"name\":\"Row208556\"},\"id\":\"126965\",\"type\":\"Row\"},{\"attributes\":{\"children\":[{\"id\":\"126967\"},{\"id\":\"126968\"}],\"margin\":[0,0,0,0],\"name\":\"Column208551\"},\"id\":\"126966\",\"type\":\"Column\"},{\"attributes\":{\"margin\":[5,5,5,5],\"name\":\"HSpacer208555\",\"sizing_mode\":\"stretch_width\"},\"id\":\"126969\",\"type\":\"Spacer\"},{\"attributes\":{\"axis_label\":\"% Change in Labor Input\",\"coordinates\":null,\"formatter\":{\"id\":\"127009\"},\"group\":null,\"major_label_policy\":{\"id\":\"127010\"},\"ticker\":{\"id\":\"126989\"}},\"id\":\"126988\",\"type\":\"LinearAxis\"},{\"attributes\":{},\"id\":\"126994\",\"type\":\"WheelZoomTool\"},{\"attributes\":{},\"id\":\"127012\",\"type\":\"Selection\"},{\"attributes\":{},\"id\":\"127073\",\"type\":\"UnionRenderers\"},{\"attributes\":{\"label\":{\"value\":\"Ireland\"},\"renderers\":[{\"id\":\"127038\"}]},\"id\":\"127052\",\"type\":\"LegendItem\"},{\"attributes\":{},\"id\":\"126993\",\"type\":\"PanTool\"},{\"attributes\":{},\"id\":\"126982\",\"type\":\"LinearScale\"},{\"attributes\":{\"line_color\":\"#30a2da\",\"line_width\":2,\"x\":{\"field\":\"Year\"},\"y\":{\"field\":\"% Change in Labor Input\"}},\"id\":\"127014\",\"type\":\"Line\"},{\"attributes\":{\"overlay\":{\"id\":\"126997\"}},\"id\":\"126995\",\"type\":\"BoxZoomTool\"},{\"attributes\":{\"label\":{\"value\":\"France\"},\"renderers\":[{\"id\":\"127017\"}]},\"id\":\"127030\",\"type\":\"LegendItem\"},{\"attributes\":{\"axis\":{\"id\":\"126988\"},\"coordinates\":null,\"dimension\":1,\"grid_line_color\":null,\"group\":null,\"ticker\":null},\"id\":\"126991\",\"type\":\"Grid\"},{\"attributes\":{},\"id\":\"126989\",\"type\":\"BasicTicker\"},{\"attributes\":{},\"id\":\"126992\",\"type\":\"SaveTool\"},{\"attributes\":{\"data\":{\"% Change in Labor Input\":{\"__ndarray__\":\"0LcPvegMGMDB/gJ5Kv8FwGI899wRyRDAER9ZcnW18b/VpLgDpZPxv+KwpkWMXdE/k+rB+PfW8T+Y9DS2kOUOQKuV3j54bxDAiuwJZto78L/qAElXN37Pvw==\",\"dtype\":\"float64\",\"order\":\"little\",\"shape\":[11]},\"Country\":[\"Spain\",\"Spain\",\"Spain\",\"Spain\",\"Spain\",\"Spain\",\"Spain\",\"Spain\",\"Spain\",\"Spain\",\"Spain\"],\"Year\":[1991,1992,1993,1994,1995,1996,1997,1998,1999,2000,2001],\"percent_Change_in_Labor_Input\":{\"__ndarray__\":\"0LcPvegMGMDB/gJ5Kv8FwGI899wRyRDAER9ZcnW18b/VpLgDpZPxv+KwpkWMXdE/k+rB+PfW8T+Y9DS2kOUOQKuV3j54bxDAiuwJZto78L/qAElXN37Pvw==\",\"dtype\":\"float64\",\"order\":\"little\",\"shape\":[11]}},\"selected\":{\"id\":\"127055\"},\"selection_policy\":{\"id\":\"127073\"}},\"id\":\"127054\",\"type\":\"ColumnDataSource\"},{\"attributes\":{\"line_color\":\"#e5ae38\",\"line_width\":2,\"x\":{\"field\":\"Year\"},\"y\":{\"field\":\"% Change in Labor Input\"}},\"id\":\"127077\",\"type\":\"Line\"},{\"attributes\":{\"line_alpha\":0.1,\"line_color\":\"#30a2da\",\"line_width\":2,\"x\":{\"field\":\"Year\"},\"y\":{\"field\":\"% Change in Labor Input\"}},\"id\":\"127015\",\"type\":\"Line\"},{\"attributes\":{},\"id\":\"126996\",\"type\":\"ResetTool\"},{\"attributes\":{\"coordinates\":null,\"group\":null,\"text\":\"% Change in Labor Input by Country\",\"text_color\":\"black\",\"text_font_size\":\"12pt\"},\"id\":\"126976\",\"type\":\"Title\"},{\"attributes\":{\"line_color\":\"#30a2da\",\"line_width\":2,\"x\":{\"field\":\"Year\"},\"y\":{\"field\":\"% Change in Labor Input\"}},\"id\":\"127031\",\"type\":\"Line\"},{\"attributes\":{\"line_alpha\":0.2,\"line_color\":\"#e5ae38\",\"line_width\":2,\"x\":{\"field\":\"Year\"},\"y\":{\"field\":\"% Change in Labor Input\"}},\"id\":\"127059\",\"type\":\"Line\"},{\"attributes\":{\"line_alpha\":0.2,\"line_color\":\"#fc4f30\",\"line_width\":2,\"x\":{\"field\":\"Year\"},\"y\":{\"field\":\"% Change in Labor Input\"}},\"id\":\"127037\",\"type\":\"Line\"},{\"attributes\":{\"line_alpha\":0.2,\"line_color\":\"#30a2da\",\"line_width\":2,\"x\":{\"field\":\"Year\"},\"y\":{\"field\":\"% Change in Labor Input\"}},\"id\":\"127016\",\"type\":\"Line\"},{\"attributes\":{\"data\":{\"% Change in Labor Input\":{\"__ndarray__\":\"V1uilL+GEcDF9gxBCzoRwPprANatTRXAGcDanysYDMCxGQsDyd0HwLuoprwHvATAhYxwKLYhBMD+9GeL4Cn9v7Sbxf3aifq/6RTXPSEn979aNSuCzxQFwA==\",\"dtype\":\"float64\",\"order\":\"little\",\"shape\":[11]},\"Country\":[\"France\",\"France\",\"France\",\"France\",\"France\",\"France\",\"France\",\"France\",\"France\",\"France\",\"France\"],\"Year\":[1991,1992,1993,1994,1995,1996,1997,1998,1999,2000,2001],\"percent_Change_in_Labor_Input\":{\"__ndarray__\":\"V1uilL+GEcDF9gxBCzoRwPprANatTRXAGcDanysYDMCxGQsDyd0HwLuoprwHvATAhYxwKLYhBMD+9GeL4Cn9v7Sbxf3aifq/6RTXPSEn979aNSuCzxQFwA==\",\"dtype\":\"float64\",\"order\":\"little\",\"shape\":[11]}},\"selected\":{\"id\":\"127012\"},\"selection_policy\":{\"id\":\"127026\"}},\"id\":\"127011\",\"type\":\"ColumnDataSource\"},{\"attributes\":{\"line_color\":\"#fc4f30\",\"line_width\":2,\"x\":{\"field\":\"Year\"},\"y\":{\"field\":\"% Change in Labor Input\"}},\"id\":\"127053\",\"type\":\"Line\"},{\"attributes\":{},\"id\":\"127007\",\"type\":\"AllLabels\"},{\"attributes\":{},\"id\":\"127006\",\"type\":\"BasicTickFormatter\"},{\"attributes\":{\"line_color\":\"#e5ae38\",\"line_width\":2,\"x\":{\"field\":\"Year\"},\"y\":{\"field\":\"% Change in Labor Input\"}},\"id\":\"127057\",\"type\":\"Line\"},{\"attributes\":{},\"id\":\"127026\",\"type\":\"UnionRenderers\"},{\"attributes\":{},\"id\":\"126980\",\"type\":\"LinearScale\"},{\"attributes\":{\"coordinates\":null,\"data_source\":{\"id\":\"127032\"},\"glyph\":{\"id\":\"127035\"},\"group\":null,\"hover_glyph\":null,\"muted_glyph\":{\"id\":\"127037\"},\"nonselection_glyph\":{\"id\":\"127036\"},\"selection_glyph\":{\"id\":\"127053\"},\"view\":{\"id\":\"127039\"}},\"id\":\"127038\",\"type\":\"GlyphRenderer\"},{\"attributes\":{\"coordinates\":null,\"data_source\":{\"id\":\"127011\"},\"glyph\":{\"id\":\"127014\"},\"group\":null,\"hover_glyph\":null,\"muted_glyph\":{\"id\":\"127016\"},\"nonselection_glyph\":{\"id\":\"127015\"},\"selection_glyph\":{\"id\":\"127031\"},\"view\":{\"id\":\"127018\"}},\"id\":\"127017\",\"type\":\"GlyphRenderer\"},{\"attributes\":{},\"id\":\"127010\",\"type\":\"AllLabels\"},{\"attributes\":{\"tools\":[{\"id\":\"126972\"},{\"id\":\"126992\"},{\"id\":\"126993\"},{\"id\":\"126994\"},{\"id\":\"126995\"},{\"id\":\"126996\"}]},\"id\":\"126998\",\"type\":\"Toolbar\"},{\"attributes\":{\"end\":2001.0,\"reset_end\":2001.0,\"reset_start\":1991.0,\"start\":1991.0,\"tags\":[[[\"Year\",\"Year\",null]]]},\"id\":\"126970\",\"type\":\"Range1d\"},{\"attributes\":{\"line_color\":\"#fc4f30\",\"line_width\":2,\"x\":{\"field\":\"Year\"},\"y\":{\"field\":\"% Change in Labor Input\"}},\"id\":\"127035\",\"type\":\"Line\"},{\"attributes\":{\"line_alpha\":0.1,\"line_color\":\"#e5ae38\",\"line_width\":2,\"x\":{\"field\":\"Year\"},\"y\":{\"field\":\"% Change in Labor Input\"}},\"id\":\"127058\",\"type\":\"Line\"},{\"attributes\":{\"source\":{\"id\":\"127054\"}},\"id\":\"127061\",\"type\":\"CDSView\"},{\"attributes\":{\"bottom_units\":\"screen\",\"coordinates\":null,\"fill_alpha\":0.5,\"fill_color\":\"lightgrey\",\"group\":null,\"left_units\":\"screen\",\"level\":\"overlay\",\"line_alpha\":1.0,\"line_color\":\"black\",\"line_dash\":[4,4],\"line_width\":2,\"right_units\":\"screen\",\"syncable\":false,\"top_units\":\"screen\"},\"id\":\"126997\",\"type\":\"BoxAnnotation\"},{\"attributes\":{\"source\":{\"id\":\"127032\"}},\"id\":\"127039\",\"type\":\"CDSView\"},{\"attributes\":{},\"id\":\"127009\",\"type\":\"BasicTickFormatter\"},{\"attributes\":{\"line_alpha\":0.1,\"line_color\":\"#fc4f30\",\"line_width\":2,\"x\":{\"field\":\"Year\"},\"y\":{\"field\":\"% Change in Labor Input\"}},\"id\":\"127036\",\"type\":\"Line\"}],\"root_ids\":[\"126963\",\"127246\"]},\"title\":\"Bokeh Application\",\"version\":\"2.4.2\"}};\n",
       "    var render_items = [{\"docid\":\"19f2d41c-d958-47bc-b2ac-7e9186e045f0\",\"root_ids\":[\"126963\"],\"roots\":{\"126963\":\"0a1bdae1-07d1-40ab-be9f-0134e0378501\"}}];\n",
       "    root.Bokeh.embed.embed_items_notebook(docs_json, render_items);\n",
       "  }\n",
       "  if (root.Bokeh !== undefined && root.Bokeh.Panel !== undefined) {\n",
       "    embed_document(root);\n",
       "  } else {\n",
       "    var attempts = 0;\n",
       "    var timer = setInterval(function(root) {\n",
       "      if (root.Bokeh !== undefined && root.Bokeh.Panel !== undefined) {\n",
       "        clearInterval(timer);\n",
       "        embed_document(root);\n",
       "      } else if (document.readyState == \"complete\") {\n",
       "        attempts++;\n",
       "        if (attempts > 200) {\n",
       "          clearInterval(timer);\n",
       "          console.log(\"Bokeh: ERROR: Unable to run BokehJS code because BokehJS library is missing\");\n",
       "        }\n",
       "      }\n",
       "    }, 25, root)\n",
       "  }\n",
       "})(window);</script>"
      ],
      "text/plain": [
       "<hvplot.interactive.Interactive at 0x12472728160>"
      ]
     },
     "execution_count": 70,
     "metadata": {
      "application/vnd.holoviews_exec.v0+json": {
       "id": "126963"
      }
     },
     "output_type": "execute_result"
    }
   ],
   "source": [
    "#Labor Input Plot\n",
    "liplot =li_pipeline.hvplot(x='Year', by='Country', y=yaxis_li, line_width=2, title=\"% Change in Labor Input by Country\")\n",
    "liplot"
   ]
  },
  {
   "cell_type": "code",
   "execution_count": 71,
   "id": "64f6c15a-e15b-44ab-89b8-ff51cbcd9892",
   "metadata": {},
   "outputs": [
    {
     "data": {},
     "metadata": {},
     "output_type": "display_data"
    },
    {
     "data": {
      "application/vnd.holoviews_exec.v0+json": "",
      "text/html": [
       "<div id='127317'>\n",
       "\n",
       "\n",
       "\n",
       "\n",
       "\n",
       "  <div class=\"bk-root\" id=\"a04e5028-3f1a-417c-99d9-d147da2a9527\" data-root-id=\"127317\"></div>\n",
       "</div>\n",
       "<script type=\"application/javascript\">(function(root) {\n",
       "  function embed_document(root) {\n",
       "    var docs_json = {\"8bb3585f-3491-48bf-b0c5-182e6d1c4ca8\":{\"defs\":[{\"extends\":null,\"module\":null,\"name\":\"ReactiveHTML1\",\"overrides\":[],\"properties\":[]},{\"extends\":null,\"module\":null,\"name\":\"FlexBox1\",\"overrides\":[],\"properties\":[{\"default\":\"flex-start\",\"kind\":null,\"name\":\"align_content\"},{\"default\":\"flex-start\",\"kind\":null,\"name\":\"align_items\"},{\"default\":\"row\",\"kind\":null,\"name\":\"flex_direction\"},{\"default\":\"wrap\",\"kind\":null,\"name\":\"flex_wrap\"},{\"default\":\"flex-start\",\"kind\":null,\"name\":\"justify_content\"}]},{\"extends\":null,\"module\":null,\"name\":\"GridStack1\",\"overrides\":[],\"properties\":[{\"default\":\"warn\",\"kind\":null,\"name\":\"mode\"},{\"default\":null,\"kind\":null,\"name\":\"ncols\"},{\"default\":null,\"kind\":null,\"name\":\"nrows\"},{\"default\":true,\"kind\":null,\"name\":\"allow_resize\"},{\"default\":true,\"kind\":null,\"name\":\"allow_drag\"},{\"default\":[],\"kind\":null,\"name\":\"state\"}]},{\"extends\":null,\"module\":null,\"name\":\"click1\",\"overrides\":[],\"properties\":[{\"default\":\"\",\"kind\":null,\"name\":\"terminal_output\"},{\"default\":\"\",\"kind\":null,\"name\":\"debug_name\"},{\"default\":0,\"kind\":null,\"name\":\"clears\"}]},{\"extends\":null,\"module\":null,\"name\":\"TemplateActions1\",\"overrides\":[],\"properties\":[{\"default\":0,\"kind\":null,\"name\":\"open_modal\"},{\"default\":0,\"kind\":null,\"name\":\"close_modal\"}]},{\"extends\":null,\"module\":null,\"name\":\"MaterialTemplateActions1\",\"overrides\":[],\"properties\":[{\"default\":0,\"kind\":null,\"name\":\"open_modal\"},{\"default\":0,\"kind\":null,\"name\":\"close_modal\"}]}],\"roots\":{\"references\":[{\"attributes\":{\"end\":2017,\"margin\":[5,10,5,10],\"start\":1991,\"step\":3,\"title\":\"year slider\",\"value\":2001},\"id\":\"127321\",\"type\":\"Slider\"},{\"attributes\":{\"format\":\"0,0.0[00000]\",\"text_align\":\"right\"},\"id\":\"127343\",\"type\":\"NumberFormatter\"},{\"attributes\":{\"active\":0,\"button_type\":\"success\",\"labels\":[\"% Change in Labor Input\"],\"margin\":[5,10,5,10]},\"id\":\"127322\",\"type\":\"RadioButtonGroup\"},{\"attributes\":{},\"id\":\"127350\",\"type\":\"UnionRenderers\"},{\"attributes\":{},\"id\":\"127333\",\"type\":\"StringFormatter\"},{\"attributes\":{\"children\":[{\"id\":\"127319\"},{\"id\":\"127324\"}],\"margin\":[0,0,0,0],\"name\":\"Column209233\"},\"id\":\"127318\",\"type\":\"Column\"},{\"attributes\":{},\"id\":\"127329\",\"type\":\"CellEditor\"},{\"attributes\":{\"editor\":{\"id\":\"127344\"},\"field\":\"% Change in Labor Input\",\"formatter\":{\"id\":\"127343\"},\"title\":\"% Change in Labor Input\",\"width\":0},\"id\":\"127345\",\"type\":\"TableColumn\"},{\"attributes\":{\"data\":{\"% Change in Labor Input\":{\"__ndarray__\":\"V1uilL+GEcDQtw+96AwYwHIwHzlnWiXAxfYMQQs6EcDB/gJ5Kv8FwIyZD8sQFvG/+msA1q1NFcBiPPfcEckQwJWmQ9Jn0gbAGcDanysYDMA=\",\"dtype\":\"float64\",\"order\":\"little\",\"shape\":[10]},\"Country\":[\"France\",\"Spain\",\"Ireland\",\"France\",\"Spain\",\"Ireland\",\"France\",\"Spain\",\"Ireland\",\"France\"],\"Year\":[1991,1991,1991,1992,1992,1992,1993,1993,1993,1994],\"index\":[0,1,2,3,4,5,6,7,8,9]},\"selected\":{\"id\":\"127326\"},\"selection_policy\":{\"id\":\"127350\"}},\"id\":\"127325\",\"type\":\"ColumnDataSource\"},{\"attributes\":{},\"id\":\"127334\",\"type\":\"StringEditor\"},{\"attributes\":{\"margin\":[5,5,5,5],\"name\":\"HSpacer209231\",\"sizing_mode\":\"stretch_width\"},\"id\":\"127323\",\"type\":\"Spacer\"},{\"attributes\":{\"client_comm_id\":\"80c122b631e04eac8de3ebe64c7749c1\",\"comm_id\":\"fd43f5be91c64182becef00b8a6b85cd\",\"plot_id\":\"127317\"},\"id\":\"127356\",\"type\":\"panel.models.comm_manager.CommManager\"},{\"attributes\":{\"text_align\":\"left\"},\"id\":\"127327\",\"type\":\"NumberFormatter\"},{\"attributes\":{\"children\":[{\"id\":\"127348\"}],\"margin\":[0,0,0,0],\"name\":\"Row209214\"},\"id\":\"127324\",\"type\":\"Row\"},{\"attributes\":{\"editor\":{\"id\":\"127334\"},\"field\":\"Country\",\"formatter\":{\"id\":\"127333\"},\"title\":\"Country\",\"width\":0},\"id\":\"127335\",\"type\":\"TableColumn\"},{\"attributes\":{},\"id\":\"127344\",\"type\":\"NumberEditor\"},{\"attributes\":{\"children\":[{\"id\":\"127318\"}],\"margin\":[0,0,0,0],\"name\":\"Row209234\"},\"id\":\"127317\",\"type\":\"Row\"},{\"attributes\":{\"editor\":{\"id\":\"127339\"},\"field\":\"Year\",\"formatter\":{\"id\":\"127338\"},\"title\":\"Year\",\"width\":0},\"id\":\"127340\",\"type\":\"TableColumn\"},{\"attributes\":{\"indices\":[]},\"id\":\"127326\",\"type\":\"Selection\"},{\"attributes\":{\"children\":[{\"id\":\"127321\"},{\"id\":\"127322\"}],\"margin\":[0,0,0,0],\"name\":\"Column209209\"},\"id\":\"127320\",\"type\":\"Column\"},{\"attributes\":{\"columns\":[{\"id\":\"127330\"},{\"id\":\"127335\"},{\"id\":\"127340\"},{\"id\":\"127345\"}],\"configuration\":{\"columns\":[{\"field\":\"index\"},{\"field\":\"Country\"},{\"field\":\"Year\"},{\"field\":\"% Change in Labor Input\"}],\"dataTree\":false,\"selectable\":true},\"indexes\":[\"index\"],\"layout\":\"fit_data_table\",\"margin\":[5,10,5,10],\"max_page\":4,\"name\":\"\",\"page\":1,\"page_size\":10,\"pagination\":\"remote\",\"select_mode\":true,\"selectable_rows\":null,\"sizing_mode\":\"stretch_width\",\"source\":{\"id\":\"127325\"},\"styles\":{\"data\":{},\"id\":\"5ed6b765eafd42c2bde28188e564ac4e\"},\"subscribed_events\":[\"table-edit\",\"cell-click\"]},\"id\":\"127348\",\"type\":\"panel.models.tabulator.DataTabulator\"},{\"attributes\":{\"children\":[{\"id\":\"127320\"},{\"id\":\"127323\"}],\"margin\":[0,0,0,0],\"name\":\"Row209232\"},\"id\":\"127319\",\"type\":\"Row\"},{\"attributes\":{\"editor\":{\"id\":\"127329\"},\"field\":\"index\",\"formatter\":{\"id\":\"127327\"},\"title\":\"index\",\"width\":0},\"id\":\"127330\",\"type\":\"TableColumn\"},{\"attributes\":{\"text_align\":\"right\"},\"id\":\"127338\",\"type\":\"NumberFormatter\"},{\"attributes\":{},\"id\":\"127339\",\"type\":\"IntEditor\"}],\"root_ids\":[\"127317\",\"127356\"]},\"title\":\"Bokeh Application\",\"version\":\"2.4.2\"}};\n",
       "    var render_items = [{\"docid\":\"8bb3585f-3491-48bf-b0c5-182e6d1c4ca8\",\"root_ids\":[\"127317\"],\"roots\":{\"127317\":\"a04e5028-3f1a-417c-99d9-d147da2a9527\"}}];\n",
       "    root.Bokeh.embed.embed_items_notebook(docs_json, render_items);\n",
       "  }\n",
       "  if (root.Bokeh !== undefined && root.Bokeh.Panel !== undefined) {\n",
       "    embed_document(root);\n",
       "  } else {\n",
       "    var attempts = 0;\n",
       "    var timer = setInterval(function(root) {\n",
       "      if (root.Bokeh !== undefined && root.Bokeh.Panel !== undefined) {\n",
       "        clearInterval(timer);\n",
       "        embed_document(root);\n",
       "      } else if (document.readyState == \"complete\") {\n",
       "        attempts++;\n",
       "        if (attempts > 200) {\n",
       "          clearInterval(timer);\n",
       "          console.log(\"Bokeh: ERROR: Unable to run BokehJS code because BokehJS library is missing\");\n",
       "        }\n",
       "      }\n",
       "    }, 25, root)\n",
       "  }\n",
       "})(window);</script>"
      ],
      "text/plain": [
       "<hvplot.interactive.Interactive at 0x1240103d850>"
      ]
     },
     "execution_count": 71,
     "metadata": {
      "application/vnd.holoviews_exec.v0+json": {
       "id": "127317"
      }
     },
     "output_type": "execute_result"
    }
   ],
   "source": [
    "#Labor Input Table\n",
    "litable = li_pipeline.pipe(pn.widgets.Tabulator, pagination='remote', page_size=10, sizing_mode='stretch_width')\n",
    "litable"
   ]
  },
  {
   "cell_type": "code",
   "execution_count": 72,
   "id": "0861f012-8cf8-4619-99b3-1ac20e7fc47e",
   "metadata": {},
   "outputs": [],
   "source": [
    "#ScatterPlot 1 Pipeline: Production against Nutrient Balance\n",
    "prodnbpipeline=(\n",
    "dd[(dd.Year == yearslider)]\n",
    "    .groupby(['Country', 'Year', '% Change in Nutrient Balance'])['% Change in Production'].mean()\n",
    "    .to_frame()\n",
    "    .reset_index()\n",
    "    .sort_values(by='Year')\n",
    "    .reset_index(drop=True)\n",
    ")"
   ]
  },
  {
   "cell_type": "code",
   "execution_count": 73,
   "id": "4417ae68-da02-47bd-bd22-49777b9c7741",
   "metadata": {},
   "outputs": [
    {
     "data": {},
     "metadata": {},
     "output_type": "display_data"
    },
    {
     "data": {},
     "metadata": {},
     "output_type": "display_data"
    },
    {
     "data": {
      "application/vnd.holoviews_exec.v0+json": "",
      "text/html": [
       "<div id='127367'>\n",
       "\n",
       "\n",
       "\n",
       "\n",
       "\n",
       "  <div class=\"bk-root\" id=\"da0f6af3-4c4f-400a-b10d-a1c4779f88d2\" data-root-id=\"127367\"></div>\n",
       "</div>\n",
       "<script type=\"application/javascript\">(function(root) {\n",
       "  function embed_document(root) {\n",
       "    var docs_json = {\"04bc2343-4da0-4516-8d3d-f9bcbfe3d91a\":{\"defs\":[{\"extends\":null,\"module\":null,\"name\":\"ReactiveHTML1\",\"overrides\":[],\"properties\":[]},{\"extends\":null,\"module\":null,\"name\":\"FlexBox1\",\"overrides\":[],\"properties\":[{\"default\":\"flex-start\",\"kind\":null,\"name\":\"align_content\"},{\"default\":\"flex-start\",\"kind\":null,\"name\":\"align_items\"},{\"default\":\"row\",\"kind\":null,\"name\":\"flex_direction\"},{\"default\":\"wrap\",\"kind\":null,\"name\":\"flex_wrap\"},{\"default\":\"flex-start\",\"kind\":null,\"name\":\"justify_content\"}]},{\"extends\":null,\"module\":null,\"name\":\"GridStack1\",\"overrides\":[],\"properties\":[{\"default\":\"warn\",\"kind\":null,\"name\":\"mode\"},{\"default\":null,\"kind\":null,\"name\":\"ncols\"},{\"default\":null,\"kind\":null,\"name\":\"nrows\"},{\"default\":true,\"kind\":null,\"name\":\"allow_resize\"},{\"default\":true,\"kind\":null,\"name\":\"allow_drag\"},{\"default\":[],\"kind\":null,\"name\":\"state\"}]},{\"extends\":null,\"module\":null,\"name\":\"click1\",\"overrides\":[],\"properties\":[{\"default\":\"\",\"kind\":null,\"name\":\"terminal_output\"},{\"default\":\"\",\"kind\":null,\"name\":\"debug_name\"},{\"default\":0,\"kind\":null,\"name\":\"clears\"}]},{\"extends\":null,\"module\":null,\"name\":\"TemplateActions1\",\"overrides\":[],\"properties\":[{\"default\":0,\"kind\":null,\"name\":\"open_modal\"},{\"default\":0,\"kind\":null,\"name\":\"close_modal\"}]},{\"extends\":null,\"module\":null,\"name\":\"MaterialTemplateActions1\",\"overrides\":[],\"properties\":[{\"default\":0,\"kind\":null,\"name\":\"open_modal\"},{\"default\":0,\"kind\":null,\"name\":\"close_modal\"}]}],\"roots\":{\"references\":[{\"attributes\":{},\"id\":\"127384\",\"type\":\"LinearScale\"},{\"attributes\":{},\"id\":\"127453\",\"type\":\"UnionRenderers\"},{\"attributes\":{\"axis_label\":\"% Change in Nutrient Balance\",\"coordinates\":null,\"formatter\":{\"id\":\"127410\"},\"group\":null,\"major_label_policy\":{\"id\":\"127411\"},\"ticker\":{\"id\":\"127389\"}},\"id\":\"127388\",\"type\":\"LinearAxis\"},{\"attributes\":{\"below\":[{\"id\":\"127388\"}],\"center\":[{\"id\":\"127391\"},{\"id\":\"127395\"}],\"height\":500,\"left\":[{\"id\":\"127392\"}],\"margin\":[5,5,5,5],\"min_border_bottom\":10,\"min_border_left\":10,\"min_border_right\":10,\"min_border_top\":10,\"renderers\":[{\"id\":\"127421\"},{\"id\":\"127430\"},{\"id\":\"127439\"}],\"sizing_mode\":\"fixed\",\"title\":{\"id\":\"127380\"},\"toolbar\":{\"id\":\"127402\"},\"width\":250,\"x_range\":{\"id\":\"127374\"},\"x_scale\":{\"id\":\"127384\"},\"y_range\":{\"id\":\"127375\"},\"y_scale\":{\"id\":\"127386\"}},\"id\":\"127379\",\"subtype\":\"Figure\",\"type\":\"Plot\"},{\"attributes\":{\"end\":18.8031460674,\"reset_end\":18.8031460674,\"reset_start\":-12.434606741400001,\"start\":-12.434606741400001,\"tags\":[[[\"% Change in Nutrient Balance\",\"% Change in Nutrient Balance\",null]]]},\"id\":\"127374\",\"type\":\"Range1d\"},{\"attributes\":{\"end\":2017,\"margin\":[5,10,5,10],\"start\":1991,\"step\":3,\"title\":\"year slider\",\"value\":2001},\"id\":\"127371\",\"type\":\"Slider\"},{\"attributes\":{},\"id\":\"127410\",\"type\":\"BasicTickFormatter\"},{\"attributes\":{},\"id\":\"127386\",\"type\":\"LinearScale\"},{\"attributes\":{},\"id\":\"127414\",\"type\":\"AllLabels\"},{\"attributes\":{\"fill_alpha\":{\"value\":0.7},\"fill_color\":{\"value\":\"#e5ae38\"},\"hatch_alpha\":{\"value\":0.7},\"hatch_color\":{\"value\":\"#e5ae38\"},\"line_alpha\":{\"value\":0.7},\"line_color\":{\"value\":\"#e5ae38\"},\"size\":{\"value\":4.47213595499958},\"x\":{\"field\":\"% Change in Nutrient Balance\"},\"y\":{\"field\":\"% Change in Production\"}},\"id\":\"127436\",\"type\":\"Scatter\"},{\"attributes\":{\"children\":[{\"id\":\"127370\"},{\"id\":\"127372\"}],\"margin\":[0,0,0,0],\"name\":\"Row209665\"},\"id\":\"127369\",\"type\":\"Row\"},{\"attributes\":{},\"id\":\"127396\",\"type\":\"SaveTool\"},{\"attributes\":{},\"id\":\"127398\",\"type\":\"WheelZoomTool\"},{\"attributes\":{\"children\":[{\"id\":\"127379\"}],\"margin\":[0,0,0,0],\"name\":\"Row209516\"},\"id\":\"127373\",\"type\":\"Row\"},{\"attributes\":{},\"id\":\"127413\",\"type\":\"BasicTickFormatter\"},{\"attributes\":{\"fill_alpha\":{\"value\":0.7},\"fill_color\":{\"value\":\"#fc4f30\"},\"hatch_alpha\":{\"value\":0.7},\"hatch_color\":{\"value\":\"#fc4f30\"},\"line_alpha\":{\"value\":0.7},\"line_color\":{\"value\":\"#fc4f30\"},\"size\":{\"value\":4.47213595499958},\"x\":{\"field\":\"% Change in Nutrient Balance\"},\"y\":{\"field\":\"% Change in Production\"}},\"id\":\"127427\",\"type\":\"Scatter\"},{\"attributes\":{\"children\":[{\"id\":\"127371\"}],\"margin\":[0,0,0,0],\"name\":\"Column209511\"},\"id\":\"127370\",\"type\":\"Column\"},{\"attributes\":{\"source\":{\"id\":\"127433\"}},\"id\":\"127440\",\"type\":\"CDSView\"},{\"attributes\":{},\"id\":\"127389\",\"type\":\"BasicTicker\"},{\"attributes\":{\"tools\":[{\"id\":\"127376\"},{\"id\":\"127396\"},{\"id\":\"127397\"},{\"id\":\"127398\"},{\"id\":\"127399\"},{\"id\":\"127400\"}]},\"id\":\"127402\",\"type\":\"Toolbar\"},{\"attributes\":{\"angle\":{\"value\":0.0},\"fill_alpha\":{\"value\":0.7},\"fill_color\":{\"value\":\"#30a2da\"},\"hatch_alpha\":{\"value\":0.7},\"hatch_color\":{\"value\":\"#30a2da\"},\"hatch_scale\":{\"value\":12.0},\"hatch_weight\":{\"value\":1.0},\"line_alpha\":{\"value\":0.7},\"line_cap\":{\"value\":\"butt\"},\"line_color\":{\"value\":\"#30a2da\"},\"line_dash\":{\"value\":[]},\"line_dash_offset\":{\"value\":0},\"line_join\":{\"value\":\"bevel\"},\"line_width\":{\"value\":1},\"marker\":{\"value\":\"circle\"},\"size\":{\"value\":4.47213595499958},\"x\":{\"field\":\"% Change in Nutrient Balance\"},\"y\":{\"field\":\"% Change in Production\"}},\"id\":\"127423\",\"type\":\"Scatter\"},{\"attributes\":{\"fill_alpha\":{\"value\":0.7},\"fill_color\":{\"value\":\"#e5ae38\"},\"hatch_alpha\":{\"value\":0.1},\"hatch_color\":{\"value\":\"#e5ae38\"},\"line_alpha\":{\"value\":0.7},\"line_color\":{\"value\":\"#e5ae38\"},\"size\":{\"value\":4.47213595499958},\"x\":{\"field\":\"% Change in Nutrient Balance\"},\"y\":{\"field\":\"% Change in Production\"}},\"id\":\"127437\",\"type\":\"Scatter\"},{\"attributes\":{\"coordinates\":null,\"group\":null,\"text\":\"A Scatter Plot of Production against Nutrient Balance\",\"text_color\":\"black\",\"text_font_size\":\"12pt\"},\"id\":\"127380\",\"type\":\"Title\"},{\"attributes\":{\"children\":[{\"id\":\"127368\"}],\"margin\":[0,0,0,0],\"name\":\"Row209667\"},\"id\":\"127367\",\"type\":\"Row\"},{\"attributes\":{\"angle\":{\"value\":0.0},\"fill_alpha\":{\"value\":0.7},\"fill_color\":{\"value\":\"#fc4f30\"},\"hatch_alpha\":{\"value\":0.7},\"hatch_color\":{\"value\":\"#fc4f30\"},\"hatch_scale\":{\"value\":12.0},\"hatch_weight\":{\"value\":1.0},\"line_alpha\":{\"value\":0.7},\"line_cap\":{\"value\":\"butt\"},\"line_color\":{\"value\":\"#fc4f30\"},\"line_dash\":{\"value\":[]},\"line_dash_offset\":{\"value\":0},\"line_join\":{\"value\":\"bevel\"},\"line_width\":{\"value\":1},\"marker\":{\"value\":\"circle\"},\"size\":{\"value\":4.47213595499958},\"x\":{\"field\":\"% Change in Nutrient Balance\"},\"y\":{\"field\":\"% Change in Production\"}},\"id\":\"127432\",\"type\":\"Scatter\"},{\"attributes\":{\"data\":{\"% Change in Nutrient Balance\":{\"__ndarray__\":\"8Qh7zm7h5z8=\",\"dtype\":\"float64\",\"order\":\"little\",\"shape\":[1]},\"% Change in Production\":{\"__ndarray__\":\"6DLDs/WJGEA=\",\"dtype\":\"float64\",\"order\":\"little\",\"shape\":[1]},\"Country\":[\"Spain\"],\"percent_Change_in_Nutrient_Balance\":{\"__ndarray__\":\"8Qh7zm7h5z8=\",\"dtype\":\"float64\",\"order\":\"little\",\"shape\":[1]},\"percent_Change_in_Production\":{\"__ndarray__\":\"6DLDs/WJGEA=\",\"dtype\":\"float64\",\"order\":\"little\",\"shape\":[1]}},\"selected\":{\"id\":\"127434\"},\"selection_policy\":{\"id\":\"127453\"}},\"id\":\"127433\",\"type\":\"ColumnDataSource\"},{\"attributes\":{\"fill_alpha\":{\"value\":0.2},\"fill_color\":{\"value\":\"#e5ae38\"},\"hatch_alpha\":{\"value\":0.2},\"hatch_color\":{\"value\":\"#e5ae38\"},\"line_alpha\":{\"value\":0.2},\"line_color\":{\"value\":\"#e5ae38\"},\"size\":{\"value\":4.47213595499958},\"x\":{\"field\":\"% Change in Nutrient Balance\"},\"y\":{\"field\":\"% Change in Production\"}},\"id\":\"127438\",\"type\":\"Scatter\"},{\"attributes\":{\"coordinates\":null,\"data_source\":{\"id\":\"127433\"},\"glyph\":{\"id\":\"127436\"},\"group\":null,\"hover_glyph\":null,\"muted_glyph\":{\"id\":\"127438\"},\"nonselection_glyph\":{\"id\":\"127437\"},\"selection_glyph\":{\"id\":\"127441\"},\"view\":{\"id\":\"127440\"}},\"id\":\"127439\",\"type\":\"GlyphRenderer\"},{\"attributes\":{},\"id\":\"127400\",\"type\":\"ResetTool\"},{\"attributes\":{},\"id\":\"127449\",\"type\":\"UnionRenderers\"},{\"attributes\":{},\"id\":\"127416\",\"type\":\"Selection\"},{\"attributes\":{\"bottom_units\":\"screen\",\"coordinates\":null,\"fill_alpha\":0.5,\"fill_color\":\"lightgrey\",\"group\":null,\"left_units\":\"screen\",\"level\":\"overlay\",\"line_alpha\":1.0,\"line_color\":\"black\",\"line_dash\":[4,4],\"line_width\":2,\"right_units\":\"screen\",\"syncable\":false,\"top_units\":\"screen\"},\"id\":\"127401\",\"type\":\"BoxAnnotation\"},{\"attributes\":{\"source\":{\"id\":\"127424\"}},\"id\":\"127431\",\"type\":\"CDSView\"},{\"attributes\":{\"children\":[{\"id\":\"127369\"},{\"id\":\"127373\"}],\"margin\":[0,0,0,0],\"name\":\"Column209666\"},\"id\":\"127368\",\"type\":\"Column\"},{\"attributes\":{},\"id\":\"127393\",\"type\":\"BasicTicker\"},{\"attributes\":{\"coordinates\":null,\"data_source\":{\"id\":\"127415\"},\"glyph\":{\"id\":\"127418\"},\"group\":null,\"hover_glyph\":null,\"muted_glyph\":{\"id\":\"127420\"},\"nonselection_glyph\":{\"id\":\"127419\"},\"selection_glyph\":{\"id\":\"127423\"},\"view\":{\"id\":\"127422\"}},\"id\":\"127421\",\"type\":\"GlyphRenderer\"},{\"attributes\":{\"fill_alpha\":{\"value\":0.2},\"fill_color\":{\"value\":\"#fc4f30\"},\"hatch_alpha\":{\"value\":0.2},\"hatch_color\":{\"value\":\"#fc4f30\"},\"line_alpha\":{\"value\":0.2},\"line_color\":{\"value\":\"#fc4f30\"},\"size\":{\"value\":4.47213595499958},\"x\":{\"field\":\"% Change in Nutrient Balance\"},\"y\":{\"field\":\"% Change in Production\"}},\"id\":\"127429\",\"type\":\"Scatter\"},{\"attributes\":{\"axis\":{\"id\":\"127388\"},\"coordinates\":null,\"grid_line_color\":null,\"group\":null,\"ticker\":null},\"id\":\"127391\",\"type\":\"Grid\"},{\"attributes\":{},\"id\":\"127425\",\"type\":\"Selection\"},{\"attributes\":{\"angle\":{\"value\":0.0},\"fill_alpha\":{\"value\":0.7},\"fill_color\":{\"value\":\"#e5ae38\"},\"hatch_alpha\":{\"value\":0.7},\"hatch_color\":{\"value\":\"#e5ae38\"},\"hatch_scale\":{\"value\":12.0},\"hatch_weight\":{\"value\":1.0},\"line_alpha\":{\"value\":0.7},\"line_cap\":{\"value\":\"butt\"},\"line_color\":{\"value\":\"#e5ae38\"},\"line_dash\":{\"value\":[]},\"line_dash_offset\":{\"value\":0},\"line_join\":{\"value\":\"bevel\"},\"line_width\":{\"value\":1},\"marker\":{\"value\":\"circle\"},\"size\":{\"value\":4.47213595499958},\"x\":{\"field\":\"% Change in Nutrient Balance\"},\"y\":{\"field\":\"% Change in Production\"}},\"id\":\"127441\",\"type\":\"Scatter\"},{\"attributes\":{\"fill_alpha\":{\"value\":0.7},\"fill_color\":{\"value\":\"#fc4f30\"},\"hatch_alpha\":{\"value\":0.1},\"hatch_color\":{\"value\":\"#fc4f30\"},\"line_alpha\":{\"value\":0.7},\"line_color\":{\"value\":\"#fc4f30\"},\"size\":{\"value\":4.47213595499958},\"x\":{\"field\":\"% Change in Nutrient Balance\"},\"y\":{\"field\":\"% Change in Production\"}},\"id\":\"127428\",\"type\":\"Scatter\"},{\"attributes\":{\"data\":{\"% Change in Nutrient Balance\":{\"__ndarray__\":\"8XqlNrWpI8A=\",\"dtype\":\"float64\",\"order\":\"little\",\"shape\":[1]},\"% Change in Production\":{\"__ndarray__\":\"wmItbj6+9T8=\",\"dtype\":\"float64\",\"order\":\"little\",\"shape\":[1]},\"Country\":[\"Ireland\"],\"percent_Change_in_Nutrient_Balance\":{\"__ndarray__\":\"8XqlNrWpI8A=\",\"dtype\":\"float64\",\"order\":\"little\",\"shape\":[1]},\"percent_Change_in_Production\":{\"__ndarray__\":\"wmItbj6+9T8=\",\"dtype\":\"float64\",\"order\":\"little\",\"shape\":[1]}},\"selected\":{\"id\":\"127425\"},\"selection_policy\":{\"id\":\"127451\"}},\"id\":\"127424\",\"type\":\"ColumnDataSource\"},{\"attributes\":{\"callback\":null,\"renderers\":[{\"id\":\"127421\"},{\"id\":\"127430\"},{\"id\":\"127439\"}],\"tags\":[\"hv_created\"],\"tooltips\":[[\"Country\",\"@{Country}\"],[\"% Change in Nutrient Balance\",\"@{percent_Change_in_Nutrient_Balance}\"],[\"% Change in Production\",\"@{percent_Change_in_Production}\"]]},\"id\":\"127376\",\"type\":\"HoverTool\"},{\"attributes\":{\"source\":{\"id\":\"127415\"}},\"id\":\"127422\",\"type\":\"CDSView\"},{\"attributes\":{\"coordinates\":null,\"data_source\":{\"id\":\"127424\"},\"glyph\":{\"id\":\"127427\"},\"group\":null,\"hover_glyph\":null,\"muted_glyph\":{\"id\":\"127429\"},\"nonselection_glyph\":{\"id\":\"127428\"},\"selection_glyph\":{\"id\":\"127432\"},\"view\":{\"id\":\"127431\"}},\"id\":\"127430\",\"type\":\"GlyphRenderer\"},{\"attributes\":{},\"id\":\"127451\",\"type\":\"UnionRenderers\"},{\"attributes\":{},\"id\":\"127434\",\"type\":\"Selection\"},{\"attributes\":{\"client_comm_id\":\"385b1765acfd43548b1e78370cc9578e\",\"comm_id\":\"8101120a8f7442c395427a4dba0eb06f\",\"plot_id\":\"127367\"},\"id\":\"127610\",\"type\":\"panel.models.comm_manager.CommManager\"},{\"attributes\":{\"end\":6.374462659100001,\"reset_end\":6.374462659100001,\"reset_start\":1.1002636829,\"start\":1.1002636829,\"tags\":[[[\"% Change in Production\",\"% Change in Production\",null]]]},\"id\":\"127375\",\"type\":\"Range1d\"},{\"attributes\":{\"fill_alpha\":{\"value\":0.7},\"fill_color\":{\"value\":\"#30a2da\"},\"hatch_alpha\":{\"value\":0.7},\"hatch_color\":{\"value\":\"#30a2da\"},\"line_alpha\":{\"value\":0.7},\"line_color\":{\"value\":\"#30a2da\"},\"size\":{\"value\":4.47213595499958},\"x\":{\"field\":\"% Change in Nutrient Balance\"},\"y\":{\"field\":\"% Change in Production\"}},\"id\":\"127418\",\"type\":\"Scatter\"},{\"attributes\":{},\"id\":\"127397\",\"type\":\"PanTool\"},{\"attributes\":{\"axis\":{\"id\":\"127392\"},\"coordinates\":null,\"dimension\":1,\"grid_line_color\":null,\"group\":null,\"ticker\":null},\"id\":\"127395\",\"type\":\"Grid\"},{\"attributes\":{\"fill_alpha\":{\"value\":0.2},\"fill_color\":{\"value\":\"#30a2da\"},\"hatch_alpha\":{\"value\":0.2},\"hatch_color\":{\"value\":\"#30a2da\"},\"line_alpha\":{\"value\":0.2},\"line_color\":{\"value\":\"#30a2da\"},\"size\":{\"value\":4.47213595499958},\"x\":{\"field\":\"% Change in Nutrient Balance\"},\"y\":{\"field\":\"% Change in Production\"}},\"id\":\"127420\",\"type\":\"Scatter\"},{\"attributes\":{\"data\":{\"% Change in Nutrient Balance\":{\"__ndarray__\":\"MzMzMzMzMEA=\",\"dtype\":\"float64\",\"order\":\"little\",\"shape\":[1]},\"% Change in Production\":{\"__ndarray__\":\"cT0K16Nw9T8=\",\"dtype\":\"float64\",\"order\":\"little\",\"shape\":[1]},\"Country\":[\"France\"],\"percent_Change_in_Nutrient_Balance\":{\"__ndarray__\":\"MzMzMzMzMEA=\",\"dtype\":\"float64\",\"order\":\"little\",\"shape\":[1]},\"percent_Change_in_Production\":{\"__ndarray__\":\"cT0K16Nw9T8=\",\"dtype\":\"float64\",\"order\":\"little\",\"shape\":[1]}},\"selected\":{\"id\":\"127416\"},\"selection_policy\":{\"id\":\"127449\"}},\"id\":\"127415\",\"type\":\"ColumnDataSource\"},{\"attributes\":{\"axis_label\":\"% Change in Production\",\"coordinates\":null,\"formatter\":{\"id\":\"127413\"},\"group\":null,\"major_label_policy\":{\"id\":\"127414\"},\"ticker\":{\"id\":\"127393\"}},\"id\":\"127392\",\"type\":\"LinearAxis\"},{\"attributes\":{},\"id\":\"127411\",\"type\":\"AllLabels\"},{\"attributes\":{\"overlay\":{\"id\":\"127401\"}},\"id\":\"127399\",\"type\":\"BoxZoomTool\"},{\"attributes\":{\"fill_alpha\":{\"value\":0.7},\"fill_color\":{\"value\":\"#30a2da\"},\"hatch_alpha\":{\"value\":0.1},\"hatch_color\":{\"value\":\"#30a2da\"},\"line_alpha\":{\"value\":0.7},\"line_color\":{\"value\":\"#30a2da\"},\"size\":{\"value\":4.47213595499958},\"x\":{\"field\":\"% Change in Nutrient Balance\"},\"y\":{\"field\":\"% Change in Production\"}},\"id\":\"127419\",\"type\":\"Scatter\"},{\"attributes\":{\"margin\":[5,5,5,5],\"name\":\"HSpacer209664\",\"sizing_mode\":\"stretch_width\"},\"id\":\"127372\",\"type\":\"Spacer\"}],\"root_ids\":[\"127367\",\"127610\"]},\"title\":\"Bokeh Application\",\"version\":\"2.4.2\"}};\n",
       "    var render_items = [{\"docid\":\"04bc2343-4da0-4516-8d3d-f9bcbfe3d91a\",\"root_ids\":[\"127367\"],\"roots\":{\"127367\":\"da0f6af3-4c4f-400a-b10d-a1c4779f88d2\"}}];\n",
       "    root.Bokeh.embed.embed_items_notebook(docs_json, render_items);\n",
       "  }\n",
       "  if (root.Bokeh !== undefined && root.Bokeh.Panel !== undefined) {\n",
       "    embed_document(root);\n",
       "  } else {\n",
       "    var attempts = 0;\n",
       "    var timer = setInterval(function(root) {\n",
       "      if (root.Bokeh !== undefined && root.Bokeh.Panel !== undefined) {\n",
       "        clearInterval(timer);\n",
       "        embed_document(root);\n",
       "      } else if (document.readyState == \"complete\") {\n",
       "        attempts++;\n",
       "        if (attempts > 200) {\n",
       "          clearInterval(timer);\n",
       "          console.log(\"Bokeh: ERROR: Unable to run BokehJS code because BokehJS library is missing\");\n",
       "        }\n",
       "      }\n",
       "    }, 25, root)\n",
       "  }\n",
       "})(window);</script>"
      ],
      "text/plain": [
       "<hvplot.interactive.Interactive at 0x12401004a00>"
      ]
     },
     "execution_count": 73,
     "metadata": {
      "application/vnd.holoviews_exec.v0+json": {
       "id": "127367"
      }
     },
     "output_type": "execute_result"
    }
   ],
   "source": [
    "prodnbscatterplot = prodnbpipeline.hvplot(x='% Change in Nutrient Balance', y='% Change in Production',by='Country', alpha=0.7, size=20, kind=\"scatter\",\n",
    "                                          title=\"A Scatter Plot of Production against Nutrient Balance\", legend=False, height=500, width=250)\n",
    "prodnbscatterplot"
   ]
  },
  {
   "cell_type": "code",
   "execution_count": 74,
   "id": "81c01bc4-bfd6-43dd-a49b-215cceec740b",
   "metadata": {},
   "outputs": [],
   "source": [
    "#ScatterPlot 1 Pipeline: Production against Labor Input\n",
    "prodlipipeline=(\n",
    "dd[(dd.Year == yearslider)]\n",
    "    .groupby(['Country', 'Year', '% Change in Labor Input'])['% Change in Production'].mean()\n",
    "    .to_frame()\n",
    "    .reset_index()\n",
    "    .sort_values(by='Year')\n",
    "    .reset_index(drop=True)\n",
    ")"
   ]
  },
  {
   "cell_type": "code",
   "execution_count": 75,
   "id": "f05664e6-63cc-4136-afe1-942c68368179",
   "metadata": {},
   "outputs": [
    {
     "data": {},
     "metadata": {},
     "output_type": "display_data"
    },
    {
     "data": {},
     "metadata": {},
     "output_type": "display_data"
    },
    {
     "data": {
      "application/vnd.holoviews_exec.v0+json": "",
      "text/html": [
       "<div id='127681'>\n",
       "\n",
       "\n",
       "\n",
       "\n",
       "\n",
       "  <div class=\"bk-root\" id=\"d50a467e-0f82-4f37-b58e-e0b67e456ff7\" data-root-id=\"127681\"></div>\n",
       "</div>\n",
       "<script type=\"application/javascript\">(function(root) {\n",
       "  function embed_document(root) {\n",
       "    var docs_json = {\"ab07b0fa-9c1b-4543-9fce-faddd4809aed\":{\"defs\":[{\"extends\":null,\"module\":null,\"name\":\"ReactiveHTML1\",\"overrides\":[],\"properties\":[]},{\"extends\":null,\"module\":null,\"name\":\"FlexBox1\",\"overrides\":[],\"properties\":[{\"default\":\"flex-start\",\"kind\":null,\"name\":\"align_content\"},{\"default\":\"flex-start\",\"kind\":null,\"name\":\"align_items\"},{\"default\":\"row\",\"kind\":null,\"name\":\"flex_direction\"},{\"default\":\"wrap\",\"kind\":null,\"name\":\"flex_wrap\"},{\"default\":\"flex-start\",\"kind\":null,\"name\":\"justify_content\"}]},{\"extends\":null,\"module\":null,\"name\":\"GridStack1\",\"overrides\":[],\"properties\":[{\"default\":\"warn\",\"kind\":null,\"name\":\"mode\"},{\"default\":null,\"kind\":null,\"name\":\"ncols\"},{\"default\":null,\"kind\":null,\"name\":\"nrows\"},{\"default\":true,\"kind\":null,\"name\":\"allow_resize\"},{\"default\":true,\"kind\":null,\"name\":\"allow_drag\"},{\"default\":[],\"kind\":null,\"name\":\"state\"}]},{\"extends\":null,\"module\":null,\"name\":\"click1\",\"overrides\":[],\"properties\":[{\"default\":\"\",\"kind\":null,\"name\":\"terminal_output\"},{\"default\":\"\",\"kind\":null,\"name\":\"debug_name\"},{\"default\":0,\"kind\":null,\"name\":\"clears\"}]},{\"extends\":null,\"module\":null,\"name\":\"TemplateActions1\",\"overrides\":[],\"properties\":[{\"default\":0,\"kind\":null,\"name\":\"open_modal\"},{\"default\":0,\"kind\":null,\"name\":\"close_modal\"}]},{\"extends\":null,\"module\":null,\"name\":\"MaterialTemplateActions1\",\"overrides\":[],\"properties\":[{\"default\":0,\"kind\":null,\"name\":\"open_modal\"},{\"default\":0,\"kind\":null,\"name\":\"close_modal\"}]}],\"roots\":{\"references\":[{\"attributes\":{\"coordinates\":null,\"group\":null,\"text\":\"A Scatter Plot of Production against Labor Input\",\"text_color\":\"black\",\"text_font_size\":\"12pt\"},\"id\":\"127694\",\"type\":\"Title\"},{\"attributes\":{\"fill_alpha\":{\"value\":0.7},\"fill_color\":{\"value\":\"#30a2da\"},\"hatch_alpha\":{\"value\":0.7},\"hatch_color\":{\"value\":\"#30a2da\"},\"line_alpha\":{\"value\":0.7},\"line_color\":{\"value\":\"#30a2da\"},\"size\":{\"value\":4.47213595499958},\"x\":{\"field\":\"% Change in Labor Input\"},\"y\":{\"field\":\"% Change in Production\"}},\"id\":\"127732\",\"type\":\"Scatter\"},{\"attributes\":{\"fill_alpha\":{\"value\":0.7},\"fill_color\":{\"value\":\"#fc4f30\"},\"hatch_alpha\":{\"value\":0.1},\"hatch_color\":{\"value\":\"#fc4f30\"},\"line_alpha\":{\"value\":0.7},\"line_color\":{\"value\":\"#fc4f30\"},\"size\":{\"value\":4.47213595499958},\"x\":{\"field\":\"% Change in Labor Input\"},\"y\":{\"field\":\"% Change in Production\"}},\"id\":\"127742\",\"type\":\"Scatter\"},{\"attributes\":{\"children\":[{\"id\":\"127682\"}],\"margin\":[0,0,0,0],\"name\":\"Row210575\"},\"id\":\"127681\",\"type\":\"Row\"},{\"attributes\":{\"client_comm_id\":\"ee1425a5890c4420927565bd78871daa\",\"comm_id\":\"01df0e866c7a4fff8d32ce67c460c524\",\"plot_id\":\"127681\"},\"id\":\"127924\",\"type\":\"panel.models.comm_manager.CommManager\"},{\"attributes\":{\"children\":[{\"id\":\"127684\"},{\"id\":\"127686\"}],\"margin\":[0,0,0,0],\"name\":\"Row210573\"},\"id\":\"127683\",\"type\":\"Row\"},{\"attributes\":{\"axis_label\":\"% Change in Production\",\"coordinates\":null,\"formatter\":{\"id\":\"127727\"},\"group\":null,\"major_label_policy\":{\"id\":\"127728\"},\"ticker\":{\"id\":\"127707\"}},\"id\":\"127706\",\"type\":\"LinearAxis\"},{\"attributes\":{\"data\":{\"% Change in Labor Input\":{\"__ndarray__\":\"83LYfcduJcA=\",\"dtype\":\"float64\",\"order\":\"little\",\"shape\":[1]},\"% Change in Production\":{\"__ndarray__\":\"wmItbj6+9T8=\",\"dtype\":\"float64\",\"order\":\"little\",\"shape\":[1]},\"Country\":[\"Ireland\"],\"percent_Change_in_Labor_Input\":{\"__ndarray__\":\"83LYfcduJcA=\",\"dtype\":\"float64\",\"order\":\"little\",\"shape\":[1]},\"percent_Change_in_Production\":{\"__ndarray__\":\"wmItbj6+9T8=\",\"dtype\":\"float64\",\"order\":\"little\",\"shape\":[1]}},\"selected\":{\"id\":\"127739\"},\"selection_policy\":{\"id\":\"127765\"}},\"id\":\"127738\",\"type\":\"ColumnDataSource\"},{\"attributes\":{\"callback\":null,\"renderers\":[{\"id\":\"127735\"},{\"id\":\"127744\"},{\"id\":\"127753\"}],\"tags\":[\"hv_created\"],\"tooltips\":[[\"Country\",\"@{Country}\"],[\"% Change in Labor Input\",\"@{percent_Change_in_Labor_Input}\"],[\"% Change in Production\",\"@{percent_Change_in_Production}\"]]},\"id\":\"127690\",\"type\":\"HoverTool\"},{\"attributes\":{\"angle\":{\"value\":0.0},\"fill_alpha\":{\"value\":0.7},\"fill_color\":{\"value\":\"#e5ae38\"},\"hatch_alpha\":{\"value\":0.7},\"hatch_color\":{\"value\":\"#e5ae38\"},\"hatch_scale\":{\"value\":12.0},\"hatch_weight\":{\"value\":1.0},\"line_alpha\":{\"value\":0.7},\"line_cap\":{\"value\":\"butt\"},\"line_color\":{\"value\":\"#e5ae38\"},\"line_dash\":{\"value\":[]},\"line_dash_offset\":{\"value\":0},\"line_join\":{\"value\":\"bevel\"},\"line_width\":{\"value\":1},\"marker\":{\"value\":\"circle\"},\"size\":{\"value\":4.47213595499958},\"x\":{\"field\":\"% Change in Labor Input\"},\"y\":{\"field\":\"% Change in Production\"}},\"id\":\"127755\",\"type\":\"Scatter\"},{\"attributes\":{\"end\":6.374462659100001,\"reset_end\":6.374462659100001,\"reset_start\":1.1002636829,\"start\":1.1002636829,\"tags\":[[[\"% Change in Production\",\"% Change in Production\",null]]]},\"id\":\"127689\",\"type\":\"Range1d\"},{\"attributes\":{\"fill_alpha\":{\"value\":0.7},\"fill_color\":{\"value\":\"#30a2da\"},\"hatch_alpha\":{\"value\":0.1},\"hatch_color\":{\"value\":\"#30a2da\"},\"line_alpha\":{\"value\":0.7},\"line_color\":{\"value\":\"#30a2da\"},\"size\":{\"value\":4.47213595499958},\"x\":{\"field\":\"% Change in Labor Input\"},\"y\":{\"field\":\"% Change in Production\"}},\"id\":\"127733\",\"type\":\"Scatter\"},{\"attributes\":{\"fill_alpha\":{\"value\":0.7},\"fill_color\":{\"value\":\"#fc4f30\"},\"hatch_alpha\":{\"value\":0.7},\"hatch_color\":{\"value\":\"#fc4f30\"},\"line_alpha\":{\"value\":0.7},\"line_color\":{\"value\":\"#fc4f30\"},\"size\":{\"value\":4.47213595499958},\"x\":{\"field\":\"% Change in Labor Input\"},\"y\":{\"field\":\"% Change in Production\"}},\"id\":\"127741\",\"type\":\"Scatter\"},{\"attributes\":{},\"id\":\"127724\",\"type\":\"BasicTickFormatter\"},{\"attributes\":{},\"id\":\"127748\",\"type\":\"Selection\"},{\"attributes\":{\"axis_label\":\"% Change in Labor Input\",\"coordinates\":null,\"formatter\":{\"id\":\"127724\"},\"group\":null,\"major_label_policy\":{\"id\":\"127725\"},\"ticker\":{\"id\":\"127703\"}},\"id\":\"127702\",\"type\":\"LinearAxis\"},{\"attributes\":{\"children\":[{\"id\":\"127683\"},{\"id\":\"127687\"}],\"margin\":[0,0,0,0],\"name\":\"Column210574\"},\"id\":\"127682\",\"type\":\"Column\"},{\"attributes\":{\"angle\":{\"value\":0.0},\"fill_alpha\":{\"value\":0.7},\"fill_color\":{\"value\":\"#fc4f30\"},\"hatch_alpha\":{\"value\":0.7},\"hatch_color\":{\"value\":\"#fc4f30\"},\"hatch_scale\":{\"value\":12.0},\"hatch_weight\":{\"value\":1.0},\"line_alpha\":{\"value\":0.7},\"line_cap\":{\"value\":\"butt\"},\"line_color\":{\"value\":\"#fc4f30\"},\"line_dash\":{\"value\":[]},\"line_dash_offset\":{\"value\":0},\"line_join\":{\"value\":\"bevel\"},\"line_width\":{\"value\":1},\"marker\":{\"value\":\"circle\"},\"size\":{\"value\":4.47213595499958},\"x\":{\"field\":\"% Change in Labor Input\"},\"y\":{\"field\":\"% Change in Production\"}},\"id\":\"127746\",\"type\":\"Scatter\"},{\"attributes\":{\"axis\":{\"id\":\"127706\"},\"coordinates\":null,\"dimension\":1,\"grid_line_color\":null,\"group\":null,\"ticker\":null},\"id\":\"127709\",\"type\":\"Grid\"},{\"attributes\":{\"angle\":{\"value\":0.0},\"fill_alpha\":{\"value\":0.7},\"fill_color\":{\"value\":\"#30a2da\"},\"hatch_alpha\":{\"value\":0.7},\"hatch_color\":{\"value\":\"#30a2da\"},\"hatch_scale\":{\"value\":12.0},\"hatch_weight\":{\"value\":1.0},\"line_alpha\":{\"value\":0.7},\"line_cap\":{\"value\":\"butt\"},\"line_color\":{\"value\":\"#30a2da\"},\"line_dash\":{\"value\":[]},\"line_dash_offset\":{\"value\":0},\"line_join\":{\"value\":\"bevel\"},\"line_width\":{\"value\":1},\"marker\":{\"value\":\"circle\"},\"size\":{\"value\":4.47213595499958},\"x\":{\"field\":\"% Change in Labor Input\"},\"y\":{\"field\":\"% Change in Production\"}},\"id\":\"127737\",\"type\":\"Scatter\"},{\"attributes\":{},\"id\":\"127707\",\"type\":\"BasicTicker\"},{\"attributes\":{\"children\":[{\"id\":\"127693\"}],\"margin\":[0,0,0,0],\"name\":\"Row210424\"},\"id\":\"127687\",\"type\":\"Row\"},{\"attributes\":{\"source\":{\"id\":\"127729\"}},\"id\":\"127736\",\"type\":\"CDSView\"},{\"attributes\":{\"fill_alpha\":{\"value\":0.2},\"fill_color\":{\"value\":\"#fc4f30\"},\"hatch_alpha\":{\"value\":0.2},\"hatch_color\":{\"value\":\"#fc4f30\"},\"line_alpha\":{\"value\":0.2},\"line_color\":{\"value\":\"#fc4f30\"},\"size\":{\"value\":4.47213595499958},\"x\":{\"field\":\"% Change in Labor Input\"},\"y\":{\"field\":\"% Change in Production\"}},\"id\":\"127743\",\"type\":\"Scatter\"},{\"attributes\":{},\"id\":\"127711\",\"type\":\"PanTool\"},{\"attributes\":{},\"id\":\"127728\",\"type\":\"AllLabels\"},{\"attributes\":{\"fill_alpha\":{\"value\":0.7},\"fill_color\":{\"value\":\"#e5ae38\"},\"hatch_alpha\":{\"value\":0.7},\"hatch_color\":{\"value\":\"#e5ae38\"},\"line_alpha\":{\"value\":0.7},\"line_color\":{\"value\":\"#e5ae38\"},\"size\":{\"value\":4.47213595499958},\"x\":{\"field\":\"% Change in Labor Input\"},\"y\":{\"field\":\"% Change in Production\"}},\"id\":\"127750\",\"type\":\"Scatter\"},{\"attributes\":{},\"id\":\"127763\",\"type\":\"UnionRenderers\"},{\"attributes\":{\"end\":0.8009933318,\"reset_end\":0.8009933318,\"reset_start\":-11.7633983938,\"start\":-11.7633983938,\"tags\":[[[\"% Change in Labor Input\",\"% Change in Labor Input\",null]]]},\"id\":\"127688\",\"type\":\"Range1d\"},{\"attributes\":{\"coordinates\":null,\"data_source\":{\"id\":\"127747\"},\"glyph\":{\"id\":\"127750\"},\"group\":null,\"hover_glyph\":null,\"muted_glyph\":{\"id\":\"127752\"},\"nonselection_glyph\":{\"id\":\"127751\"},\"selection_glyph\":{\"id\":\"127755\"},\"view\":{\"id\":\"127754\"}},\"id\":\"127753\",\"type\":\"GlyphRenderer\"},{\"attributes\":{},\"id\":\"127725\",\"type\":\"AllLabels\"},{\"attributes\":{},\"id\":\"127739\",\"type\":\"Selection\"},{\"attributes\":{\"data\":{\"% Change in Labor Input\":{\"__ndarray__\":\"WjUrgs8UBcA=\",\"dtype\":\"float64\",\"order\":\"little\",\"shape\":[1]},\"% Change in Production\":{\"__ndarray__\":\"cT0K16Nw9T8=\",\"dtype\":\"float64\",\"order\":\"little\",\"shape\":[1]},\"Country\":[\"France\"],\"percent_Change_in_Labor_Input\":{\"__ndarray__\":\"WjUrgs8UBcA=\",\"dtype\":\"float64\",\"order\":\"little\",\"shape\":[1]},\"percent_Change_in_Production\":{\"__ndarray__\":\"cT0K16Nw9T8=\",\"dtype\":\"float64\",\"order\":\"little\",\"shape\":[1]}},\"selected\":{\"id\":\"127730\"},\"selection_policy\":{\"id\":\"127763\"}},\"id\":\"127729\",\"type\":\"ColumnDataSource\"},{\"attributes\":{},\"id\":\"127712\",\"type\":\"WheelZoomTool\"},{\"attributes\":{\"tools\":[{\"id\":\"127690\"},{\"id\":\"127710\"},{\"id\":\"127711\"},{\"id\":\"127712\"},{\"id\":\"127713\"},{\"id\":\"127714\"}]},\"id\":\"127716\",\"type\":\"Toolbar\"},{\"attributes\":{\"fill_alpha\":{\"value\":0.2},\"fill_color\":{\"value\":\"#30a2da\"},\"hatch_alpha\":{\"value\":0.2},\"hatch_color\":{\"value\":\"#30a2da\"},\"line_alpha\":{\"value\":0.2},\"line_color\":{\"value\":\"#30a2da\"},\"size\":{\"value\":4.47213595499958},\"x\":{\"field\":\"% Change in Labor Input\"},\"y\":{\"field\":\"% Change in Production\"}},\"id\":\"127734\",\"type\":\"Scatter\"},{\"attributes\":{\"fill_alpha\":{\"value\":0.7},\"fill_color\":{\"value\":\"#e5ae38\"},\"hatch_alpha\":{\"value\":0.1},\"hatch_color\":{\"value\":\"#e5ae38\"},\"line_alpha\":{\"value\":0.7},\"line_color\":{\"value\":\"#e5ae38\"},\"size\":{\"value\":4.47213595499958},\"x\":{\"field\":\"% Change in Labor Input\"},\"y\":{\"field\":\"% Change in Production\"}},\"id\":\"127751\",\"type\":\"Scatter\"},{\"attributes\":{\"fill_alpha\":{\"value\":0.2},\"fill_color\":{\"value\":\"#e5ae38\"},\"hatch_alpha\":{\"value\":0.2},\"hatch_color\":{\"value\":\"#e5ae38\"},\"line_alpha\":{\"value\":0.2},\"line_color\":{\"value\":\"#e5ae38\"},\"size\":{\"value\":4.47213595499958},\"x\":{\"field\":\"% Change in Labor Input\"},\"y\":{\"field\":\"% Change in Production\"}},\"id\":\"127752\",\"type\":\"Scatter\"},{\"attributes\":{},\"id\":\"127703\",\"type\":\"BasicTicker\"},{\"attributes\":{\"coordinates\":null,\"data_source\":{\"id\":\"127729\"},\"glyph\":{\"id\":\"127732\"},\"group\":null,\"hover_glyph\":null,\"muted_glyph\":{\"id\":\"127734\"},\"nonselection_glyph\":{\"id\":\"127733\"},\"selection_glyph\":{\"id\":\"127737\"},\"view\":{\"id\":\"127736\"}},\"id\":\"127735\",\"type\":\"GlyphRenderer\"},{\"attributes\":{\"margin\":[5,5,5,5],\"name\":\"HSpacer210572\",\"sizing_mode\":\"stretch_width\"},\"id\":\"127686\",\"type\":\"Spacer\"},{\"attributes\":{\"source\":{\"id\":\"127738\"}},\"id\":\"127745\",\"type\":\"CDSView\"},{\"attributes\":{},\"id\":\"127767\",\"type\":\"UnionRenderers\"},{\"attributes\":{},\"id\":\"127765\",\"type\":\"UnionRenderers\"},{\"attributes\":{\"children\":[{\"id\":\"127685\"}],\"margin\":[0,0,0,0],\"name\":\"Column210419\"},\"id\":\"127684\",\"type\":\"Column\"},{\"attributes\":{\"bottom_units\":\"screen\",\"coordinates\":null,\"fill_alpha\":0.5,\"fill_color\":\"lightgrey\",\"group\":null,\"left_units\":\"screen\",\"level\":\"overlay\",\"line_alpha\":1.0,\"line_color\":\"black\",\"line_dash\":[4,4],\"line_width\":2,\"right_units\":\"screen\",\"syncable\":false,\"top_units\":\"screen\"},\"id\":\"127715\",\"type\":\"BoxAnnotation\"},{\"attributes\":{\"axis\":{\"id\":\"127702\"},\"coordinates\":null,\"grid_line_color\":null,\"group\":null,\"ticker\":null},\"id\":\"127705\",\"type\":\"Grid\"},{\"attributes\":{},\"id\":\"127727\",\"type\":\"BasicTickFormatter\"},{\"attributes\":{},\"id\":\"127698\",\"type\":\"LinearScale\"},{\"attributes\":{\"overlay\":{\"id\":\"127715\"}},\"id\":\"127713\",\"type\":\"BoxZoomTool\"},{\"attributes\":{\"source\":{\"id\":\"127747\"}},\"id\":\"127754\",\"type\":\"CDSView\"},{\"attributes\":{\"below\":[{\"id\":\"127702\"}],\"center\":[{\"id\":\"127705\"},{\"id\":\"127709\"}],\"height\":500,\"left\":[{\"id\":\"127706\"}],\"margin\":[5,5,5,5],\"min_border_bottom\":10,\"min_border_left\":10,\"min_border_right\":10,\"min_border_top\":10,\"renderers\":[{\"id\":\"127735\"},{\"id\":\"127744\"},{\"id\":\"127753\"}],\"sizing_mode\":\"fixed\",\"title\":{\"id\":\"127694\"},\"toolbar\":{\"id\":\"127716\"},\"width\":250,\"x_range\":{\"id\":\"127688\"},\"x_scale\":{\"id\":\"127698\"},\"y_range\":{\"id\":\"127689\"},\"y_scale\":{\"id\":\"127700\"}},\"id\":\"127693\",\"subtype\":\"Figure\",\"type\":\"Plot\"},{\"attributes\":{\"coordinates\":null,\"data_source\":{\"id\":\"127738\"},\"glyph\":{\"id\":\"127741\"},\"group\":null,\"hover_glyph\":null,\"muted_glyph\":{\"id\":\"127743\"},\"nonselection_glyph\":{\"id\":\"127742\"},\"selection_glyph\":{\"id\":\"127746\"},\"view\":{\"id\":\"127745\"}},\"id\":\"127744\",\"type\":\"GlyphRenderer\"},{\"attributes\":{},\"id\":\"127730\",\"type\":\"Selection\"},{\"attributes\":{\"data\":{\"% Change in Labor Input\":{\"__ndarray__\":\"6gBJVzd+z78=\",\"dtype\":\"float64\",\"order\":\"little\",\"shape\":[1]},\"% Change in Production\":{\"__ndarray__\":\"6DLDs/WJGEA=\",\"dtype\":\"float64\",\"order\":\"little\",\"shape\":[1]},\"Country\":[\"Spain\"],\"percent_Change_in_Labor_Input\":{\"__ndarray__\":\"6gBJVzd+z78=\",\"dtype\":\"float64\",\"order\":\"little\",\"shape\":[1]},\"percent_Change_in_Production\":{\"__ndarray__\":\"6DLDs/WJGEA=\",\"dtype\":\"float64\",\"order\":\"little\",\"shape\":[1]}},\"selected\":{\"id\":\"127748\"},\"selection_policy\":{\"id\":\"127767\"}},\"id\":\"127747\",\"type\":\"ColumnDataSource\"},{\"attributes\":{},\"id\":\"127710\",\"type\":\"SaveTool\"},{\"attributes\":{},\"id\":\"127700\",\"type\":\"LinearScale\"},{\"attributes\":{\"end\":2017,\"margin\":[5,10,5,10],\"start\":1991,\"step\":3,\"title\":\"year slider\",\"value\":2001},\"id\":\"127685\",\"type\":\"Slider\"},{\"attributes\":{},\"id\":\"127714\",\"type\":\"ResetTool\"}],\"root_ids\":[\"127681\",\"127924\"]},\"title\":\"Bokeh Application\",\"version\":\"2.4.2\"}};\n",
       "    var render_items = [{\"docid\":\"ab07b0fa-9c1b-4543-9fce-faddd4809aed\",\"root_ids\":[\"127681\"],\"roots\":{\"127681\":\"d50a467e-0f82-4f37-b58e-e0b67e456ff7\"}}];\n",
       "    root.Bokeh.embed.embed_items_notebook(docs_json, render_items);\n",
       "  }\n",
       "  if (root.Bokeh !== undefined && root.Bokeh.Panel !== undefined) {\n",
       "    embed_document(root);\n",
       "  } else {\n",
       "    var attempts = 0;\n",
       "    var timer = setInterval(function(root) {\n",
       "      if (root.Bokeh !== undefined && root.Bokeh.Panel !== undefined) {\n",
       "        clearInterval(timer);\n",
       "        embed_document(root);\n",
       "      } else if (document.readyState == \"complete\") {\n",
       "        attempts++;\n",
       "        if (attempts > 200) {\n",
       "          clearInterval(timer);\n",
       "          console.log(\"Bokeh: ERROR: Unable to run BokehJS code because BokehJS library is missing\");\n",
       "        }\n",
       "      }\n",
       "    }, 25, root)\n",
       "  }\n",
       "})(window);</script>"
      ],
      "text/plain": [
       "<hvplot.interactive.Interactive at 0x12400b1d0a0>"
      ]
     },
     "execution_count": 75,
     "metadata": {
      "application/vnd.holoviews_exec.v0+json": {
       "id": "127681"
      }
     },
     "output_type": "execute_result"
    }
   ],
   "source": [
    "prodliscatterplot = prodlipipeline.hvplot(x='% Change in Labor Input', y='% Change in Production', title=\"A Scatter Plot of Production against Labor Input\", by='Country', size=20, kind=\"scatter\", alpha=0.7, legend=False, height=500, width=250)\n",
    "prodliscatterplot"
   ]
  },
  {
   "cell_type": "code",
   "execution_count": 76,
   "id": "c4758f30-4efa-4ca4-8dd1-6a9d04030612",
   "metadata": {},
   "outputs": [
    {
     "name": "stdout",
     "output_type": "stream",
     "text": [
      "Launching server at http://localhost:50355\n"
     ]
    }
   ],
   "source": [
    "#Creatig the Dashboard\n",
    "template=pn.template.FastListTemplate(\n",
    "title='Impacts of Nutrient Balance and Labor Input on Agricultural Production: Case of Ireland, Spain and France',\n",
    "    sidebar=\n",
    "    [pn.pane.Markdown(\"# Impacts of Nutrient Balance and Labor Input on Agricultural Production: Case of Ireland, Spain and France\"),\n",
    "    pn.pane.Markdown(\"### After Conducting Regression data analysis on EU agricultural sector in data for Ireland, Spain, and France, Nutrient Balance and Labor Input were founf to have insginificant impact of Agricultural Production\"),\n",
    "    pn.pane.PNG('datajm.png', sizing_mode='scale_both'),\n",
    "    pn.pane.Markdown(\"# settings\"), yearslider],\n",
    "main= [pn.Row(pn.Column(yaxis_prod, Prodplot.panel(width=500),margin=(0,25)),\n",
    "        prod_table.panel(width=500)),\n",
    "        pn.Row(pn.Column(yaxis_nb, nbplot.panel(width=500),margin=(0,25)),\n",
    "       nbtable.panel(width=500)),\n",
    "       pn.Row(pn.Column(yaxis_li, liplot.panel(width=500),margin=(0,25)),\n",
    "        litable.panel(width=500)),\n",
    "       pn.Row(pn.Column(prodnbscatterplot.panel(width=500), margin=(0,25)), \n",
    "              pn.Column(prodliscatterplot.panel(width=500), margin=(0,25)))],\n",
    "  accent_base_color=\"#88d8b0\",\n",
    "header_background=\"#88d8b0\",)\n",
    "template.show()\n",
    "template.servable();\n"
   ]
  },
  {
   "cell_type": "code",
   "execution_count": 77,
   "id": "6f738c73-2a61-40f0-9527-2498a8fced4b",
   "metadata": {},
   "outputs": [],
   "source": [
    "#WSentment Analysis\n"
   ]
  },
  {
   "cell_type": "code",
   "execution_count": 78,
   "id": "4993a966-09a3-443b-a1da-aa192a376989",
   "metadata": {},
   "outputs": [],
   "source": [
    "tweet = \"@eu Nutrient Balance and Labor Input do not significantly impact Agricultural Prosuction in EU\"\n"
   ]
  },
  {
   "cell_type": "code",
   "execution_count": 79,
   "id": "766b3be0-fa1b-47e9-b546-773d32ff72da",
   "metadata": {},
   "outputs": [],
   "source": [
    "#process tweer\n",
    "tweet_words =[]\n",
    "for word in tweet.split('spaces'):\n",
    "    if word.startswith('@') and len(word)> 1:\n",
    "        word ='@user'\n",
    "tweet_proc =''.join(tweet_words)\n",
    "        "
   ]
  },
  {
   "cell_type": "code",
   "execution_count": 80,
   "id": "7bb42c68-dc8c-4ce7-bd4f-2b84a5f714f6",
   "metadata": {},
   "outputs": [],
   "source": [
    "#tweet processing\n",
    "tweet_proc = \" \".join(tweet_words)\n"
   ]
  },
  {
   "cell_type": "code",
   "execution_count": 86,
   "id": "1b8f80d4-a979-4ef1-8a3e-085ecbf801c7",
   "metadata": {},
   "outputs": [],
   "source": [
    "#Load model and Tokenizer\n",
    "roberta = \"cardiffnlp/twitter-roberta-base-sentiment\"\n",
    "model = AutoModelForSequenceClassification. from_pretrained(roberta)\n",
    "tokenizer=AutoTokenizer.from_pretrained(roberta)\n",
    "lebles= ['Negative', 'Neutral','Positive']"
   ]
  },
  {
   "cell_type": "code",
   "execution_count": 87,
   "id": "9467c641-1f02-4c31-98de-71e374f30028",
   "metadata": {},
   "outputs": [],
   "source": [
    "#Sentiment Analysis\n",
    "encoded_tweet =tokenizer(tweet_proc, return_tensors='pt')\n",
    "output = model(**encoded_tweet)\n",
    "scores =output[0][0].detach().numpy()\n",
    "scores = softmax(scores)"
   ]
  },
  {
   "cell_type": "code",
   "execution_count": 88,
   "id": "b99692f6-1273-4d2c-8e4d-24dc12696b8c",
   "metadata": {},
   "outputs": [],
   "source": [
    "output = model(encoded_tweet['input_ids'], encoded_tweet['attention_mask'])\n"
   ]
  },
  {
   "cell_type": "code",
   "execution_count": 89,
   "id": "7b199388-1666-4091-a65c-42e185a1ef09",
   "metadata": {},
   "outputs": [
    {
     "name": "stdout",
     "output_type": "stream",
     "text": [
      "SequenceClassifierOutput(loss=None, logits=tensor([[-0.1757,  0.3822, -0.0584]], grad_fn=<AddmmBackward0>), hidden_states=None, attentions=None)\n"
     ]
    }
   ],
   "source": [
    "print(output)"
   ]
  },
  {
   "cell_type": "code",
   "execution_count": 90,
   "id": "4e8e1977-af01-4216-95fd-1861784ddbad",
   "metadata": {},
   "outputs": [
    {
     "name": "stdout",
     "output_type": "stream",
     "text": [
      "[0.2582943 0.4512725 0.2904333]\n"
     ]
    }
   ],
   "source": [
    "print(scores)"
   ]
  },
  {
   "cell_type": "raw",
   "id": "5a736355",
   "metadata": {},
   "source": [
    "THE End."
   ]
  }
 ],
 "metadata": {
  "kernelspec": {
   "display_name": "Python 3 (ipykernel)",
   "language": "python",
   "name": "python3"
  },
  "language_info": {
   "codemirror_mode": {
    "name": "ipython",
    "version": 3
   },
   "file_extension": ".py",
   "mimetype": "text/x-python",
   "name": "python",
   "nbconvert_exporter": "python",
   "pygments_lexer": "ipython3",
   "version": "3.9.12"
  }
 },
 "nbformat": 4,
 "nbformat_minor": 5
}
