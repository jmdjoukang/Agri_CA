{
 "cells": [
  {
   "cell_type": "code",
   "execution_count": 137,
   "id": "504ddbdd-d89c-4099-a292-b6970ec710cc",
   "metadata": {},
   "outputs": [],
   "source": [
    "#Importing Liberaries\n",
    "import pandas as pd\n",
    "import numpy as np\n",
    "import matplotlib.pyplot as plt\n",
    "%matplotlib inline\n",
    "import seaborn as sns\n",
    "from sklearn.linear_model import LinearRegression\n",
    "from scipy.stats import skew\n",
    "from scipy.stats import kurtosis\n",
    "from sklearn.metrics import r2_score\n",
    "from sklearn import linear_model\n",
    "import statsmodels.api as sm \n",
    "from scipy.stats import poisson"
   ]
  },
  {
   "cell_type": "code",
   "execution_count": 87,
   "id": "690d9aa4-0750-4d52-b89a-4d14a38625dc",
   "metadata": {},
   "outputs": [],
   "source": [
    "#Import data from Excel (csv) file"
   ]
  },
  {
   "cell_type": "code",
   "execution_count": 14,
   "id": "afd69c93-c4b8-42a8-bca9-ac6327c25502",
   "metadata": {},
   "outputs": [],
   "source": [
    "data = pd.read_csv(\"4967370.csv\", encoding=('ISO-8859-1'))"
   ]
  },
  {
   "cell_type": "code",
   "execution_count": 5,
   "id": "cc2bcd68-48f3-4064-ad01-dba8383b35af",
   "metadata": {},
   "outputs": [],
   "source": [
    "#Removing missing values"
   ]
  },
  {
   "cell_type": "code",
   "execution_count": 15,
   "id": "90453def-b1bd-4f97-a4de-fe5378c05075",
   "metadata": {},
   "outputs": [],
   "source": [
    "nds = data.fillna({'No of Spaces': 0, 'Amount Paid':0})"
   ]
  },
  {
   "cell_type": "code",
   "execution_count": 7,
   "id": "b601883b-d6ca-4477-adab-48705f13a449",
   "metadata": {},
   "outputs": [],
   "source": [
    "#viewing the dataset"
   ]
  },
  {
   "cell_type": "code",
   "execution_count": 8,
   "id": "863ebb30-f870-47d3-94ca-1bf71be48b0f",
   "metadata": {},
   "outputs": [
    {
     "data": {
      "text/html": [
       "<div>\n",
       "<style scoped>\n",
       "    .dataframe tbody tr th:only-of-type {\n",
       "        vertical-align: middle;\n",
       "    }\n",
       "\n",
       "    .dataframe tbody tr th {\n",
       "        vertical-align: top;\n",
       "    }\n",
       "\n",
       "    .dataframe thead th {\n",
       "        text-align: right;\n",
       "    }\n",
       "</style>\n",
       "<table border=\"1\" class=\"dataframe\">\n",
       "  <thead>\n",
       "    <tr style=\"text-align: right;\">\n",
       "      <th></th>\n",
       "      <th>No of Spaces</th>\n",
       "      <th>Amount Paid</th>\n",
       "    </tr>\n",
       "  </thead>\n",
       "  <tbody>\n",
       "    <tr>\n",
       "      <th>0</th>\n",
       "      <td>2.0</td>\n",
       "      <td>82.0</td>\n",
       "    </tr>\n",
       "    <tr>\n",
       "      <th>1</th>\n",
       "      <td>5.0</td>\n",
       "      <td>152.0</td>\n",
       "    </tr>\n",
       "    <tr>\n",
       "      <th>2</th>\n",
       "      <td>3.0</td>\n",
       "      <td>114.0</td>\n",
       "    </tr>\n",
       "    <tr>\n",
       "      <th>3</th>\n",
       "      <td>4.0</td>\n",
       "      <td>152.0</td>\n",
       "    </tr>\n",
       "    <tr>\n",
       "      <th>4</th>\n",
       "      <td>4.0</td>\n",
       "      <td>152.0</td>\n",
       "    </tr>\n",
       "  </tbody>\n",
       "</table>\n",
       "</div>"
      ],
      "text/plain": [
       "   No of Spaces  Amount Paid\n",
       "0           2.0         82.0\n",
       "1           5.0        152.0\n",
       "2           3.0        114.0\n",
       "3           4.0        152.0\n",
       "4           4.0        152.0"
      ]
     },
     "execution_count": 8,
     "metadata": {},
     "output_type": "execute_result"
    }
   ],
   "source": [
    "nds.head()"
   ]
  },
  {
   "cell_type": "code",
   "execution_count": 9,
   "id": "426a5fd6-d632-4fa4-ae30-91fec46afcf9",
   "metadata": {},
   "outputs": [],
   "source": [
    "#Descriptive statistics computation"
   ]
  },
  {
   "cell_type": "code",
   "execution_count": 10,
   "id": "b032ab44-6ec9-4899-9e36-c2d826aa6b4d",
   "metadata": {},
   "outputs": [
    {
     "data": {
      "text/html": [
       "<div>\n",
       "<style scoped>\n",
       "    .dataframe tbody tr th:only-of-type {\n",
       "        vertical-align: middle;\n",
       "    }\n",
       "\n",
       "    .dataframe tbody tr th {\n",
       "        vertical-align: top;\n",
       "    }\n",
       "\n",
       "    .dataframe thead th {\n",
       "        text-align: right;\n",
       "    }\n",
       "</style>\n",
       "<table border=\"1\" class=\"dataframe\">\n",
       "  <thead>\n",
       "    <tr style=\"text-align: right;\">\n",
       "      <th></th>\n",
       "      <th>No of Spaces</th>\n",
       "      <th>Amount Paid</th>\n",
       "    </tr>\n",
       "  </thead>\n",
       "  <tbody>\n",
       "    <tr>\n",
       "      <th>count</th>\n",
       "      <td>2292.000000</td>\n",
       "      <td>2292.000000</td>\n",
       "    </tr>\n",
       "    <tr>\n",
       "      <th>mean</th>\n",
       "      <td>6.097295</td>\n",
       "      <td>310.301047</td>\n",
       "    </tr>\n",
       "    <tr>\n",
       "      <th>std</th>\n",
       "      <td>8.102500</td>\n",
       "      <td>762.140301</td>\n",
       "    </tr>\n",
       "    <tr>\n",
       "      <th>min</th>\n",
       "      <td>0.000000</td>\n",
       "      <td>-76.000000</td>\n",
       "    </tr>\n",
       "    <tr>\n",
       "      <th>25%</th>\n",
       "      <td>3.000000</td>\n",
       "      <td>82.000000</td>\n",
       "    </tr>\n",
       "    <tr>\n",
       "      <th>50%</th>\n",
       "      <td>4.000000</td>\n",
       "      <td>152.000000</td>\n",
       "    </tr>\n",
       "    <tr>\n",
       "      <th>75%</th>\n",
       "      <td>6.000000</td>\n",
       "      <td>287.000000</td>\n",
       "    </tr>\n",
       "    <tr>\n",
       "      <th>max</th>\n",
       "      <td>190.000000</td>\n",
       "      <td>17201.000000</td>\n",
       "    </tr>\n",
       "  </tbody>\n",
       "</table>\n",
       "</div>"
      ],
      "text/plain": [
       "       No of Spaces   Amount Paid\n",
       "count   2292.000000   2292.000000\n",
       "mean       6.097295    310.301047\n",
       "std        8.102500    762.140301\n",
       "min        0.000000    -76.000000\n",
       "25%        3.000000     82.000000\n",
       "50%        4.000000    152.000000\n",
       "75%        6.000000    287.000000\n",
       "max      190.000000  17201.000000"
      ]
     },
     "execution_count": 10,
     "metadata": {},
     "output_type": "execute_result"
    }
   ],
   "source": [
    "nds.describe()"
   ]
  },
  {
   "cell_type": "code",
   "execution_count": 17,
   "id": "e8c7ce90-8440-4346-9f70-9d59637d0764",
   "metadata": {},
   "outputs": [],
   "source": [
    "#Skewness computation"
   ]
  },
  {
   "cell_type": "code",
   "execution_count": 89,
   "id": "2893168d-0b28-4b68-a883-2fb69742a73b",
   "metadata": {},
   "outputs": [
    {
     "name": "stdout",
     "output_type": "stream",
     "text": [
      "No of Spaces\n",
      "11.141227141850557\n"
     ]
    },
    {
     "name": "stderr",
     "output_type": "stream",
     "text": [
      "C:\\Users\\user\\anaconda3\\lib\\site-packages\\seaborn\\distributions.py:2619: FutureWarning: `distplot` is a deprecated function and will be removed in a future version. Please adapt your code to use either `displot` (a figure-level function with similar flexibility) or `histplot` (an axes-level function for histograms).\n",
      "  warnings.warn(msg, FutureWarning)\n"
     ]
    },
    {
     "data": {
      "image/png": "[encoded data removed]",
      "text/plain": [
       "<Figure size 640x480 with 1 Axes>"
      ]
     },
     "metadata": {},
     "output_type": "display_data"
    },
    {
     "name": "stdout",
     "output_type": "stream",
     "text": [
      "Amount Paid\n",
      "11.031753965656838\n"
     ]
    },
    {
     "name": "stderr",
     "output_type": "stream",
     "text": [
      "C:\\Users\\user\\anaconda3\\lib\\site-packages\\seaborn\\distributions.py:2619: FutureWarning: `distplot` is a deprecated function and will be removed in a future version. Please adapt your code to use either `displot` (a figure-level function with similar flexibility) or `histplot` (an axes-level function for histograms).\n",
      "  warnings.warn(msg, FutureWarning)\n"
     ]
    },
    {
     "data": {
      "image/png": "[encoded data removed]",
      "text/plain": [
       "<Figure size 640x480 with 1 Axes>"
      ]
     },
     "metadata": {},
     "output_type": "display_data"
    }
   ],
   "source": [
    "for col in nds:\n",
    "    print(col)\n",
    "    print(skew(nds[col]))\n",
    "    \n",
    "    plt.figure()\n",
    "    sns.distplot(nds[col])\n",
    "    plt.show()"
   ]
  },
  {
   "cell_type": "code",
   "execution_count": 18,
   "id": "dfa2020b-fe87-48b8-b105-15a98d5878f1",
   "metadata": {},
   "outputs": [],
   "source": [
    "#Kurtosis omputation"
   ]
  },
  {
   "cell_type": "code",
   "execution_count": 88,
   "id": "94cdf92d-55bb-4f06-901f-ef861f62c09f",
   "metadata": {},
   "outputs": [
    {
     "name": "stdout",
     "output_type": "stream",
     "text": [
      "No of Spaces\n",
      "198.1290396468463\n",
      "Amount Paid\n",
      "172.39447399686767\n"
     ]
    }
   ],
   "source": [
    "for col in nds:\n",
    "    print(col)\n",
    "    print(kurtosis(nds[col]))"
   ]
  },
  {
   "cell_type": "code",
   "execution_count": 24,
   "id": "45775cc2-134e-4e93-9412-2b5f9e48bda5",
   "metadata": {},
   "outputs": [],
   "source": [
    "#Computing Correlation"
   ]
  },
  {
   "cell_type": "code",
   "execution_count": 25,
   "id": "f60e6855-205d-463c-b873-a60b468353db",
   "metadata": {},
   "outputs": [
    {
     "data": {
      "image/png": "[encoded data removed]",
      "text/plain": [
       "<Figure size 640x480 with 2 Axes>"
      ]
     },
     "metadata": {},
     "output_type": "display_data"
    }
   ],
   "source": [
    "sns.heatmap(nds.corr(),annot=True)\n",
    "plt.show()"
   ]
  },
  {
   "cell_type": "code",
   "execution_count": 29,
   "id": "ba1e66eb-cfdd-4778-86de-4278f093fafc",
   "metadata": {},
   "outputs": [],
   "source": [
    "#Linear regression analysis"
   ]
  },
  {
   "cell_type": "code",
   "execution_count": 130,
   "id": "566591eb-4efc-47f8-bd9d-42c0e0fbfa48",
   "metadata": {},
   "outputs": [],
   "source": [
    "x= np.array(nds[\"No of Spaces\"]).reshape(-1,1)"
   ]
  },
  {
   "cell_type": "code",
   "execution_count": 131,
   "id": "dfe3207e-0da4-42dc-93da-ed1c7d77e076",
   "metadata": {},
   "outputs": [],
   "source": [
    "y =np.array(nds[\"Amount Paid\"]).reshape(-1,1)"
   ]
  },
  {
   "cell_type": "code",
   "execution_count": 78,
   "id": "07690f3b-ac85-449d-b889-9d39f3ccac1d",
   "metadata": {},
   "outputs": [],
   "source": [
    "y_pred = lr.predict(x)"
   ]
  },
  {
   "cell_type": "code",
   "execution_count": 136,
   "id": "e8888c71-8080-4a24-a3f3-214b65785de2",
   "metadata": {},
   "outputs": [
    {
     "data": {
      "text/plain": [
       "Text(0, 0.5, 'Amount Paid')"
      ]
     },
     "execution_count": 136,
     "metadata": {},
     "output_type": "execute_result"
    },
    {
     "data": {
      "image/png": "[encoded data removed]",
      "text/plain": [
       "<Figure size 640x480 with 1 Axes>"
      ]
     },
     "metadata": {},
     "output_type": "display_data"
    }
   ],
   "source": [
    "plt.scatter(x,y)\n",
    "plt.plot(x, y_pred, color='black')\n",
    "plt.title('Amount Paid against No of Spaces Scatterplot')\n",
    "plt.xlabel('No of Spaces')\n",
    "plt.ylabel('Amount Paid')"
   ]
  },
  {
   "cell_type": "code",
   "execution_count": 132,
   "id": "f586385e-75f6-4b78-92c9-89016220b233",
   "metadata": {},
   "outputs": [],
   "source": [
    "lm=linear_model.LinearRegression()\n",
    "model= lm.fit(x,y)"
   ]
  },
  {
   "cell_type": "code",
   "execution_count": 117,
   "id": "cd8f4b12-0b50-47be-9dc1-291485740a07",
   "metadata": {},
   "outputs": [
    {
     "data": {
      "text/plain": [
       "array([[13.37570434]])"
      ]
     },
     "execution_count": 117,
     "metadata": {},
     "output_type": "execute_result"
    }
   ],
   "source": [
    "model.coef_"
   ]
  },
  {
   "cell_type": "code",
   "execution_count": 118,
   "id": "be0c20dd-f78a-4f92-bf2d-d6acd538478c",
   "metadata": {},
   "outputs": [
    {
     "data": {
      "text/plain": [
       "array([228.74543277])"
      ]
     },
     "execution_count": 118,
     "metadata": {},
     "output_type": "execute_result"
    }
   ],
   "source": [
    "model.intercept_"
   ]
  },
  {
   "cell_type": "code",
   "execution_count": 119,
   "id": "80f47bd7-7708-4a15-a8b7-330f7930d019",
   "metadata": {},
   "outputs": [
    {
     "data": {
      "text/plain": [
       "0.020220948688272733"
      ]
     },
     "execution_count": 119,
     "metadata": {},
     "output_type": "execute_result"
    }
   ],
   "source": [
    "model.score(x,y)"
   ]
  },
  {
   "cell_type": "code",
   "execution_count": null,
   "id": "70856265-98b4-418c-a677-8e11825a8435",
   "metadata": {},
   "outputs": [],
   "source": [
    "#OLS regrssion analysis"
   ]
  },
  {
   "cell_type": "code",
   "execution_count": 121,
   "id": "67853c06-4ef6-4cbd-8c0e-584413b3fe4d",
   "metadata": {},
   "outputs": [],
   "source": [
    "reg = sm.OLS(x,y)"
   ]
  },
  {
   "cell_type": "code",
   "execution_count": 124,
   "id": "3239783d-fb5f-4e31-baea-5981931ceb2b",
   "metadata": {},
   "outputs": [],
   "source": [
    "results = reg.fit()"
   ]
  },
  {
   "cell_type": "code",
   "execution_count": 128,
   "id": "424ca49b-9b60-47b2-82cc-111963917911",
   "metadata": {},
   "outputs": [
    {
     "name": "stdout",
     "output_type": "stream",
     "text": [
      "                                 OLS Regression Results                                \n",
      "=======================================================================================\n",
      "Dep. Variable:                      y   R-squared (uncentered):                   0.110\n",
      "Model:                            OLS   Adj. R-squared (uncentered):              0.110\n",
      "Method:                 Least Squares   F-statistic:                              283.9\n",
      "Date:                Tue, 01 Nov 2022   Prob (F-statistic):                    3.86e-60\n",
      "Time:                        19:57:34   Log-Likelihood:                         -8427.5\n",
      "No. Observations:                2292   AIC:                                  1.686e+04\n",
      "Df Residuals:                    2291   BIC:                                  1.686e+04\n",
      "Df Model:                           1                                                  \n",
      "Covariance Type:            nonrobust                                                  \n",
      "==============================================================================\n",
      "                 coef    std err          t      P>|t|      [0.025      0.975]\n",
      "------------------------------------------------------------------------------\n",
      "x1             0.0041      0.000     16.849      0.000       0.004       0.005\n",
      "==============================================================================\n",
      "Omnibus:                     3642.767   Durbin-Watson:                   1.307\n",
      "Prob(Omnibus):                  0.000   Jarque-Bera (JB):          3506559.072\n",
      "Skew:                           9.792   Prob(JB):                         0.00\n",
      "Kurtosis:                     193.616   Cond. No.                         1.00\n",
      "==============================================================================\n",
      "\n",
      "Notes:\n",
      "[1] R² is computed without centering (uncentered) since the model does not contain a constant.\n",
      "[2] Standard Errors assume that the covariance matrix of the errors is correctly specified.\n"
     ]
    }
   ],
   "source": [
    "print(results.summary())"
   ]
  },
  {
   "cell_type": "code",
   "execution_count": null,
   "id": "a1552662-710b-4e48-8536-6e6783043eee",
   "metadata": {},
   "outputs": [],
   "source": [
    "#Computation of poisson distribution probalities"
   ]
  },
  {
   "cell_type": "code",
   "execution_count": 154,
   "id": "22f65343-a820-48d6-a96c-51a351ff8f1f",
   "metadata": {},
   "outputs": [
    {
     "data": {
      "text/plain": [
       "0.4924470659757598"
      ]
     },
     "execution_count": 154,
     "metadata": {},
     "output_type": "execute_result"
    }
   ],
   "source": [
    "poisson.cdf(309,310)"
   ]
  },
  {
   "cell_type": "code",
   "execution_count": 155,
   "id": "cef18dd0-4e4c-4692-8ca4-0f8a69e9b46b",
   "metadata": {},
   "outputs": [
    {
     "data": {
      "text/plain": [
       "0.44567964136461097"
      ]
     },
     "execution_count": 155,
     "metadata": {},
     "output_type": "execute_result"
    }
   ],
   "source": [
    "poisson.cdf(5,6)"
   ]
  },
  {
   "cell_type": "code",
   "execution_count": 156,
   "id": "d7cb6e96-bd7f-472c-b225-29c5d0548613",
   "metadata": {},
   "outputs": [
    {
     "data": {
      "text/plain": [
       "0.4849006252374277"
      ]
     },
     "execution_count": 156,
     "metadata": {},
     "output_type": "execute_result"
    }
   ],
   "source": [
    "poisson.sf(310, 310)"
   ]
  },
  {
   "cell_type": "code",
   "execution_count": 158,
   "id": "31f6b966-5fb7-44db-acc3-49ab7ccf1f13",
   "metadata": {},
   "outputs": [
    {
     "data": {
      "text/plain": [
       "0.3936972175874086"
      ]
     },
     "execution_count": 158,
     "metadata": {},
     "output_type": "execute_result"
    }
   ],
   "source": [
    "poisson.sf(6,6)"
   ]
  }
 ],
 "metadata": {
  "kernelspec": {
   "display_name": "Python 3 (ipykernel)",
   "language": "python",
   "name": "python3"
  },
  "language_info": {
   "codemirror_mode": {
    "name": "ipython",
    "version": 3
   },
   "file_extension": ".py",
   "mimetype": "text/x-python",
   "name": "python",
   "nbconvert_exporter": "python",
   "pygments_lexer": "ipython3",
   "version": "3.9.13"
  }
 },
 "nbformat": 4,
 "nbformat_minor": 5
}
