{
 "cells": [
  {
   "cell_type": "code",
   "execution_count": 1,
   "id": "9aa2e716-c8b2-4e09-950e-cbe7e6071a0c",
   "metadata": {},
   "outputs": [],
   "source": [
    "import pandas as pd\n",
    "import numpy as np\n",
    "import matplotlib.pyplot as plt\n",
    "%matplotlib inline\n",
    "import seaborn as sns\n",
    "from scipy import stats\n",
    "from sklearn.metrics import r2_score\n",
    "from sklearn import linear_model\n",
    "from sklearn.model_selection import GridSearchCV\n",
    "from sklearn import datasets\n",
    "from sklearn.ensemble import GradientBoostingRegressor\n",
    "import statsmodels.api as sm\n",
    "from sklearn.model_selection import train_test_split\n",
    "from xgboost import XGBRegressor"
   ]
  },
  {
   "cell_type": "code",
   "execution_count": 2,
   "id": "18221a25-a9f8-44dc-ba96-02d5ce504a61",
   "metadata": {},
   "outputs": [],
   "source": [
    "data = pd.read_csv('datajm_2.csv')"
   ]
  },
  {
   "cell_type": "code",
   "execution_count": 3,
   "id": "0870922c-20a8-494d-826c-43338263deb0",
   "metadata": {},
   "outputs": [],
   "source": [
    "#Linear Regression"
   ]
  },
  {
   "cell_type": "code",
   "execution_count": 4,
   "id": "792e2eb7-84b8-4808-b147-cdbd461383ce",
   "metadata": {},
   "outputs": [],
   "source": [
    "x = data.iloc[:,1].values.reshape (-1,1)\n",
    "y = data.iloc[:,2].values.reshape(-1,1)\n",
    "X = data.iloc[:,0].values.reshape(-1,1)"
   ]
  },
  {
   "cell_type": "code",
   "execution_count": 5,
   "id": "0044e5ca-552f-405f-961f-64d9bdccbde5",
   "metadata": {},
   "outputs": [
    {
     "data": {
      "text/plain": [
       "(81, 1)"
      ]
     },
     "execution_count": 5,
     "metadata": {},
     "output_type": "execute_result"
    }
   ],
   "source": [
    "y.shape"
   ]
  },
  {
   "cell_type": "code",
   "execution_count": 6,
   "id": "a61c9d78-debf-4f67-a833-ed58361e1971",
   "metadata": {},
   "outputs": [
    {
     "data": {
      "text/plain": [
       "(81, 1)"
      ]
     },
     "execution_count": 6,
     "metadata": {},
     "output_type": "execute_result"
    }
   ],
   "source": [
    "x.shape"
   ]
  },
  {
   "cell_type": "code",
   "execution_count": 7,
   "id": "2f533cb0-fcfb-4d80-ab1b-21ed130b47be",
   "metadata": {},
   "outputs": [
    {
     "data": {
      "text/plain": [
       "Text(0, 0.5, '% Change in Production')"
      ]
     },
     "execution_count": 7,
     "metadata": {},
     "output_type": "execute_result"
    },
    {
     "data": {
      "image/png": "[encoded data removed]",
      "text/plain": [
       "<Figure size 432x288 with 1 Axes>"
      ]
     },
     "metadata": {
      "needs_background": "light"
     },
     "output_type": "display_data"
    }
   ],
   "source": [
    "lm = linear_model.LinearRegression()\n",
    "Model = lm.fit(x,y)\n",
    "y_pred = lm.predict(x)\n",
    "plt.scatter (x,y)\n",
    "plt.plot(x, y_pred, color='black')\n",
    "plt.title('Production against Nutrient Balance')\n",
    "plt.xlabel('% Change in Nutrient Balance')\n",
    "plt.ylabel('% Change in Production')"
   ]
  },
  {
   "cell_type": "code",
   "execution_count": 8,
   "id": "331d5446-1b4c-4435-97d2-ff252144a81d",
   "metadata": {},
   "outputs": [
    {
     "data": {
      "text/plain": [
       "array([1.6474948])"
      ]
     },
     "execution_count": 8,
     "metadata": {},
     "output_type": "execute_result"
    }
   ],
   "source": [
    "Model.intercept_"
   ]
  },
  {
   "cell_type": "code",
   "execution_count": 9,
   "id": "1dd74ff9-e359-4ae0-b12f-98f6b792fa83",
   "metadata": {},
   "outputs": [
    {
     "data": {
      "text/plain": [
       "array([[0.01176621]])"
      ]
     },
     "execution_count": 9,
     "metadata": {},
     "output_type": "execute_result"
    }
   ],
   "source": [
    "Model.coef_"
   ]
  },
  {
   "cell_type": "code",
   "execution_count": 10,
   "id": "00c5a810-2d4a-4c70-ac05-68e44f9ab7f8",
   "metadata": {},
   "outputs": [
    {
     "data": {
      "text/plain": [
       "0.0014696115110522934"
      ]
     },
     "execution_count": 10,
     "metadata": {},
     "output_type": "execute_result"
    }
   ],
   "source": [
    "Model.score(x,y)"
   ]
  },
  {
   "cell_type": "code",
   "execution_count": 11,
   "id": "8d803e5f-59f4-4811-bed0-858a87883dc4",
   "metadata": {},
   "outputs": [
    {
     "data": {
      "text/plain": [
       "Text(0, 0.5, '% Change in Production')"
      ]
     },
     "execution_count": 11,
     "metadata": {},
     "output_type": "execute_result"
    },
    {
     "data": {
      "image/png": "[encoded data removed]",
      "text/plain": [
       "<Figure size 432x288 with 1 Axes>"
      ]
     },
     "metadata": {
      "needs_background": "light"
     },
     "output_type": "display_data"
    }
   ],
   "source": [
    "lm = linear_model.LinearRegression()\n",
    "model = lm.fit(X,y)\n",
    "y_pred = lm.predict(X)\n",
    "plt.scatter (X,y)\n",
    "plt.plot(X, y_pred, color='black')\n",
    "plt.title('Production against Labor Input')\n",
    "plt.xlabel('% Change labor Input')\n",
    "plt.ylabel('% Change in Production')"
   ]
  },
  {
   "cell_type": "code",
   "execution_count": 12,
   "id": "c94f17ae-ab23-474f-addc-cb0932d060af",
   "metadata": {},
   "outputs": [
    {
     "data": {
      "text/plain": [
       "array([[0.46665807]])"
      ]
     },
     "execution_count": 12,
     "metadata": {},
     "output_type": "execute_result"
    }
   ],
   "source": [
    "model.coef_"
   ]
  },
  {
   "cell_type": "code",
   "execution_count": 13,
   "id": "120a86b8-f2b8-4e6a-970c-237672c0578b",
   "metadata": {},
   "outputs": [
    {
     "data": {
      "text/plain": [
       "array([2.55778306])"
      ]
     },
     "execution_count": 13,
     "metadata": {},
     "output_type": "execute_result"
    }
   ],
   "source": [
    "model.intercept_"
   ]
  },
  {
   "cell_type": "code",
   "execution_count": 14,
   "id": "c492cd9f-8ac8-4821-b434-95b746c6e5a1",
   "metadata": {},
   "outputs": [
    {
     "data": {
      "text/plain": [
       "0.08200840599813708"
      ]
     },
     "execution_count": 14,
     "metadata": {},
     "output_type": "execute_result"
    }
   ],
   "source": [
    "model.score(X,y)"
   ]
  },
  {
   "cell_type": "code",
   "execution_count": 15,
   "id": "d8d44262-6846-4bf3-bc7f-ffaadd250168",
   "metadata": {},
   "outputs": [],
   "source": [
    "#GradientBoostRegressor GridSearchCV"
   ]
  },
  {
   "cell_type": "code",
   "execution_count": 16,
   "id": "ab68b969-35b1-4b0c-a61d-2c31a0ba8f6d",
   "metadata": {},
   "outputs": [],
   "source": [
    "p = data.iloc[:,:2].values\n",
    "q = [-3.95961830e+00,  8.60373734e+00, -4.47907399e-01,  3.58584008e+00,\n",
    "        1.59063259e+00,  4.47088495e+00, -4.57532118e-01, -3.62659680e+00,\n",
    "       -3.25480912e+00,  5.91253818e+00,  1.35894626e+00, -3.80377988e+00,\n",
    "        2.44050383e+00,  2.98401611e+00, -7.24761732e+00, -4.27216326e+00,\n",
    "        9.30576287e+00,  2.80464702e+00, -1.83787154e+01,  1.61142157e+01,\n",
    "        1.29505547e+01,  3.97249379e+00,  1.22011935e+01, -4.92229600e+00,\n",
    "        1.51320092e+00,  5.40640557e-01,  1.46288189e+01,  1.14069231e+00,\n",
    "       -8.43064404e+00, -5.60196564e+00,  5.46149851e+00,  1.00508700e+00,\n",
    "        1.34723022e+01,  2.20510846e+00,  8.06235997e-01, -9.78601931e-01,\n",
    "        7.61950385e+00,  6.13472634e+00,  1.45016808e+00,  7.90731058e+00,\n",
    "       -1.26168650e+00, -4.86365791e+00, -6.11919237e+00,  1.42931884e+01,\n",
    "       -2.11893856e+00, -8.76087478e+00,  6.39180936e+00,  1.46773056e+00,\n",
    "        2.41875064e+00,  5.02956535e+00, -1.60899950e-01,  3.74655491e+00,\n",
    "        6.06813899e+00,  4.60455568e+00, -5.15000000e+00,  3.09000000e+00,\n",
    "       -1.33000000e+00,  5.21000000e+00,  4.91000000e+00,  2.98000000e+00,\n",
    "       -1.00000000e-02,  1.83000000e+00, -1.50000000e+00,  1.78000000e+00,\n",
    "        1.34000000e+00, -4.40000000e-01, -2.03000000e+00,  3.76000000e+00,\n",
    "       -1.93000000e+00, -4.37000000e+00,  9.63000000e+00,  2.73000000e+00,\n",
    "       -7.52000000e+00,  6.83000000e+00,  7.21000000e+00,  4.85000000e+00,\n",
    "       -3.13000000e+00,  1.55000000e+00, -1.60000000e-01, -6.28000000e+00,\n",
    "        3.78000000e+00]"
   ]
  },
  {
   "cell_type": "code",
   "execution_count": 17,
   "id": "819b1d74-91df-44da-baa5-39406c99a922",
   "metadata": {},
   "outputs": [
    {
     "name": "stdout",
     "output_type": "stream",
     "text": [
      "(81, 2)\n",
      "(81,)\n"
     ]
    }
   ],
   "source": [
    "print(np.shape(p))\n",
    "print(np.shape(q))"
   ]
  },
  {
   "cell_type": "code",
   "execution_count": 18,
   "id": "cfdafb0d-b5d8-4c61-8a0c-9fee90010416",
   "metadata": {},
   "outputs": [],
   "source": [
    "p_train, p_test, q_train, q_test, = train_test_split(p,q, test_size =.3)"
   ]
  },
  {
   "cell_type": "code",
   "execution_count": 19,
   "id": "e14f28a0-9d3f-49df-9856-d8a31a79c10e",
   "metadata": {},
   "outputs": [],
   "source": [
    "GBR = GradientBoostingRegressor()"
   ]
  },
  {
   "cell_type": "code",
   "execution_count": 20,
   "id": "440bf4bc-90b8-4bc6-8cda-e04250761e80",
   "metadata": {},
   "outputs": [],
   "source": [
    "  params = {'learning_rate': [0.01,0.02,0.03,0.04],\n",
    "            'subsample'    : [0.9, 0.5, 0.2, 0.1],\n",
    "                  'n_estimators' : [25, 75, 100],\n",
    "                  'max_depth'    : [4,6,8,10]\n",
    "                 }"
   ]
  },
  {
   "cell_type": "code",
   "execution_count": 21,
   "id": "1554f33f-2dc9-43ab-ab1e-d1cf60505b07",
   "metadata": {},
   "outputs": [],
   "source": [
    "GS = GridSearchCV(estimator=GBR, param_grid = params, cv = 2)"
   ]
  },
  {
   "cell_type": "code",
   "execution_count": 22,
   "id": "5b2b419f-9c39-4357-b77d-df89035c8f23",
   "metadata": {},
   "outputs": [
    {
     "data": {
      "text/plain": [
       "GridSearchCV(cv=2, estimator=GradientBoostingRegressor(),\n",
       "             param_grid={'learning_rate': [0.01, 0.02, 0.03, 0.04],\n",
       "                         'max_depth': [4, 6, 8, 10],\n",
       "                         'n_estimators': [25, 75, 100],\n",
       "                         'subsample': [0.9, 0.5, 0.2, 0.1]})"
      ]
     },
     "execution_count": 22,
     "metadata": {},
     "output_type": "execute_result"
    }
   ],
   "source": [
    "GS.fit(p_train, q_train)"
   ]
  },
  {
   "cell_type": "code",
   "execution_count": 23,
   "id": "7149b98e-f046-46ef-863b-c465ecec5f58",
   "metadata": {},
   "outputs": [
    {
     "name": "stdout",
     "output_type": "stream",
     "text": [
      "GradientBoostingRegressor(learning_rate=0.04, max_depth=4, n_estimators=75,\n",
      "                          subsample=0.9)\n",
      "0.1458073699984913\n",
      "{'learning_rate': 0.04, 'max_depth': 4, 'n_estimators': 75, 'subsample': 0.9}\n"
     ]
    }
   ],
   "source": [
    "\n",
    "print(GS.best_estimator_)\n",
    "print(GS.best_score_)\n",
    "print(GS.best_params_)"
   ]
  },
  {
   "cell_type": "code",
   "execution_count": 24,
   "id": "17350d5a-729c-4aa5-ab12-e927a5ac3dc2",
   "metadata": {},
   "outputs": [],
   "source": [
    "#XGBRegressor GrdSearchCV"
   ]
  },
  {
   "cell_type": "code",
   "execution_count": 25,
   "id": "b5d7fe69-a6b8-4f6a-bea9-6ac7022a3413",
   "metadata": {},
   "outputs": [],
   "source": [
    "parameters ={\n",
    "'learning_rate': [0.001,0.01,0.1,1],\n",
    "'n_estimators' : [100, 200, 500],\n",
    "'max_depth'    : [3,6,9],\n",
    "'gamma': [0.01,0.1]\n",
    "}"
   ]
  },
  {
   "cell_type": "code",
   "execution_count": 26,
   "id": "d83b2e71-ab69-45f4-9a24-5b74604dd65f",
   "metadata": {},
   "outputs": [],
   "source": [
    "XGB = XGBRegressor()"
   ]
  },
  {
   "cell_type": "code",
   "execution_count": 27,
   "id": "8abca9a9-852a-41af-876e-4b454794475d",
   "metadata": {},
   "outputs": [],
   "source": [
    "XGBRGS = GridSearchCV(estimator=XGB, param_grid = parameters, cv = 5, scoring=\"r2\", refit=\"r2\", verbose=4)"
   ]
  },
  {
   "cell_type": "code",
   "execution_count": 28,
   "id": "840abe9b-ed45-443b-913f-64676882b00a",
   "metadata": {},
   "outputs": [
    {
     "name": "stdout",
     "output_type": "stream",
     "text": [
      "Fitting 5 folds for each of 72 candidates, totalling 360 fits\n",
      "[CV 1/5] END gamma=0.01, learning_rate=0.001, max_depth=3, n_estimators=100;, score=0.026 total time=   0.0s\n",
      "[CV 2/5] END gamma=0.01, learning_rate=0.001, max_depth=3, n_estimators=100;, score=-0.055 total time=   0.0s\n",
      "[CV 3/5] END gamma=0.01, learning_rate=0.001, max_depth=3, n_estimators=100;, score=-0.108 total time=   0.0s\n",
      "[CV 4/5] END gamma=0.01, learning_rate=0.001, max_depth=3, n_estimators=100;, score=-0.397 total time=   0.0s\n",
      "[CV 5/5] END gamma=0.01, learning_rate=0.001, max_depth=3, n_estimators=100;, score=0.062 total time=   0.0s\n",
      "[CV 1/5] END gamma=0.01, learning_rate=0.001, max_depth=3, n_estimators=200;, score=0.043 total time=   0.0s\n",
      "[CV 2/5] END gamma=0.01, learning_rate=0.001, max_depth=3, n_estimators=200;, score=-0.037 total time=   0.0s\n",
      "[CV 3/5] END gamma=0.01, learning_rate=0.001, max_depth=3, n_estimators=200;, score=-0.118 total time=   0.0s\n",
      "[CV 4/5] END gamma=0.01, learning_rate=0.001, max_depth=3, n_estimators=200;, score=-0.334 total time=   0.0s\n",
      "[CV 5/5] END gamma=0.01, learning_rate=0.001, max_depth=3, n_estimators=200;, score=0.100 total time=   0.0s\n",
      "[CV 1/5] END gamma=0.01, learning_rate=0.001, max_depth=3, n_estimators=500;, score=0.057 total time=   0.0s\n",
      "[CV 2/5] END gamma=0.01, learning_rate=0.001, max_depth=3, n_estimators=500;, score=-0.013 total time=   0.0s\n",
      "[CV 3/5] END gamma=0.01, learning_rate=0.001, max_depth=3, n_estimators=500;, score=-0.078 total time=   0.0s\n",
      "[CV 4/5] END gamma=0.01, learning_rate=0.001, max_depth=3, n_estimators=500;, score=-0.205 total time=   0.0s\n",
      "[CV 5/5] END gamma=0.01, learning_rate=0.001, max_depth=3, n_estimators=500;, score=0.158 total time=   0.0s\n",
      "[CV 1/5] END gamma=0.01, learning_rate=0.001, max_depth=6, n_estimators=100;, score=0.020 total time=   0.0s\n",
      "[CV 2/5] END gamma=0.01, learning_rate=0.001, max_depth=6, n_estimators=100;, score=-0.045 total time=   0.0s\n",
      "[CV 3/5] END gamma=0.01, learning_rate=0.001, max_depth=6, n_estimators=100;, score=-0.096 total time=   0.0s\n",
      "[CV 4/5] END gamma=0.01, learning_rate=0.001, max_depth=6, n_estimators=100;, score=-0.419 total time=   0.0s\n",
      "[CV 5/5] END gamma=0.01, learning_rate=0.001, max_depth=6, n_estimators=100;, score=0.063 total time=   0.0s\n",
      "[CV 1/5] END gamma=0.01, learning_rate=0.001, max_depth=6, n_estimators=200;, score=0.034 total time=   0.0s\n",
      "[CV 2/5] END gamma=0.01, learning_rate=0.001, max_depth=6, n_estimators=200;, score=-0.013 total time=   0.0s\n",
      "[CV 3/5] END gamma=0.01, learning_rate=0.001, max_depth=6, n_estimators=200;, score=-0.086 total time=   0.0s\n",
      "[CV 4/5] END gamma=0.01, learning_rate=0.001, max_depth=6, n_estimators=200;, score=-0.365 total time=   0.0s\n",
      "[CV 5/5] END gamma=0.01, learning_rate=0.001, max_depth=6, n_estimators=200;, score=0.108 total time=   0.0s\n",
      "[CV 1/5] END gamma=0.01, learning_rate=0.001, max_depth=6, n_estimators=500;, score=0.036 total time=   0.0s\n",
      "[CV 2/5] END gamma=0.01, learning_rate=0.001, max_depth=6, n_estimators=500;, score=0.050 total time=   0.0s\n",
      "[CV 3/5] END gamma=0.01, learning_rate=0.001, max_depth=6, n_estimators=500;, score=-0.090 total time=   0.0s\n",
      "[CV 4/5] END gamma=0.01, learning_rate=0.001, max_depth=6, n_estimators=500;, score=-0.271 total time=   0.0s\n",
      "[CV 5/5] END gamma=0.01, learning_rate=0.001, max_depth=6, n_estimators=500;, score=0.168 total time=   0.0s\n",
      "[CV 1/5] END gamma=0.01, learning_rate=0.001, max_depth=9, n_estimators=100;, score=0.020 total time=   0.0s\n",
      "[CV 2/5] END gamma=0.01, learning_rate=0.001, max_depth=9, n_estimators=100;, score=-0.050 total time=   0.0s\n",
      "[CV 3/5] END gamma=0.01, learning_rate=0.001, max_depth=9, n_estimators=100;, score=-0.103 total time=   0.0s\n",
      "[CV 4/5] END gamma=0.01, learning_rate=0.001, max_depth=9, n_estimators=100;, score=-0.405 total time=   0.0s\n",
      "[CV 5/5] END gamma=0.01, learning_rate=0.001, max_depth=9, n_estimators=100;, score=0.063 total time=   0.0s\n",
      "[CV 1/5] END gamma=0.01, learning_rate=0.001, max_depth=9, n_estimators=200;, score=0.034 total time=   0.0s\n",
      "[CV 2/5] END gamma=0.01, learning_rate=0.001, max_depth=9, n_estimators=200;, score=-0.019 total time=   0.0s\n",
      "[CV 3/5] END gamma=0.01, learning_rate=0.001, max_depth=9, n_estimators=200;, score=-0.104 total time=   0.0s\n",
      "[CV 4/5] END gamma=0.01, learning_rate=0.001, max_depth=9, n_estimators=200;, score=-0.339 total time=   0.0s\n",
      "[CV 5/5] END gamma=0.01, learning_rate=0.001, max_depth=9, n_estimators=200;, score=0.108 total time=   0.0s\n",
      "[CV 1/5] END gamma=0.01, learning_rate=0.001, max_depth=9, n_estimators=500;, score=0.039 total time=   0.0s\n",
      "[CV 2/5] END gamma=0.01, learning_rate=0.001, max_depth=9, n_estimators=500;, score=0.032 total time=   0.0s\n",
      "[CV 3/5] END gamma=0.01, learning_rate=0.001, max_depth=9, n_estimators=500;, score=-0.068 total time=   0.0s\n",
      "[CV 4/5] END gamma=0.01, learning_rate=0.001, max_depth=9, n_estimators=500;, score=-0.188 total time=   0.0s\n",
      "[CV 5/5] END gamma=0.01, learning_rate=0.001, max_depth=9, n_estimators=500;, score=0.171 total time=   0.0s\n",
      "[CV 1/5] END gamma=0.01, learning_rate=0.01, max_depth=3, n_estimators=100;, score=0.082 total time=   0.0s\n",
      "[CV 2/5] END gamma=0.01, learning_rate=0.01, max_depth=3, n_estimators=100;, score=-0.067 total time=   0.0s\n",
      "[CV 3/5] END gamma=0.01, learning_rate=0.01, max_depth=3, n_estimators=100;, score=-0.078 total time=   0.0s\n",
      "[CV 4/5] END gamma=0.01, learning_rate=0.01, max_depth=3, n_estimators=100;, score=-0.144 total time=   0.0s\n",
      "[CV 5/5] END gamma=0.01, learning_rate=0.01, max_depth=3, n_estimators=100;, score=0.208 total time=   0.0s\n",
      "[CV 1/5] END gamma=0.01, learning_rate=0.01, max_depth=3, n_estimators=200;, score=0.125 total time=   0.0s\n",
      "[CV 2/5] END gamma=0.01, learning_rate=0.01, max_depth=3, n_estimators=200;, score=-0.093 total time=   0.0s\n",
      "[CV 3/5] END gamma=0.01, learning_rate=0.01, max_depth=3, n_estimators=200;, score=-0.057 total time=   0.0s\n",
      "[CV 4/5] END gamma=0.01, learning_rate=0.01, max_depth=3, n_estimators=200;, score=-0.186 total time=   0.0s\n",
      "[CV 5/5] END gamma=0.01, learning_rate=0.01, max_depth=3, n_estimators=200;, score=0.071 total time=   0.0s\n",
      "[CV 1/5] END gamma=0.01, learning_rate=0.01, max_depth=3, n_estimators=500;, score=0.117 total time=   0.0s\n",
      "[CV 2/5] END gamma=0.01, learning_rate=0.01, max_depth=3, n_estimators=500;, score=-0.246 total time=   0.0s\n",
      "[CV 3/5] END gamma=0.01, learning_rate=0.01, max_depth=3, n_estimators=500;, score=-0.142 total time=   0.0s\n",
      "[CV 4/5] END gamma=0.01, learning_rate=0.01, max_depth=3, n_estimators=500;, score=-0.215 total time=   0.0s\n",
      "[CV 5/5] END gamma=0.01, learning_rate=0.01, max_depth=3, n_estimators=500;, score=-0.088 total time=   0.0s\n",
      "[CV 1/5] END gamma=0.01, learning_rate=0.01, max_depth=6, n_estimators=100;, score=-0.008 total time=   0.0s\n",
      "[CV 2/5] END gamma=0.01, learning_rate=0.01, max_depth=6, n_estimators=100;, score=0.117 total time=   0.0s\n",
      "[CV 3/5] END gamma=0.01, learning_rate=0.01, max_depth=6, n_estimators=100;, score=-0.088 total time=   0.0s\n",
      "[CV 4/5] END gamma=0.01, learning_rate=0.01, max_depth=6, n_estimators=100;, score=-0.248 total time=   0.0s\n",
      "[CV 5/5] END gamma=0.01, learning_rate=0.01, max_depth=6, n_estimators=100;, score=0.088 total time=   0.0s\n",
      "[CV 1/5] END gamma=0.01, learning_rate=0.01, max_depth=6, n_estimators=200;, score=-0.093 total time=   0.0s\n",
      "[CV 2/5] END gamma=0.01, learning_rate=0.01, max_depth=6, n_estimators=200;, score=0.209 total time=   0.0s\n",
      "[CV 3/5] END gamma=0.01, learning_rate=0.01, max_depth=6, n_estimators=200;, score=-0.140 total time=   0.0s\n",
      "[CV 4/5] END gamma=0.01, learning_rate=0.01, max_depth=6, n_estimators=200;, score=-0.137 total time=   0.0s\n",
      "[CV 5/5] END gamma=0.01, learning_rate=0.01, max_depth=6, n_estimators=200;, score=-0.074 total time=   0.0s\n",
      "[CV 1/5] END gamma=0.01, learning_rate=0.01, max_depth=6, n_estimators=500;, score=-0.214 total time=   0.0s\n",
      "[CV 2/5] END gamma=0.01, learning_rate=0.01, max_depth=6, n_estimators=500;, score=0.269 total time=   0.0s\n",
      "[CV 3/5] END gamma=0.01, learning_rate=0.01, max_depth=6, n_estimators=500;, score=-0.025 total time=   0.0s\n",
      "[CV 4/5] END gamma=0.01, learning_rate=0.01, max_depth=6, n_estimators=500;, score=-0.193 total time=   0.0s\n",
      "[CV 5/5] END gamma=0.01, learning_rate=0.01, max_depth=6, n_estimators=500;, score=-0.360 total time=   0.1s\n",
      "[CV 1/5] END gamma=0.01, learning_rate=0.01, max_depth=9, n_estimators=100;, score=-0.009 total time=   0.0s\n"
     ]
    },
    {
     "name": "stdout",
     "output_type": "stream",
     "text": [
      "[CV 2/5] END gamma=0.01, learning_rate=0.01, max_depth=9, n_estimators=100;, score=0.121 total time=   0.0s\n",
      "[CV 3/5] END gamma=0.01, learning_rate=0.01, max_depth=9, n_estimators=100;, score=-0.063 total time=   0.0s\n",
      "[CV 4/5] END gamma=0.01, learning_rate=0.01, max_depth=9, n_estimators=100;, score=-0.029 total time=   0.0s\n",
      "[CV 5/5] END gamma=0.01, learning_rate=0.01, max_depth=9, n_estimators=100;, score=0.118 total time=   0.0s\n",
      "[CV 1/5] END gamma=0.01, learning_rate=0.01, max_depth=9, n_estimators=200;, score=-0.108 total time=   0.0s\n",
      "[CV 2/5] END gamma=0.01, learning_rate=0.01, max_depth=9, n_estimators=200;, score=0.178 total time=   0.0s\n",
      "[CV 3/5] END gamma=0.01, learning_rate=0.01, max_depth=9, n_estimators=200;, score=-0.136 total time=   0.0s\n",
      "[CV 4/5] END gamma=0.01, learning_rate=0.01, max_depth=9, n_estimators=200;, score=0.043 total time=   0.0s\n",
      "[CV 5/5] END gamma=0.01, learning_rate=0.01, max_depth=9, n_estimators=200;, score=-0.153 total time=   0.0s\n",
      "[CV 1/5] END gamma=0.01, learning_rate=0.01, max_depth=9, n_estimators=500;, score=-0.261 total time=   0.0s\n",
      "[CV 2/5] END gamma=0.01, learning_rate=0.01, max_depth=9, n_estimators=500;, score=0.205 total time=   0.0s\n",
      "[CV 3/5] END gamma=0.01, learning_rate=0.01, max_depth=9, n_estimators=500;, score=-0.205 total time=   0.0s\n",
      "[CV 4/5] END gamma=0.01, learning_rate=0.01, max_depth=9, n_estimators=500;, score=-0.228 total time=   0.1s\n",
      "[CV 5/5] END gamma=0.01, learning_rate=0.01, max_depth=9, n_estimators=500;, score=-0.504 total time=   0.0s\n",
      "[CV 1/5] END gamma=0.01, learning_rate=0.1, max_depth=3, n_estimators=100;, score=0.057 total time=   0.0s\n",
      "[CV 2/5] END gamma=0.01, learning_rate=0.1, max_depth=3, n_estimators=100;, score=-0.168 total time=   0.0s\n",
      "[CV 3/5] END gamma=0.01, learning_rate=0.1, max_depth=3, n_estimators=100;, score=-0.016 total time=   0.0s\n",
      "[CV 4/5] END gamma=0.01, learning_rate=0.1, max_depth=3, n_estimators=100;, score=-0.115 total time=   0.0s\n",
      "[CV 5/5] END gamma=0.01, learning_rate=0.1, max_depth=3, n_estimators=100;, score=-0.236 total time=   0.0s\n",
      "[CV 1/5] END gamma=0.01, learning_rate=0.1, max_depth=3, n_estimators=200;, score=0.030 total time=   0.0s\n",
      "[CV 2/5] END gamma=0.01, learning_rate=0.1, max_depth=3, n_estimators=200;, score=-0.304 total time=   0.0s\n",
      "[CV 3/5] END gamma=0.01, learning_rate=0.1, max_depth=3, n_estimators=200;, score=-0.018 total time=   0.0s\n",
      "[CV 4/5] END gamma=0.01, learning_rate=0.1, max_depth=3, n_estimators=200;, score=-0.142 total time=   0.0s\n",
      "[CV 5/5] END gamma=0.01, learning_rate=0.1, max_depth=3, n_estimators=200;, score=-0.393 total time=   0.0s\n",
      "[CV 1/5] END gamma=0.01, learning_rate=0.1, max_depth=3, n_estimators=500;, score=0.022 total time=   0.0s\n",
      "[CV 2/5] END gamma=0.01, learning_rate=0.1, max_depth=3, n_estimators=500;, score=-0.321 total time=   0.0s\n",
      "[CV 3/5] END gamma=0.01, learning_rate=0.1, max_depth=3, n_estimators=500;, score=-0.010 total time=   0.0s\n",
      "[CV 4/5] END gamma=0.01, learning_rate=0.1, max_depth=3, n_estimators=500;, score=-0.175 total time=   0.0s\n",
      "[CV 5/5] END gamma=0.01, learning_rate=0.1, max_depth=3, n_estimators=500;, score=-0.445 total time=   0.0s\n",
      "[CV 1/5] END gamma=0.01, learning_rate=0.1, max_depth=6, n_estimators=100;, score=-0.192 total time=   0.0s\n",
      "[CV 2/5] END gamma=0.01, learning_rate=0.1, max_depth=6, n_estimators=100;, score=0.277 total time=   0.0s\n",
      "[CV 3/5] END gamma=0.01, learning_rate=0.1, max_depth=6, n_estimators=100;, score=-0.020 total time=   0.0s\n",
      "[CV 4/5] END gamma=0.01, learning_rate=0.1, max_depth=6, n_estimators=100;, score=-0.469 total time=   0.0s\n",
      "[CV 5/5] END gamma=0.01, learning_rate=0.1, max_depth=6, n_estimators=100;, score=-0.388 total time=   0.0s\n",
      "[CV 1/5] END gamma=0.01, learning_rate=0.1, max_depth=6, n_estimators=200;, score=-0.192 total time=   0.0s\n",
      "[CV 2/5] END gamma=0.01, learning_rate=0.1, max_depth=6, n_estimators=200;, score=0.277 total time=   0.0s\n",
      "[CV 3/5] END gamma=0.01, learning_rate=0.1, max_depth=6, n_estimators=200;, score=-0.018 total time=   0.0s\n",
      "[CV 4/5] END gamma=0.01, learning_rate=0.1, max_depth=6, n_estimators=200;, score=-0.470 total time=   0.0s\n",
      "[CV 5/5] END gamma=0.01, learning_rate=0.1, max_depth=6, n_estimators=200;, score=-0.393 total time=   0.0s\n",
      "[CV 1/5] END gamma=0.01, learning_rate=0.1, max_depth=6, n_estimators=500;, score=-0.192 total time=   0.0s\n",
      "[CV 2/5] END gamma=0.01, learning_rate=0.1, max_depth=6, n_estimators=500;, score=0.277 total time=   0.0s\n",
      "[CV 3/5] END gamma=0.01, learning_rate=0.1, max_depth=6, n_estimators=500;, score=-0.018 total time=   0.0s\n",
      "[CV 4/5] END gamma=0.01, learning_rate=0.1, max_depth=6, n_estimators=500;, score=-0.470 total time=   0.0s\n",
      "[CV 5/5] END gamma=0.01, learning_rate=0.1, max_depth=6, n_estimators=500;, score=-0.393 total time=   0.0s\n",
      "[CV 1/5] END gamma=0.01, learning_rate=0.1, max_depth=9, n_estimators=100;, score=-0.288 total time=   0.0s\n",
      "[CV 2/5] END gamma=0.01, learning_rate=0.1, max_depth=9, n_estimators=100;, score=0.221 total time=   0.0s\n",
      "[CV 3/5] END gamma=0.01, learning_rate=0.1, max_depth=9, n_estimators=100;, score=-0.213 total time=   0.0s\n",
      "[CV 4/5] END gamma=0.01, learning_rate=0.1, max_depth=9, n_estimators=100;, score=-0.355 total time=   0.0s\n",
      "[CV 5/5] END gamma=0.01, learning_rate=0.1, max_depth=9, n_estimators=100;, score=-0.545 total time=   0.0s\n",
      "[CV 1/5] END gamma=0.01, learning_rate=0.1, max_depth=9, n_estimators=200;, score=-0.288 total time=   0.0s\n",
      "[CV 2/5] END gamma=0.01, learning_rate=0.1, max_depth=9, n_estimators=200;, score=0.221 total time=   0.0s\n",
      "[CV 3/5] END gamma=0.01, learning_rate=0.1, max_depth=9, n_estimators=200;, score=-0.213 total time=   0.0s\n",
      "[CV 4/5] END gamma=0.01, learning_rate=0.1, max_depth=9, n_estimators=200;, score=-0.355 total time=   0.0s\n",
      "[CV 5/5] END gamma=0.01, learning_rate=0.1, max_depth=9, n_estimators=200;, score=-0.545 total time=   0.0s\n",
      "[CV 1/5] END gamma=0.01, learning_rate=0.1, max_depth=9, n_estimators=500;, score=-0.288 total time=   0.0s\n",
      "[CV 2/5] END gamma=0.01, learning_rate=0.1, max_depth=9, n_estimators=500;, score=0.221 total time=   0.0s\n",
      "[CV 3/5] END gamma=0.01, learning_rate=0.1, max_depth=9, n_estimators=500;, score=-0.213 total time=   0.0s\n",
      "[CV 4/5] END gamma=0.01, learning_rate=0.1, max_depth=9, n_estimators=500;, score=-0.355 total time=   0.1s\n",
      "[CV 5/5] END gamma=0.01, learning_rate=0.1, max_depth=9, n_estimators=500;, score=-0.545 total time=   0.0s\n",
      "[CV 1/5] END gamma=0.01, learning_rate=1, max_depth=3, n_estimators=100;, score=-0.201 total time=   0.0s\n",
      "[CV 2/5] END gamma=0.01, learning_rate=1, max_depth=3, n_estimators=100;, score=-0.329 total time=   0.0s\n",
      "[CV 3/5] END gamma=0.01, learning_rate=1, max_depth=3, n_estimators=100;, score=-0.388 total time=   0.0s\n",
      "[CV 4/5] END gamma=0.01, learning_rate=1, max_depth=3, n_estimators=100;, score=-0.643 total time=   0.0s\n",
      "[CV 5/5] END gamma=0.01, learning_rate=1, max_depth=3, n_estimators=100;, score=-0.275 total time=   0.0s\n",
      "[CV 1/5] END gamma=0.01, learning_rate=1, max_depth=3, n_estimators=200;, score=-0.201 total time=   0.0s\n",
      "[CV 2/5] END gamma=0.01, learning_rate=1, max_depth=3, n_estimators=200;, score=-0.329 total time=   0.0s\n",
      "[CV 3/5] END gamma=0.01, learning_rate=1, max_depth=3, n_estimators=200;, score=-0.388 total time=   0.0s\n",
      "[CV 4/5] END gamma=0.01, learning_rate=1, max_depth=3, n_estimators=200;, score=-0.643 total time=   0.0s\n",
      "[CV 5/5] END gamma=0.01, learning_rate=1, max_depth=3, n_estimators=200;, score=-0.275 total time=   0.0s\n",
      "[CV 1/5] END gamma=0.01, learning_rate=1, max_depth=3, n_estimators=500;, score=-0.201 total time=   0.0s\n",
      "[CV 2/5] END gamma=0.01, learning_rate=1, max_depth=3, n_estimators=500;, score=-0.329 total time=   0.0s\n",
      "[CV 3/5] END gamma=0.01, learning_rate=1, max_depth=3, n_estimators=500;, score=-0.388 total time=   0.0s\n",
      "[CV 4/5] END gamma=0.01, learning_rate=1, max_depth=3, n_estimators=500;, score=-0.643 total time=   0.0s\n",
      "[CV 5/5] END gamma=0.01, learning_rate=1, max_depth=3, n_estimators=500;, score=-0.275 total time=   0.0s\n",
      "[CV 1/5] END gamma=0.01, learning_rate=1, max_depth=6, n_estimators=100;, score=-0.132 total time=   0.0s\n",
      "[CV 2/5] END gamma=0.01, learning_rate=1, max_depth=6, n_estimators=100;, score=-0.641 total time=   0.0s\n",
      "[CV 3/5] END gamma=0.01, learning_rate=1, max_depth=6, n_estimators=100;, score=-0.270 total time=   0.0s\n",
      "[CV 4/5] END gamma=0.01, learning_rate=1, max_depth=6, n_estimators=100;, score=-0.282 total time=   0.0s\n"
     ]
    },
    {
     "name": "stdout",
     "output_type": "stream",
     "text": [
      "[CV 5/5] END gamma=0.01, learning_rate=1, max_depth=6, n_estimators=100;, score=-0.615 total time=   0.0s\n",
      "[CV 1/5] END gamma=0.01, learning_rate=1, max_depth=6, n_estimators=200;, score=-0.132 total time=   0.0s\n",
      "[CV 2/5] END gamma=0.01, learning_rate=1, max_depth=6, n_estimators=200;, score=-0.641 total time=   0.0s\n",
      "[CV 3/5] END gamma=0.01, learning_rate=1, max_depth=6, n_estimators=200;, score=-0.270 total time=   0.0s\n",
      "[CV 4/5] END gamma=0.01, learning_rate=1, max_depth=6, n_estimators=200;, score=-0.282 total time=   0.0s\n",
      "[CV 5/5] END gamma=0.01, learning_rate=1, max_depth=6, n_estimators=200;, score=-0.615 total time=   0.0s\n",
      "[CV 1/5] END gamma=0.01, learning_rate=1, max_depth=6, n_estimators=500;, score=-0.132 total time=   0.0s\n",
      "[CV 2/5] END gamma=0.01, learning_rate=1, max_depth=6, n_estimators=500;, score=-0.641 total time=   0.0s\n",
      "[CV 3/5] END gamma=0.01, learning_rate=1, max_depth=6, n_estimators=500;, score=-0.270 total time=   0.0s\n",
      "[CV 4/5] END gamma=0.01, learning_rate=1, max_depth=6, n_estimators=500;, score=-0.282 total time=   0.0s\n",
      "[CV 5/5] END gamma=0.01, learning_rate=1, max_depth=6, n_estimators=500;, score=-0.615 total time=   0.0s\n",
      "[CV 1/5] END gamma=0.01, learning_rate=1, max_depth=9, n_estimators=100;, score=-0.263 total time=   0.0s\n",
      "[CV 2/5] END gamma=0.01, learning_rate=1, max_depth=9, n_estimators=100;, score=-0.264 total time=   0.0s\n",
      "[CV 3/5] END gamma=0.01, learning_rate=1, max_depth=9, n_estimators=100;, score=-0.356 total time=   0.0s\n",
      "[CV 4/5] END gamma=0.01, learning_rate=1, max_depth=9, n_estimators=100;, score=-0.320 total time=   0.0s\n",
      "[CV 5/5] END gamma=0.01, learning_rate=1, max_depth=9, n_estimators=100;, score=-0.435 total time=   0.0s\n",
      "[CV 1/5] END gamma=0.01, learning_rate=1, max_depth=9, n_estimators=200;, score=-0.263 total time=   0.0s\n",
      "[CV 2/5] END gamma=0.01, learning_rate=1, max_depth=9, n_estimators=200;, score=-0.264 total time=   0.0s\n",
      "[CV 3/5] END gamma=0.01, learning_rate=1, max_depth=9, n_estimators=200;, score=-0.356 total time=   0.0s\n",
      "[CV 4/5] END gamma=0.01, learning_rate=1, max_depth=9, n_estimators=200;, score=-0.320 total time=   0.0s\n",
      "[CV 5/5] END gamma=0.01, learning_rate=1, max_depth=9, n_estimators=200;, score=-0.435 total time=   0.0s\n",
      "[CV 1/5] END gamma=0.01, learning_rate=1, max_depth=9, n_estimators=500;, score=-0.263 total time=   0.1s\n",
      "[CV 2/5] END gamma=0.01, learning_rate=1, max_depth=9, n_estimators=500;, score=-0.264 total time=   0.0s\n",
      "[CV 3/5] END gamma=0.01, learning_rate=1, max_depth=9, n_estimators=500;, score=-0.356 total time=   0.0s\n",
      "[CV 4/5] END gamma=0.01, learning_rate=1, max_depth=9, n_estimators=500;, score=-0.320 total time=   0.0s\n",
      "[CV 5/5] END gamma=0.01, learning_rate=1, max_depth=9, n_estimators=500;, score=-0.435 total time=   0.0s\n",
      "[CV 1/5] END gamma=0.1, learning_rate=0.001, max_depth=3, n_estimators=100;, score=0.026 total time=   0.0s\n",
      "[CV 2/5] END gamma=0.1, learning_rate=0.001, max_depth=3, n_estimators=100;, score=-0.055 total time=   0.0s\n",
      "[CV 3/5] END gamma=0.1, learning_rate=0.001, max_depth=3, n_estimators=100;, score=-0.108 total time=   0.0s\n",
      "[CV 4/5] END gamma=0.1, learning_rate=0.001, max_depth=3, n_estimators=100;, score=-0.397 total time=   0.0s\n",
      "[CV 5/5] END gamma=0.1, learning_rate=0.001, max_depth=3, n_estimators=100;, score=0.062 total time=   0.0s\n",
      "[CV 1/5] END gamma=0.1, learning_rate=0.001, max_depth=3, n_estimators=200;, score=0.043 total time=   0.0s\n",
      "[CV 2/5] END gamma=0.1, learning_rate=0.001, max_depth=3, n_estimators=200;, score=-0.037 total time=   0.0s\n",
      "[CV 3/5] END gamma=0.1, learning_rate=0.001, max_depth=3, n_estimators=200;, score=-0.118 total time=   0.0s\n",
      "[CV 4/5] END gamma=0.1, learning_rate=0.001, max_depth=3, n_estimators=200;, score=-0.334 total time=   0.0s\n",
      "[CV 5/5] END gamma=0.1, learning_rate=0.001, max_depth=3, n_estimators=200;, score=0.100 total time=   0.0s\n",
      "[CV 1/5] END gamma=0.1, learning_rate=0.001, max_depth=3, n_estimators=500;, score=0.057 total time=   0.0s\n",
      "[CV 2/5] END gamma=0.1, learning_rate=0.001, max_depth=3, n_estimators=500;, score=-0.013 total time=   0.0s\n",
      "[CV 3/5] END gamma=0.1, learning_rate=0.001, max_depth=3, n_estimators=500;, score=-0.077 total time=   0.0s\n",
      "[CV 4/5] END gamma=0.1, learning_rate=0.001, max_depth=3, n_estimators=500;, score=-0.205 total time=   0.0s\n",
      "[CV 5/5] END gamma=0.1, learning_rate=0.001, max_depth=3, n_estimators=500;, score=0.158 total time=   0.0s\n",
      "[CV 1/5] END gamma=0.1, learning_rate=0.001, max_depth=6, n_estimators=100;, score=0.020 total time=   0.0s\n",
      "[CV 2/5] END gamma=0.1, learning_rate=0.001, max_depth=6, n_estimators=100;, score=-0.046 total time=   0.0s\n",
      "[CV 3/5] END gamma=0.1, learning_rate=0.001, max_depth=6, n_estimators=100;, score=-0.096 total time=   0.0s\n",
      "[CV 4/5] END gamma=0.1, learning_rate=0.001, max_depth=6, n_estimators=100;, score=-0.419 total time=   0.0s\n",
      "[CV 5/5] END gamma=0.1, learning_rate=0.001, max_depth=6, n_estimators=100;, score=0.063 total time=   0.0s\n",
      "[CV 1/5] END gamma=0.1, learning_rate=0.001, max_depth=6, n_estimators=200;, score=0.034 total time=   0.0s\n",
      "[CV 2/5] END gamma=0.1, learning_rate=0.001, max_depth=6, n_estimators=200;, score=-0.013 total time=   0.0s\n",
      "[CV 3/5] END gamma=0.1, learning_rate=0.001, max_depth=6, n_estimators=200;, score=-0.086 total time=   0.0s\n",
      "[CV 4/5] END gamma=0.1, learning_rate=0.001, max_depth=6, n_estimators=200;, score=-0.365 total time=   0.0s\n",
      "[CV 5/5] END gamma=0.1, learning_rate=0.001, max_depth=6, n_estimators=200;, score=0.108 total time=   0.0s\n",
      "[CV 1/5] END gamma=0.1, learning_rate=0.001, max_depth=6, n_estimators=500;, score=0.036 total time=   0.0s\n",
      "[CV 2/5] END gamma=0.1, learning_rate=0.001, max_depth=6, n_estimators=500;, score=0.048 total time=   0.0s\n",
      "[CV 3/5] END gamma=0.1, learning_rate=0.001, max_depth=6, n_estimators=500;, score=-0.090 total time=   0.0s\n",
      "[CV 4/5] END gamma=0.1, learning_rate=0.001, max_depth=6, n_estimators=500;, score=-0.271 total time=   0.0s\n",
      "[CV 5/5] END gamma=0.1, learning_rate=0.001, max_depth=6, n_estimators=500;, score=0.168 total time=   0.0s\n",
      "[CV 1/5] END gamma=0.1, learning_rate=0.001, max_depth=9, n_estimators=100;, score=0.020 total time=   0.0s\n",
      "[CV 2/5] END gamma=0.1, learning_rate=0.001, max_depth=9, n_estimators=100;, score=-0.051 total time=   0.0s\n",
      "[CV 3/5] END gamma=0.1, learning_rate=0.001, max_depth=9, n_estimators=100;, score=-0.101 total time=   0.0s\n",
      "[CV 4/5] END gamma=0.1, learning_rate=0.001, max_depth=9, n_estimators=100;, score=-0.405 total time=   0.0s\n",
      "[CV 5/5] END gamma=0.1, learning_rate=0.001, max_depth=9, n_estimators=100;, score=0.063 total time=   0.0s\n",
      "[CV 1/5] END gamma=0.1, learning_rate=0.001, max_depth=9, n_estimators=200;, score=0.034 total time=   0.0s\n",
      "[CV 2/5] END gamma=0.1, learning_rate=0.001, max_depth=9, n_estimators=200;, score=-0.020 total time=   0.0s\n",
      "[CV 3/5] END gamma=0.1, learning_rate=0.001, max_depth=9, n_estimators=200;, score=-0.101 total time=   0.0s\n",
      "[CV 4/5] END gamma=0.1, learning_rate=0.001, max_depth=9, n_estimators=200;, score=-0.339 total time=   0.0s\n",
      "[CV 5/5] END gamma=0.1, learning_rate=0.001, max_depth=9, n_estimators=200;, score=0.108 total time=   0.0s\n",
      "[CV 1/5] END gamma=0.1, learning_rate=0.001, max_depth=9, n_estimators=500;, score=0.039 total time=   0.0s\n",
      "[CV 2/5] END gamma=0.1, learning_rate=0.001, max_depth=9, n_estimators=500;, score=0.029 total time=   0.1s\n",
      "[CV 3/5] END gamma=0.1, learning_rate=0.001, max_depth=9, n_estimators=500;, score=-0.067 total time=   0.0s\n",
      "[CV 4/5] END gamma=0.1, learning_rate=0.001, max_depth=9, n_estimators=500;, score=-0.188 total time=   0.0s\n",
      "[CV 5/5] END gamma=0.1, learning_rate=0.001, max_depth=9, n_estimators=500;, score=0.171 total time=   0.0s\n",
      "[CV 1/5] END gamma=0.1, learning_rate=0.01, max_depth=3, n_estimators=100;, score=0.082 total time=   0.0s\n",
      "[CV 2/5] END gamma=0.1, learning_rate=0.01, max_depth=3, n_estimators=100;, score=-0.067 total time=   0.0s\n",
      "[CV 3/5] END gamma=0.1, learning_rate=0.01, max_depth=3, n_estimators=100;, score=-0.073 total time=   0.0s\n",
      "[CV 4/5] END gamma=0.1, learning_rate=0.01, max_depth=3, n_estimators=100;, score=-0.145 total time=   0.0s\n",
      "[CV 5/5] END gamma=0.1, learning_rate=0.01, max_depth=3, n_estimators=100;, score=0.207 total time=   0.0s\n",
      "[CV 1/5] END gamma=0.1, learning_rate=0.01, max_depth=3, n_estimators=200;, score=0.125 total time=   0.0s\n",
      "[CV 2/5] END gamma=0.1, learning_rate=0.01, max_depth=3, n_estimators=200;, score=-0.093 total time=   0.0s\n",
      "[CV 3/5] END gamma=0.1, learning_rate=0.01, max_depth=3, n_estimators=200;, score=-0.053 total time=   0.0s\n",
      "[CV 4/5] END gamma=0.1, learning_rate=0.01, max_depth=3, n_estimators=200;, score=-0.185 total time=   0.0s\n"
     ]
    },
    {
     "name": "stdout",
     "output_type": "stream",
     "text": [
      "[CV 5/5] END gamma=0.1, learning_rate=0.01, max_depth=3, n_estimators=200;, score=0.071 total time=   0.0s\n",
      "[CV 1/5] END gamma=0.1, learning_rate=0.01, max_depth=3, n_estimators=500;, score=0.116 total time=   0.0s\n",
      "[CV 2/5] END gamma=0.1, learning_rate=0.01, max_depth=3, n_estimators=500;, score=-0.246 total time=   0.0s\n",
      "[CV 3/5] END gamma=0.1, learning_rate=0.01, max_depth=3, n_estimators=500;, score=-0.148 total time=   0.0s\n",
      "[CV 4/5] END gamma=0.1, learning_rate=0.01, max_depth=3, n_estimators=500;, score=-0.205 total time=   0.0s\n",
      "[CV 5/5] END gamma=0.1, learning_rate=0.01, max_depth=3, n_estimators=500;, score=-0.087 total time=   0.0s\n",
      "[CV 1/5] END gamma=0.1, learning_rate=0.01, max_depth=6, n_estimators=100;, score=-0.008 total time=   0.0s\n",
      "[CV 2/5] END gamma=0.1, learning_rate=0.01, max_depth=6, n_estimators=100;, score=0.115 total time=   0.0s\n",
      "[CV 3/5] END gamma=0.1, learning_rate=0.01, max_depth=6, n_estimators=100;, score=-0.087 total time=   0.0s\n",
      "[CV 4/5] END gamma=0.1, learning_rate=0.01, max_depth=6, n_estimators=100;, score=-0.249 total time=   0.0s\n",
      "[CV 5/5] END gamma=0.1, learning_rate=0.01, max_depth=6, n_estimators=100;, score=0.088 total time=   0.0s\n",
      "[CV 1/5] END gamma=0.1, learning_rate=0.01, max_depth=6, n_estimators=200;, score=-0.094 total time=   0.0s\n",
      "[CV 2/5] END gamma=0.1, learning_rate=0.01, max_depth=6, n_estimators=200;, score=0.207 total time=   0.0s\n",
      "[CV 3/5] END gamma=0.1, learning_rate=0.01, max_depth=6, n_estimators=200;, score=-0.137 total time=   0.0s\n",
      "[CV 4/5] END gamma=0.1, learning_rate=0.01, max_depth=6, n_estimators=200;, score=-0.136 total time=   0.0s\n",
      "[CV 5/5] END gamma=0.1, learning_rate=0.01, max_depth=6, n_estimators=200;, score=-0.069 total time=   0.0s\n",
      "[CV 1/5] END gamma=0.1, learning_rate=0.01, max_depth=6, n_estimators=500;, score=-0.213 total time=   0.0s\n",
      "[CV 2/5] END gamma=0.1, learning_rate=0.01, max_depth=6, n_estimators=500;, score=0.259 total time=   0.0s\n",
      "[CV 3/5] END gamma=0.1, learning_rate=0.01, max_depth=6, n_estimators=500;, score=-0.021 total time=   0.0s\n",
      "[CV 4/5] END gamma=0.1, learning_rate=0.01, max_depth=6, n_estimators=500;, score=-0.186 total time=   0.0s\n",
      "[CV 5/5] END gamma=0.1, learning_rate=0.01, max_depth=6, n_estimators=500;, score=-0.323 total time=   0.0s\n",
      "[CV 1/5] END gamma=0.1, learning_rate=0.01, max_depth=9, n_estimators=100;, score=-0.007 total time=   0.0s\n",
      "[CV 2/5] END gamma=0.1, learning_rate=0.01, max_depth=9, n_estimators=100;, score=0.117 total time=   0.0s\n",
      "[CV 3/5] END gamma=0.1, learning_rate=0.01, max_depth=9, n_estimators=100;, score=-0.059 total time=   0.0s\n",
      "[CV 4/5] END gamma=0.1, learning_rate=0.01, max_depth=9, n_estimators=100;, score=-0.030 total time=   0.0s\n",
      "[CV 5/5] END gamma=0.1, learning_rate=0.01, max_depth=9, n_estimators=100;, score=0.118 total time=   0.0s\n",
      "[CV 1/5] END gamma=0.1, learning_rate=0.01, max_depth=9, n_estimators=200;, score=-0.105 total time=   0.0s\n",
      "[CV 2/5] END gamma=0.1, learning_rate=0.01, max_depth=9, n_estimators=200;, score=0.182 total time=   0.0s\n",
      "[CV 3/5] END gamma=0.1, learning_rate=0.01, max_depth=9, n_estimators=200;, score=-0.131 total time=   0.0s\n",
      "[CV 4/5] END gamma=0.1, learning_rate=0.01, max_depth=9, n_estimators=200;, score=0.042 total time=   0.0s\n",
      "[CV 5/5] END gamma=0.1, learning_rate=0.01, max_depth=9, n_estimators=200;, score=-0.126 total time=   0.0s\n",
      "[CV 1/5] END gamma=0.1, learning_rate=0.01, max_depth=9, n_estimators=500;, score=-0.228 total time=   0.0s\n",
      "[CV 2/5] END gamma=0.1, learning_rate=0.01, max_depth=9, n_estimators=500;, score=0.240 total time=   0.0s\n",
      "[CV 3/5] END gamma=0.1, learning_rate=0.01, max_depth=9, n_estimators=500;, score=-0.181 total time=   0.0s\n",
      "[CV 4/5] END gamma=0.1, learning_rate=0.01, max_depth=9, n_estimators=500;, score=-0.237 total time=   0.0s\n",
      "[CV 5/5] END gamma=0.1, learning_rate=0.01, max_depth=9, n_estimators=500;, score=-0.419 total time=   0.0s\n",
      "[CV 1/5] END gamma=0.1, learning_rate=0.1, max_depth=3, n_estimators=100;, score=0.058 total time=   0.0s\n",
      "[CV 2/5] END gamma=0.1, learning_rate=0.1, max_depth=3, n_estimators=100;, score=-0.167 total time=   0.0s\n",
      "[CV 3/5] END gamma=0.1, learning_rate=0.1, max_depth=3, n_estimators=100;, score=-0.016 total time=   0.0s\n",
      "[CV 4/5] END gamma=0.1, learning_rate=0.1, max_depth=3, n_estimators=100;, score=-0.101 total time=   0.0s\n",
      "[CV 5/5] END gamma=0.1, learning_rate=0.1, max_depth=3, n_estimators=100;, score=-0.266 total time=   0.0s\n",
      "[CV 1/5] END gamma=0.1, learning_rate=0.1, max_depth=3, n_estimators=200;, score=0.075 total time=   0.0s\n",
      "[CV 2/5] END gamma=0.1, learning_rate=0.1, max_depth=3, n_estimators=200;, score=-0.321 total time=   0.0s\n",
      "[CV 3/5] END gamma=0.1, learning_rate=0.1, max_depth=3, n_estimators=200;, score=-0.021 total time=   0.0s\n",
      "[CV 4/5] END gamma=0.1, learning_rate=0.1, max_depth=3, n_estimators=200;, score=-0.146 total time=   0.0s\n",
      "[CV 5/5] END gamma=0.1, learning_rate=0.1, max_depth=3, n_estimators=200;, score=-0.451 total time=   0.0s\n",
      "[CV 1/5] END gamma=0.1, learning_rate=0.1, max_depth=3, n_estimators=500;, score=0.075 total time=   0.0s\n",
      "[CV 2/5] END gamma=0.1, learning_rate=0.1, max_depth=3, n_estimators=500;, score=-0.312 total time=   0.0s\n",
      "[CV 3/5] END gamma=0.1, learning_rate=0.1, max_depth=3, n_estimators=500;, score=-0.021 total time=   0.0s\n",
      "[CV 4/5] END gamma=0.1, learning_rate=0.1, max_depth=3, n_estimators=500;, score=-0.136 total time=   0.0s\n",
      "[CV 5/5] END gamma=0.1, learning_rate=0.1, max_depth=3, n_estimators=500;, score=-0.451 total time=   0.0s\n",
      "[CV 1/5] END gamma=0.1, learning_rate=0.1, max_depth=6, n_estimators=100;, score=-0.198 total time=   0.0s\n",
      "[CV 2/5] END gamma=0.1, learning_rate=0.1, max_depth=6, n_estimators=100;, score=0.250 total time=   0.0s\n",
      "[CV 3/5] END gamma=0.1, learning_rate=0.1, max_depth=6, n_estimators=100;, score=-0.065 total time=   0.0s\n",
      "[CV 4/5] END gamma=0.1, learning_rate=0.1, max_depth=6, n_estimators=100;, score=-0.385 total time=   0.0s\n",
      "[CV 5/5] END gamma=0.1, learning_rate=0.1, max_depth=6, n_estimators=100;, score=-0.382 total time=   0.0s\n",
      "[CV 1/5] END gamma=0.1, learning_rate=0.1, max_depth=6, n_estimators=200;, score=-0.198 total time=   0.0s\n",
      "[CV 2/5] END gamma=0.1, learning_rate=0.1, max_depth=6, n_estimators=200;, score=0.250 total time=   0.0s\n",
      "[CV 3/5] END gamma=0.1, learning_rate=0.1, max_depth=6, n_estimators=200;, score=-0.065 total time=   0.0s\n",
      "[CV 4/5] END gamma=0.1, learning_rate=0.1, max_depth=6, n_estimators=200;, score=-0.385 total time=   0.0s\n",
      "[CV 5/5] END gamma=0.1, learning_rate=0.1, max_depth=6, n_estimators=200;, score=-0.382 total time=   0.0s\n",
      "[CV 1/5] END gamma=0.1, learning_rate=0.1, max_depth=6, n_estimators=500;, score=-0.198 total time=   0.0s\n",
      "[CV 2/5] END gamma=0.1, learning_rate=0.1, max_depth=6, n_estimators=500;, score=0.250 total time=   0.0s\n",
      "[CV 3/5] END gamma=0.1, learning_rate=0.1, max_depth=6, n_estimators=500;, score=-0.065 total time=   0.0s\n",
      "[CV 4/5] END gamma=0.1, learning_rate=0.1, max_depth=6, n_estimators=500;, score=-0.385 total time=   0.0s\n",
      "[CV 5/5] END gamma=0.1, learning_rate=0.1, max_depth=6, n_estimators=500;, score=-0.382 total time=   0.0s\n",
      "[CV 1/5] END gamma=0.1, learning_rate=0.1, max_depth=9, n_estimators=100;, score=-0.264 total time=   0.0s\n",
      "[CV 2/5] END gamma=0.1, learning_rate=0.1, max_depth=9, n_estimators=100;, score=0.224 total time=   0.0s\n",
      "[CV 3/5] END gamma=0.1, learning_rate=0.1, max_depth=9, n_estimators=100;, score=-0.160 total time=   0.0s\n",
      "[CV 4/5] END gamma=0.1, learning_rate=0.1, max_depth=9, n_estimators=100;, score=-0.285 total time=   0.0s\n",
      "[CV 5/5] END gamma=0.1, learning_rate=0.1, max_depth=9, n_estimators=100;, score=-0.438 total time=   0.0s\n",
      "[CV 1/5] END gamma=0.1, learning_rate=0.1, max_depth=9, n_estimators=200;, score=-0.264 total time=   0.0s\n",
      "[CV 2/5] END gamma=0.1, learning_rate=0.1, max_depth=9, n_estimators=200;, score=0.224 total time=   0.0s\n",
      "[CV 3/5] END gamma=0.1, learning_rate=0.1, max_depth=9, n_estimators=200;, score=-0.160 total time=   0.0s\n",
      "[CV 4/5] END gamma=0.1, learning_rate=0.1, max_depth=9, n_estimators=200;, score=-0.285 total time=   0.0s\n",
      "[CV 5/5] END gamma=0.1, learning_rate=0.1, max_depth=9, n_estimators=200;, score=-0.438 total time=   0.0s\n",
      "[CV 1/5] END gamma=0.1, learning_rate=0.1, max_depth=9, n_estimators=500;, score=-0.264 total time=   0.0s\n",
      "[CV 2/5] END gamma=0.1, learning_rate=0.1, max_depth=9, n_estimators=500;, score=0.224 total time=   0.0s\n"
     ]
    },
    {
     "name": "stdout",
     "output_type": "stream",
     "text": [
      "[CV 3/5] END gamma=0.1, learning_rate=0.1, max_depth=9, n_estimators=500;, score=-0.160 total time=   0.0s\n",
      "[CV 4/5] END gamma=0.1, learning_rate=0.1, max_depth=9, n_estimators=500;, score=-0.285 total time=   0.0s\n",
      "[CV 5/5] END gamma=0.1, learning_rate=0.1, max_depth=9, n_estimators=500;, score=-0.438 total time=   0.1s\n",
      "[CV 1/5] END gamma=0.1, learning_rate=1, max_depth=3, n_estimators=100;, score=-0.212 total time=   0.0s\n",
      "[CV 2/5] END gamma=0.1, learning_rate=1, max_depth=3, n_estimators=100;, score=-0.462 total time=   0.0s\n",
      "[CV 3/5] END gamma=0.1, learning_rate=1, max_depth=3, n_estimators=100;, score=-0.342 total time=   0.0s\n",
      "[CV 4/5] END gamma=0.1, learning_rate=1, max_depth=3, n_estimators=100;, score=-0.687 total time=   0.0s\n",
      "[CV 5/5] END gamma=0.1, learning_rate=1, max_depth=3, n_estimators=100;, score=-0.235 total time=   0.0s\n",
      "[CV 1/5] END gamma=0.1, learning_rate=1, max_depth=3, n_estimators=200;, score=-0.212 total time=   0.0s\n",
      "[CV 2/5] END gamma=0.1, learning_rate=1, max_depth=3, n_estimators=200;, score=-0.462 total time=   0.0s\n",
      "[CV 3/5] END gamma=0.1, learning_rate=1, max_depth=3, n_estimators=200;, score=-0.342 total time=   0.0s\n",
      "[CV 4/5] END gamma=0.1, learning_rate=1, max_depth=3, n_estimators=200;, score=-0.687 total time=   0.0s\n",
      "[CV 5/5] END gamma=0.1, learning_rate=1, max_depth=3, n_estimators=200;, score=-0.235 total time=   0.0s\n",
      "[CV 1/5] END gamma=0.1, learning_rate=1, max_depth=3, n_estimators=500;, score=-0.212 total time=   0.0s\n",
      "[CV 2/5] END gamma=0.1, learning_rate=1, max_depth=3, n_estimators=500;, score=-0.462 total time=   0.0s\n",
      "[CV 3/5] END gamma=0.1, learning_rate=1, max_depth=3, n_estimators=500;, score=-0.342 total time=   0.0s\n",
      "[CV 4/5] END gamma=0.1, learning_rate=1, max_depth=3, n_estimators=500;, score=-0.687 total time=   0.0s\n",
      "[CV 5/5] END gamma=0.1, learning_rate=1, max_depth=3, n_estimators=500;, score=-0.235 total time=   0.0s\n",
      "[CV 1/5] END gamma=0.1, learning_rate=1, max_depth=6, n_estimators=100;, score=-0.131 total time=   0.0s\n",
      "[CV 2/5] END gamma=0.1, learning_rate=1, max_depth=6, n_estimators=100;, score=-0.644 total time=   0.0s\n",
      "[CV 3/5] END gamma=0.1, learning_rate=1, max_depth=6, n_estimators=100;, score=-0.303 total time=   0.0s\n",
      "[CV 4/5] END gamma=0.1, learning_rate=1, max_depth=6, n_estimators=100;, score=-0.377 total time=   0.0s\n",
      "[CV 5/5] END gamma=0.1, learning_rate=1, max_depth=6, n_estimators=100;, score=-0.683 total time=   0.0s\n",
      "[CV 1/5] END gamma=0.1, learning_rate=1, max_depth=6, n_estimators=200;, score=-0.131 total time=   0.0s\n",
      "[CV 2/5] END gamma=0.1, learning_rate=1, max_depth=6, n_estimators=200;, score=-0.644 total time=   0.0s\n",
      "[CV 3/5] END gamma=0.1, learning_rate=1, max_depth=6, n_estimators=200;, score=-0.303 total time=   0.0s\n",
      "[CV 4/5] END gamma=0.1, learning_rate=1, max_depth=6, n_estimators=200;, score=-0.377 total time=   0.0s\n",
      "[CV 5/5] END gamma=0.1, learning_rate=1, max_depth=6, n_estimators=200;, score=-0.683 total time=   0.0s\n",
      "[CV 1/5] END gamma=0.1, learning_rate=1, max_depth=6, n_estimators=500;, score=-0.131 total time=   0.0s\n",
      "[CV 2/5] END gamma=0.1, learning_rate=1, max_depth=6, n_estimators=500;, score=-0.644 total time=   0.0s\n",
      "[CV 3/5] END gamma=0.1, learning_rate=1, max_depth=6, n_estimators=500;, score=-0.303 total time=   0.0s\n",
      "[CV 4/5] END gamma=0.1, learning_rate=1, max_depth=6, n_estimators=500;, score=-0.377 total time=   0.0s\n",
      "[CV 5/5] END gamma=0.1, learning_rate=1, max_depth=6, n_estimators=500;, score=-0.683 total time=   0.0s\n",
      "[CV 1/5] END gamma=0.1, learning_rate=1, max_depth=9, n_estimators=100;, score=-0.333 total time=   0.0s\n",
      "[CV 2/5] END gamma=0.1, learning_rate=1, max_depth=9, n_estimators=100;, score=-0.348 total time=   0.0s\n",
      "[CV 3/5] END gamma=0.1, learning_rate=1, max_depth=9, n_estimators=100;, score=-0.368 total time=   0.0s\n",
      "[CV 4/5] END gamma=0.1, learning_rate=1, max_depth=9, n_estimators=100;, score=-0.302 total time=   0.0s\n",
      "[CV 5/5] END gamma=0.1, learning_rate=1, max_depth=9, n_estimators=100;, score=-0.371 total time=   0.0s\n",
      "[CV 1/5] END gamma=0.1, learning_rate=1, max_depth=9, n_estimators=200;, score=-0.333 total time=   0.0s\n",
      "[CV 2/5] END gamma=0.1, learning_rate=1, max_depth=9, n_estimators=200;, score=-0.348 total time=   0.0s\n",
      "[CV 3/5] END gamma=0.1, learning_rate=1, max_depth=9, n_estimators=200;, score=-0.368 total time=   0.0s\n",
      "[CV 4/5] END gamma=0.1, learning_rate=1, max_depth=9, n_estimators=200;, score=-0.302 total time=   0.0s\n",
      "[CV 5/5] END gamma=0.1, learning_rate=1, max_depth=9, n_estimators=200;, score=-0.371 total time=   0.0s\n",
      "[CV 1/5] END gamma=0.1, learning_rate=1, max_depth=9, n_estimators=500;, score=-0.333 total time=   0.0s\n",
      "[CV 2/5] END gamma=0.1, learning_rate=1, max_depth=9, n_estimators=500;, score=-0.348 total time=   0.0s\n",
      "[CV 3/5] END gamma=0.1, learning_rate=1, max_depth=9, n_estimators=500;, score=-0.368 total time=   0.0s\n",
      "[CV 4/5] END gamma=0.1, learning_rate=1, max_depth=9, n_estimators=500;, score=-0.302 total time=   0.0s\n",
      "[CV 5/5] END gamma=0.1, learning_rate=1, max_depth=9, n_estimators=500;, score=-0.371 total time=   0.0s\n"
     ]
    },
    {
     "data": {
      "text/plain": [
       "GridSearchCV(cv=5,\n",
       "             estimator=XGBRegressor(base_score=None, booster=None,\n",
       "                                    callbacks=None, colsample_bylevel=None,\n",
       "                                    colsample_bynode=None,\n",
       "                                    colsample_bytree=None,\n",
       "                                    early_stopping_rounds=None,\n",
       "                                    enable_categorical=False, eval_metric=None,\n",
       "                                    feature_types=None, gamma=None, gpu_id=None,\n",
       "                                    grow_policy=None, importance_type=None,\n",
       "                                    interaction_constraints=None,\n",
       "                                    learning_rate=None, m...\n",
       "                                    max_cat_to_onehot=None, max_delta_step=None,\n",
       "                                    max_depth=None, max_leaves=None,\n",
       "                                    min_child_weight=None, missing=nan,\n",
       "                                    monotone_constraints=None, n_estimators=100,\n",
       "                                    n_jobs=None, num_parallel_tree=None,\n",
       "                                    predictor=None, random_state=None, ...),\n",
       "             param_grid={'gamma': [0.01, 0.1],\n",
       "                         'learning_rate': [0.001, 0.01, 0.1, 1],\n",
       "                         'max_depth': [3, 6, 9],\n",
       "                         'n_estimators': [100, 200, 500]},\n",
       "             refit='r2', scoring='r2', verbose=4)"
      ]
     },
     "execution_count": 28,
     "metadata": {},
     "output_type": "execute_result"
    }
   ],
   "source": [
    "XGBRGS.fit(p_train,q_train)"
   ]
  },
  {
   "cell_type": "code",
   "execution_count": 29,
   "id": "cb30a70f-a8c1-4b01-a07b-84a8c3087d21",
   "metadata": {},
   "outputs": [
    {
     "name": "stdout",
     "output_type": "stream",
     "text": [
      "0.027965661711792333\n",
      "{'gamma': 0.1, 'learning_rate': 0.01, 'max_depth': 9, 'n_estimators': 100}\n",
      "XGBRegressor(base_score=0.5, booster='gbtree', callbacks=None,\n",
      "             colsample_bylevel=1, colsample_bynode=1, colsample_bytree=1,\n",
      "             early_stopping_rounds=None, enable_categorical=False,\n",
      "             eval_metric=None, feature_types=None, gamma=0.1, gpu_id=-1,\n",
      "             grow_policy='depthwise', importance_type=None,\n",
      "             interaction_constraints='', learning_rate=0.01, max_bin=256,\n",
      "             max_cat_threshold=64, max_cat_to_onehot=4, max_delta_step=0,\n",
      "             max_depth=9, max_leaves=0, min_child_weight=1, missing=nan,\n",
      "             monotone_constraints='()', n_estimators=100, n_jobs=0,\n",
      "             num_parallel_tree=1, predictor='auto', random_state=0, ...)\n"
     ]
    }
   ],
   "source": [
    "print(XGBRGS.best_score_)\n",
    "print(XGBRGS.best_params_)\n",
    "print(XGBRGS.best_estimator_)"
   ]
  },
  {
   "cell_type": "code",
   "execution_count": null,
   "id": "e723f13b",
   "metadata": {},
   "outputs": [],
   "source": []
  }
 ],
 "metadata": {
  "kernelspec": {
   "display_name": "Python 3 (ipykernel)",
   "language": "python",
   "name": "python3"
  },
  "language_info": {
   "codemirror_mode": {
    "name": "ipython",
    "version": 3
   },
   "file_extension": ".py",
   "mimetype": "text/x-python",
   "name": "python",
   "nbconvert_exporter": "python",
   "pygments_lexer": "ipython3",
   "version": "3.9.12"
  }
 },
 "nbformat": 4,
 "nbformat_minor": 5
}
